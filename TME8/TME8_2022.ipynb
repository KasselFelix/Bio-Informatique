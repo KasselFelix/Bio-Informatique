{
 "cells": [
  {
   "cell_type": "markdown",
   "metadata": {},
   "source": [
    "# TME 8 : Mini-projet Detection de motifs\n",
    "\n",
    "\n",
    "## Localisation de pattern (motifs) dans le genome\n",
    "\n",
    "Nous allons implémenter plusieurs algorithmes afin de localiser un motif d'intérêt dans un génome."
   ]
  },
  {
   "cell_type": "markdown",
   "metadata": {},
   "source": [
    "### A -  Boyer Moore Algorithm \n",
    "1\\. Nous allons réutiliser les fonctions du TME6 pour générer une séquence artificiel de taille ``n``, et implanter un motif de taille ``k`` dans une position aléatoire de la séquence. Vous pouvez aussi faire varier ``v`` positions pour permettre certaines mutations\n"
   ]
  },
  {
   "cell_type": "code",
   "execution_count": 1,
   "metadata": {},
   "outputs": [],
   "source": [
    "import random\n",
    "import numpy as np\n",
    "\n",
    "nuc = ('A', 'C', 'G', 'T')\n",
    "\n",
    "n = 100 #longuer des sequence\n",
    "k = 8 #longuer du motif\n",
    "v = 0 #nombre de variations"
   ]
  },
  {
   "cell_type": "code",
   "execution_count": 2,
   "metadata": {},
   "outputs": [
    {
     "name": "stdout",
     "output_type": "stream",
     "text": [
      "sequence = CGAGGTCTCGATTACCAGACCGCGCTGAGCTCGAGACTTGCTCGCGGCCGCTGCAGTGGACCCGGTGCAATAGTGACGTCCTTACGTTAGCTATAATAGT\n",
      "motif = GCTATAAT\n"
     ]
    }
   ],
   "source": [
    "#generate and implant variavel motifs\n",
    "\n",
    "def generateRandomSequence ( n, maj ):\n",
    "    seq = \"\"\n",
    "    for i in range ( n ):  \n",
    "        seq += nuc [ random.randint ( 0, 3 ) ]\n",
    "    if not ( maj ):\n",
    "        seq = seq.lower()\n",
    "    return seq\n",
    "\n",
    "\n",
    "def generateRandomSequences(n, t):\n",
    "    sequences = []\n",
    "    for i in range ( t ):\n",
    "        sequences.append ( generateRandomSequence ( n, True ) )\n",
    "    return sequences\n",
    "\n",
    "def replaceSeq ( sequence, v ):\n",
    "    sequence = list ( sequence )\n",
    "    for i in range ( v ):\n",
    "        pos = random.randint ( 0, len ( sequence ) - 1 )\n",
    "        nucleo = sequence [ pos ]\n",
    "        while sequence [ pos ] == nucleo:\n",
    "            sequence [ pos ] = random.choice ( nuc ) \n",
    "    return \"\".join ( sequence )\n",
    "\n",
    "def implantMotifVar(k, v, t, n):\n",
    "    motif = generateRandomSequence ( k, True )\n",
    "    sequences = generateRandomSequences ( n, t )\n",
    "    cpt = 0\n",
    "    for seq in sequences:\n",
    "        pos = random.randint ( 0, len ( seq ) - k )\n",
    "        sub = replaceSeq ( motif, v )\n",
    "        seq = seq [ 0 : pos ] + sub + seq [ len ( sub ) + pos : ]\n",
    "        sequences [ cpt ] = seq\n",
    "        cpt += 1\n",
    "    return ( sequences, motif )\n",
    "\n",
    "sequence, motif = implantMotifVar(k, v, 1, n)\n",
    "sequence = sequence [0]\n",
    "print ( \"sequence =\", sequence )\n",
    "print ( \"motif =\", motif )"
   ]
  },
  {
   "cell_type": "markdown",
   "metadata": {},
   "source": [
    "2\\. Boyer Moore est une combinaison de deux approches : bad character et good Suffix. Nous allons commencer par la première approche. Définissez une fonction ``badCharacter`` pour construire la badTable d'un motif. Vous pouvez l'implémenter comme dictionnaire, voir un exemple ci-dessous.\n",
    "\n",
    "<img src=\"boyer-moore-badTable.png\">"
   ]
  },
  {
   "cell_type": "code",
   "execution_count": 3,
   "metadata": {},
   "outputs": [
    {
     "data": {
      "text/plain": [
       "{'T': 1, 'A': 4, 'G': 1}"
      ]
     },
     "execution_count": 3,
     "metadata": {},
     "output_type": "execute_result"
    }
   ],
   "source": [
    "def badCharacter(motif):\n",
    "    '''\n",
    "    The preprocessing function for Boyer Moore's bad character heuristic\n",
    "    '''\n",
    "    badChar = {}\n",
    "    taille = len ( motif )\n",
    "    for i in range ( len ( motif ) ):\n",
    "        badChar [ motif [ i ] ] = max ( 1, taille - i - 1 )  \n",
    "    return badChar\n",
    "\n",
    "badCharacter(\"TATGTG\") #{'T': 1, 'A': 4, 'G': 1}"
   ]
  },
  {
   "cell_type": "markdown",
   "metadata": {},
   "source": [
    "3\\. Développer la version de l'algorithme Boyer Moore qui utilise \"bad character\" la règle de caractère incorrect."
   ]
  },
  {
   "cell_type": "code",
   "execution_count": 4,
   "metadata": {},
   "outputs": [],
   "source": [
    "import sys\n",
    "def search(genome, motif, verbose = True):\n",
    "    '''\n",
    "    A pattern searching function that uses Bad Character Heuristic of Boyer Moore Algorithm\n",
    "    '''\n",
    "    return search_aux ( genome, motif, badCharacter ( motif ), 0, 0, verbose )\n",
    "    \n",
    "\n",
    "def search_aux ( genome, motif, badTable, indice, comp_evitees, verbose ):\n",
    "    if len ( motif ) > len ( genome ):\n",
    "        return -1\n",
    "    for i in range ( len ( motif ) - 1, -1, -1 ):\n",
    "        if genome [ i ] not in badTable:\n",
    "            return search_aux ( genome [ 1 :: ], motif, badTable, indice + 1, comp_evitees, verbose )\n",
    "        if genome [ i ] != motif [ i ]:\n",
    "            decalage = badTable [ motif [ i ] ]\n",
    "            return search_aux ( genome [ decalage : ], motif, badTable, indice + decalage, comp_evitees + decalage, verbose )\n",
    "    if verbose:\n",
    "        print ( \"Comparaisons évitées :\", comp_evitees )\n",
    "    return indice\n",
    "            \n",
    "#search(\"ABCABB\", \"ACB\") #-1\n",
    "                   \n",
    "#search(\"ABCABB\", \"CA\") #2"
   ]
  },
  {
   "cell_type": "markdown",
   "metadata": {},
   "source": [
    "4\\. Testez la version de l'exercice 3 sur les données artificielles généré dans 1, combien de comparaison inutile avez-vous évité avec cette version? "
   ]
  },
  {
   "cell_type": "code",
   "execution_count": 5,
   "metadata": {},
   "outputs": [
    {
     "name": "stdout",
     "output_type": "stream",
     "text": [
      "Comparaisons évitées : 89\n"
     ]
    },
    {
     "data": {
      "text/plain": [
       "True"
      ]
     },
     "execution_count": 5,
     "metadata": {},
     "output_type": "execute_result"
    }
   ],
   "source": [
    "search ( sequence, motif ) == sequence.find ( motif )"
   ]
  },
  {
   "cell_type": "markdown",
   "metadata": {},
   "source": [
    "5\\. Nous allons implémenter la règle de good suffixe. Pour cela, nous allons pré-processer le motif afin de trouver tous les suffixe de taille k que sont aussi de préfixe. Faire la fonction goodSuffix qui étant donnée un motif renvoie un dictionnaire ou les clés sont de suffixes et les valeurs sont la distance au préfixe le plus proche, voir un exemple ci-dessous. d2 est la distance entre le suffixe de taille k et le son occurence la plus proche."
   ]
  },
  {
   "cell_type": "markdown",
   "metadata": {},
   "source": [
    "<img src=\"suffix.png\">"
   ]
  },
  {
   "cell_type": "code",
   "execution_count": 6,
   "metadata": {},
   "outputs": [
    {
     "name": "stdout",
     "output_type": "stream",
     "text": [
      "{'BCBAB': 4, 'CBAB': 4, 'BAB': 4, 'AB': 4, 'B': 2}\n",
      "{'AOBAB': 5, 'OBAB': 5, 'BAB': 5, 'AB': 2, 'B': 2}\n",
      "{'AOBAB': 5, 'OBAB': 5, 'BAB': 5, 'AB': 2, 'B': 2}\n"
     ]
    }
   ],
   "source": [
    "def goodSuffix(motif):\n",
    "    \n",
    "    gs = {}\n",
    "    \n",
    "    for k in range ( len ( motif ) - 1, 0, -1 ):\n",
    "        cle = motif [ -k :: ]\n",
    "        gs [ cle ] = goodSuffixAux ( motif, cle )\n",
    "        \n",
    "   \n",
    "    return gs\n",
    "\n",
    "def goodSuffixAux ( motif, cle ):\n",
    "    motif = motif [ :: -1 ] \n",
    "    motif2 = motif [ len ( cle ) :: ]\n",
    "    cle2 = cle [ :: -1 ]\n",
    "    while True:\n",
    "        indice = motif2.find ( cle2 )\n",
    "        if indice != -1:\n",
    "            return len ( cle ) + indice\n",
    "        cle2 = cle2 [ 0 : len ( cle2 ) - 1 ]\n",
    "        if cle2 == \"\":\n",
    "            cle2 = cle [ 1:: ]\n",
    "            cle = cle [ 1 :: ]\n",
    "            motif2 = motif [ len ( cle ) :: ]\n",
    "\n",
    "    \n",
    "\n",
    "gs = goodSuffix(\"ABCBAB\"); print (gs)  #{'B': 2, 'AB': 4, 'BAB': 4, 'CBAB': 4, 'BCBAB': 4}\n",
    "gs = goodSuffix(\"BAOBAB\"); print (gs)  #{'B': 2, 'AB': 2, 'BAB': 5, 'OBAB': 5, 'AOBAB': 5}\n",
    "print (gs)\n",
    "\n"
   ]
  },
  {
   "cell_type": "markdown",
   "metadata": {},
   "source": [
    "6\\. Développer la version de l'algorithme Boyer Moore qui utilise les deux règles \"bad character\" et  \"good suffixe\". Avez-vous amélioré votre algorithme? "
   ]
  },
  {
   "cell_type": "code",
   "execution_count": 7,
   "metadata": {},
   "outputs": [
    {
     "name": "stdout",
     "output_type": "stream",
     "text": [
      "Comparaisons évitées : 4\n"
     ]
    },
    {
     "data": {
      "text/plain": [
       "4"
      ]
     },
     "execution_count": 7,
     "metadata": {},
     "output_type": "execute_result"
    }
   ],
   "source": [
    "import sys\n",
    "def search(genome, motif, verbose = True ):\n",
    "    '''\n",
    "    A pattern searching function that uses Bad Character\n",
    "    Heuristic of Boyer Moore Algorithm\n",
    "    '''\n",
    "    badChar = badCharacter(motif) \n",
    "    gs = goodSuffix(motif)\n",
    "    return search_aux ( genome, motif, badChar, gs, 0, 0, verbose )\n",
    "\n",
    "def search_aux ( genome, motif, badTable, gs, indice, comp_evitees, verbose ):\n",
    "    if len ( motif ) > len ( genome ):\n",
    "        return -1\n",
    "    for i in range ( len ( motif ) - 1, -1, -1 ):\n",
    "        if genome [ i ] not in badTable:\n",
    "            return search_aux ( genome [ 1 :: ], motif, badTable, gs, indice + 1, comp_evitees, verbose )\n",
    "        if genome [ i ] != motif [ i ]:\n",
    "            decalage = badTable [ motif [ i ] ]\n",
    "            for j in range ( min ( len ( motif ), len ( genome ) ) - 1, 0, -1 ):\n",
    "                seq = genome [ i : j ]\n",
    "                if seq in gs:\n",
    "                    decalage = max ( decalage, gs [ seq ] )\n",
    "            return search_aux ( genome [ decalage : ], motif, badTable, gs, indice + decalage, comp_evitees + decalage, verbose )\n",
    "    if verbose:\n",
    "        print ( \"Comparaisons évitées :\", comp_evitees )\n",
    "    return indice\n",
    "    \n",
    "               \n",
    "search(\"ACAAABABABC\", \"ABABAB\")\n",
    "\n",
    "       "
   ]
  },
  {
   "cell_type": "markdown",
   "metadata": {},
   "source": [
    "L'algorithme évite un plus grand nombre de comparaisons inutiles avec cette nouvelle heuristique."
   ]
  },
  {
   "cell_type": "markdown",
   "metadata": {},
   "source": [
    "7\\. Tester l'algorithme **Boyer Moore Algorithm** sur vos données de chipSeq. Vous pouvez chercher de motifs trouvés par les algorithms développé précédemment"
   ]
  },
  {
   "cell_type": "code",
   "execution_count": 8,
   "metadata": {},
   "outputs": [],
   "source": [
    "def readFasta(genome):\n",
    "    sequence = []\n",
    "    file = open(genome, \"r\")\n",
    "    sequences = []\n",
    "    seq = \"\"\n",
    "    for s in file:\n",
    "        if s[0] != \">\":\n",
    "            seq += s.strip().upper()\n",
    "        else:\n",
    "            sequences.append(seq)\n",
    "            seq = \"\"\n",
    "    return sequences[1:]\n",
    "genome = \"Sequence_by_Peaks_6.fasta\"\n",
    "sequences = readFasta(genome)\n",
    "#print(sequences)"
   ]
  },
  {
   "cell_type": "code",
   "execution_count": 9,
   "metadata": {},
   "outputs": [
    {
     "name": "stdout",
     "output_type": "stream",
     "text": [
      "Le motif CCAAT a été trouvé dans 23 séquences différentes.\n"
     ]
    }
   ],
   "source": [
    "motif = \"CCAAT\"\n",
    "\n",
    "def afficher_nb_motifs_trouvés ( sequences, fonction_recherche, verbose = False ) :\n",
    "    cpt = 1\n",
    "    occurrences = 0\n",
    "    for sequence in sequences:\n",
    "        indice = fonction_recherche ( sequence, motif, verbose )\n",
    "        if indice == -1:\n",
    "            if verbose :\n",
    "                print ( \"Motif introuvable dans la séquence\", cpt )\n",
    "        else:\n",
    "            if verbose :\n",
    "                print ( \"Motif trouvé à la position\", indice, \"de la séquence\", cpt )\n",
    "            occurrences += 1\n",
    "        cpt += 1\n",
    "    print ( \"Le motif\", motif, \"a été trouvé dans\", occurrences, \"séquences différentes.\" )\n",
    "    \n",
    "afficher_nb_motifs_trouvés ( sequences, search )"
   ]
  },
  {
   "cell_type": "markdown",
   "metadata": {},
   "source": [
    "### B -  Index of fixed length words\n",
    "8\\. Faire une fonction pour indexer les positions d'occurrences de tous les mots de taille k dans un texte, la fonction doit renvoyer un dictionnaire ou les clés sont les mots et les valeurs les positions dans le texte."
   ]
  },
  {
   "cell_type": "code",
   "execution_count": 10,
   "metadata": {},
   "outputs": [],
   "source": [
    "def indexTable(k, texte):\n",
    "    indexes  = {};\n",
    "    for i in range ( len ( texte ) - k ):\n",
    "        mot = texte [ i : i + k ]\n",
    "        if mot not in indexes:\n",
    "            indexes [ mot ] = [ i ]\n",
    "        else:\n",
    "            indexes [ mot ].append ( i )\n",
    "    \n",
    "    return indexes\n",
    "\n",
    "#test \n",
    "indices = indexTable ( 3, \"ACGGCTAGTTAGAA\" )\n",
    "#print ( indices )\n"
   ]
  },
  {
   "cell_type": "markdown",
   "metadata": {},
   "source": [
    "9\\. Faire une fonction pour découper un motif en sous-parties de taille k"
   ]
  },
  {
   "cell_type": "code",
   "execution_count": 11,
   "metadata": {},
   "outputs": [
    {
     "data": {
      "text/plain": [
       "['TAG', '.GT']"
      ]
     },
     "execution_count": 11,
     "metadata": {},
     "output_type": "execute_result"
    }
   ],
   "source": [
    "def seeds(k, motif):\n",
    "    \"\"\"On choisit de découper les motifs en commençant par la fin\"\"\"\n",
    "    graines = []\n",
    "    for i in range ( len ( motif ), 0, -k ):\n",
    "        decoupage = ( motif [ i - k : i ] )\n",
    "        if len ( decoupage ) > 0:\n",
    "            graines.append ( decoupage )\n",
    "    reste = len ( motif ) % k\n",
    "    if reste != 0:\n",
    "        graines.append ( \".\" * ( k - reste ) + motif [ 0 : reste ] )\n",
    "    return graines\n",
    "    \n",
    "#test\n",
    "seeds ( 3, \"GTTAG\" )"
   ]
  },
  {
   "cell_type": "markdown",
   "metadata": {},
   "source": [
    "10\\. Faire une fonction pour chercher un motif dans un texte utilisant la table des indexes de la question 7"
   ]
  },
  {
   "cell_type": "code",
   "execution_count": 12,
   "metadata": {},
   "outputs": [],
   "source": [
    "import re\n",
    "\n",
    "def comparer_mots ( tableDesIndices, regexp, indice_a_trouver ):\n",
    "    for mot, indices in tableDesIndices.items():\n",
    "        if re.search ( regexp, mot ) == None:\n",
    "            continue\n",
    "        for indice in indices:\n",
    "            if indice == indice_a_trouver:\n",
    "                lettres_manquantes = 0\n",
    "                for lettre in regexp:                    \n",
    "                    if lettre == \".\":                       \n",
    "                        lettres_manquantes += 1\n",
    "                return indice + lettres_manquantes\n",
    "    return -1 \n",
    "\n",
    "def searchIndexTable(indexTable, k, motif, verbose = True):\n",
    "    graines = seeds ( k, motif ) \n",
    "    indice = -1\n",
    "    fin_motif = graines [ 0 ]\n",
    "    comp_evitees = 0\n",
    "    if fin_motif not in indexTable:\n",
    "        return -1\n",
    "    for candidat in indexTable [ fin_motif ]:\n",
    "        indice = candidat\n",
    "        comp_evitees = indice - comp_evitees\n",
    "        for mot in graines [ 1 :: ]:\n",
    "            indice = comparer_mots ( indexTable, mot, indice - k )\n",
    "        if indice != -1:\n",
    "            break\n",
    "    if verbose:\n",
    "        print ( \"Comparaisons évitées :\", comp_evitees )\n",
    "    return indice\n",
    "\n",
    "def recherche_par_indices ( sequence, motif, verbose = False ):\n",
    "    indices = indexTable ( k, sequence )\n",
    "    return searchIndexTable ( indices, k, motif, verbose )\n",
    "\n",
    "#test \n",
    "\n",
    "texte = \"ACGGCTAGTTAGAA\"\n",
    "motif = \"GTTAG\"\n",
    "k = 3\n",
    "pos = recherche_par_indices ( texte, motif )\n",
    "assert ( texte [ pos : pos + len ( motif ) ] == motif )"
   ]
  },
  {
   "cell_type": "markdown",
   "metadata": {},
   "source": [
    "11\\. Tester l'algorithme **Index of fixed length** words sur vos données de chipSeq. Puis générér le LOGO du motif trouvé"
   ]
  },
  {
   "cell_type": "code",
   "execution_count": 13,
   "metadata": {},
   "outputs": [
    {
     "name": "stdout",
     "output_type": "stream",
     "text": [
      "Le motif CCAAT a été trouvé dans 23 séquences différentes.\n"
     ]
    }
   ],
   "source": [
    "sequences = readFasta ( genome )\n",
    "motif = \"CCAAT\"\n",
    "afficher_nb_motifs_trouvés ( sequences, recherche_par_indices, False ) "
   ]
  },
  {
   "cell_type": "markdown",
   "metadata": {},
   "source": [
    "### C -  Matrice de fréquences\n",
    "12\\.Nous allons implémenter la recherche de motif par matrice de fréquence. Nous allons utiliser les matrices déjà fabriqué que vous pouvez telecharcher du site http://jaspar.genereg.net/\n",
    "Une fois que vous avez chargé votre matrice de fréquence, vous devez la transformer en matrice de probabilité"
   ]
  },
  {
   "cell_type": "code",
   "execution_count": 14,
   "metadata": {},
   "outputs": [
    {
     "name": "stdout",
     "output_type": "stream",
     "text": [
      "[[4.61155378e-01 2.49003984e-02 9.96015936e-04 9.97011952e-01\n",
      "  9.96015936e-04 7.96812749e-03 9.06374502e-02 5.98605578e-01]\n",
      " [8.66533865e-02 1.69322709e-02 2.29083665e-02 9.96015936e-04\n",
      "  9.97011952e-01 9.96015936e-04 1.98207171e-01 1.38446215e-01]\n",
      " [3.86454183e-01 9.96015936e-04 8.00796813e-01 9.96015936e-04\n",
      "  9.96015936e-04 9.90039841e-01 9.96015936e-04 1.62350598e-01]\n",
      " [6.57370518e-02 9.57171315e-01 1.75298805e-01 9.96015936e-04\n",
      "  9.96015936e-04 9.96015936e-04 7.10159363e-01 1.00597610e-01]]\n"
     ]
    }
   ],
   "source": [
    "import numpy as np\n",
    "\n",
    "nuc = ('A', 'C', 'G', 'T')\n",
    "\n",
    "\n",
    "matrice = np.array([[462.00,24.00,0.00,1000.00,0.00,7.00,90.00,600.00],\n",
    "[86.00,16.00,22.00,0.00,1000.00,0.00,198.00,138.00],\n",
    "[387.00,0.00,803.00,0.00,0.00,993.00,0.00,162.00],\n",
    "[65.00,960.00,175.00,0.00,0.00,0.00,712.00,100.00]])\n",
    "\n",
    "#Computing wi(a)\n",
    "def pwm(M):\n",
    "    res = np.zeros ( ( 4, len ( M [ 0 ] ) ) )\n",
    "    M = profile ( M )\n",
    "    for i in range ( len ( M ) ):\n",
    "        for j in range ( len ( M [ i ] ) ):\n",
    "            col = M [ 0 : len ( M ), i ]\n",
    "            somme = col.sum()\n",
    "            res [ i ] [ j ] = M [ i ] [ j ] / somme\n",
    "    return res\n",
    "\n",
    "def profile ( M ):\n",
    "    for i in range ( len ( M ) ):\n",
    "        for j in range ( len ( M [ i ] ) ):\n",
    "            M [ i ] [ j ] += 1\n",
    "    return M\n",
    "\n",
    "k = 8\n",
    "PWM = pwm(matrice); print (PWM)\n"
   ]
  },
  {
   "cell_type": "markdown",
   "metadata": {},
   "source": [
    "12\\. Déterminer les paramètres f(0)(b) du modèle nul, où \n",
    "\\begin{equation}\n",
    "f^{(0)}(b) = \\frac 1L \\sum_{i=0}^{L-1} \\omega_i(b)\\ ,\n",
    "\\end{equation}"
   ]
  },
  {
   "cell_type": "code",
   "execution_count": 36,
   "metadata": {},
   "outputs": [
    {
     "name": "stdout",
     "output_type": "stream",
     "text": [
      "[0.2727838645418327, 0.18276892430278885, 0.29295318725099606, 0.25149402390438247]\n"
     ]
    }
   ],
   "source": [
    "\n",
    "def f0_calcule(PWM, L):\n",
    "    res = [ 0 ] * 4\n",
    "    for i in range ( L ):\n",
    "        for j in range ( len ( PWM ) ):\n",
    "            res [ j ] += PWM [ j ] [ i ]\n",
    "    return [ r / L for r in res ]    \n",
    "\n",
    "f_0 = f0_calcule(PWM, k)\n",
    "print (f_0)\n"
   ]
  },
  {
   "cell_type": "markdown",
   "metadata": {},
   "source": [
    "13\\.Faites une fonction pour calculer log-rapport de vraisemblancee, d'une sequence de taille k.\n",
    "\\begin{equation}\n",
    "\\label{eq:ll}\n",
    "\\ell(b_0,...,b_{k-1}) = \\log_2 \\frac {P(b_0,...,b_{k-1} | \\omega )\n",
    "}{P^{(0)}(b_0,...,b_{k-1})}\n",
    "= \\sum_{i=0}^{k-1} \\log_2 \\frac {\\omega_i(b_i)}{f^{(0)}(b_i)}\\ .\n",
    "\\end{equation}"
   ]
  },
  {
   "cell_type": "code",
   "execution_count": 37,
   "metadata": {},
   "outputs": [
    {
     "data": {
      "text/plain": [
       "8.901561599704612"
      ]
     },
     "execution_count": 37,
     "metadata": {},
     "output_type": "execute_result"
    }
   ],
   "source": [
    "from math import log\n",
    "\n",
    "def loglikehood(seq, PWM, f_0):\n",
    "    res = 0\n",
    "    for i in range ( len ( seq ) ):\n",
    "        if seq [ i ] == 'A':\n",
    "            j = 0\n",
    "        elif seq [ i ] == 'C':\n",
    "            j = 1\n",
    "        elif seq [ i ] == 'G':\n",
    "            j = 2\n",
    "        else:\n",
    "            j = 3\n",
    "        res += log ( PWM [ j ] [ i ] / f_0 [ j ] )\n",
    "    return res\n",
    "\n",
    "loglikehood(\"ATGACGTA\", PWM, f_0)"
   ]
  },
  {
   "cell_type": "markdown",
   "metadata": {},
   "source": [
    "14\\.Tester l'algorithme sur vos données de chipSeq. Vous devez parcourir les séquences et extraire les motifs ayant  log-rapport de vraisemblance positive "
   ]
  },
  {
   "cell_type": "markdown",
   "metadata": {},
   "source": [
    "Nous allons créer un profil pour le motif CCAAT à partir de la fonction inexact_match du TME7"
   ]
  },
  {
   "cell_type": "code",
   "execution_count": 38,
   "metadata": {},
   "outputs": [],
   "source": [
    "#Création des k-mers valides\n",
    "\n",
    "from itertools import product\n",
    "\n",
    "k = 5\n",
    "\n",
    "def removeLowComplexe(motifs, minrep):\n",
    "    validMotif = []\n",
    "    for motif in motifs:\n",
    "        if motif.count ( 'A' ) >= minrep:\n",
    "            continue\n",
    "        if motif.count ( 'T' ) >= minrep:\n",
    "            continue\n",
    "        if motif.count ( 'C' ) >= minrep:\n",
    "            continue\n",
    "        if motif.count ( 'G' ) >= minrep:\n",
    "            continue\n",
    "        validMotif.append ( motif )\n",
    "    return validMotif\n",
    "\n",
    "def removeLowComplexePair(motifs):\n",
    "    validMotif = []\n",
    "    for motif in motifs:\n",
    "        rep = False\n",
    "        for i in range ( len ( motif ) - 3 ):\n",
    "            if motif [ i : i + 2 ] == motif [ i + 2 : i + 4 ]:\n",
    "                rep = True\n",
    "                break\n",
    "        if not ( rep ):\n",
    "            validMotif.append ( motif )\n",
    "    return validMotif\n",
    "\n",
    "def generateKmers(alphabet, k):\n",
    "    validKmers = []\n",
    "    res = []\n",
    "    allkmers = product ( alphabet, repeat=k )\n",
    "    for kmer in allkmers :\n",
    "        validKmers.append ( kmer )\n",
    "    validKmers = removeLowComplexe ( validKmers, (int) (k/2) + 1 )\n",
    "    validKmers = removeLowComplexePair ( validKmers )\n",
    "    for kmer in validKmers:\n",
    "        res.append ( \"\".join ( kmer ) )\n",
    "    return res\n",
    "\n",
    "kmersValid = generateKmers(nuc, k)\n",
    "#print ( kmersValid [0:100] )\n",
    "#print ( len ( kmersValid ) )"
   ]
  },
  {
   "cell_type": "code",
   "execution_count": 39,
   "metadata": {},
   "outputs": [],
   "source": [
    "def hamdist(v, x):\n",
    "    res = 0\n",
    "    for i in range ( len ( v ) ):\n",
    "        if v [ i ] != x [ i ]:\n",
    "            res += 1\n",
    "    return res\n",
    "\n",
    "def inexact_match(kmersV, sequences, stree, v):\n",
    "    sequence = \"\".join ( sequences )\n",
    "    nb_graines = v + 1\n",
    "    taille_graine = ( int ) ( k / nb_graines )\n",
    "    j = 0\n",
    "    candidats = dict()\n",
    "    for kmerV in kmersV:\n",
    "        for i in range ( nb_graines ):\n",
    "            depart = i * taille_graine\n",
    "            graine = kmerV [ depart : depart + taille_graine ]\n",
    "            indices_candidats = stree.find_all ( graine )\n",
    "            for indice in indices_candidats:\n",
    "                seq_candidate = sequence [ indice - depart : indice + k - depart ]\n",
    "                if len ( seq_candidate ) == k and hamdist ( kmerV, seq_candidate ) <= v:\n",
    "                    if kmerV in candidats:\n",
    "                        variations = candidats [ kmerV ] [ 0 ] + [ seq_candidate ] \n",
    "                        occurences = candidats [ kmerV ] [ 1 ] + 1\n",
    "                        candidats [ kmerV ] = ( variations, occurences )\n",
    "                    else:\n",
    "                        candidats [ kmerV ] = ( [ seq_candidate ] , 1 )\n",
    "    return dict ( sorted ( candidats.items(), key=lambda motif : -motif [ 1 ] [ 1 ] ) )  "
   ]
  },
  {
   "cell_type": "code",
   "execution_count": 40,
   "metadata": {},
   "outputs": [],
   "source": [
    "#Récupération des occurrences des motifs avec 2 variations et construction de l'arbre\n",
    "\n",
    "from suffix_trees import STree\n",
    "\n",
    "def construct_tree(sequences):\n",
    "    st = STree.STree ( \"\".join ( sequences ) )\n",
    "    return st\n",
    "\n",
    "v = 2\n",
    "st = construct_tree(sequences)\n",
    "motif_occur_sorted = inexact_match(kmersValid, sequences, st, v)"
   ]
  },
  {
   "cell_type": "code",
   "execution_count": 41,
   "metadata": {},
   "outputs": [
    {
     "name": "stdout",
     "output_type": "stream",
     "text": [
      "['CCTGT', 'CAAAT', 'CCAAC', 'CCCCT', 'CGACT', 'CCATT', 'CCAAT', 'CCGAT', 'CCTGT', 'CTTAT', 'CCCAT', 'CCATT', 'CCTTT', 'CAAAA', 'CCATC', 'CTAAT', 'CCGTT', 'CCGGT', 'CCTCT', 'CTAAA', 'CCACC', 'CCATC', 'CCTCT', 'CCCCT', 'CGAAA', 'CCAAA', 'CAAAA', 'CCCAC', 'CCACA', 'CGAAA', 'CAAAT', 'CAAAA', 'CTAAC', 'CAGAT', 'CATAT', 'CCGAG', 'CGAAG', 'CTAAC', 'CCGGT', 'CCCAC', 'CCACG', 'CGAAT', 'CAAAT', 'CCACT', 'CCATT', 'CTAAT', 'CCAGG', 'CCAGG', 'CAAAA', 'CCGCT', 'CTCAT', 'CCCAT', 'CCATT', 'CCGGT', 'CCAGC', 'CGAGT', 'CTCAT', 'CCTAT', 'CCGAA', 'CGAAG', 'CCTTT', 'CCGGT', 'CGTAT', 'CCGAC', 'CGACT', 'CAAAG', 'CCAAT', 'CAATT', 'CTAAT', 'CAAAG', 'CCTTT', 'CAATT', 'CCAAT', 'CAATT', 'CCAGT', 'CCAAA', 'CAAAA', 'CCAAA', 'CAAAG', 'CAAAT', 'CCATT', 'CTAAA', 'CAAAA', 'CGAGT', 'CTCAT', 'CAAAA', 'CTTAT', 'CTATT', 'CTAAA', 'CAATT', 'CCGAA', 'CGAAG', 'CTAGT', 'CCTAA', 'CTAAG', 'CTTAT', 'CGTAT', 'CCAAT', 'CAATT', 'CCAGT', 'CTATT', 'CTAAC', 'CCAGT', 'CTACT', 'CACAT', 'CATAT', 'CCCTT', 'CAAAA', 'CTACT', 'CAAAA', 'CCCAA', 'CCAAT', 'CAATT', 'CCTCT', 'CAATT', 'CCAAT', 'CAACT', 'CAACT', 'CTCAT', 'CCATC', 'CAATT', 'CAACT', 'CCCAC', 'CCACG', 'CCACC', 'CCTAC', 'CTAAC', 'CTAAA', 'CGATT', 'CCCAT', 'CCATA', 'CACAT', 'CGAAC', 'CATAT', 'CCATT', 'CAAAA', 'CCAAT', 'CCAAC', 'CAACT', 'CACAT', 'CTCAT', 'CATAT', 'CAATT', 'CCAGC', 'CAAAG', 'CCAGG', 'CTAGT', 'CAAAT', 'CCTAT', 'CATAT', 'CTCAT', 'CTCAT', 'CCTCT', 'CCAAT', 'CCATG', 'CAATT', 'CAAAG', 'CTCAT', 'CCTAC', 'CTACT', 'CTAAT', 'CGAAA', 'CCCAT', 'CCATT', 'CCTAG', 'CAAGT', 'CCAAT', 'CCGAA', 'CGAAT', 'CCCGT', 'CAAAA', 'CATAT', 'CCAAA', 'CAAAA', 'CGTAT', 'CCATT', 'CAATT', 'CCTCT', 'CCTTT', 'CCACT', 'CTAAA', 'CAGAT', 'CATAT', 'CTAAA', 'CAAAA', 'CAGAT', 'CATAT', 'CCAAC', 'CTAAC', 'CCTTT', 'CAAGT', 'CAAAG', 'CAAAT', 'CTAAA', 'CCCAC', 'CCACA', 'CTGAT', 'CCTAC', 'CTACT', 'CCACC', 'CCATC', 'CAACT', 'CTAAA', 'CGAAA', 'CAAAG', 'CGAAC', 'CTATT', 'CAAAG', 'CCTAA', 'CCCAG', 'CCAGG', 'CCTAG', 'CCAAA', 'CCAAG', 'CAAAT', 'CTTAT', 'CCAAC', 'CGAAT', 'CCAAG', 'CAAGT', 'CAAAC', 'CAATT', 'CCATG', 'CGAAA', 'CCAAA', 'CAAAT', 'CCAAG', 'CCAAT', 'CAATT', 'CCATG', 'CTTAT', 'CCAAG', 'CAATT', 'CCAAC', 'CAACT', 'CTAAG', 'CCTTT', 'CAACT', 'CCAGA', 'CCACC', 'CGAAG', 'CCAGA', 'CTAAA', 'CAAAC', 'CCAAA', 'CGTAT', 'CAAAG', 'CAAAG', 'CCTAA', 'CTAAT', 'CGAAT', 'CGAAT', 'CAAGT', 'CTAAA', 'CTGAT', 'CAAAA', 'CTATT', 'CGAAG', 'CCATC', 'CCAAA', 'CAAAA', 'CAATT', 'CCTTT', 'CTTAT', 'CCGAA', 'CGAAA', 'CTCAT', 'CCAGC', 'CCTGT', 'CGAAA', 'CTATT', 'CTTAT', 'CCGAT', 'CAACT', 'CCTGT', 'CCATT', 'CCCTT', 'CCTTT', 'CTATT', 'CCTTT', 'CTATT', 'CAAAA', 'CTGAT', 'CTCAT', 'CCATG', 'CAATT', 'CCAAC', 'CCATG', 'CTTAT', 'CGGAT', 'CCCAA', 'CCAAT', 'CCTAG', 'CCAAT', 'CAACT', 'CCAAG', 'CAAGT', 'CGAAA', 'CTGAT', 'CCAAA', 'CAAAC', 'CTAAT', 'CAAAC', 'CTAAC', 'CCAAG', 'CCGAT', 'CAAAT', 'CCAGG', 'CGACT', 'CATAT', 'CTTAT', 'CAAAT', 'CCAGG', 'CCCAC', 'CTAAT', 'CCACG', 'CACAT', 'CAAAA', 'CAAAA', 'CCATT', 'CCTAA', 'CTAAT', 'CCACT', 'CCATC', 'CGGAT', 'CAAAT', 'CAATT', 'CTCAT', 'CAATT', 'CTGAT', 'CAAAT', 'CAACT', 'CTCAT', 'CTAAC', 'CCAAA', 'CAAAA', 'CCTGT', 'CTTAT', 'CTATT', 'CCAAA', 'CCGAA', 'CGAAT', 'CAAAA', 'CCGAA', 'CGAAA', 'CAAAT', 'CTAAA', 'CCCTT', 'CAAAT', 'CCACT', 'CCTCT', 'CCTAA', 'CTAAC', 'CTCAT', 'CCCAG', 'CAATT', 'CCAGC', 'CAACT', 'CAAAG', 'CAAGT', 'CAAAA', 'CCATA', 'CCGTT', 'CCAAA', 'CAAAT', 'CCAGT', 'CAAAT', 'CAAAT', 'CAAAA', 'CGAGT', 'CCTAA', 'CTAAC', 'CAAAG', 'CGGAT', 'CGAAA', 'CCACT', 'CCTGT', 'CCATT', 'CTATT', 'CAATT', 'CAAAT', 'CAATT', 'CCAAA', 'CAAAG', 'CCCAT', 'CCATT', 'CAGAT', 'CAAAT', 'CCTAG', 'CTCAT', 'CATAT', 'CGAAT', 'CCAGG', 'CAACT', 'CCCAA', 'CCAAA', 'CAAAC', 'CACAT', 'CATAT', 'CGGAT', 'CCTAC', 'CTACT', 'CTACT', 'CAAAA', 'CAAAT', 'CAAAG', 'CTCAT', 'CCACT', 'CTACT', 'CATAT', 'CAATT', 'CCTTT', 'CCACA', 'CTCAT', 'CCTTT', 'CTTAT', 'CAAAT', 'CCCAT', 'CCATA', 'CATAT', 'CCGAA', 'CGAAG', 'CCAAT', 'CAAAT', 'CCTAA', 'CTAAA', 'CTAAG', 'CGATT', 'CAAAT', 'CCTAT', 'CCGTT', 'CCGAG', 'CCATC', 'CCACT', 'CCAAT', 'CTCAT', 'CCTAT', 'CAAAA', 'CAAAA', 'CCTGT', 'CAAGT', 'CCAGC', 'CACAT', 'CCCAA', 'CCAAA', 'CAAAT', 'CCTTT', 'CCAAT', 'CCAGC', 'CTAAG', 'CAGAT', 'CTCAT', 'CCAAT', 'CAAAA', 'CCCCT', 'CAAAT', 'CCTGT', 'CTAAT', 'CCATG', 'CAAGT', 'CGGAT', 'CCTTT', 'CTTAT', 'CTAAG', 'CCACC', 'CCAAA', 'CAAAT', 'CCATC', 'CCAGG', 'CAATT', 'CAACT', 'CTAAA', 'CCGAG', 'CGAGT', 'CGAAA', 'CGAAT', 'CAAAA', 'CAAAA', 'CGAAT', 'CTATT', 'CAAAA', 'CCTTT', 'CACAT', 'CCATT', 'CCCGT', 'CCATT', 'CCTTT', 'CCGAA', 'CGAAT', 'CTAAT', 'CAATT', 'CCACT', 'CACAT', 'CCAAG', 'CAAGT', 'CAATT', 'CTAAG', 'CCATA', 'CATAT', 'CAAAC', 'CCAAC', 'CGACT', 'CAAAT', 'CCTGT', 'CAAGT', 'CCATG', 'CCTCT', 'CTAAG', 'CTTAT', 'CAAAA', 'CGACT', 'CCTCT', 'CAAAC', 'CAAGT', 'CAAAT', 'CGAAG', 'CTATT', 'CATAT', 'CCGGT', 'CCAGT', 'CATAT', 'CCACC', 'CCACA', 'CTTAT', 'CCATA', 'CTAAT', 'CCATT', 'CACAT', 'CCGTT', 'CCCAT', 'CCATC', 'CCAGT', 'CAGAT', 'CCAGT', 'CCACC', 'CCATC', 'CCAAT', 'CAACT', 'CCAGT', 'CTAAT', 'CTAAC', 'CCAAT', 'CAATT', 'CCATT', 'CTAAA', 'CAAAG', 'CATAT', 'CAAGT', 'CCCAA', 'CCAAG', 'CCGAG', 'CTATT', 'CAAAT', 'CAAAT', 'CAATT', 'CAAAA', 'CCAGG', 'CTAAG', 'CATAT', 'CTAAA', 'CCATT', 'CGATT', 'CATAT', 'CGCAT', 'CAAAA', 'CAAAG', 'CAAGT', 'CCCCT', 'CCAGA', 'CAGAT', 'CCCTT', 'CCTTT', 'CCAGG', 'CAAGT', 'CCGTT', 'CACAT', 'CATAT', 'CAAAA', 'CAAAT', 'CCATT', 'CAAAG', 'CTAAT', 'CAATT', 'CCCGT', 'CGTAT', 'CCAGT', 'CAACT', 'CTATT', 'CGCAT', 'CATAT', 'CCTAT', 'CTAAA', 'CCAGG', 'CCATC', 'CAGAT', 'CCAAG', 'CAAGT', 'CCATT', 'CCCAT', 'CCATA', 'CATAT', 'CTAAA', 'CAAAT', 'CTAAC', 'CCAAG', 'CCTGT', 'CCATG', 'CCCAG', 'CCAGG', 'CCACA', 'CGAGT', 'CCAAG', 'CCAAG', 'CCAAA', 'CAAAT', 'CCAGC', 'CCTTT', 'CCCAT', 'CCATT', 'CCAGG', 'CCATC', 'CCTAC', 'CCCTT', 'CCTCT', 'CTATT', 'CCGTT', 'CTTAT', 'CCAGT', 'CCATG', 'CGACT', 'CCAAT', 'CAATT', 'CCACC', 'CCTGT', 'CAAAT', 'CGCAT', 'CAAAG', 'CTCAT', 'CAAAG', 'CTAGT', 'CCAGG', 'CCCAA', 'CCAAA', 'CAAAT', 'CTGAT', 'CAATT', 'CCAAA', 'CAAAT', 'CTCAT', 'CCACT', 'CTGAT', 'CGAAT', 'CGTAT', 'CCAAT', 'CAAAT', 'CAAAA', 'CCATA', 'CCCAG', 'CCAGC', 'CAACT', 'CCCAA', 'CCAAC', 'CAACT', 'CTGAT', 'CCACT', 'CTACT', 'CAACT', 'CTAAA', 'CTAAA', 'CAAAG', 'CATAT', 'CCAGA', 'CCAGA', 'CAGAT', 'CTTAT', 'CAAAA', 'CCCTT', 'CCTTT', 'CAGAT', 'CCTAG', 'CTAGT', 'CTCAT', 'CAAAG', 'CAATT', 'CTATT', 'CTAAC', 'CCAAC', 'CAACT', 'CAATT', 'CTCAT', 'CATAT', 'CTTAT', 'CTCAT', 'CAAAT', 'CCCAT', 'CCATC', 'CTATT', 'CAAAA', 'CCATT', 'CAACT', 'CAAAT', 'CTATT', 'CCAAC', 'CCAGA', 'CAGAT', 'CAACT', 'CCCAC', 'CCACT', 'CTGAT', 'CACAT', 'CATAT', 'CGTAT', 'CAAAA', 'CACAT', 'CGAAT', 'CACAT', 'CATAT', 'CTATT', 'CCCAC', 'CCACA', 'CACAT', 'CCAAT', 'CTCAT', 'CTAAT', 'CCACC', 'CTCAT', 'CATAT', 'CCCAT', 'CCATA', 'CTTAT', 'CCAGA', 'CCGAA', 'CGAAT', 'CATAT', 'CGGAT', 'CAAAG', 'CTAAA', 'CAAAT', 'CTAGT', 'CCACA', 'CTAAA', 'CAAAT', 'CCACT', 'CAAAA', 'CGAAG', 'CTACT', 'CCATT', 'CATAT', 'CCAAG', 'CTATT', 'CCATT', 'CAAAT', 'CAAAG', 'CCACT', 'CATAT', 'CTAAA', 'CCATT', 'CATAT', 'CCATC', 'CCTTT', 'CAAAC', 'CGATT', 'CTATT', 'CCAAA', 'CAAAT', 'CAAAG', 'CGGAT', 'CTATT', 'CACAT', 'CAAAG', 'CCATT', 'CTATT', 'CAAAA', 'CTATT', 'CCAGG', 'CCAGG', 'CCGTT', 'CACAT', 'CTAAC', 'CTAAC', 'CCCAG', 'CCAGA', 'CCCAT', 'CCATG', 'CCTAA', 'CTAAA', 'CCAGG', 'CAAAT', 'CAATT', 'CTTAT', 'CCAAT', 'CCTAT', 'CTATT', 'CCGGT', 'CTAAA', 'CCATA', 'CATAT', 'CCGAA', 'CGAAT', 'CTAGT', 'CGTAT', 'CCTAA', 'CTAAC', 'CCTTT', 'CTAGT', 'CTGAT', 'CAAGT', 'CCTTT', 'CAAAG', 'CCATG', 'CCGAA', 'CGAAC', 'CCAAC', 'CCACC', 'CCAAG', 'CCAAT', 'CGAAA', 'CCACG', 'CCAAA', 'CAAAA', 'CTAAC', 'CGAAC', 'CTCAT', 'CAAAA', 'CGAAG', 'CCCTT', 'CCTTT', 'CTAAG', 'CTAGT', 'CTTAT', 'CAAAT', 'CAAAT', 'CCAAA', 'CAAAT', 'CTATT', 'CAAAA', 'CTAAT', 'CGTAT', 'CAAAT', 'CTAAT', 'CTAAT', 'CTAAA', 'CATAT', 'CCTAT', 'CAAGT', 'CTCAT', 'CGCAT', 'CCAAG', 'CCACT', 'CCAGT', 'CAAAT', 'CTAGT', 'CCACT', 'CTATT', 'CAAAA', 'CAAAA', 'CAAAT', 'CAAAA', 'CAAAA', 'CCTGT', 'CATAT', 'CCCAG', 'CCAGA', 'CAACT', 'CAAAA', 'CTAAC', 'CCCTT', 'CCTTT', 'CCCAA', 'CCAAC', 'CTAGT', 'CCTAC', 'CACAT', 'CATAT', 'CCAAC', 'CCAAA', 'CAAAA', 'CAATT', 'CCAGG', 'CCAAT', 'CAATT', 'CAAAT', 'CTAAT', 'CAAAA', 'CCAAT', 'CCAGA', 'CCATT', 'CCATT', 'CTAAT', 'CCATA', 'CTGAT', 'CCAAA', 'CAAAA', 'CTAAT', 'CAAAT', 'CTAAC', 'CAAAA', 'CCTAT', 'CTATT', 'CTAAG', 'CTTAT', 'CAAAA', 'CATAT', 'CGAAA', 'CAAAG', 'CGAAA', 'CAAAA', 'CAAAT', 'CAAAA', 'CCTTT', 'CCCTT', 'CAATT', 'CAAAC', 'CGAAA', 'CTTAT', 'CCCAT', 'CCATA', 'CTAGT', 'CCCAA', 'CCAAA', 'CAAAA', 'CCCGT', 'CCGTT', 'CCAAT', 'CGAAA', 'CATAT', 'CCTCT', 'CTTAT', 'CGAAT', 'CCAAA', 'CAAAC', 'CTAAT', 'CCCAT', 'CCATG', 'CAAAT', 'CCACG', 'CCAGT', 'CCTGT', 'CCAGC', 'CCACC', 'CACAT', 'CTATT', 'CCACA', 'CACAT', 'CTGAT', 'CTATT', 'CCAAT', 'CGAGT', 'CCCGT', 'CTATT', 'CCCCT', 'CCCTT', 'CCTAA', 'CTAAA', 'CAGAT', 'CAAAA', 'CCCTT', 'CTATT', 'CCATC', 'CCCAT', 'CCAAA', 'CAAAG', 'CCTTT', 'CAAAA', 'CCATA', 'CTAAC', 'CAAAG', 'CAAAG', 'CAGAT', 'CCAAA', 'CAAAT', 'CCAGG', 'CCAAG', 'CGAAC', 'CCATC', 'CGAAA', 'CCCCT', 'CCTAT', 'CCAGA', 'CAGAT', 'CCTAA', 'CTAAT', 'CTAAA', 'CCTAC', 'CAAAT', 'CAATT', 'CAAAA', 'CCATA', 'CATAT', 'CATAT', 'CAAAT', 'CCTCT', 'CTAAT', 'CCCAA', 'CCAAA', 'CAAAG', 'CCCTT', 'CCTTT', 'CCACA', 'CACAT', 'CCATG', 'CCATT', 'CAAAT', 'CCCTT', 'CTAAG', 'CTTAT', 'CACAT', 'CAAAA', 'CCATG', 'CAAAC', 'CGTAT', 'CAAAA', 'CCAAA', 'CAAAG', 'CCCAC', 'CCACA', 'CAAGT', 'CAAAC', 'CCGGT', 'CAACT', 'CAGAT', 'CCAGA', 'CCTAG', 'CGGAT', 'CTAAA', 'CCACA', 'CAAAG', 'CGATT', 'CTCAT', 'CTATT', 'CAAGT', 'CAAAG', 'CCGAG', 'CTAAT', 'CAAGT', 'CTAGT', 'CACAT', 'CCCAT', 'CCATA', 'CGAAG', 'CTAAG', 'CCACC', 'CGAAG', 'CATAT', 'CCACA', 'CACAT', 'CAAAA', 'CGAAG', 'CCACA', 'CACAT', 'CAAAA', 'CGAAA', 'CCGAG', 'CGAGT', 'CCAGA', 'CAGAT', 'CAAAA', 'CCAAT', 'CAATT', 'CAACT', 'CCACA', 'CGCAT', 'CGAAT', 'CATAT', 'CAATT', 'CCAAG', 'CAAAT', 'CAAAA', 'CACAT', 'CAGAT', 'CCAGA', 'CAAAT', 'CAAAT', 'CTACT', 'CTAAC', 'CGGAT', 'CCGAT', 'CAGAT', 'CCAGG', 'CCCAT', 'CCATG', 'CCAAA', 'CAAAT', 'CAATT', 'CGAAA', 'CCATC', 'CTTAT', 'CAAGT', 'CTAAA', 'CGAAT', 'CAAAA', 'CGATT', 'CCCTT', 'CCTGT', 'CAAGT', 'CCCAC', 'CCACG', 'CTGAT', 'CCACC', 'CCATC', 'CCCAT', 'CCATC', 'CCATT', 'CCCAG', 'CCAGC', 'CTTAT', 'CCTAT', 'CCCCT', 'CGAAC', 'CTATT', 'CCCCT', 'CCCTT', 'CAAAA', 'CCCCT', 'CCCTT', 'CAAAT', 'CAATT', 'CCCCT', 'CTCAT', 'CAAAT', 'CGACT', 'CTTAT', 'CCCAC', 'CCACT', 'CAAAT', 'CGTAT', 'CTGAT', 'CCACA', 'CAAGT', 'CAAAA', 'CAAAG', 'CCTAT', 'CGACT', 'CTCAT', 'CCTAA', 'CTAAA', 'CCACT', 'CAACT', 'CCAAA', 'CAAAG', 'CAAAG', 'CGCAT', 'CGCAT', 'CCTAC', 'CGAAG', 'CCATG', 'CCTTT', 'CCCCT', 'CAATT', 'CGAGT', 'CATAT', 'CCACT', 'CTAAC', 'CAATT', 'CTAAG', 'CAAAA', 'CCCAA', 'CCAAT', 'CAAAG', 'CAAAA', 'CCTGT', 'CATAT', 'CCAAT', 'CCAGA', 'CCCAT', 'CCATG', 'CAAAT', 'CTGAT', 'CAAAG', 'CTCAT', 'CGAAA', 'CCAGA', 'CCATA', 'CAGAT', 'CCAAA', 'CAAAA', 'CCATA', 'CATAT', 'CCCAA', 'CCAAT', 'CAAGT', 'CAATT', 'CTGAT', 'CCGAG', 'CCCAG', 'CCAGG', 'CCAAG', 'CCAAT', 'CCTCT', 'CCACA', 'CAATT', 'CCATA', 'CAATT', 'CCATT', 'CAAAA', 'CCTAC', 'CCACC', 'CTAAA', 'CCGAG', 'CTCAT', 'CATAT', 'CTACT', 'CCAGA', 'CCAAA', 'CAAAC', 'CAAGT', 'CAAAA', 'CTAAA', 'CTAAG', 'CTTAT', 'CCACA', 'CAAAA', 'CCAAA', 'CAAAC', 'CCAAC', 'CAAAT', 'CTAGT', 'CCCAC', 'CAAAC', 'CCACT', 'CAAAG', 'CCTTT', 'CAGAT', 'CCGAC', 'CGACT', 'CCTCT', 'CACAT', 'CTATT', 'CCCAG', 'CCAGA', 'CTATT', 'CTTAT', 'CTTAT', 'CGCAT', 'CTACT', 'CTATT', 'CACAT', 'CCACT', 'CATAT', 'CTAAA', 'CCAAT', 'CAATT', 'CAAAA', 'CGATT', 'CAAAT', 'CGCAT', 'CAAAT', 'CTTAT', 'CATAT', 'CTTAT', 'CTACT', 'CAAAA', 'CTAAT', 'CAAAG', 'CTACT', 'CCAAC', 'CTAAA', 'CCAAG', 'CTATT', 'CCATA', 'CATAT', 'CCGAT', 'CGATT', 'CCCTT', 'CCCTT', 'CCGTT', 'CCCGT', 'CGTAT', 'CTGAT', 'CAAAT', 'CCCTT', 'CCATA', 'CTAAC', 'CCCGT', 'CAAAC', 'CCGAG', 'CGAGT', 'CGAAA', 'CCAGT', 'CCGCT', 'CCGAA', 'CGAAG', 'CAAAA', 'CCCAT', 'CCTAT', 'CCATT', 'CCACC', 'CAAGT', 'CCATC', 'CAAAT', 'CCTAT', 'CCAAC', 'CAACT', 'CAAAG', 'CTGAT', 'CCACA', 'CTTAT', 'CAAAT', 'CAAAT', 'CCCAA', 'CCAAA', 'CAAAC', 'CAAAC', 'CCTAG', 'CTAGT', 'CCCCT', 'CTTAT', 'CCTAC', 'CAAGT', 'CCGAG', 'CGAAC', 'CCACA', 'CAAAT', 'CCTAC', 'CCACA', 'CCACC', 'CTGAT', 'CCGGT', 'CCAGA', 'CCAAC', 'CAACT', 'CAACT', 'CAAAA', 'CAAAT', 'CAGAT', 'CAACT', 'CCCAC', 'CCACA', 'CACAT', 'CAACT', 'CAAAG', 'CCAAA', 'CAAAG', 'CCAAC', 'CAAAT', 'CAAAA', 'CAAAG', 'CCAAG', 'CGAAA', 'CAAAT', 'CCGAC', 'CCAAC', 'CAACT', 'CCATT', 'CCATT', 'CCTTT', 'CGACT', 'CCTCT', 'CTAAA', 'CTAAG', 'CGTAT', 'CGCAT', 'CCTTT', 'CTAAG', 'CCATG', 'CCATT', 'CTAAT', 'CCAGA', 'CAGAT', 'CAAAA', 'CTAAT', 'CCAGC', 'CAATT', 'CTAAC', 'CAAAA', 'CAATT', 'CCATT', 'CCCTT', 'CCTTT', 'CGAAG', 'CCCAC', 'CCACG', 'CGAAA', 'CAATT', 'CTAAA', 'CCAGA', 'CAGAT', 'CCATT', 'CAAAA', 'CCCAT', 'CCATG', 'CTACT', 'CAATT', 'CTATT', 'CTATT', 'CAAAC', 'CCAAA', 'CAAAT', 'CAAAA', 'CCACC', 'CCTAC', 'CTACT', 'CGATT', 'CCCCT', 'CCTGT', 'CCTAA', 'CTAAA', 'CGAAT', 'CAAAC', 'CCACC', 'CCCAT', 'CCATA', 'CCCAG', 'CCACA', 'CCAGA', 'CCATC', 'CGACT', 'CCCAC', 'CCACT', 'CCTCT', 'CAAAA', 'CCAAT', 'CAAAC', 'CCTAT', 'CCTAA', 'CTAAA', 'CATAT', 'CCAAA', 'CGAAC', 'CAAAG', 'CCTAG', 'CTAGT', 'CCTAA', 'CTAAA', 'CAAAT', 'CCAAA', 'CAAAA', 'CTGAT', 'CAAAA', 'CGACT', 'CCCAT', 'CCATT', 'CCATC', 'CCCCT', 'CCTAA', 'CTAAG', 'CGAGT', 'CAGAT', 'CATAT', 'CACAT', 'CCGTT', 'CCAGC', 'CCACG', 'CGAAG', 'CAAAG', 'CTTAT', 'CAACT', 'CAAAC', 'CTAAG', 'CCAAC', 'CAACT', 'CAATT', 'CCCAT', 'CCATC', 'CCGTT', 'CCTGT', 'CTGAT', 'CAAAG', 'CTATT', 'CCAAA', 'CAAAT', 'CCATG', 'CCAAA', 'CAAAT', 'CTTAT', 'CTAGT', 'CAATT', 'CCTAG', 'CCACT', 'CATAT', 'CCAGC', 'CATAT', 'CCTAT', 'CTATT', 'CAAAT', 'CAAAA', 'CAAAG', 'CAGAT', 'CTACT', 'CGAAA', 'CCCAG', 'CCAGT', 'CTCAT', 'CTATT', 'CGCAT', 'CCTAG', 'CTAAA', 'CCAAC', 'CTGAT', 'CAAGT', 'CCCAG', 'CCAGT', 'CCCAG', 'CCAGG', 'CTAAA', 'CCGTT', 'CCCAC', 'CAAAG', 'CCACC', 'CCAAA', 'CAAAG', 'CCTAT', 'CTATT', 'CTTAT', 'CCCTT', 'CGTAT', 'CGACT', 'CCCCT', 'CCCTT', 'CAGAT', 'CAACT', 'CAAAA', 'CCACA', 'CACAT', 'CATAT', 'CTAAC', 'CAAAA', 'CTAAC', 'CCAGA', 'CAAAA', 'CCCCT', 'CCCTT', 'CCTTT', 'CAAAA', 'CCATC', 'CAAAA', 'GCACT', 'CCTGT', 'ACAAG', 'ACAAA', 'GCAAT', 'CCAAC', 'CCCCT', 'GCCAT', 'CCATT', 'CCAAT', 'CCGAT', 'GCAAG', 'CCTGT', 'GCAGT', 'TCAAC', 'CCCAT', 'CCTTT', 'ACAAA', 'CCATT', 'CCAGC', 'ACCAT', 'CCATC', 'CCGGT', 'CCTCT', 'CCGTT', 'CCTAA', 'CCACC', 'ACCAT', 'CCATC', 'ACAAG', 'CCCCT', 'CCAAA', 'CCCAC', 'CCACA', 'ACAAA', 'ACAAA', 'ACAGT', 'CCGAG', 'CCGGT', 'CCCAC', 'CCACG', 'GCAAA', 'CCACT', 'TCACT', 'ACCAT', 'CCATT', 'ACAAT', 'TCTAT', 'CCAGG', 'CCAGG', 'TCAAA', 'GCATT', 'TCTAT', 'TCAAT', 'CCGCT', 'CCCAT', 'CCATT', 'CCGGT', 'TCAAG', 'CCAGC', 'TCATT', 'CCTAT', 'TCATT', 'ACAGT', 'CCGAA', 'CCTTT', 'TCTAT', 'TCAAT', 'CCGGT', 'CCGAC', 'ACTAT', 'TCAAA', 'CCAAT', 'TCAAA', 'CCTTT', 'TCAAT', 'GCGAT', 'CCAAT', 'CCAGT', 'CCAAA', 'GCAAG', 'CCAAA', 'TCAAA', 'ACCAT', 'CCATT', 'TCAAA', 'GCAAA', 'TCTAT', 'ACAAT', 'TCAGT', 'ACAAT', 'GCACT', 'CCGAA', 'CCTAA', 'ACAGT', 'CCAAT', 'ACAAG', 'GCACT', 'ACGAT', 'CCAGT', 'TCACT', 'ACAAC', 'ACTAT', 'CCAGT', 'ACAAC', 'CCCTT', 'TCAAA', 'GCAAA', 'ACATT', 'TCTAT', 'CCCAA', 'CCAAT', 'CCTCT', 'TCAAT', 'CCAAT', 'TCATT', 'ACAAG', 'GCAAC', 'ACAAC', 'GCCAT', 'CCATC', 'TCAAT', 'TCAAG', 'ACTAT', 'ACAAC', 'GCATT', 'GCAAC', 'ACAAT', 'CCCAC', 'CCACG', 'GCAGT', 'CCACC', 'GCAAT', 'CCTAC', 'ACAAC', 'ACACT', 'GCGAT', 'CCCAT', 'CCATA', 'CCTCT', 'TCCAT', 'CCATT', 'TCAAA', 'CCAAT', 'CCAAC', 'TCAAT', 'TCGAT', 'TCAAA', 'CCAGG', 'ACAAA', 'CCTAT', 'ACAGT', 'TCATT', 'GCACT', 'GCACT', 'GCACT', 'CCTCT', 'CCAAT', 'TCATT', 'ACAAC', 'ACAAT', 'ACCAT', 'CCATG', 'ACAAT', 'ACAAA', 'CCTAC', 'TCAAG', 'CCCAT', 'CCATT', 'TCAAG', 'GCAAC', 'CCTAG', 'GCAAG', 'CCAAT', 'CCGAA', 'TCATT', 'CCCGT', 'GCAAA', 'CCAAA', 'GCGAT', 'ACCAT', 'CCATT', 'TCAAT', 'CCTTT', 'CCTCT', 'CCACT', 'TCATT', 'GCACT', 'TCGAT', 'ACTAT', 'TCATT', 'ACACT', 'TCAAA', 'CCAAC', 'TCAAT', 'ACAAG', 'CCTTT', 'ACATT', 'TCAGT', 'TCAAG', 'ACAAA', 'ACATT', 'GCAAA', 'CCCAC', 'ACAAT', 'CCACA', 'TCAAC', 'CCTAC', 'ACCAT', 'CCATC', 'CCACC', 'GCAAC', 'TCAAA', 'GCTAT', 'ACAAA', 'GCAAG', 'CCCAG', 'CCAGG', 'CCTAG', 'TCAGT', 'CCAAG', 'CCAAA', 'CCAAC', 'CCAAG', 'ACGAT', 'TCAAT', 'TCAAG', 'GCAAA', 'TCAAT', 'GCCAT', 'CCATG', 'CCAAA', 'CCAAG', 'CCAAT', 'ACAAG', 'TCTAT', 'CCCAT', 'CCATG', 'CCAAG', 'TCATT', 'ACAAT', 'CCAAC', 'TCAGT', 'CCTTT', 'TCAGT', 'TCAAC', 'CCAGA', 'CCACC', 'ACTAT', 'CCAGA', 'ACAAC', 'TCAAT', 'ACAAA', 'GCAGT', 'ACAAA', 'CCAAA', 'ACTAT', 'GCAGT', 'CCTAA', 'TCAAG', 'TCAAA', 'TCTAT', 'ACAAC', 'ACCAT', 'CCATC', 'TCGAT', 'CCAAA', 'TCAAT', 'CCTTT', 'CCGAA', 'TCATT', 'CCTGT', 'CCAGC', 'TCTAT', 'CCGAT', 'TCATT', 'TCAAC', 'CCTGT', 'ACCAT', 'CCCTT', 'CCTTT', 'TCAGT', 'CCATT', 'GCATT', 'ACAGT', 'GCTAT', 'CCTTT', 'TCTAT', 'TCAAA', 'TCAAG', 'TCATT', 'ACTAT', 'ACAAT', 'ACCAT', 'CCATG', 'TCAAT', 'CCAAC', 'ACCAT', 'CCATG', 'CCCAA', 'CCAAT', 'CCTAG', 'CCAAT', 'ACAAC', 'CCAAG', 'GCATT', 'ACACT', 'CCAAA', 'ACAAA', 'CCAAG', 'ACATT', 'CCGAT', 'TCAAA', 'ACAGT', 'CCAGG', 'TCAAT', 'TCAAA', 'CCAGG', 'CCCAC', 'CCACG', 'TCATT', 'TCAAC', 'ACAAA', 'GCATT', 'TCAAA', 'ACCAT', 'CCATT', 'CCTAA', 'GCTAT', 'CCACT', 'ACCAT', 'CCATC', 'GCAAA', 'GCAAT', 'ACAAG', 'GCAAT', 'ACAAG', 'TCATT', 'GCAAA', 'TCAAC', 'CCAAA', 'CCTGT', 'TCAGT', 'TCATT', 'TCAAT', 'TCTAT', 'CCGAA', 'CCAAA', 'CCGAA', 'GCAAA', 'CCCTT', 'TCAAA', 'TCATT', 'TCAAG', 'CCACT', 'TCAAG', 'TCGAT', 'CCTCT', 'TCTAT', 'CCTAA', 'GCAGT', 'ACAAT', 'CCCAG', 'TCAAC', 'CCAGC', 'GCAAA', 'TCAGT', 'TCAAG', 'ACAAA', 'ACTAT', 'ACAGT', 'TCCAT', 'CCATA', 'CCGTT', 'TCGAT', 'CCAAA', 'CCAGT', 'GCAAG', 'ACAAA', 'ACATT', 'GCAAA', 'TCATT', 'TCAAA', 'CCTAA', 'ACAAA', 'ACATT', 'TCAGT', 'GCAGT', 'CCACT', 'ACATT', 'CCTGT', 'ACAGT', 'TCCAT', 'CCATT', 'TCTAT', 'TCAGT', 'TCAAT', 'TCAAA', 'GCATT', 'GCAAG', 'GCAAT', 'CCAAA', 'GCAAG', 'CCCAT', 'CCATT', 'GCAAA', 'CCTAG', 'ACAAT', 'GCACT', 'CCAGG', 'ACAAC', 'CCCAA', 'GCAAT', 'CCAAA', 'ACATT', 'ACATT', 'TCATT', 'ACAGT', 'CCTAC', 'ACAAG', 'GCACT', 'ACAAA', 'TCAAA', 'GCAAA', 'TCATT', 'CCACT', 'ACAAC', 'GCAAT', 'ACATT', 'CCTTT', 'ACATT', 'ACATT', 'GCATT', 'CCACA', 'ACAAT', 'CCTTT', 'ACAAT', 'GCAAA', 'CCCAT', 'CCATA', 'CCGAA', 'CCAAT', 'TCAAA', 'CCTAA', 'ACGAT', 'GCAAA', 'CCTAT', 'CCGTT', 'TCTAT', 'CCGAG', 'TCCAT', 'CCATC', 'CCACT', 'TCAAG', 'CCAAT', 'ACACT', 'CCTAT', 'TCAAA', 'TCAAA', 'CCTGT', 'TCAAG', 'ACAAG', 'CCAGC', 'GCATT', 'ACATT', 'TCGAT', 'CCCAA', 'CCAAA', 'CCTTT', 'TCAAT', 'CCAAT', 'CCAGC', 'TCAAT', 'ACACT', 'TCATT', 'CCAAT', 'GCAAT', 'GCAAA', 'GCAAA', 'CCCCT', 'CCTGT', 'GCACT', 'GCAGT', 'TCAGT', 'TCCAT', 'CCATG', 'GCACT', 'ACAAG', 'ACAGT', 'CCTTT', 'TCACT', 'CCACC', 'CCAAA', 'GCCAT', 'CCATC', 'CCAGG', 'ACGAT', 'TCAAT', 'GCAAC', 'GCACT', 'TCTAT', 'CCGAG', 'ACAAT', 'ACAAG', 'ACAAT', 'TCACT', 'GCAAT', 'TCAAA', 'TCAAA', 'GCTAT', 'GCAGT', 'ACAAA', 'CCTTT', 'TCAAC', 'GCCAT', 'CCATT', 'TCTAT', 'ACCAT', 'CCATT', 'CCCGT', 'ACATT', 'CCTTT', 'ACAAC', 'CCGAA', 'ACAGT', 'TCAAT', 'TCAAT', 'CCACT', 'ACTAT', 'CCAAG', 'TCAAT', 'GCAGT', 'TCCAT', 'CCATA', 'GCAAA', 'ACATT', 'CCAAC', 'ACAAA', 'ACAAG', 'CCTGT', 'ACATT', 'TCAAC', 'TCCAT', 'CCATG', 'CCTCT', 'TCAAG', 'ACAAA', 'GCAAC', 'CCTCT', 'GCAAA', 'TCAAG', 'ACAAA', 'ACTAT', 'CCGGT', 'CCAGT', 'TCAAG', 'TCAAG', 'CCACC', 'CCACA', 'ACAAC', 'TCCAT', 'CCATA', 'TCCAT', 'CCATT', 'ACATT', 'GCAGT', 'CCGTT', 'CCCAT', 'CCATC', 'CCAGT', 'CCAGT', 'CCACC', 'ACCAT', 'CCATC', 'CCAAT', 'TCAAC', 'CCAGT', 'CCAAT', 'GCAAG', 'ACTAT', 'TCAAG', 'ACAAT', 'ACAAT', 'ACCAT', 'CCATT', 'ACAAT', 'GCAAG', 'ACGAT', 'TCAAA', 'ACAAG', 'CCCAA', 'CCAAG', 'CCGAG', 'TCTAT', 'GCAAA', 'GCGAT', 'GCAAA', 'TCAAT', 'TCAAA', 'CCAGG', 'TCACT', 'ACCAT', 'CCATT', 'GCATT', 'TCGAT', 'ACAAC', 'GCACT', 'GCAAA', 'GCATT', 'GCAAA', 'GCAAG', 'CCAGA', 'CCCCT', 'CCCTT', 'CCTTT', 'CCAGG', 'TCAAG', 'TCGAT', 'CCGTT', 'TCAAA', 'TCAAC', 'GCAAA', 'ACCAT', 'CCATT', 'TCAAT', 'TCAAA', 'ACAAT', 'GCTAT', 'CCCGT', 'CCAGT', 'ACAAC', 'TCTAT', 'CCTAT', 'CCAGG', 'ACCAT', 'CCATC', 'TCAAG', 'GCAAG', 'CCAAG', 'ACATT', 'TCCAT', 'CCATT', 'TCACT', 'CCCAT', 'CCATA', 'ACACT', 'TCAAA', 'TCTAT', 'CCAAG', 'CCTGT', 'TCCAT', 'CCATG', 'CCCAG', 'CCAGG', 'CCACA', 'ACAGT', 'CCAAG', 'CCAAG', 'CCAAA', 'CCAGC', 'ACAGT', 'GCATT', 'TCACT', 'CCTTT', 'CCCAT', 'CCATT', 'CCAGG', 'GCCAT', 'CCATC', 'CCTAC', 'ACACT', 'TCATT', 'TCACT', 'CCCTT', 'CCTCT', 'GCTAT', 'CCGTT', 'ACTAT', 'CCAGT', 'TCCAT', 'CCATG', 'CCAAT', 'CCACC', 'CCTGT', 'GCAAT', 'TCAAT', 'TCAAA', 'TCACT', 'ACAAA', 'TCAGT', 'TCAAT', 'ACAAA', 'TCAAT', 'ACACT', 'ACAGT', 'TCAGT', 'CCAGG', 'CCCAA', 'CCAAA', 'TCAAT', 'TCAAC', 'TCAAT', 'TCAGT', 'CCAAA', 'CCACT', 'TCTAT', 'CCAAT', 'TCAAA', 'TCAAA', 'ACCAT', 'CCATA', 'CCCAG', 'CCAGC', 'GCAGT', 'TCAAC', 'CCCAA', 'CCAAC', 'GCAAT', 'CCACT', 'TCACT', 'TCAAC', 'TCAAA', 'GCTAT', 'CCAGA', 'CCAGA', 'GCACT', 'GCAAA', 'ACAAT', 'CCCTT', 'CCTTT', 'CCTAG', 'TCAAA', 'ACAAT', 'TCTAT', 'CCAAC', 'ACTAT', 'TCAAT', 'TCATT', 'GCAAA', 'CCCAT', 'CCATC', 'GCTAT', 'ACAAA', 'GCCAT', 'CCATT', 'ACAAC', 'GCAAA', 'ACTAT', 'CCAGA', 'CCAAC', 'CCCAC', 'CCACT', 'ACAAT', 'TCAAT', 'GCAAA', 'ACAAT', 'TCAGT', 'TCATT', 'TCTAT', 'ACAAT', 'CCCAC', 'CCACA', 'CCAAT', 'CCACC', 'TCATT', 'CCCAT', 'CCATA', 'TCAAC', 'CCAGA', 'CCGAA', 'ACAAA', 'TCAAT', 'GCAAA', 'CCACA', 'ACAAT', 'GCAGT', 'TCAAA', 'ACACT', 'TCATT', 'CCACT', 'TCAAA', 'TCTAT', 'TCATT', 'ACCAT', 'CCATT', 'CCAAG', 'GCTAT', 'ACCAT', 'TCAAA', 'CCATT', 'TCATT', 'GCAAA', 'CCACT', 'ACAGT', 'ACCAT', 'CCATT', 'ACCAT', 'CCATC', 'TCACT', 'TCAAT', 'TCAAA', 'CCTTT', 'ACGAT', 'GCTAT', 'CCAAA', 'ACAAA', 'ACATT', 'TCTAT', 'TCAAA', 'ACCAT', 'CCATT', 'ACACT', 'TCTAT', 'TCAAA', 'ACAAG', 'ACTAT', 'TCAGT', 'CCAGG', 'CCAGG', 'CCGTT', 'TCACT', 'TCAAG', 'CCCAG', 'CCAGA', 'CCCAT', 'CCTAA', 'TCAAT', 'CCATG', 'CCAGG', 'GCAAA', 'GCAAT', 'CCAAT', 'CCTAT', 'CCGGT', 'ACCAT', 'CCATA', 'GCAGT', 'CCGAA', 'GCAGT', 'ACAAT', 'TCAAT', 'GCATT', 'CCTAA', 'ACACT', 'CCTTT', 'TCAAG', 'TCAAG', 'GCTAT', 'CCTTT', 'ACAAA', 'TCCAT', 'CCATG', 'CCGAA', 'GCAGT', 'CCAAC', 'CCACC', 'GCATT', 'CCAAT', 'CCAAG', 'CCAAA', 'ACAAA', 'ACAAT', 'CCCTT', 'CCTTT', 'GCATT', 'ACAAC', 'GCAAA', 'TCAAA', 'CCAAA', 'TCAAG', 'TCAAG', 'GCTAT', 'GCAAA', 'TCATT', 'GCAAA', 'CCTAT', 'TCAAG', 'TCAAT', 'GCATT', 'GCAAT', 'CCAAG', 'CCACT', 'TCAAT', 'GCAAT', 'CCAGT', 'TCAAC', 'ACAAA', 'CCACT', 'TCAAT', 'ACTAT', 'ACAAA', 'TCAAA', 'TCAAA', 'ACAAA', 'GCAAA', 'GCTAT', 'CCTGT', 'TCAAG', 'CCCAG', 'CCAGA', 'ACAAC', 'ACAAA', 'CCCTT', 'CCTTT', 'CCCAA', 'CCAAC', 'CCTAC', 'ACATT', 'TCAAC', 'ACAAC', 'ACAAC', 'ACAAG', 'TCAGT', 'ACAGT', 'CCAAC', 'ACAAC', 'ACAAT', 'CCAAA', 'ACAAT', 'ACATT', 'CCAGG', 'TCATT', 'CCAAT', 'TCAAA', 'TCAAC', 'TCAAA', 'CCAAT', 'ACAAT', 'ACACT', 'ACTAT', 'CCAGA', 'ACATT', 'TCCAT', 'CCATT', 'TCCAT', 'CCATT', 'TCCAT', 'CCATA', 'CCAAA', 'ACAGT', 'GCAAA', 'TCAAA', 'CCTAT', 'TCACT', 'ACAAG', 'GCAAA', 'GCAGT', 'GCAAT', 'TCAAA', 'GCAAA', 'ACAAA', 'TCAAA', 'CCTTT', 'CCCTT', 'ACAAT', 'TCATT', 'GCAAT', 'GCAAA', 'TCAAC', 'CCCAT', 'CCATA', 'ACATT', 'CCACG', 'CCCAA', 'CCAAA', 'CCCGT', 'CCGTT', 'CCAAT', 'GCACT', 'CCTCT', 'TCAAC', 'CCAAA', 'CCCAT', 'CCATG', 'GCAAT', 'TCAAA', 'CCTGT', 'CCAGT', 'CCACG', 'CCAGC', 'GCGAT', 'GCATT', 'CCACC', 'GCTAT', 'CCACA', 'ACATT', 'GCTAT', 'CCAAT', 'ACAGT', 'CCCGT', 'TCTAT', 'CCCCT', 'CCCTT', 'GCATT', 'CCTAA', 'TCAAA', 'TCAAG', 'CCCTT', 'TCTAT', 'TCCAT', 'CCATC', 'CCAAA', 'TCATT', 'CCTTT', 'TCATT', 'GCAAA', 'GCCAT', 'CCATA', 'ACAGT', 'ACAAA', 'TCAAA', 'CCAAA', 'CCAGG', 'CCAAG', 'ACAAG', 'GCCAT', 'CCATC', 'ACAGT', 'ACAGT', 'TCAGT', 'CCCCT', 'CCTAT', 'TCGAT', 'CCAGA', 'CCTAA', 'CCTAC', 'ACAAA', 'ACAAT', 'ACAAA', 'ACCAT', 'CCATA', 'GCAAC', 'ACAGT', 'ACTAT', 'ACAAA', 'CCTCT', 'ACATT', 'CCCAA', 'CCAAA', 'ACAAC', 'ACATT', 'CCCTT', 'CCACA', 'CCTTT', 'TCCAT', 'CCATG', 'TCCAT', 'ACAAA', 'CCATT', 'CCCTT', 'ACTAT', 'TCAAG', 'ACATT', 'ACATT', 'TCAAA', 'TCATT', 'GCATT', 'TCATT', 'GCAGT', 'TCCAT', 'CCATG', 'ACAAA', 'ACAAC', 'TCATT', 'ACAAA', 'CCAAA', 'GCATT', 'CCCAC', 'TCAAG', 'TCATT', 'CCACA', 'ACAAA', 'TCAAC', 'CCGGT', 'TCATT', 'ACAGT', 'CCAGA', 'TCATT', 'TCATT', 'CCTAG', 'ACATT', 'GCACT', 'CCACA', 'ACAAT', 'TCAAG', 'TCATT', 'TCAAA', 'ACGAT', 'TCATT', 'GCTAT', 'TCAAG', 'ACTAT', 'GCAAG', 'TCATT', 'TCATT', 'TCATT', 'TCAAA', 'GCAAC', 'CCGAG', 'TCAAG', 'TCAAT', 'ACAAG', 'CCCAT', 'CCATA', 'CCACC', 'ACAAG', 'CCACA', 'TCAAA', 'GCTAT', 'CCACA', 'GCAAA', 'CCGAG', 'CCAGA', 'ACAAA', 'CCAAT', 'ACAAC', 'CCACA', 'ACAAC', 'ACAAT', 'ACAAT', 'GCACT', 'TCAAT', 'CCAAG', 'ACTAT', 'GCAAA', 'TCAAA', 'ACAAG', 'ACGAT', 'CCAGA', 'GCAAA', 'ACAAA', 'ACGAT', 'ACGAT', 'GCAAC', 'CCGAT', 'TCACT', 'TCAGT', 'ACAGT', 'CCAGG', 'CCCAT', 'CCAAA', 'GCAAT', 'CCATG', 'ACCAT', 'CCATC', 'ACAAG', 'TCAAT', 'TCAAA', 'GCAAT', 'ACGAT', 'ACATT', 'CCCTT', 'CCTGT', 'ACACT', 'ACAAG', 'CCCAC', 'CCACG', 'CCACC', 'ACCAT', 'CCATC', 'TCCAT', 'CCATC', 'CCCAT', 'CCATT', 'CCCAG', 'GCAAC', 'CCAGC', 'CCTAT', 'CCCCT', 'ACACT', 'TCTAT', 'CCCCT', 'ACAAA', 'CCCTT', 'CCCCT', 'CCCTT', 'GCAAA', 'TCAAT', 'CCCCT', 'GCAAA', 'CCCAC', 'CCACT', 'GCAGT', 'ACAAA', 'TCACT', 'CCACA', 'ACAAG', 'TCTAT', 'ACACT', 'ACTAT', 'TCAAA', 'ACAAA', 'ACAAT', 'CCTAT', 'CCTAA', 'TCATT', 'CCACT', 'GCACT', 'TCAAC', 'CCAAA', 'GCAAA', 'CCTAC', 'GCAAG', 'ACCAT', 'CCATG', 'CCTTT', 'CCCCT', 'GCTAT', 'GCAAG', 'GCAAT', 'TCACT', 'TCATT', 'GCAGT', 'ACACT', 'GCAAC', 'CCACT', 'GCAAC', 'ACAAT', 'GCAAC', 'ACAAA', 'CCCAA', 'CCAAT', 'TCAAA', 'ACAAA', 'GCAAT', 'CCTGT', 'GCATT', 'ACAAT', 'CCAAT', 'CCAGA', 'CCCAT', 'CCATG', 'GCAAA', 'ACAAA', 'TCATT', 'CCAGA', 'ACAAT', 'ACCAT', 'CCATA', 'TCAGT', 'CCAAA', 'TCAAG', 'TCCAT', 'GCAAG', 'CCATA', 'GCACT', 'CCCAA', 'TCAAG', 'CCAAT', 'ACTAT', 'ACATT', 'CCGAG', 'CCCAG', 'CCAGG', 'ACGAT', 'TCTAT', 'CCAAG', 'CCACA', 'CCTCT', 'ACAAC', 'TCTAT', 'CCAAT', 'ACCAT', 'CCATA', 'GCAAT', 'ACCAT', 'CCATT', 'TCAAA', 'CCTAC', 'ACAGT', 'CCACC', 'GCACT', 'CCGAG', 'TCACT', 'GCTAT', 'ACAAG', 'TCATT', 'CCAGA', 'TCAAG', 'CCAAA', 'TCTAT', 'TCAAG', 'TCAAA', 'TCAAC', 'ACAAT', 'CCACA', 'ACAAA', 'CCAAA', 'ACAAG', 'CCAAC', 'ACAAA', 'TCAAA', 'CCCAC', 'CCACT', 'ACAAA', 'CCTTT', 'CCGAC', 'CCTCT', 'TCTAT', 'CCCAG', 'CCAGA', 'TCGAT', 'ACAAT', 'TCATT', 'ACATT', 'GCTAT', 'GCTAT', 'ACATT', 'ACAAG', 'GCATT', 'GCATT', 'GCTAT', 'ACATT', 'ACAAT', 'ACAAG', 'CCACT', 'GCAAT', 'TCACT', 'ACTAT', 'CCAAT', 'GCAAA', 'TCGAT', 'ACAAA', 'TCAAA', 'ACAAG', 'GCAAA', 'GCATT', 'TCAAA', 'CCAAC', 'ACATT', 'TCAGT', 'ACAGT', 'CCAAG', 'TCTAT', 'TCTAT', 'TCCAT', 'CCATA', 'ACAGT', 'CCGAT', 'CCCTT', 'CCCTT', 'CCGTT', 'CCCGT', 'TCAAT', 'ACAAA', 'CCCTT', 'TCCAT', 'CCATA', 'CCCGT', 'GCAAA', 'CCGAG', 'CCAGT', 'CCGCT', 'ACTAT', 'CCGAA', 'TCAAA', 'ACAAT', 'CCTAT', 'CCCAT', 'CCATT', 'TCAAG', 'CCACC', 'ACCAT', 'CCATC', 'GCAAT', 'ACAAA', 'CCTAT', 'CCAAC', 'ACAAA', 'CCACA', 'ACACT', 'GCAAA', 'TCAAA', 'TCTAT', 'CCCAA', 'CCAAA', 'ACAGT', 'ACAAA', 'CCTAG', 'CCCCT', 'ACAAT', 'CCTAC', 'ACAAG', 'TCAGT', 'CCGAG', 'ACAAG', 'CCACA', 'TCAAG', 'ACAAC', 'GCAAA', 'TCATT', 'ACTAT', 'CCTAC', 'CCACA', 'CCACC', 'CCGGT', 'CCAGA', 'CCAAC', 'ACAAC', 'ACAGT', 'TCAAA', 'TCAAA', 'TCAAC', 'CCCAC', 'CCACA', 'ACATT', 'TCAAC', 'TCAAT', 'TCAAT', 'TCTAT', 'TCAAA', 'CCAAA', 'ACAAT', 'CCAAC', 'ACAAC', 'ACAAA', 'ACAAA', 'TCAAG', 'ACAAA', 'CCAAG', 'GCAAA', 'ACAGT', 'CCGAC', 'ACAGT', 'CCAAC', 'TCCAT', 'CCATT', 'ACAGT', 'TCCAT', 'CCATT', 'CCTTT', 'TCTAT', 'ACGAT', 'CCTCT', 'ACTAT', 'TCAGT', 'ACAAT', 'GCATT', 'CCTTT', 'TCATT', 'TCATT', 'TCCAT', 'CCATG', 'ACCAT', 'CCATT', 'TCGAT', 'CCAGA', 'TCAAT', 'ACAAA', 'CCAGC', 'TCAAT', 'TCAAA', 'TCAAC', 'ACACT', 'ACAAT', 'TCAAG', 'TCCAT', 'CCATT', 'CCCTT', 'CCTTT', 'TCATT', 'CCCAC', 'CCACG', 'ACAAT', 'TCTAT', 'TCAAT', 'CCAGA', 'GCCAT', 'CCATT', 'GCAAA', 'CCCAT', 'CCATG', 'ACAGT', 'ACAAT', 'TCACT', 'ACTAT', 'TCACT', 'ACTAT', 'TCAAA', 'TCAGT', 'CCAAA', 'ACAAA', 'CCACC', 'CCTAC', 'ACGAT', 'CCCCT', 'CCTAA', 'CCTGT', 'TCAAA', 'ACAGT', 'CCCAT', 'CCATA', 'CCACC', 'GCACT', 'TCAAC', 'CCACA', 'CCCAG', 'CCAGA', 'GCAGT', 'ACCAT', 'CCATC', 'ACTAT', 'CCCAC', 'CCACT', 'CCTCT', 'GCAAA', 'CCAAT', 'GCTAT', 'ACAAA', 'CCTAT', 'CCTAA', 'CCAAA', 'CCTAG', 'CCTAA', 'TCAAT', 'ACAAA', 'CCAAA', 'TCAAT', 'ACAAA', 'ACAGT', 'ACAAG', 'CCCAT', 'CCATT', 'TCCAT', 'CCATC', 'CCCCT', 'CCTAA', 'ACAAC', 'GCAAC', 'ACAAG', 'ACATT', 'TCAAC', 'ACAAT', 'GCGAT', 'CCGTT', 'CCAGC', 'GCAAT', 'CCACG', 'ACACT', 'ACAAT', 'ACACT', 'ACACT', 'GCAAA', 'ACACT', 'ACACT', 'TCAAC', 'ACAGT', 'GCAAA', 'ACTAT', 'CCAAC', 'ACAAC', 'GCAGT', 'TCGAT', 'ACAAT', 'CCCAT', 'CCATC', 'CCTGT', 'CCGTT', 'ACAAA', 'ACTAT', 'CCAAA', 'ACCAT', 'CCATG', 'ACAAC', 'GCAAT', 'CCAAA', 'ACAAT', 'TCACT', 'CCTAG', 'CCACT', 'CCAGC', 'TCAGT', 'ACAGT', 'CCTAT', 'TCTAT', 'TCAAA', 'GCATT', 'TCAAA', 'ACAAA', 'ACGAT', 'ACACT', 'ACACT', 'CCCAG', 'CCAGT', 'GCAGT', 'TCTAT', 'GCAGT', 'CCTAG', 'ACATT', 'ACATT', 'CCAAC', 'GCAAT', 'TCAAT', 'ACAAG', 'CCCAG', 'CCAGT', 'TCAAT', 'GCGAT', 'ACATT', 'CCCAG', 'CCAGG', 'CCGTT', 'GCAAA', 'GCGAT', 'CCCAC', 'CCACC', 'CCAAA', 'ACAAG', 'CCTAT', 'CCCTT', 'ACAAG', 'CCCCT', 'CCCTT', 'TCAAC', 'GCAAG', 'ACAAA', 'CCACA', 'GCAAC', 'ACAAA', 'CCAGA', 'ACAAA', 'GCATT', 'ACAAT', 'ACAGT', 'CCCCT', 'CCCTT', 'CCTTT', 'ACAAC', 'ACAAA', 'ACCAT', 'CCATC', 'GCAAA', 'GCAAG', 'GCAGT', 'ATAAT', 'CGAAA', 'GAAAT', 'CTAAC', 'CCACG', 'CGAAT', 'ACAAT', 'CCAGG', 'GCATT', 'CGACT', 'CCAAT', 'CAATT', 'CCAGT', 'CCAAA', 'CAAAG', 'CTAAA', 'CTATT', 'TCAGT', 'CGAAG', 'CTAGT', 'ATAAT', 'ACAAG', 'ACAAC', 'CCAGT', 'ATAAT', 'TGAAT', 'CCAAT', 'ACAAG', 'ACAAC', 'CAACT', 'TCAAG', 'GCAAC', 'ACAAT', 'CCACG', 'ACAAC', 'CGATT', 'CCAAT', 'CCAGG', 'ACAAA', 'CAAAT', 'TCATT', 'ACAAT', 'CAATT', 'AAAAT', 'CTAAT', 'CGAAT', 'GCAAA', 'CAAAA', 'AAAAT', 'GTAAT', 'GCACT', 'GTAAT', 'ACACT', 'CCAAC', 'ACAAG', 'ACAAA', 'CAAAG', 'GAAAT', 'CTACT', 'GCAAC', 'CAACT', 'CGAAC', 'CCAGG', 'CCAAG', 'CCAAC', 'GCAAA', 'CAAAC', 'CCATG', 'CCATG', 'ACAAT', 'CAATT', 'CTAAG', 'TCAAT', 'ACAAA', 'CAAAG', 'CGAAT', 'CCAAA', 'CAAAA', 'AAAAT', 'GAAAT', 'TCATT', 'TAAAT', 'TCAGT', 'GAAAT', 'TCATT', 'CCATG', 'CCAAT', 'CGAAA', 'TCAAA', 'CAAAT', 'TGAAT', 'CCAGG', 'TCATT', 'CCACT', 'GCAAA', 'CAAAT', 'ACAAG', 'GTAAT', 'CCAAA', 'CAAAA', 'AAAAT', 'TTAAT', 'CGAAT', 'CCACT', 'GCAGT', 'TCAGT', 'CCAGT', 'TTAAT', 'GCAAA', 'CAAAT', 'TCAAA', 'CAAAA', 'AAAAT', 'GGAAT', 'CCACT', 'ACATT', 'TCAAT', 'CAATT', 'GCATT', 'GCAAG', 'ACAAT', 'CGAAT', 'ACAAC', 'CAACT', 'CCAAA', 'CAAAC', 'ACATT', 'ACATT', 'ACAGT', 'ACAAG', 'GCACT', 'ACAAA', 'CAAAA', 'AAAAT', 'GCAAA', 'CAAAG', 'AAAAT', 'TCATT', 'GAAAT', 'GCAAT', 'CAATT', 'CCACA', 'ACAAT', 'ACAAT', 'AGAAT', 'CGAAG', 'CTAAG', 'CGATT', 'TGAAT', 'CCAAT', 'TCAAG', 'AAAAT', 'TCAAA', 'CAAAA', 'GAAAT', 'CCAGC', 'ACATT', 'TAAAT', 'CCAAA', 'CAAAT', 'CTAAG', 'ACACT', 'GCAAT', 'CCATG', 'GCACT', 'ACAAG', 'CAAGT', 'ACAGT', 'CTAAG', 'CCATC', 'CCAGG', 'GCACT', 'CTAAA', 'TAAAT', 'ACAAT', 'ACAAG', 'TCAAA', 'CAAAA', 'CGAAT', 'TCAAC', 'ACAAC', 'ACAGT', 'CTAAT', 'CCAAG', 'CAAGT', 'CTAAG', 'CGACT', 'TCAAC', 'CCATG', 'TCAAG', 'GCAAC', 'CGACT', 'TCAAG', 'CAAGT', 'CGAAG', 'TCAAG', 'CCACC', 'CCACA', 'ACAAC', 'CTAAT', 'ACATT', 'CCAGT', 'CCAGT', 'CCAAT', 'CCAGT', 'CCAAT', 'GCAAG', 'CCATT', 'AGAAT', 'GCAAG', 'AGAAT', 'GCAAA', 'CAAAT', 'GCAAA', 'CAAAT', 'TAAAT', 'CCAGG', 'GCACT', 'GCATT', 'GCAAA', 'CAAAG', 'GCAAG', 'CAAGT', 'CCAGA', 'ATAAT', 'CCAGT', 'ACAAC', 'CAACT', 'CTAAA', 'CCAGG', 'CCATC', 'TCAAG', 'CCATT', 'ACACT', 'CTAAC', 'CCAAG', 'CCACA', 'ACAGT', 'TAAAT', 'CCAAG', 'GGAAT', 'TCACT', 'CCATT', 'TCATT', 'CTATT', 'AAAAT', 'GAAAT', 'ACAAA', 'CAAAG', 'ACAAA', 'CAAAG', 'TCAAT', 'CCAGG', 'TCAAT', 'CAATT', 'TCAAT', 'TCAGT', 'TCAAA', 'CAAAA', 'CCATA', 'TCAAC', 'CAACT', 'GCAAT', 'TCACT', 'CTAAA', 'CCAGA', 'GCACT', 'TCAAA', 'CAAAG', 'CTAAC', 'AAAAT', 'GCAAA', 'CAAAT', 'GCAAA', 'CAAAT', 'AGAAT', 'CCACT', 'ACAAT', 'GTAAT', 'TGAAT', 'CCACA', 'CCACC', 'CCATA', 'CGAAT', 'ACAAA', 'CAAAG', 'GAAAT', 'GCAAA', 'CAAAT', 'TCATT', 'TGAAT', 'TAAAT', 'TCATT', 'CCATT', 'TCATT', 'CTAAA', 'ACAGT', 'CCATT', 'ACAAA', 'CAAAG', 'ACATT', 'TTAAT', 'CTATT', 'TCAAA', 'CAAAG', 'TCAAA', 'CAAAA', 'GAAAT', 'CTAAC', 'CCAGA', 'TCAAT', 'CCAGG', 'GGAAT', 'GCAGT', 'CGAAT', 'CTAGT', 'CTAAC', 'ACACT', 'CTAGT', 'TAAAT', 'TCAAG', 'CAAGT', 'ACAAA', 'CAAAG', 'CGAAC', 'GCATT', 'GTAAT', 'CCAAA', 'CAAAA', 'ACAAA', 'CAAAA', 'AAAAT', 'CTAAG', 'ATAAT', 'GCATT', 'GTAAT', 'GCAAA', 'CAAAT', 'CCAAA', 'CAAAT', 'AAAAT', 'GCAAA', 'CAAAA', 'GCAAA', 'CAAAT', 'CTAAT', 'CTAAA', 'TCAAT', 'GCATT', 'TCAAT', 'CCAGT', 'CCACT', 'CTATT', 'ACAAA', 'CAAAA', 'AAAAT', 'TAAAT', 'ACAAC', 'CAACT', 'CTAAC', 'AGAAT', 'TCAAC', 'ACAAG', 'CCAAC', 'ACAAT', 'ACATT', 'CCAAT', 'CAATT', 'TCAAA', 'CAAAA', 'TTAAT', 'ACATT', 'CCATT', 'TTAAT', 'CCAAA', 'CAAAA', 'ACAGT', 'CTAAC', 'CTATT', 'TCACT', 'GCAGT', 'TCAAA', 'CAAAG', 'GAAAT', 'TCAAA', 'CAAAA', 'GCAAA', 'CAAAC', 'CGAAA', 'ACATT', 'CTAGT', 'TTAAT', 'GCACT', 'GCACT', 'TAAAT', 'CCAAA', 'CAAAC', 'GAAAT', 'CCATG', 'CCACC', 'CTATT', 'CTATT', 'CGAGT', 'CTATT', 'CTAAA', 'TCAAA', 'CAAAA', 'AAAAT', 'AGAAT', 'GCAAA', 'CAAAA', 'AAAAT', 'ACAGT', 'CCAAA', 'CAAAT', 'AGAAT', 'CCAAG', 'AGAAT', 'ACAGT', 'TCAGT', 'GGAAT', 'CTAAT', 'TAAAT', 'GGAAT', 'GCAAC', 'CTAAT', 'ACAAC', 'ACATT', 'CCATT', 'AAAAT', 'GAAAT', 'TCAAA', 'CAAAA', 'AAAAT', 'TAAAT', 'GCATT', 'ATAAT', 'GAAAT', 'GCAGT', 'ACAAA', 'CAAAC', 'CCAAA', 'CAAAG', 'TCAAG', 'CAAGT', 'TCAAC', 'CAACT', 'CCAGA', 'CCACA', 'ACAAT', 'TCAAG', 'CGATT', 'TCAAG', 'GCAAG', 'CAAGT', 'GCAAC', 'TCAAG', 'CAAGT', 'TCAAT', 'CGAAG', 'CCACC', 'CGAAG', 'CCACA', 'CGAAG', 'CCACA', 'CGAAA', 'GAAAT', 'CCAGA', 'ACAAC', 'CAACT', 'CCACA', 'ACAAT', 'CGAAT', 'GCAAA', 'CAAAT', 'ACAAG', 'CCAGA', 'ACAAA', 'CAAAT', 'GCAAC', 'TCACT', 'CCAAA', 'CAAAT', 'ATAAT', 'ACAAG', 'CAAGT', 'ACACT', 'CCACG', 'CCACC', 'CCATC', 'CCATC', 'GCAAC', 'CGACT', 'CCACT', 'GCAGT', 'TCACT', 'ACAAA', 'CAAAG', 'ACAAT', 'ATAAT', 'TCATT', 'GCACT', 'AGAAT', 'CCATG', 'GCAAG', 'GCAGT', 'CGAGT', 'GCAAC', 'GCAAC', 'ACAAT', 'CAATT', 'CTAAG', 'ACAAA', 'CAAAA', 'ACAAA', 'CAAAA', 'GCATT', 'ACAAT', 'CCAGA', 'ACAAA', 'CAAAG', 'TCATT', 'TGAAT', 'GGAAT', 'ATAAT', 'TGAAT', 'AGAAT', 'TCAAG', 'CAAGT', 'ACATT', 'TCAAA', 'CAAAA', 'AAAAT', 'TGAAT', 'TCAAA', 'CAAAA', 'CCACA', 'ACAAA', 'CAAAA', 'CCAAC', 'ACAAA', 'CAAAT', 'CCACT', 'AGAAT', 'ATAAT', 'AAAAT', 'ACATT', 'ATAAT', 'ACAAG', 'GCAAT', 'TCACT', 'ACAAA', 'CAAAT', 'TGAAT', 'CTACT', 'CTACT', 'TAAAT', 'TCAGT', 'ACAGT', 'TCAAT', 'ACAAA', 'CAAAT', 'CTAAC', 'GCAAA', 'CAAAC', 'CGAAA', 'CCAGT', 'TCAAA', 'CAAAA', 'TCAAG', 'CAAGT', 'ACAAA', 'CAAAT', 'GCAAA', 'CAAAT', 'TCAAA', 'CAAAT', 'ACAGT', 'ACAAT', 'TCAGT', 'TCAAG', 'TCATT', 'TAAAT', 'CCACA', 'ACAAC', 'CAACT', 'GAAAT', 'TGAAT', 'TCAAC', 'CAACT', 'TCAAC', 'CAACT', 'TCAAT', 'TCAAA', 'CAAAG', 'ACAAT', 'ACAAA', 'CAAAG', 'GCAAA', 'CAAAT', 'ACAGT', 'ACAGT', 'AAAAT', 'AAAAT', 'TCAGT', 'CTAAG', 'CCATT', 'ACAAA', 'CAAAA', 'TTAAT', 'CTAAT', 'TCAAT', 'CAATT', 'TCAAA', 'CAAAA', 'ACAAT', 'CAATT', 'TCATT', 'GTAAT', 'TCAAT', 'TGAAT', 'TTAAT', 'ACAAT', 'CAATT', 'TCACT', 'CTATT', 'TCACT', 'CTATT', 'ACAAA', 'CAAAA', 'TCAAA', 'CAAAC', 'CCACC', 'CCATC', 'CCACT', 'GAAAT', 'CCAAT', 'ACAAA', 'CAAAC', 'CTAAA', 'CGAAC', 'CTAAA', 'AAAAT', 'TCAAT', 'CCAAA', 'CAAAA', 'ACAAA', 'CAAAA', 'CGAGT', 'ACAAG', 'ACACT', 'ACACT', 'ACACT', 'ACACT', 'ACAGT', 'CCAAC', 'ACAAC', 'CAACT', 'GCAGT', 'AAAAT', 'ACAAC', 'CTAGT', 'TCACT', 'CCAGC', 'GGAAT', 'TCAGT', 'CTATT', 'TTAAT', 'GCATT', 'ACAAA', 'CAAAG', 'GTAAT', 'GCAGT', 'GAAAT', 'CTAAA', 'TAAAT', 'TAAAT', 'CCAAC', 'CCAGT', 'CCAGG', 'TAAAT', 'TCAAC', 'CAACT', 'ACAAA', 'CAAAA', 'AAAAT', 'ACAAA', 'CAAAA', 'AAAAT', 'ACAGT', 'ACAAC', 'ACAAA', 'CAAAA', 'CCATC', 'GAAAT', 'GCACT', 'ACAAA', 'CAAAT', 'CCAAC', 'GCACT', 'CCAGC', 'CCACC', 'CCATC', 'CGAAG', 'CCACT', 'CCAGG', 'CCAGC', 'CGAGT', 'GCAAG', 'CGAGT', 'GCACT', 'CTACT', 'AAAAT', 'TCAAA', 'CAAAA', 'GCAAA', 'CAAAA', 'AAAAT', 'GCAAC', 'CAACT', 'GCAGT', 'CTAAA', 'AGAAT', 'TCAAA', 'CAAAG', 'ACAGT', 'GCACT', 'GCACT', 'GCACT', 'TCATT', 'CTACT', 'TCAAG', 'CCATT', 'CCAAA', 'CAAAA', 'CCACT', 'CTAAA', 'AAAAT', 'TCATT', 'TCAAA', 'CAAAA', 'AAAAT', 'TCAAT', 'TTAAT', 'GGAAT', 'TAAAT', 'GCAAA', 'CAAAT', 'CCACA', 'ACAAT', 'TCAAC', 'CCATC', 'CTAAA', 'TAAAT', 'GCAAG', 'TAAAT', 'CGAAT', 'TCAAT', 'CCAAA', 'CAAAT', 'GTAAT', 'GTAAT', 'TCAAC', 'CAACT', 'CTAAA', 'AAAAT', 'ACAAC', 'CCAAA', 'CAAAG', 'CGAAT', 'ACAAC', 'CGAAG', 'TCAAT', 'CAATT', 'CGAAA', 'GAAAT', 'GAAAT', 'TAAAT', 'TCATT', 'ACAGT', 'TTAAT', 'TCAAG', 'GAAAT', 'ACAAT', 'CCAAC', 'CCATG', 'ACAAC', 'CAACT', 'GCATT', 'CTAAT', 'TGAAT', 'CCAGG', 'CGACT', 'AAAAT', 'GAAAT', 'TCAAC', 'TAAAT', 'CCATC', 'GAAAT', 'GCAAT', 'CAATT', 'GCAAT', 'CAATT', 'AAAAT', 'TCATT', 'CTATT', 'CTAAA', 'AAAAT', 'TCAAG', 'GGAAT', 'CTAAC', 'TCAAC', 'CAACT', 'TCAAG', 'CAAGT', 'ATAAT', 'CCATA', 'ATAAT', 'GCAAG', 'ACATT', 'AAAAT', 'CTAAC', 'ACAAA', 'CAAAG', 'GCAGT', 'AGAAT', 'CCATT', 'CTATT', 'GCAAG', 'GCAAT', 'CAATT', 'CCAAA', 'CAAAG', 'TAAAT', 'GCAAA', 'CAAAT', 'GCACT', 'TCATT', 'CTACT', 'CTACT', 'ACAAC', 'ACATT', 'ACATT', 'TTAAT', 'TAAAT', 'GCAAA', 'CAAAT', 'AGAAT', 'TTAAT', 'TCAAA', 'CAAAT', 'CTAAA', 'CCATC', 'CCACT', 'ACACT', 'TCAAA', 'CAAAA', 'TCAAG', 'CAAGT', 'ACAAG', 'GCATT', 'TCAAT', 'CCAGC', 'TCAAT', 'TCATT', 'GCAAA', 'CAAAA', 'AAAAT', 'GCAAA', 'CAAAT', 'TTAAT', 'ATAAT', 'GCAGT', 'TCACT', 'TTAAT', 'ATAAT', 'GCAAC', 'CAACT', 'CGAGT', 'CGAAA', 'GAAAT', 'CGAAT', 'GCAGT', 'CCATT', 'CGAAT', 'TCAAT', 'CCACT', 'GCAGT', 'CCATA', 'GCAAA', 'CAAAC', 'ACATT', 'ACAAA', 'CAAAT', 'ACATT', 'TTAAT', 'TTAAT', 'CTAAG', 'TTAAT', 'TTAAT', 'TAAAT', 'CTATT', 'TCAAG', 'CCATA', 'GCAGT', 'CCATC', 'CCACC', 'CCATC', 'TCAAC', 'CAACT', 'CTAAC', 'ACAAT', 'CAATT', 'ACAAT', 'GGAAT', 'TTAAT', 'ACAAG', 'CAAGT', 'CCAAG', 'TTAAT', 'TCACT', 'CTAAA', 'CCATT', 'CGATT', 'GCAAA', 'CAAAA', 'AAAAT', 'CCAGG', 'TCAAC', 'GCAAA', 'CAAAT', 'TCAAA', 'CAAAG', 'ACAAT', 'CAATT', 'GCAAG', 'ACATT', 'CCATA', 'TCAAA', 'CAAAT', 'GGAAT', 'TTAAT', 'CCAGG', 'CCAAA', 'CAAAT', 'CCAGC', 'GCATT', 'CCAGG', 'ACACT', 'TCACT', 'CCAGT', 'CCATG', 'CCAAT', 'CAATT', 'CCACC', 'TCAAT', 'TCACT', 'TCAGT', 'ACACT', 'CTAGT', 'TCAGT', 'CCAAA', 'CAAAT', 'TCAAC', 'TTAAT', 'ATAAT', 'TTAAT', 'CGAAT', 'TCAAA', 'CAAAT', 'GCAGT', 'GTAAT', 'CCACT', 'CTACT', 'TCAAA', 'CAAAG', 'GGAAT', 'CCAGA', 'CTATT', 'TTAAT', 'TCATT', 'CTATT', 'CCATT', 'ATAAT', 'CCAAC', 'CAACT', 'GCAAA', 'CAAAA', 'AAAAT', 'CGAAT', 'ACAAT', 'TCATT', 'TTAAT', 'TCATT', 'TGAAT', 'TCAAT', 'CTAGT', 'CTAAA', 'AAAAT', 'TCAAA', 'CAAAT', 'TTAAT', 'CCACT', 'TCAAA', 'CAAAA', 'AAAAT', 'CTACT', 'ATAAT', 'TAAAT', 'TCAAA', 'CAAAT', 'CCACT', 'TTAAT', 'GGAAT', 'TCAAT', 'TCAAA', 'CAAAC', 'CGATT', 'CCAAA', 'CAAAT', 'TTAAT', 'GGAAT', 'ACAAG', 'TCACT', 'CCATG', 'GCAAA', 'CAAAT', 'GCAAT', 'CAATT', 'CCAAT', 'CTATT', 'CCATA', 'TCAAT', 'GCATT', 'TCAAG', 'TTAAT', 'GCAGT', 'CCACC', 'CCAAT', 'CCACG', 'CGAAG', 'CTAGT', 'GTAAT', 'CTAAT', 'TCAAG', 'CAAGT', 'GCAAT', 'CCACT', 'GCAAT', 'CTAGT', 'TCAAT', 'GCAAA', 'CAAAA', 'AAAAT', 'AGAAT', 'TCAAG', 'CCAGA', 'AGAAT', 'ACAAA', 'CAAAA', 'CCAAC', 'ACAAC', 'ACAAC', 'ACAGT', 'ACAAC', 'CCAAA', 'CAAAA', 'AAAAT', 'AGAAT', 'TCATT', 'TCAAA', 'CAAAT', 'TCAAC', 'ACAAT', 'TAAAT', 'ACACT', 'CCAGA', 'CCATA', 'ATAAT', 'GCAAA', 'CAAAT', 'TCAAA', 'CAAAA', 'TTAAT', 'ACAAG', 'GCAAA', 'CAAAA', 'CGAAA', 'CGAAA', 'AAAAT', 'GAAAT', 'GCAAA', 'CAAAA', 'AAAAT', 'GAAAT', 'ACAAT', 'TCATT', 'TCAAC', 'CCATA', 'CGAAA', 'AGAAT', 'GCAAT', 'CCACG', 'CCAGC', 'CCACA', 'ACAGT', 'GGAAT', 'CTATT', 'TCATT', 'ACAGT', 'CCAGA', 'TGAAT', 'ACAAA', 'CAAAT', 'ACAAA', 'CAAAA', 'CCATA', 'ATAAT', 'ACATT', 'CCACA', 'ACAAA', 'CAAAT', 'CTAAG', 'TCAAG', 'TAAAT', 'TGAAT', 'CCATG', 'ACAAC', 'ACAAA', 'CAAAA', 'AAAAT', 'TAAAT', 'CCACA', 'ACAAA', 'CAAAC', 'TCATT', 'ACAGT', 'AAAAT', 'TCATT', 'GAAAT', 'AGAAT', 'AAAAT', 'GCACT', 'AAAAT', 'AAAAT', 'AGAAT', 'TCATT', 'TCAAA', 'CAAAG', 'CTAAT', 'AAAAT', 'ACAAG', 'CTAAG', 'ACAAG', 'AGAAT', 'ATAAT', 'GCAAA', 'CAAAA', 'CCAAT', 'CAATT', 'TGAAT', 'TTAAT', 'GGAAT', 'TCAAA', 'CAAAA', 'GAAAT', 'AAAAT', 'ACAGT', 'CCATG', 'ATAAT', 'CGAAT', 'TCAAA', 'CAAAA', 'GCAAT', 'CGATT', 'ACATT', 'AGAAT', 'ACAAG', 'CAAGT', 'CTATT', 'TCAAT', 'CAATT', 'GCAAA', 'CAAAT', 'ACAAA', 'CAAAT', 'CCACA', 'ACAAG', 'CAAGT', 'ACACT', 'TCAAA', 'CAAAA', 'CTAAA', 'TAAAT', 'CCACT', 'TCAAC', 'CAACT', 'CCAAA', 'CAAAG', 'CGAAG', 'AAAAT', 'TAAAT', 'TCACT', 'ACACT', 'CCACT', 'GCAAC', 'GTAAT', 'TCAAA', 'CAAAG', 'GTAAT', 'CCATG', 'CCAGA', 'TCAGT', 'CCAAA', 'CAAAA', 'GAAAT', 'CCATA', 'CCAAT', 'CAATT', 'CCAGG', 'CCAAG', 'CCACA', 'ACAAC', 'CCATA', 'CCATT', 'CCACC', 'GCACT', 'CTAAA', 'ACAAG', 'CTACT', 'CCAGA', 'TCAAG', 'GGAAT', 'CCAAA', 'CAAAC', 'TCAAG', 'CAAGT', 'CTAAA', 'CTAAG', 'AAAAT', 'CCAAA', 'CAAAC', 'CTAGT', 'TCAAA', 'CAAAC', 'CGACT', 'TGAAT', 'ACATT', 'ACAAG', 'GCATT', 'CTACT', 'CTATT', 'ACAAT', 'TGAAT', 'CTAAA', 'AAAAT', 'GCAAA', 'CAAAA', 'ACAAG', 'GCAAA', 'CAAAA', 'CTAAT', 'CCAAC', 'ACATT', 'CTAAA', 'ACAGT', 'CCAAG', 'CCATA', 'CGATT', 'TGAAT', 'AAAAT', 'CCATA', 'TAAAT', 'TAAAT', 'CGAGT', 'CGAAG', 'ACAAT', 'CCATT', 'GCAAT', 'CCAAC', 'CAACT', 'ACAAA', 'CAAAC', 'ACAAG', 'CAAGT', 'CGAAC', 'ACAAG', 'GCAAA', 'CAAAT', 'GGAAT', 'AAAAT', 'CCAGA', 'ACAGT', 'TCAAA', 'CAAAT', 'CCAAA', 'CAAAG', 'CCAAC', 'ACAAA', 'CAAAT', 'TCAAG', 'CCAAG', 'CGAAA', 'GAAAT', 'CCAAC', 'CAACT', 'CCATT', 'GAAAT', 'CGACT', 'TGAAT', 'CTAAG', 'ACAAT', 'TAAAT', 'TCATT', 'CCATG', 'CCAGA', 'TCAAT', 'CCAGC', 'CTAAC', 'TCAAG', 'CCACG', 'CGAAA', 'TTAAT', 'CCAGA', 'CCATT', 'CCATG', 'CTACT', 'TCAGT', 'CCACC', 'CTACT', 'CGAAT', 'CCATA', 'TCAAC', 'CCAGA', 'CGACT', 'AGAAT', 'CCAAA', 'CAAAG', 'CTAGT', 'CGACT', 'ACAAG', 'AGAAT', 'ACAAC', 'GCAAC', 'ACATT', 'ATAAT', 'AAAAT', 'CCAGC', 'GCAAT', 'ACAAT', 'GCAAA', 'CAAAG', 'TCAAC', 'CAACT', 'CTAAG', 'TTAAT', 'CCATC', 'ACAAA', 'CAAAG', 'CCATG', 'GCAAT', 'ATAAT', 'CCAAA', 'CAAAT', 'ACAAT', 'CAATT', 'CCACT', 'GAAAT', 'AAAAT', 'TCAAA', 'CAAAT', 'TCAAA', 'CAAAA', 'CCAGT', 'ATAAT', 'GCAGT', 'GGAAT', 'ATAAT', 'GTAAT', 'GCAAT', 'TCAAT', 'GGAAT', 'TAAAT', 'ACAAG', 'CAAGT', 'GTAAT', 'TCAAT', 'CCACC', 'CCAAA', 'CAAAG', 'AGAAT', 'CTATT', 'CGACT', 'TTAAT', 'GCAAG', 'AAAAT', 'CCACA', 'GCAAC', 'CTAAC', 'ACAAA', 'CAAAA', 'AAAAT', 'ACAAT', 'GTAAT', 'GCAAA', 'CAAAA', 'AAAAT', 'GCAAT', 'GTAAT', 'CGACT', 'CCAAT', 'CCATT', 'CCATC', 'CTAAT', 'CTAAA', 'TAAAT', 'ATAAT', 'GCAGT', 'TCAAA', 'CAAAA', 'CCAAA', 'CAAAA', 'ACAGT', 'TAAAT', 'GCAAA', 'CAAAT', 'ATAAT', 'TAAAT', 'TCAAA', 'CAAAA', 'TCAGT', 'TTAAT', 'TAAAT', 'TCATT', 'TCATT', 'CGAAG', 'TCAAT', 'ATAAT', 'TCAAA', 'CAAAG', 'TCAAT', 'CAATT', 'CCAAA', 'CAAAA', 'AAAAT', 'TCAAA', 'CAAAT', 'TAAAT', 'AAAAT', 'GCAAA', 'CAAAA', 'AAAAT', 'ACAAT', 'CAATT', 'ACAGT', 'CCAAT', 'CAATT', 'CCAGT', 'CTAAC', 'ACAAC', 'AAAAT', 'CTACT', 'ACATT', 'GTAAT', 'TCAAT', 'CAATT', 'ATAAT', 'CCATC', 'TTAAT', 'GCATT', 'CTAAC', 'ACACT', 'AAAAT', 'CCATT', 'TCAAA', 'CAAAA', 'TTAAT', 'TCAAT', 'CAATT', 'CTAGT', 'CCAAT', 'ATAAT', 'ATAAT', 'TCAAG', 'GCAAC', 'CCAAT', 'ATAAT', 'TCATT', 'CCATT', 'TCATT', 'CTAAA', 'TTAAT', 'CTAAC', 'ACATT', 'ACATT', 'CTAAA', 'TAAAT', 'TCATT', 'TCAAA', 'CAAAG', 'CTATT', 'TCAGT', 'TAAAT', 'TCAAT', 'CAATT', 'CGAAA', 'GAAAT', 'CCAAT', 'CAATT', 'TCATT', 'TCAGT', 'TCAGT', 'CCAGA', 'CGAAG', 'GCAGT', 'TCAAG', 'CAAGT', 'CTAAA', 'TAAAT', 'CTATT', 'CCATC', 'CGAAA', 'AGAAT', 'TCAAC', 'CAACT', 'GCATT', 'TCAAA', 'CAAAA', 'AAAAT', 'CCAAA', 'CAAAC', 'CCAAG', 'ACAGT', 'TCAAT', 'TCAAA', 'CAAAT', 'CTAAT', 'GCATT', 'TCAAA', 'CAAAA', 'CTAAT', 'AGAAT', 'TCATT', 'TCAAC', 'CAACT', 'ATAAT', 'TCAGT', 'GAAAT', 'ATAAT', 'CGAAA', 'AAAAT', 'TCAAA', 'CAAAT', 'TCATT', 'ACAAT', 'CAATT', 'ACAGT', 'CCAAA', 'CAAAT', 'ACAAA', 'CAAAT', 'TCATT', 'CGAGT', 'ACATT', 'TCAGT', 'CGAAA', 'TTAAT', 'TCAAA', 'CAAAT', 'TGAAT', 'CCATT', 'TTAAT', 'GTAAT', 'CCAGG', 'GCAAT', 'TAAAT', 'ATAAT', 'TCAAA', 'CAAAT', 'CCACT', 'CTACT', 'ACATT', 'GCATT', 'ATAAT', 'TTAAT', 'CCATA', 'CCAAT', 'GAAAT', 'GCAAA', 'CAAAT', 'TTAAT', 'CCAAT', 'GTAAT', 'CCAAT', 'GCACT', 'TCAGT', 'CTAAT', 'AAAAT', 'GGAAT', 'CCACC', 'CCAAA', 'CAAAT', 'TCAAT', 'CAATT', 'ACAAT', 'TCACT', 'GCAAT', 'TCAAA', 'CAAAA', 'CTATT', 'ACAAA', 'CAAAA', 'CCATT', 'TGAAT', 'TAAAT', 'GAAAT', 'ACATT', 'TCAAT', 'CAATT', 'AGAAT', 'TCAAT', 'CAATT', 'CCAAC', 'ACAAG', 'CAAGT', 'ATAAT', 'ACAAA', 'CAAAA', 'AAAAT', 'TGAAT', 'GCAAA', 'CAAAC', 'ACAAA', 'CAAAT', 'TAAAT', 'ATAAT', 'CCAGT', 'GTAAT', 'ATAAT', 'CCATT', 'TGAAT', 'CTAAT', 'TCAAG', 'ACAAT', 'CTAAA', 'AGAAT', 'TCAAA', 'CAAAG', 'CTATT', 'AGAAT', 'TCAAT', 'CAATT', 'TCAAA', 'CAAAA', 'CTAAG', 'GAAAT', 'GCATT', 'ACAAC', 'AGAAT', 'TCAAG', 'CAAGT', 'TCAAA', 'CAAAA', 'CCATT', 'TCAAT', 'CTAAT', 'TAAAT', 'CTATT', 'AGAAT', 'TGAAT', 'CCAAG', 'CAAGT', 'TCACT', 'CTAAA', 'GGAAT', 'CCATG', 'CGAGT', 'CCAAG', 'ACAGT', 'CCATC', 'ATAAT', 'CGACT', 'GAAAT', 'GCAAT', 'TCAAA', 'CAAAT', 'TCAAT', 'ACAGT', 'GAAAT', 'CCAAA', 'CAAAT', 'CCACT', 'CCAAT', 'GAAAT', 'CCAGC', 'CCAAC', 'CAACT', 'TCAAC', 'CAACT', 'CTAAA', 'TAAAT', 'GAAAT', 'ATAAT', 'GCAAA', 'CAAAA', 'ACAAT', 'AGAAT', 'CTAGT', 'ACAAT', 'CAATT', 'CCAAC', 'CAACT', 'TCAAT', 'CAATT', 'ATAAT', 'ATAAT', 'CCATC', 'ACAAA', 'CAAAA', 'ACAAC', 'CAACT', 'CTATT', 'CCAGA', 'AAAAT', 'TCAAT', 'TGAAT', 'GAAAT', 'TCAGT', 'CTATT', 'ACAAT', 'CCAAT', 'CTAAT', 'AAAAT', 'TCAAC', 'CCAGA', 'AGAAT', 'CTAAA', 'CCACA', 'ACAAT', 'GCAGT', 'ACACT', 'AGAAT', 'CGAAG', 'GTAAT', 'CCATT', 'CCAAG', 'CTATT', 'GCAAA', 'CAAAG', 'TAAAT', 'TTAAT', 'CCATC', 'TCACT', 'CTATT', 'CCATT', 'ACACT', 'CTATT', 'CTATT', 'TCAGT', 'CCAGG', 'CCAGG', 'CTAAC', 'TCAAG', 'CTAAA', 'TAAAT', 'AGAAT', 'TGAAT', 'GTAAT', 'CTAAA', 'GCAGT', 'ACAAT', 'TGAAT', 'CCATG', 'CCAAC', 'CCAAG', 'GGAAT', 'CGAAA', 'CTAAC', 'CGAAC', 'ACAAT', 'AAAAT', 'TGAAT', 'ACAAC', 'TCAAA', 'CAAAT', 'GAAAT', 'TCAAG', 'TCAAG', 'CTATT', 'TCATT', 'CTAAT', 'TTAAT', 'TGAAT', 'TGAAT', 'ATAAT', 'AAAAT', 'CCAAG', 'TCAAC', 'ACAAA', 'CAAAT', 'AGAAT', 'TCAAA', 'CAAAA', 'AAAAT', 'TCAAA', 'CAAAT', 'ATAAT', 'ACAAA', 'CAAAA', 'TGAAT', 'TGAAT', 'CTAGT', 'ACATT', 'TCAGT', 'ACAAT', 'CAATT', 'CCAGG', 'CTAAT', 'CCAAT', 'CCATT', 'CTAAT', 'GGAAT', 'CTAAT', 'AAAAT', 'GAAAT', 'CTAAG', 'AGAAT', 'GCAAT', 'GGAAT', 'ACAAA', 'CAAAT', 'TTAAT', 'GCAAT', 'CAATT', 'CCAAA', 'CAAAA', 'CCAAT', 'TAAAT', 'ATAAT', 'TCAAC', 'CGAAT', 'CTAAT', 'TCAAA', 'CAAAT', 'CCAGT', 'TGAAT', 'GCATT', 'ACATT', 'TAAAT', 'CCAAT', 'TAAAT', 'GCATT', 'AGAAT', 'TCAAG', 'CCATC', 'CCAAA', 'CAAAG', 'GGAAT', 'CCATA', 'CTAAC', 'ACAAA', 'CAAAG', 'CCAGG', 'CGAAC', 'ACAAG', 'CCATC', 'CGAAA', 'ATAAT', 'CTAAA', 'AAAAT', 'ACAAT', 'CAATT', 'ACAGT', 'ACAAA', 'CAAAT', 'CCAAA', 'CAAAG', 'GTAAT', 'CCATG', 'ACATT', 'ACATT', 'TCATT', 'TAAAT', 'TAAAT', 'TCATT', 'TCATT', 'GCATT', 'TCATT', 'TGAAT', 'TTAAT', 'TCATT', 'ACATT', 'CTAAA', 'TAAAT', 'TCATT', 'TCAAA', 'CAAAG', 'CTATT', 'TCATT', 'TCATT', 'TCATT', 'CTAGT', 'TGAAT', 'CCATA', 'TCAAA', 'CAAAA', 'AAAAT', 'CGAGT', 'TTAAT', 'ACAAA', 'CAAAA', 'AAAAT', 'ACAAC', 'ACAAT', 'AAAAT', 'GTAAT', 'TCAAT', 'CAATT', 'AGAAT', 'CCAAG', 'GAAAT', 'ATAAT', 'GCAAA', 'CAAAT', 'CTACT', 'CTAAC', 'AAAAT', 'TCAGT', 'CCAGG', 'GCAAT', 'CAATT', 'CGAAA', 'GAAAT', 'CCATC', 'CTAAA', 'TAAAT', 'TCAAT', 'AAAAT', 'CCATT', 'CCAGC', 'ACACT', 'GCACT', 'CGAAC', 'ACAAA', 'CAAAA', 'GCAAA', 'CAAAT', 'TTAAT', 'ATAAT', 'GTAAT', 'AAAAT', 'CGACT', 'GTAAT', 'GTAAT', 'GCAAA', 'CAAAG', 'ATAAT', 'GCAAG', 'GTAAT', 'GCAAT', 'CAATT', 'TCATT', 'CTAAC', 'CCAAT', 'GCAAT', 'CCAAT', 'ATAAT', 'GCAAA', 'CAAAT', 'CGAAA', 'ACAAT', 'CCATA', 'TCAAG', 'GCAAG', 'GCACT', 'CCAAT', 'CAATT', 'GCAAT', 'CAATT', 'ACAGT', 'TCACT', 'TCATT', 'AAAAT', 'GTAAT', 'TCAAC', 'ACAAT', 'ACAAG', 'ACAAA', 'CAAAG', 'CTATT', 'CCAGA', 'ACAAT', 'TCATT', 'GAAAT', 'CTATT', 'GCATT', 'ACATT', 'CCACT', 'CCAAT', 'CAATT', 'CGATT', 'TCAAA', 'CAAAT', 'ATAAT', 'GCATT', 'TCAAA', 'CAAAG', 'ATAAT', 'CTATT', 'CCACC', 'CCATC', 'ACAAA', 'CAAAG', 'GTAAT', 'CCACA', 'ACACT', 'CCAAA', 'CAAAC', 'CTAGT', 'CCACA', 'ACAAC', 'CCACC', 'CCAAC', 'CAACT', 'TTAAT', 'TCAAA', 'CAAAA', 'AAAAT', 'CCACA', 'ACATT', 'TCAAT', 'ATAAT', 'ACAAC', 'ACAAA', 'CAAAA', 'AGAAT', 'ACAGT', 'CCATT', 'TGAAT', 'TTAAT', 'CTAAA', 'TAAAT', 'GCATT', 'TCATT', 'CTAAT', 'AAAAT', 'TTAAT', 'TCAAC', 'ACACT', 'CCATT', 'CGAAG', 'TGAAT', 'ACAAT', 'CAATT', 'CTAAA', 'GAAAT', 'GCAAA', 'CAAAA', 'ACAGT', 'TCAAA', 'CAAAC', 'CCAAA', 'CAAAT', 'CGATT', 'CTAAA', 'ACAGT', 'CCACA', 'GCAGT', 'GCAAA', 'CAAAA', 'AAAAT', 'TAAAT', 'ATAAT', 'ACAAA', 'CAAAT', 'TCAAT', 'ACAGT', 'CCATT', 'CCATC', 'CTAAG', 'TCAAC', 'ACAAT', 'TTAAT', 'CCACG', 'CGAAG', 'ACACT', 'GCAAA', 'CAAAC', 'ACAAT', 'CAATT', 'CTATT', 'CCAAA', 'CAAAT', 'TGAAT', 'TGAAT', 'TTAAT', 'ACAGT', 'TTAAT', 'TTAAT', 'ACACT', 'ACACT', 'CTACT', 'CGAAA', 'AAAAT', 'CTATT', 'ACATT', 'ACATT', 'GAAAT', 'ACATT', 'CTAAA', 'AAAAT', 'GCAAA', 'CAAAG', 'ACAAG', 'AAAAT', 'ACAAG', 'CTAAC', 'CCAGA', 'GCATT', 'GAAAT', 'ACAAG', 'CCATT', 'AAAAT', 'TCAAC', 'ACAAA', 'CAAAA', 'ACAAG', 'CCACG', 'CGAAA', 'CCACA', 'ACAAA', 'CAAAT', 'ACAAA', 'CAAAA', 'AAAAT', 'TTAAT', 'CTAAC', 'ACAGT', 'GTAAT', 'TCACT', 'CCATT', 'CTAAT', 'ATAAT', 'TCAAT', 'ATAAT', 'CCATT', 'TCAAG', 'TGAAT', 'ACAGT', 'TCAAA', 'CAAAG', 'CTAAT', 'CCAAT', 'CAATT', 'CCATT', 'TTAAT', 'TCAAA', 'CAAAA', 'AAAAT', 'CTAAA', 'ACAAT', 'ATAAT', 'TTAAT', 'ATAAT', 'CTAAG', 'TCACT', 'CTATT', 'GAAAT', 'CCAAT', 'CAATT', 'TCATT', 'TCAAT', 'CAATT', 'ACAAC', 'CAACT', 'CCACC', 'GCAAT', 'CCATA', 'CGAAC', 'CCAAC', 'CAACT', 'ATAAT', 'ACAAC', 'ACAAT', 'CCATG', 'ACAAA', 'CAAAG', 'CGAAA', 'GCAAG', 'CAAGT', 'TCAAT', 'CAATT', 'TCAGT', 'TCAAG', 'CAAGT', 'TGAAT', 'GTAAT', 'ATAAT', 'CCACC', 'CGAAA', 'TCAAA', 'CAAAG', 'ACAAA', 'CAAAG', 'CCAAA', 'CAAAT', 'CCAAG', 'TCAAG', 'CAAGT', 'CCAAG', 'ACAAG', 'CCAAG', 'CCAAC', 'CAACT', 'CCACC', 'CCAGA', 'ACAAA', 'CAAAC', 'CTAAT', 'ATAAT', 'GTAAT', 'CCAGC', 'CTATT', 'TGAAT', 'CCATT', 'CTATT', 'CTATT', 'TAAAT', 'TCAAT', 'CAATT', 'CCAAT', 'CCAAG', 'CAAGT', 'TTAAT', 'ACACT', 'ACAAA', 'CAAAC', 'CTAAC', 'ACATT', 'ATAAT', 'TTAAT', 'TAAAT', 'ACAAA', 'CAAAA', 'CCATT', 'ACAAG', 'GCAAA', 'CAAAT', 'AAAAT', 'CTAAC', 'AAAAT', 'TCAAT', 'CCAAA', 'CAAAA', 'GCAAA', 'CAAAT', 'TCAAG', 'CCAGC', 'GCAAA', 'CAAAG', 'ACAAA', 'CAAAA', 'AAAAT', 'GTAAT']\n"
     ]
    }
   ],
   "source": [
    "#On récupère les occurrences du motif CCAAT\n",
    "motifs = motif_occur_sorted[\"CCAAT\"][0]\n",
    "print ( motifs )"
   ]
  },
  {
   "cell_type": "code",
   "execution_count": 43,
   "metadata": {},
   "outputs": [
    {
     "name": "stdout",
     "output_type": "stream",
     "text": [
      "[[ 878. 1038. 4420. 3433. 1128.]\n",
      " [3182. 3421.  374.  545.  558.]\n",
      " [ 529.  341.  198.  564.  633.]\n",
      " [ 839.  628.  436.  886. 3109.]]\n"
     ]
    }
   ],
   "source": [
    "#On créé à présent le profil du motif\n",
    "\n",
    "k = 5\n",
    "\n",
    "def profile2(motifs, k, t):\n",
    "    q = len(nuc)\n",
    "    PWM = np.ones((q, k))#pseudo count\n",
    "    \n",
    "    for i in range ( k ):\n",
    "        for motif in motifs:\n",
    "            if motif [ i ].upper() == 'A':\n",
    "                PWM [ 0 ] [ i ] += 1\n",
    "            if motif [ i ].upper() == 'C':\n",
    "                PWM [ 1 ] [ i ] += 1\n",
    "            if motif [ i ].upper() == 'G':\n",
    "                PWM [ 2 ] [ i ] += 1\n",
    "            if motif [ i ].upper() == 'T':\n",
    "                PWM [ 3 ] [ i ] += 1\n",
    "                \n",
    "    return PWM\n",
    "\n",
    "p = profile2 ( motifs, k, len ( motifs ) )\n",
    "print ( p )"
   ]
  },
  {
   "cell_type": "code",
   "execution_count": 54,
   "metadata": {},
   "outputs": [],
   "source": [
    "def extract_indexes ( sequence, PWM, f_0, k ):\n",
    "    res = []\n",
    "    trouve = 0\n",
    "    for i in range ( len ( sequence ) - k ):\n",
    "        if trouve != 0:\n",
    "            trouve -= 1\n",
    "            continue\n",
    "        seq = sequence [ i : i + k ]\n",
    "        log=loglikehood(seq,PWM,f_0)\n",
    "        if log > 0:\n",
    "            res.append ( ( i, seq,log) )\n",
    "            trouve = k\n",
    "    return res\n",
    "\n",
    "def extract_indexes_sequences ( sequences, PWM, f_0, k ):\n",
    "    res = dict()\n",
    "    cpt = 1\n",
    "    for sequence in sequences:\n",
    "        cle = \"Sequence n° \" + str ( cpt )\n",
    "        res [ cle ] = extract_indexes ( sequence, PWM, f_0, k)\n",
    "        cpt += 1\n",
    "    return res"
   ]
  },
  {
   "cell_type": "code",
   "execution_count": 58,
   "metadata": {},
   "outputs": [
    {
     "name": "stdout",
     "output_type": "stream",
     "text": [
      "{'Sequence n° 1': [(3, 'CCCTG', 0.02196657927787865), (17, 'GCTGG', 0.46123321195109623), (32, 'GCAAG', 2.3862546833997564), (38, 'GTATT', 0.9142429654806326), (45, 'TGATG', 0.135036325945108), (57, 'ATAAT', 0.5954580357600141), (69, 'CCTTT', 1.1201297581716898), (87, 'CCTCT', 0.3277390548128407), (96, 'GTATG', 0.2788507514036933), (113, 'CCTCT', 0.3277390548128407), (124, 'GGAGT', 1.7594015265334555), (133, 'CGAAA', 0.9003024827923322), (141, 'TTATT', 0.42429850925992996), (149, 'ACAGA', 0.10951796444344897), (157, 'TCATA', 0.17591962689217755), (165, 'TCATA', 0.17591962689217755), (176, 'CCACG', 1.3798071232357483), (200, 'ACAAT', 1.9662722485165585), (208, 'GCCAG', 0.23602343608303727), (221, 'CCGCT', 0.5073500977627908), (230, 'CCGGT', 1.7987693314123456), (237, 'AGAAG', 0.30619585244519226), (246, 'CCTAT', 1.8567194774112088), (273, 'CCGGT', 1.7987693314123456), (280, 'CCGAC', 0.019011102639911126), (294, 'ACAGG', 1.0933188454908063), (305, 'CCAAT', 3.5441797599110556), (314, 'TTAGG', 0.2879348254736964), (330, 'CCAGT', 3.3066185709622427), (339, 'CCAAA', 1.924986664786759), (346, 'CTAAA', 0.5541724520302148), (366, 'CTCAT', 0.02313429983779247), (372, 'TCTAT', 0.8442421587561459), (386, 'CCGAA', 0.41713742523686215), (393, 'TCTAG', 0.20884994467920664), (401, 'CTTAT', 0.4859052646546644), (408, 'CGTAT', 0.8320352954167818), (417, 'ACAAG', 1.3308800344396192), (429, 'CCAGT', 3.3066185709622427), (438, 'TCTGT', 0.6066809698073329), (449, 'CCCTT', 0.657358793354818), (462, 'TGAAT', 1.507018259261566), (470, 'TCTAT', 0.8442421587561459), (477, 'TCATG', 1.159720507939535), (486, 'CCAAT', 3.5441797599110556), (499, 'ACAAG', 1.3308800344396192), (510, 'CAACT', 0.5309051405974061), (517, 'TCAAG', 1.8963102271790535), (532, 'ACTAT', 0.27881196601671154), (538, 'GCAAC', 1.004327479755448), (544, 'CAATG', 0.687903629879316), (550, 'CCACG', 1.3798071232357483), (571, 'GCGAT', 1.5137976579267987), (577, 'CTGAG', 0.030124093527675255), (584, 'CATAT', 0.37242528069592706), (600, 'CCAAT', 3.5441797599110556), (614, 'CTCAT', 0.02313429983779247), (622, 'CCAGG', 2.6712263568853034), (628, 'ACAAA', 0.34707915339226203), (643, 'CTCAT', 0.02313429983779247), (649, 'GTATT', 0.9142429654806326), (655, 'GCTTT', 0.5975968957373297), (667, 'CTCAT', 0.02313429983779247), (677, 'ACATG', 0.5942903152001004), (691, 'ACAAT', 1.9662722485165585), (705, 'CTCAT', 0.02313429983779247), (712, 'AAAAT', 0.4819780518012769), (720, 'CTAAT', 2.1733655471545115), (728, 'ACAGA', 0.10951796444344897), (738, 'CCGAA', 0.41713742523686215), (744, 'CCTGG', 0.9837660743854564), (753, 'GCAAA', 1.4024538023523991), (761, 'CCTTG', 0.4847375440947506), (775, 'CGTAT', 0.8320352954167818), (784, 'GCAGA', 1.1648926134035862), (791, 'GTAAT', 1.6508326847201513), (799, 'CTTGT', 0.24834407570585137), (809, 'GCACT', 1.4926664748783276), (816, 'GTAAT', 1.6508326847201513), (822, 'ACACT', 0.4372918259181906), (828, 'CATAT', 0.37242528069592706), (835, 'CCAAC', 1.526860342189808), (842, 'GAACT', 0.008372278163045976), (851, 'TTAAG', 0.5254960144225094), (858, 'ACAAA', 0.34707915339226203), (866, 'GAAAT', 1.537352700761414), (875, 'GCTGT', 1.0966254260280355), (885, 'GCTGT', 1.0966254260280355), (893, 'ACAGG', 1.0933188454908063), (899, 'CTACT', 0.6443851245561435), (905, 'GCAAC', 1.004327479755448), (911, 'GGACT', 0.4679822928839007), (917, 'CGAAC', 0.5021761601953811), (923, 'TCAGA', 0.6749481571828834), (931, 'CCCAG', 0.7585562985173975), (942, 'GCCTT', 0.1348259309204577), (949, 'CCAAG', 2.9087875458341164), (964, 'CCAAC', 1.526860342189808), (975, 'GCAAA', 1.4024538023523991), (981, 'GCCAT', 0.8714156501599766)], 'Sequence n° 2': [(7, 'ACAAT', 1.9662722485165585), (14, 'CTAAG', 1.5379733330775722), (22, 'AGAGG', 0.06863466349637926), (37, 'ACTAT', 0.27881196601671154), (48, 'ACAAA', 0.34707915339226203), (56, 'ACTAT', 0.27881196601671154), (63, 'CGAAT', 2.519495577916629), (74, 'GCTTT', 0.5975968957373297), (93, 'CCAAA', 1.924986664786759), (100, 'AAAAT', 0.4819780518012769), (112, 'CTCAT', 0.02313429983779247), (118, 'GGTAT', 0.3095024329824215), (125, 'CTTAT', 0.4859052646546644), (131, 'CGATA', 0.1637127635528134), (143, 'CCTGT', 1.6191582884623956), (150, 'TCAGT', 2.29414125230718), (156, 'TCTGT', 0.6066809698073329), (163, 'GCTGT', 1.0966254260280355), (176, 'GAAAT', 1.537352700761414), (184, 'CTCAT', 0.02313429983779247), (196, 'CCATG', 2.1721978265945974), (202, 'TCAGA', 0.6749481571828834), (210, 'TTAGT', 0.9233270395506357), (216, 'CCTAG', 1.2213272633342696), (222, 'CAATG', 0.687903629879316), (231, 'ACAGA', 0.10951796444344897), (238, 'CTACG', 0.008992910479204252), (252, 'AAAGT', 0.2444168628524639), (258, 'CGACG', 0.3551229412413216), (265, 'CCGAT', 2.0363305203611586), (274, 'TGAAT', 1.507018259261566), (285, 'ACAGA', 0.10951796444344897), (298, 'CCAGG', 2.6712263568853034), (307, 'GCGGT', 1.2762364689779857), (315, 'TCATT', 1.7951127220164742), (323, 'TCGGT', 0.786292012757283), (331, 'GTAGG', 0.7778792816943991), (337, 'CCACT', 2.0151993373126875), (347, 'GCAAA', 1.4024538023523991), (354, 'TCAGG', 1.6587490382302406), (360, 'ACAAG', 1.3308800344396192), (366, 'GAGAT', 0.029503461211516924), (375, 'CTGAT', 0.6655163076046144), (383, 'GTAAT', 1.6508326847201513), (392, 'CCAAA', 1.924986664786759), (402, 'TGAAG', 0.8716260451846268), (408, 'TGAGG', 0.6340648562358138), (415, 'CGGAG', 0.37625412428979255), (421, 'TTAAT', 1.1608882284994486), (427, 'CCGAA', 0.41713742523686215), (436, 'CCCTT', 0.657358793354818), (449, 'CTTGT', 0.24834407570585137), (455, 'TCTGT', 0.6066809698073329), (462, 'CCTTG', 0.4847375440947506), (469, 'GTATT', 0.9142429654806326), (482, 'TCAGC', 0.27682183458593235), (490, 'TCAGC', 0.27682183458593235), (498, 'TCAGC', 0.27682183458593235), (504, 'GCTGG', 0.46123321195109623), (510, 'CCAGT', 3.3066185709622427), (516, 'GTAAG', 1.015440470643212), (523, 'TTAAT', 1.1608882284994486), (531, 'GCAAA', 1.4024538023523991), (539, 'TCAAA', 0.9125093461316963), (553, 'GGAAG', 1.3615705014053292), (564, 'GGAAG', 1.3615705014053292), (575, 'GGAAT', 1.9969627154822684), (581, 'CGGAT', 1.0116463383667318), (593, 'CCACT', 2.0151993373126875), (606, 'ACATT', 1.2296825292770397), (616, 'TCGTT', 0.2872634824665773), (628, 'GCCTT', 0.1348259309204577), (637, 'TCTTT', 0.10765243951662706), (644, 'GCATT', 2.2850571782371767), (667, 'GCAAG', 2.3862546833997564), (673, 'ACAGA', 0.10951796444344897), (681, 'CTAGA', 0.31661126308140186), (687, 'ACAAT', 1.9662722485165585), (697, 'GCACG', 0.8572742608013885), (704, 'TGAGG', 0.6340648562358138), (714, 'CCGGG', 1.1633771173354064), (720, 'CAACT', 0.5309051405974061), (730, 'CCAAA', 1.924986664786759), (736, 'ACATT', 1.2296825292770397), (743, 'ACATT', 1.2296825292770397), (753, 'ACAGT', 1.7287110595677455), (764, 'ACAAG', 1.3308800344396192), (773, 'GGAAG', 1.3615705014053292), (779, 'ACAAA', 0.34707915339226203), (786, 'AAAAT', 0.4819780518012769), (795, 'GCAAA', 1.4024538023523991), (802, 'AGATT', 0.2049983472826128), (817, 'CTCAT', 0.02313429983779247), (825, 'GGAAA', 0.377769620357972), (834, 'ACAGG', 1.0933188454908063), (840, 'GCAAT', 3.0216468974766957), (849, 'TGAGT', 1.269457070312753), (860, 'CCACA', 0.3960062421883911), (866, 'TCAGA', 0.6749481571828834), (874, 'GAAAG', 0.9019604866844747), (888, 'AGAAG', 0.30619585244519226), (895, 'GCTGT', 1.0966254260280355), (901, 'CAATG', 0.687903629879316), (911, 'ACAGA', 0.10951796444344897), (920, 'TGAAG', 0.8716260451846268), (928, 'CCGAA', 0.41713742523686215), (938, 'CCTAA', 0.23752638228691214), (948, 'ACGAT', 0.45842300896666155), (960, 'TTATT', 0.42429850925992996), (971, 'CCGTT', 1.29974080112164), (980, 'GGAGA', 0.14020843140915906), (986, 'CCGAG', 1.4009383062842193), (995, 'GGAGA', 0.14020843140915906), (1004, 'TCAAG', 1.8963102271790535), (1010, 'AAAAT', 0.4819780518012769), (1018, 'TCAAA', 0.9125093461316963), (1026, 'CGTTT', 0.0954455761772629), (1032, 'CTGAG', 0.030124093527675255), (1041, 'GCCAG', 0.23602343608303727)], 'Sequence n° 3': [(0, 'TAAAT', 1.0474082445407114), (15, 'CCAAA', 1.924986664786759), (22, 'TCAGG', 1.6587490382302406), (32, 'CTAAG', 1.5379733330775722), (40, 'ACACT', 0.4372918259181906), (50, 'ACAGA', 0.10951796444344897), (60, 'GCAAT', 3.0216468974766957), (73, 'CCCTG', 0.02196657927787865), (79, 'GCTGT', 1.0966254260280355), (85, 'GCATG', 1.6496649641602374), (96, 'GGGAT', 0.4891134759323717), (105, 'GCACT', 1.4926664748783276), (111, 'CAAGT', 1.822324374246961), (120, 'TCGGG', 0.15089979868034376), (131, 'GAAAG', 0.9019604866844747), (139, 'CTAAG', 1.5379733330775722), (149, 'GCGTG', 0.1418157246103406), (155, 'GCCAT', 0.8714156501599766), (162, 'GCCAG', 0.23602343608303727), (168, 'ACATG', 0.5942903152001004), (177, 'GCACT', 1.4926664748783276), (186, 'ACAAT', 1.9662722485165585), (193, 'GCGGG', 0.6408442549010464), (199, 'ACAAG', 1.3308800344396192), (205, 'ACAGG', 1.0933188454908063), (233, 'TCAAA', 0.9125093461316963), (240, 'GAAAG', 0.9019604866844747), (248, 'CGAAT', 2.519495577916629), (257, 'GGAAG', 1.3615705014053292), (266, 'CGAGG', 1.6465421748908766), (275, 'CGTGT', 0.5944741064679687), (291, 'GCTGT', 1.0966254260280355), (301, 'GTATG', 0.2788507514036933), (309, 'GCATA', 0.6658640831128803), (316, 'GAGAT', 0.029503461211516924), (325, 'ACAGT', 1.7287110595677455), (332, 'CTAAT', 2.1733655471545115)], 'Sequence n° 4': [(0, 'CCAAG', 2.9087875458341164), (8, 'CTAAG', 1.5379733330775722), (16, 'CTGAG', 0.030124093527675255), (27, 'CGACT', 0.9905151553182608), (33, 'TGATG', 0.135036325945108), (45, 'CCTGT', 1.6191582884623956), (58, 'TCCAT', 0.38147119393927376), (65, 'CCTCT', 0.3277390548128407), (74, 'TCAAG', 1.8963102271790535), (80, 'GCAAC', 1.004327479755448), (89, 'CCTCT', 0.3277390548128407), (104, 'TCAAG', 1.8963102271790535), (111, 'CGAAG', 1.8841033638396896), (119, 'GTACT', 0.12185226212178335), (131, 'CCGGT', 1.7987693314123456), (145, 'ACAGA', 0.10951796444344897), (155, 'TCAAG', 1.8963102271790535), (168, 'CCACA', 0.3960062421883911), (179, 'CTAAT', 2.1733655471545115), (187, 'ACATT', 1.2296825292770397), (195, 'GCTGG', 0.46123321195109623)], 'Sequence n° 5': [(4, 'GCCAG', 0.23602343608303727), (10, 'GCCAG', 0.23602343608303727), (17, 'CCAAT', 3.5441797599110556), (23, 'CCAGT', 3.3066185709622427), (29, 'CCAAT', 3.5441797599110556), (35, 'CAAGG', 1.1869321601700218), (41, 'TCAGC', 0.27682183458593235), (50, 'CCATT', 2.8075900406715366), (63, 'AGAAT', 0.9415880665221315), (72, 'TTATT', 0.42429850925992996), (92, 'GCAAG', 2.3862546833997564), (98, 'AGAAG', 0.30619585244519226), (105, 'GCAGG', 2.1486934944509435), (117, 'CGAGA', 0.6627412938435192), (125, 'CCGAG', 1.4009383062842193), (136, 'CCTGG', 0.9837660743854564), (144, 'GCAAA', 1.4024538023523991), (159, 'CCAGG', 2.6712263568853034), (169, 'TCATA', 0.17591962689217755), (177, 'CGGGG', 0.13869293534097954), (188, 'CCTTG', 0.4847375440947506), (200, 'CGCAT', 0.3692643305999096), (207, 'GCAAA', 1.4024538023523991), (213, 'CAAGT', 1.822324374246961), (219, 'CAGAT', 0.5520363236458772), (226, 'ACAGG', 1.0933188454908063), (239, 'GAACT', 0.008372278163045976), (245, 'CGATG', 1.1475136446001706), (253, 'CCGTT', 1.29974080112164), (259, 'ATAAT', 0.5954580357600141), (270, 'GCAGG', 2.1486934944509435), (288, 'GCAGC', 0.766766290806635), (294, 'CTATG', 0.8013836138380535)], 'Sequence n° 6': [(3, 'CCAGT', 3.3066185709622427), (12, 'CAACT', 0.5309051405974061), (19, 'CCTAT', 1.8567194774112088), (28, 'CTAAA', 0.5541724520302148), (38, 'CCAGG', 2.6712263568853034), (44, 'CCATC', 0.7902706229502892), (50, 'AGAAG', 0.30619585244519226), (64, 'TCCAT', 0.38147119393927376), (80, 'ACACT', 0.4372918259181906), (89, 'CCAAG', 2.9087875458341164), (97, 'GGTGT', 0.07194124403360858), (105, 'CCTGT', 1.6191582884623956), (115, 'GGTGT', 0.07194124403360858), (123, 'CCACA', 0.3960062421883911), (129, 'TAAAT', 1.0474082445407114), (135, 'CCAAG', 2.9087875458341164), (143, 'CCTTG', 0.4847375440947506)], 'Sequence n° 7': [(3, 'TCACT', 1.0027220186576251), (9, 'CCCAT', 1.3939485125943367), (17, 'GGAGA', 0.14020843140915906), (24, 'TCATT', 1.7951127220164742), (33, 'CCCTT', 0.657358793354818), (43, 'GCTAT', 1.3341866149768484), (50, 'AGAGG', 0.06863466349637926), (57, 'AAAAT', 0.4819780518012769), (67, 'ACAGA', 0.10951796444344897), (79, 'GCAGG', 2.1486934944509435), (86, 'GGAAG', 1.3615705014053292), (94, 'GGAAG', 1.3615705014053292), (109, 'GCGGG', 0.6408442549010464), (118, 'CCGGA', 0.1795762362880492), (125, 'ACAAA', 0.34707915339226203), (132, 'AGAGG', 0.06863466349637926), (138, 'ACAAA', 0.34707915339226203), (144, 'TCAAT', 2.5317024412559928), (151, 'TCACG', 0.36732980458068576), (157, 'GCCAG', 0.23602343608303727), (169, 'TCAAT', 2.5317024412559928), (176, 'TCAAT', 2.5317024412559928), (187, 'TCACG', 0.36732980458068576), (194, 'GGTGT', 0.07194124403360858), (201, 'TCGGT', 0.786292012757283), (211, 'TCTTT', 0.10765243951662706), (220, 'TCTTT', 0.10765243951662706), (226, 'TGAGT', 1.269457070312753), (236, 'CGTAT', 0.8320352954167818), (247, 'CCATA', 1.18839694554724), (253, 'GCATG', 1.6496649641602374), (263, 'TCAAC', 0.5143830235347453), (270, 'CGTGT', 0.5944741064679687), (283, 'GTGAT', 0.1429834451702544), (293, 'GCAAT', 3.0216468974766957), (300, 'CTAAA', 0.5541724520302148), (315, 'TCGGT', 0.786292012757283), (322, 'GCTAT', 1.3341866149768484), (331, 'CCAGA', 1.687425475837946), (341, 'GCACT', 1.4926664748783276), (349, 'ACTGT', 0.04125077706789859), (361, 'TCGAG', 0.38846098762915676), (367, 'AGATT', 0.2049983472826128), (373, 'CAAAG', 1.4244933491188347), (385, 'CTAAC', 0.1560461294332638), (399, 'AAAAT', 0.4819780518012769), (414, 'AGAGG', 0.06863466349637926), (426, 'CCTGG', 0.9837660743854564), (432, 'ATAGT', 0.35789684681120115), (441, 'GCAAA', 1.4024538023523991), (451, 'AGAAT', 0.9415880665221315), (457, 'TTATT', 0.42429850925992996), (465, 'CCACT', 2.0151993373126875), (476, 'ACAAT', 1.9662722485165585), (482, 'CGTAT', 0.8320352954167818), (488, 'GGTAT', 0.3095024329824215), (507, 'CATAT', 0.37242528069592706), (518, 'TCGTT', 0.2872634824665773), (532, 'GTAAT', 1.6508326847201513), (539, 'TGAAT', 1.507018259261566), (547, 'CCACA', 0.3960062421883911), (580, 'CCCAT', 1.3939485125943367), (594, 'CCGAA', 0.41713742523686215), (601, 'ACAAA', 0.34707915339226203), (608, 'GCTGG', 0.46123321195109623), (615, 'CTGAG', 0.030124093527675255), (626, 'GCAAA', 1.4024538023523991), (636, 'AGAAG', 0.30619585244519226), (645, 'ACAGA', 0.10951796444344897)], 'Sequence n° 8': [(1, 'TCATT', 1.7951127220164742), (18, 'GTAGT', 1.4132714957713384), (24, 'GTAAA', 0.03163958959585478), (32, 'TCATT', 1.7951127220164742), (39, 'TCATG', 1.159720507939535), (51, 'CATAT', 0.37242528069592706), (66, 'CCATT', 2.8075900406715366), (78, 'TTATT', 0.42429850925992996), (88, 'TCATA', 0.17591962689217755), (102, 'CTAAA', 0.5541724520302148), (113, 'CCATT', 2.8075900406715366), (119, 'TCATA', 0.17591962689217755), (126, 'GGTAT', 0.3095024329824215), (132, 'CTTGT', 0.24834407570585137), (142, 'ATAGT', 0.35789684681120115), (152, 'ATAGT', 0.35789684681120115), (159, 'ACAAA', 0.34707915339226203), (165, 'ACATT', 1.2296825292770397), (176, 'TCTAT', 0.8442421587561459), (182, 'CAAAG', 1.4244933491188347), (191, 'AGATT', 0.2049983472826128)], 'Sequence n° 9': [(5, 'TCAAA', 0.9125093461316963), (20, 'GAAAT', 1.537352700761414), (32, 'TCCGT', 0.1439100049904608), (41, 'CTAAC', 0.1560461294332638), (49, 'CCCAG', 0.7585562985173975), (61, 'TCAAT', 2.5317024412559928), (67, 'GCCAG', 0.23602343608303727), (81, 'TTAGG', 0.2879348254736964), (88, 'ATAGT', 0.35789684681120115), (101, 'CCGGT', 1.7987693314123456), (109, 'GGAAT', 1.9969627154822684), (116, 'GCAGT', 2.7840857085278827), (122, 'CGAAT', 2.519495577916629), (132, 'AGAGG', 0.06863466349637926), (146, 'GGGGT', 0.2515522869835587), (155, 'GCTAG', 0.6987944008999092), (163, 'CCTAA', 0.23752638228691214), (170, 'CTAGT', 1.9358043582056985), (178, 'GTAAA', 0.03163958959585478), (184, 'CAAGT', 1.822324374246961), (197, 'ACAAA', 0.34707915339226203), (209, 'CCGAA', 0.41713742523686215), (218, 'TCTGT', 0.6066809698073329), (226, 'TTATT', 0.42429850925992996), (233, 'GTAAT', 1.6508326847201513), (243, 'CCAAA', 1.924986664786759), (249, 'ACAAA', 0.34707915339226203), (260, 'CCCTT', 0.657358793354818), (266, 'CTAAG', 1.5379733330775722), (273, 'GCATA', 0.6658640831128803), (281, 'GCATT', 2.2850571782371767), (287, 'TAATT', 0.3108185253011927), (293, 'GCAAA', 1.4024538023523991), (303, 'CCAAA', 1.924986664786759), (309, 'GGAAA', 0.377769620357972), (327, 'GTAAA', 0.03163958959585478), (335, 'GCAAA', 1.4024538023523991), (342, 'CGTAT', 0.8320352954167818), (349, 'GCAAA', 1.4024538023523991), (356, 'CTAAT', 2.1733655471545115), (366, 'CATAT', 0.37242528069592706), (374, 'CTCAT', 0.02313429983779247), (380, 'GCATC', 0.26773776051592924), (389, 'GCATT', 2.2850571782371767), (396, 'GGTGT', 0.07194124403360858), (404, 'CGCGT', 0.13170314165109664), (416, 'TCAAT', 2.5317024412559928), (428, 'CCAGT', 3.3066185709622427), (436, 'CCACT', 2.0151993373126875), (449, 'ACAAA', 0.34707915339226203), (458, 'AGAAG', 0.30619585244519226), (464, 'AAAAT', 0.4819780518012769), (470, 'GTAAA', 0.03163958959585478), (479, 'TAAAG', 0.41201603046377216), (486, 'TAAAT', 1.0474082445407114), (494, 'CCTGT', 1.6191582884623956), (501, 'TCTGT', 0.6066809698073329), (507, 'GCATA', 0.6658640831128803), (520, 'CAACT', 0.5309051405974061), (527, 'CCCTT', 0.657358793354818), (537, 'ACAGA', 0.10951796444344897), (545, 'TCAAC', 0.5143830235347453)], 'Sequence n° 10': [(0, 'CAAGA', 0.2031312791226645), (6, 'CCAAC', 1.526860342189808), (19, 'CTGAG', 0.030124093527675255), (30, 'ACATT', 1.2296825292770397), (36, 'TTATT', 0.42429850925992996), (42, 'CAATT', 1.3232958439562552), (54, 'TCAAA', 0.9125093461316963), (67, 'TCGTT', 0.2872634824665773), (80, 'ACATT', 1.2296825292770397), (96, 'TTAGT', 0.9233270395506357), (102, 'TTAAT', 1.1608882284994486), (109, 'CCAAA', 1.924986664786759), (115, 'ACAGT', 1.7287110595677455), (128, 'CTAAC', 0.1560461294332638), (138, 'TTAAG', 0.5254960144225094), (144, 'GCATC', 0.26773776051592924), (152, 'CTTAT', 0.4859052646546644), (158, 'GTATT', 0.9142429654806326), (164, 'GTATT', 0.9142429654806326), (178, 'GCAGT', 2.7840857085278827), (186, 'GTATT', 0.9142429654806326), (199, 'ACAGA', 0.10951796444344897), (208, 'TGAAG', 0.8716260451846268), (217, 'TCATG', 1.159720507939535), (230, 'TCAAA', 0.9125093461316963), (238, 'GAGAT', 0.029503461211516924), (244, 'CTTGT', 0.24834407570585137), (260, 'GCAAA', 1.4024538023523991), (270, 'ACATT', 1.2296825292770397), (276, 'CTAGT', 1.9358043582056985), (285, 'TTAAT', 1.1608882284994486)], 'Sequence n° 11': [(1, 'GAAAG', 0.9019604866844747), (7, 'AAAGT', 0.2444168628524639), (22, 'GCACT', 1.4926664748783276), (29, 'CTGAG', 0.030124093527675255), (40, 'TAAAT', 1.0474082445407114), (48, 'GGAAA', 0.377769620357972), (55, 'CTTAT', 0.4859052646546644), (63, 'CCAAA', 1.924986664786759), (70, 'GGAAA', 0.377769620357972), (78, 'ACATG', 0.5942903152001004), (102, 'CCCAT', 1.3939485125943367), (110, 'TCTTT', 0.10765243951662706), (120, 'CCTGT', 1.6191582884623956), (131, 'GCTGG', 0.46123321195109623), (139, 'ACAGA', 0.10951796444344897), (148, 'CCGTG', 0.6643485870447008), (154, 'GCTAT', 1.3341866149768484), (163, 'GCTAT', 1.3341866149768484), (172, 'TCGAG', 0.38846098762915676), (181, 'GCAGA', 1.1648926134035862), (192, 'TCTAT', 0.8442421587561459), (200, 'CCTAA', 0.23752638228691214), (208, 'GGAAG', 1.3615705014053292), (219, 'AGAGG', 0.06863466349637926), (225, 'CAAAA', 0.44069246807147755), (234, 'TTAGG', 0.2879348254736964), (241, 'CTACG', 0.008992910479204252), (252, 'TCTGT', 0.6066809698073329), (259, 'AGAAT', 0.9415880665221315), (267, 'GCAAA', 1.4024538023523991), (277, 'AAAAT', 0.4819780518012769), (285, 'GGAAG', 1.3615705014053292), (294, 'TCGAG', 0.38846098762915676), (301, 'ACAGT', 1.7287110595677455), (311, 'GCAGA', 1.1648926134035862), (318, 'CCAAA', 1.924986664786759), (327, 'CTGAG', 0.030124093527675255), (336, 'CCAAG', 2.9087875458341164), (347, 'GGACT', 0.4679822928839007), (358, 'ACAGT', 1.7287110595677455), (364, 'TCAGT', 2.29414125230718), (371, 'TCGAT', 1.023853201706096), (379, 'GCATG', 1.6496649641602374), (395, 'CTAAT', 2.1733655471545115)], 'Sequence n° 12': [(4, 'TAAAT', 1.0474082445407114), (22, 'GCAAC', 1.004327479755448), (34, 'ACTAT', 0.27881196601671154), (45, 'TCTTT', 0.10765243951662706), (51, 'GTACT', 0.12185226212178335), (62, 'ACATT', 1.2296825292770397), (72, 'CCCTT', 0.657358793354818), (80, 'TCCAT', 0.38147119393927376), (86, 'CCCTT', 0.657358793354818), (98, 'AAAAT', 0.4819780518012769), (105, 'GAAAT', 1.537352700761414), (112, 'AAAAT', 0.4819780518012769), (123, 'GCATT', 2.2850571782371767), (130, 'ATAAT', 0.5954580357600141), (136, 'GAAAT', 1.537352700761414), (142, 'GTAGG', 0.7778792816943991)], 'Sequence n° 13': [(4, 'ACAAA', 0.34707915339226203), (14, 'CGTAT', 0.8320352954167818), (20, 'CCAAA', 1.924986664786759), (26, 'ACAGG', 1.0933188454908063), (32, 'CAAGT', 1.822324374246961), (38, 'TCAAC', 0.5143830235347453), (44, 'CGAGA', 0.6627412938435192), (55, 'TGAAG', 0.8716260451846268), (61, 'TGAAG', 0.8716260451846268), (67, 'GCCTT', 0.1348259309204577), (73, 'TGATT', 0.7704285400220472), (89, 'CCTAG', 1.2213272633342696), (100, 'TCATA', 0.17591962689217755), (107, 'GGAAG', 1.3615705014053292), (115, 'GCGGG', 0.6408442549010464), (122, 'ACAGA', 0.10951796444344897), (129, 'ACAAT', 1.9662722485165585), (136, 'TCAAG', 1.8963102271790535), (143, 'CTTGT', 0.24834407570585137), (152, 'ACGAT', 0.45842300896666155), (164, 'GCAGA', 1.1648926134035862), (170, 'CGAGG', 1.6465421748908766), (178, 'GCAAG', 2.3862546833997564), (186, 'GTAAA', 0.03163958959585478), (192, 'TCCGT', 0.1439100049904608), (198, 'GCAAC', 1.004327479755448), (211, 'TCAAG', 1.8963102271790535), (235, 'CGAAG', 1.8841033638396896), (248, 'GCAGG', 2.1486934944509435), (259, 'CCACA', 0.3960062421883911), (265, 'CGAAG', 1.8841033638396896), (271, 'CCACA', 0.3960062421883911), (277, 'CGAAA', 0.9003024827923322), (283, 'CCAGA', 1.687425475837946), (291, 'GCAGC', 0.766766290806635), (301, 'CGGAG', 0.37625412428979255), (307, 'CAACT', 0.5309051405974061), (313, 'CCACA', 0.3960062421883911), (323, 'CGCAT', 0.3692643305999096), (334, 'CGAAT', 2.519495577916629), (344, 'CATAT', 0.37242528069592706), (351, 'GAAAG', 0.9019604866844747), (371, 'GCAAA', 1.4024538023523991), (386, 'ACAAG', 1.3308800344396192), (394, 'GCACG', 0.8572742608013885), (401, 'CCAGA', 1.687425475837946), (407, 'CAAAT', 2.059885563195774), (413, 'GCAGA', 1.1648926134035862), (426, 'GCAGG', 2.1486934944509435), (432, 'GCAAC', 1.004327479755448), (438, 'GCAGA', 1.1648926134035862), (458, 'TCTTT', 0.10765243951662706), (464, 'CCAAA', 1.924986664786759), (474, 'ATAAT', 0.5954580357600141), (480, 'ACAAG', 1.3308800344396192), (498, 'ACAGA', 0.10951796444344897), (505, 'AGAAG', 0.30619585244519226), (517, 'GCTTT', 0.5975968957373297), (526, 'CGCGT', 0.13170314165109664), (536, 'ACACT', 0.4372918259181906), (546, 'CCACG', 1.3798071232357483), (553, 'CGGAG', 0.37625412428979255), (560, 'GCCTT', 0.1348259309204577), (568, 'CCATC', 0.7902706229502892), (575, 'TCCGT', 0.1439100049904608), (588, 'CCCTG', 0.02196657927787865), (594, 'CCCTG', 0.02196657927787865), (605, 'CCCTT', 0.657358793354818), (611, 'CCCTT', 0.657358793354818), (621, 'CTCAT', 0.02313429983779247), (630, 'CGACT', 0.9905151553182608), (642, 'CCACT', 2.0151993373126875), (651, 'TCACT', 1.0027220186576251), (657, 'AGAAG', 0.30619585244519226), (668, 'GCAGC', 0.766766290806635), (680, 'ACAAA', 0.34707915339226203), (688, 'ACAAT', 1.9662722485165585), (696, 'ATAAT', 0.5954580357600141), (703, 'CTCAT', 0.02313429983779247), (712, 'GCACT', 1.4926664748783276), (720, 'CGAGC', 0.2646149712465682), (729, 'GCTGT', 1.0966254260280355), (735, 'GAAAG', 0.9019604866844747), (742, 'CTGAG', 0.030124093527675255), (751, 'CGCAT', 0.3692643305999096), (762, 'AGAAT', 0.9415880665221315), (776, 'CTACG', 0.008992910479204252), (794, 'CCATG', 2.1721978265945974), (803, 'GGAGG', 1.1240093124565163), (811, 'GCTTT', 0.5975968957373297), (821, 'TCGAG', 0.38846098762915676), (827, 'CTAGA', 0.31661126308140186), (833, 'GCAAG', 2.3862546833997564), (841, 'AGATT', 0.2049983472826128), (847, 'GCAGT', 2.7840857085278827), (857, 'TCGAG', 0.38846098762915676), (868, 'GCAAC', 1.004327479755448), (877, 'GCAAC', 1.004327479755448), (886, 'CTAAG', 1.5379733330775722), (894, 'ACAAA', 0.34707915339226203), (900, 'GAAAG', 0.9019604866844747), (906, 'ACAGA', 0.10951796444344897), (913, 'GCAGA', 1.1648926134035862), (924, 'GCATT', 2.2850571782371767), (933, 'ACAAT', 1.9662722485165585), (945, 'GCCAG', 0.23602343608303727), (960, 'ACAAA', 0.34707915339226203), (970, 'CTCAT', 0.02313429983779247), (979, 'TCGAG', 0.38846098762915676), (988, 'GGATG', 0.6249807821658107), (996, 'GGAAG', 1.3615705014053292), (1005, 'GGAAT', 1.9969627154822684), (1012, 'ATAAT', 0.5954580357600141), (1019, 'TGAAT', 1.507018259261566), (1029, 'AGAAT', 0.9415880665221315), (1040, 'TCAAG', 1.8963102271790535), (1048, 'ACATT', 1.2296825292770397), (1055, 'CCTGG', 0.9837660743854564), (1070, 'ACAGG', 1.0933188454908063), (1077, 'CCTCT', 0.3277390548128407), (1086, 'GCTGT', 1.0966254260280355), (1097, 'AAAAT', 0.4819780518012769), (1112, 'CCGAG', 1.4009383062842193), (1121, 'CTCAT', 0.02313429983779247), (1131, 'TAAGT', 0.8098470555918984), (1141, 'GTATT', 0.9142429654806326), (1149, 'GAGAT', 0.029503461211516924), (1157, 'TCAAA', 0.9125093461316963), (1188, 'CCACA', 0.3960062421883911), (1194, 'AAAGT', 0.2444168628524639), (1207, 'CCAAC', 1.526860342189808), (1220, 'CCACT', 2.0151993373126875), (1228, 'GCAGA', 1.1648926134035862), (1235, 'AGAAT', 0.9415880665221315), (1243, 'AAAAT', 0.4819780518012769)], 'Sequence n° 14': [(3, 'TCTAG', 0.20884994467920664), (16, 'TCAGG', 1.6587490382302406), (24, 'ACAGA', 0.10951796444344897), (33, 'GCATG', 1.6496649641602374), (52, 'TCTTT', 0.10765243951662706), (64, 'TCAGA', 0.6749481571828834), (77, 'CTTAT', 0.4859052646546644), (84, 'TCGTT', 0.2872634824665773), (94, 'GGTGT', 0.07194124403360858), (101, 'ATAAT', 0.5954580357600141), (110, 'GCAAT', 3.0216468974766957), (120, 'TCACT', 1.0027220186576251), (128, 'GAAAG', 0.9019604866844747), (134, 'TAAAG', 0.41201603046377216), (142, 'ACAAA', 0.34707915339226203), (149, 'TGAAT', 1.507018259261566), (158, 'CTTAT', 0.4859052646546644), (168, 'CTACT', 0.6443851245561435), (178, 'GCGTG', 0.1418157246103406), (185, 'CTACT', 0.6443851245561435), (193, 'TAAAT', 1.0474082445407114), (202, 'TCAGT', 2.29414125230718), (227, 'GGAGA', 0.14020843140915906), (233, 'ACAGT', 1.7287110595677455), (239, 'CCCTT', 0.657358793354818), (251, 'CCCGT', 1.1563873236455238), (258, 'TCAAT', 2.5317024412559928), (267, 'ACAAA', 0.34707915339226203), (274, 'CCCTT', 0.657358793354818), (283, 'CTAAC', 0.1560461294332638), (289, 'GTGAT', 0.1429834451702544), (296, 'GCAAA', 1.4024538023523991), (303, 'AGATT', 0.2049983472826128), (313, 'CGAAA', 0.9003024827923322), (319, 'GCCAG', 0.23602343608303727), (326, 'ACTAT', 0.27881196601671154), (335, 'AGAAG', 0.30619585244519226), (344, 'GCTAG', 0.6987944008999092), (355, 'TCAAG', 1.8963102271790535), (367, 'ACAAA', 0.34707915339226203), (375, 'CCTAT', 1.8567194774112088), (381, 'TCACG', 0.36732980458068576), (387, 'GTAGT', 1.4132714957713384)], 'Sequence n° 15': [(0, 'GCAAA', 1.4024538023523991), (8, 'TCAAA', 0.9125093461316963), (14, 'TCTAT', 0.8442421587561459), (22, 'ACAGT', 1.7287110595677455), (32, 'ACATG', 0.5942903152001004), (38, 'ACAAT', 1.9662722485165585), (46, 'TCAGC', 0.27682183458593235), (63, 'TCAGT', 2.29414125230718), (70, 'TCTTT', 0.10765243951662706), (77, 'TCAAG', 1.8963102271790535), (87, 'TCATT', 1.7951127220164742), (93, 'ACTAT', 0.27881196601671154), (102, 'CCACA', 0.3960062421883911), (109, 'GGGAT', 0.4891134759323717), (115, 'TCATA', 0.17591962689217755), (127, 'CAACT', 0.5309051405974061), (135, 'GAAAT', 1.537352700761414), (143, 'TCTGT', 0.6066809698073329), (155, 'TCAAC', 0.5143830235347453), (161, 'GGAGT', 1.7594015265334555), (167, 'CAACT', 0.5309051405974061), (174, 'TCAAT', 2.5317024412559928), (183, 'TCAAA', 0.9125093461316963), (193, 'ACAAT', 1.9662722485165585), (201, 'GCACG', 0.8572742608013885), (208, 'GGACT', 0.4679822928839007), (217, 'ACAAA', 0.34707915339226203), (226, 'CTGAG', 0.030124093527675255), (238, 'ACAGT', 1.7287110595677455), (248, 'ACAGT', 1.7287110595677455), (255, 'CCTTT', 1.1201297581716898), (263, 'AAAAT', 0.4819780518012769), (269, 'TCTAT', 0.8442421587561459), (287, 'GGATT', 1.26037299624275), (293, 'CTATG', 0.8013836138380535), (302, 'TCAGT', 2.29414125230718), (314, 'CGTAT', 0.8320352954167818), (322, 'CTAAG', 1.5379733330775722), (329, 'ATAGT', 0.35789684681120115), (337, 'ACAGA', 0.10951796444344897), (346, 'TCGAT', 1.023853201706096), (353, 'TAAAG', 0.41201603046377216), (359, 'ACAAA', 0.34707915339226203), (365, 'ACAGA', 0.10951796444344897), (373, 'TTAAT', 1.1608882284994486), (383, 'CTAAT', 2.1733655471545115), (393, 'TCAAA', 0.9125093461316963), (399, 'CAATT', 1.3232958439562552), (406, 'GCCGT', 0.6338544612111635), (416, 'CCCTT', 0.657358793354818), (424, 'TCATT', 1.7951127220164742), (430, 'GTAAT', 1.6508326847201513), (438, 'TGATG', 0.135036325945108), (444, 'CAATG', 0.687903629879316), (453, 'TGAAT', 1.507018259261566), (464, 'TTATT', 0.42429850925992996), (480, 'ACAAT', 1.9662722485165585), (487, 'ACTAT', 0.27881196601671154), (494, 'ACTAT', 0.27881196601671154)], 'Sequence n° 16': [(5, 'ACAAA', 0.34707915339226203), (14, 'CCCTG', 0.02196657927787865), (20, 'CAAAC', 0.04256614547452653), (29, 'GCACG', 0.8572742608013885), (43, 'ACAGA', 0.10951796444344897), (60, 'CCATC', 0.7902706229502892), (70, 'GAAAT', 1.537352700761414), (76, 'CCTCT', 0.3277390548128407), (83, 'CCAAT', 3.5441797599110556), (90, 'ACAAA', 0.34707915339226203), (96, 'CCTAA', 0.23752638228691214), (107, 'CGAAC', 0.5021761601953811), (118, 'CCTAA', 0.23752638228691214), (129, 'TCAAT', 2.5317024412559928), (135, 'CCAAA', 1.924986664786759), (144, 'ACAAA', 0.34707915339226203), (157, 'CGGAG', 0.37625412428979255), (165, 'ACTGT', 0.04125077706789859), (177, 'GCGAG', 0.8784054438498593), (186, 'CTTGT', 0.24834407570585137), (192, 'ACAAG', 1.3308800344396192), (199, 'GCTGT', 1.0966254260280355), (207, 'TCATA', 0.17591962689217755), (213, 'TCTGT', 0.6066809698073329), (223, 'TCCGT', 0.1439100049904608), (235, 'ACACT', 0.4372918259181906), (245, 'ACACT', 0.4372918259181906), (255, 'ACACT', 0.4372918259181906), (265, 'ACACT', 0.4372918259181906), (275, 'ACAGT', 1.7287110595677455), (284, 'CAACT', 0.5309051405974061), (293, 'TCGAT', 1.023853201706096)], 'Sequence n° 17': [(0, 'GCAGA', 1.1648926134035862), (9, 'CCCTG', 0.02196657927787865), (22, 'AAAAT', 0.4819780518012769), (37, 'AGAGT', 0.7040268775733185), (47, 'GCTAG', 0.6987944008999092), (54, 'TCACT', 1.0027220186576251), (64, 'GCCTT', 0.1348259309204577), (78, 'TCAGA', 0.6749481571828834), (84, 'GCCAG', 0.23602343608303727), (92, 'GGAAT', 1.9969627154822684), (104, 'TCAGT', 2.29414125230718), (114, 'CCTAT', 1.8567194774112088), (127, 'GCATT', 2.2850571782371767), (137, 'ACAAA', 0.34707915339226203), (145, 'GGAGT', 1.7594015265334555), (154, 'GGTGT', 0.07194124403360858), (160, 'GTAAT', 1.6508326847201513), (166, 'TCTGT', 0.6066809698073329), (182, 'GAAAT', 1.537352700761414), (190, 'CGCAT', 0.3692643305999096), (197, 'CCTAG', 1.2213272633342696), (205, 'GCTGG', 0.46123321195109623), (212, 'CTAAA', 0.5541724520302148), (221, 'TAAAT', 1.0474082445407114), (229, 'CCAAC', 1.526860342189808), (236, 'GCATA', 0.6658640831128803)], 'Sequence n° 18': [(10, 'CCCAG', 0.7585562985173975), (17, 'GCCGT', 0.6338544612111635), (24, 'TCGGG', 0.15089979868034376), (34, 'CCCAG', 0.7585562985173975), (42, 'AGAGT', 0.7040268775733185), (58, 'GCGAT', 1.5137976579267987), (65, 'TCTGT', 0.6066809698073329), (76, 'CCCTT', 0.657358793354818), (83, 'CGTAT', 0.8320352954167818), (102, 'CCCTT', 0.657358793354818), (110, 'TCAAC', 0.5143830235347453), (117, 'ACAAA', 0.34707915339226203), (128, 'TCAGA', 0.6749481571828834), (134, 'AAAAT', 0.4819780518012769), (142, 'GCAGG', 2.1486934944509435), (149, 'ACAGT', 1.7287110595677455), (158, 'ACAAA', 0.34707915339226203), (164, 'CCATC', 0.7902706229502892), (170, 'GAAAT', 1.537352700761414), (179, 'GCACT', 1.4926664748783276), (191, 'ACAAA', 0.34707915339226203)], 'Sequence n° 19': [(9, 'GCACT', 1.4926664748783276), (15, 'CCCTG', 0.02196657927787865), (29, 'TCGTT', 0.2872634824665773), (39, 'ACAGG', 1.0933188454908063), (49, 'GCCAG', 0.23602343608303727), (56, 'TCGTT', 0.2872634824665773), (62, 'CCGGT', 1.7987693314123456), (68, 'GTAGT', 1.4132714957713384), (77, 'CCATC', 0.7902706229502892), (95, 'GCATC', 0.26773776051592924), (114, 'CCCTG', 0.02196657927787865), (120, 'CGGGT', 0.7740851494179188), (132, 'CCTTG', 0.4847375440947506), (138, 'CGAGC', 0.2646149712465682), (144, 'CGAAG', 1.8841033638396896), (150, 'CCCGG', 0.5209951095685844), (157, 'GGACT', 0.4679822928839007), (166, 'CCACT', 2.0151993373126875), (174, 'TGAGG', 0.6340648562358138), (182, 'TCTAT', 0.8442421587561459), (188, 'CAGGT', 0.3144751346970641), (194, 'TCTAT', 0.8442421587561459), (213, 'CCAGC', 1.289299153240995), (229, 'CCGGG', 1.1633771173354064), (243, 'GCGGG', 0.6408442549010464), (252, 'CGTAT', 0.8320352954167818), (258, 'TCGAG', 0.38846098762915676), (264, 'GCATC', 0.26773776051592924), (270, 'GTGAT', 0.1429834451702544), (276, 'TGAGG', 0.6340648562358138), (287, 'TCTAG', 0.20884994467920664), (305, 'GCGAT', 1.5137976579267987), (316, 'GCAAG', 2.3862546833997564), (328, 'GTAGT', 1.4132714957713384), (334, 'GTATG', 0.2788507514036933), (346, 'CGGAG', 0.37625412428979255), (358, 'GCACT', 1.4926664748783276), (374, 'GCAGG', 2.1486934944509435), (383, 'GCAGG', 2.1486934944509435), (393, 'TGAGG', 0.6340648562358138), (399, 'TGAGT', 1.269457070312753), (410, 'CTACT', 0.6443851245561435), (417, 'AGAGG', 0.06863466349637926), (424, 'AAAAT', 0.4819780518012769), (433, 'TCAAA', 0.9125093461316963), (445, 'GCAAA', 1.4024538023523991), (456, 'CCTCT', 0.3277390548128407), (463, 'GCAGG', 2.1486934944509435), (475, 'GCGGG', 0.6408442549010464), (483, 'GCAAC', 1.004327479755448), (495, 'CCTGG', 0.9837660743854564), (506, 'AGAGT', 0.7040268775733185), (517, 'GGGAT', 0.4891134759323717), (531, 'GCAGT', 2.7840857085278827), (541, 'TCGTT', 0.2872634824665773), (547, 'CTAAA', 0.5541724520302148), (559, 'GTACT', 0.12185226212178335), (570, 'AGAAT', 0.9415880665221315), (583, 'TCTTT', 0.10765243951662706), (598, 'TCAAA', 0.9125093461316963), (611, 'CTGAG', 0.030124093527675255), (620, 'ACAGT', 1.7287110595677455), (626, 'GCACT', 1.4926664748783276), (632, 'GCACT', 1.4926664748783276), (638, 'GCGGT', 1.2762364689779857), (644, 'GCACT', 1.4926664748783276)], 'Sequence n° 20': [(2, 'TCATT', 1.7951127220164742), (8, 'TGAGT', 1.269457070312753), (14, 'GAAAG', 0.9019604866844747), (20, 'CCCTG', 0.02196657927787865), (26, 'CGTGT', 0.5944741064679687), (36, 'CTACT', 0.6443851245561435), (51, 'CCCAT', 1.3939485125943367), (65, 'CGTTT', 0.0954455761772629), (81, 'CCCGT', 1.1563873236455238), (88, 'TTATT', 0.42429850925992996), (99, 'CCAAA', 1.924986664786759), (105, 'GCATA', 0.6658640831128803), (115, 'CCTCT', 0.3277390548128407), (122, 'CCACT', 2.0151993373126875), (133, 'GCCGT', 0.6338544612111635), (144, 'TCATT', 1.7951127220164742), (150, 'CAAAA', 0.44069246807147755), (160, 'TCAAT', 2.5317024412559928), (168, 'TTAAT', 1.1608882284994486), (174, 'GAATG', 0.16537076744495588), (183, 'TAAAT', 1.0474082445407114), (191, 'GCAAA', 1.4024538023523991)], 'Sequence n° 21': [(1, 'GTAGT', 1.4132714957713384), (13, 'CCACA', 0.3960062421883911), (24, 'TCAAC', 0.5143830235347453), (34, 'CTAAA', 0.5541724520302148), (43, 'GCTGT', 1.0966254260280355), (51, 'CGGAG', 0.37625412428979255), (65, 'TAAAG', 0.41201603046377216), (73, 'TGAAG', 0.8716260451846268), (80, 'TAAAT', 1.0474082445407114), (86, 'CTTAT', 0.4859052646546644), (95, 'TCAAT', 2.5317024412559928), (102, 'TCTTT', 0.10765243951662706), (113, 'CCAAA', 1.924986664786759), (127, 'GTAAT', 1.6508326847201513), (133, 'CTTAT', 0.4859052646546644), (141, 'GTAAT', 1.6508326847201513), (150, 'TCAAC', 0.5143830235347453), (156, 'AAAAT', 0.4819780518012769), (165, 'CCAAA', 1.924986664786759), (173, 'GTATG', 0.2788507514036933), (180, 'CGAAT', 2.519495577916629), (189, 'TTATT', 0.42429850925992996), (198, 'GGATT', 1.26037299624275), (210, 'CGAAG', 1.8841033638396896), (216, 'CGATA', 0.1637127635528134), (222, 'TCAAT', 2.5317024412559928), (230, 'CCGAA', 0.41713742523686215), (239, 'CCTGT', 1.6191582884623956), (246, 'GAAAT', 1.537352700761414), (255, 'TCATT', 1.7951127220164742), (266, 'GCTTT', 0.5975968957373297), (272, 'CCCTT', 0.657358793354818), (280, 'ACAGT', 1.7287110595677455), (289, 'CCTTT', 1.1201297581716898), (296, 'TCAAG', 1.8963102271790535), (304, 'GGAAA', 0.377769620357972), (311, 'ACTAT', 0.27881196601671154), (317, 'CAATG', 0.687903629879316), (323, 'CCAAC', 1.526860342189808), (332, 'CGGAT', 1.0116463383667318), (339, 'TTAGT', 0.9233270395506357), (346, 'CAACT', 0.5309051405974061), (358, 'GCATT', 2.2850571782371767), (365, 'CTGAT', 0.6655163076046144), (372, 'CTAAT', 2.1733655471545115), (381, 'CTTGT', 0.24834407570585137), (388, 'TGAAT', 1.507018259261566), (395, 'TCTTT', 0.10765243951662706), (407, 'CGACT', 0.9905151553182608), (415, 'AGAGT', 0.7040268775733185), (429, 'GAAAT', 1.537352700761414), (435, 'GTAAA', 0.03163958959585478), (442, 'TCAAC', 0.5143830235347453), (450, 'GCTAT', 1.3341866149768484), (456, 'TAAAT', 1.0474082445407114), (462, 'CCATC', 0.7902706229502892), (468, 'GAAAT', 1.537352700761414), (475, 'GCAAT', 3.0216468974766957), (481, 'TCTTT', 0.10765243951662706), (487, 'CAATT', 1.3232958439562552), (496, 'GCGTT', 0.7772079386872799), (503, 'AAAAT', 0.4819780518012769), (511, 'CTCAT', 0.02313429983779247), (521, 'TTATT', 0.42429850925992996), (528, 'CTTAT', 0.4859052646546644), (540, 'TCTTT', 0.10765243951662706), (547, 'TCTAT', 0.8442421587561459), (558, 'CTAAA', 0.5541724520302148), (564, 'TCAAG', 1.8963102271790535), (574, 'TCGAT', 1.023853201706096), (580, 'CCTAA', 0.23752638228691214), (590, 'TTATT', 0.42429850925992996), (604, 'TCAAG', 1.8963102271790535), (610, 'ACTAT', 0.27881196601671154), (619, 'TCCAT', 0.38147119393927376), (626, 'TCGAT', 1.023853201706096), (639, 'GCAAG', 2.3862546833997564), (645, 'TCTGT', 0.6066809698073329), (653, 'ACATT', 1.2296825292770397), (664, 'GGAAA', 0.377769620357972), (674, 'CCTAA', 0.23752638228691214), (680, 'AAAGT', 0.2444168628524639), (695, 'GCAGT', 2.7840857085278827), (702, 'TCTTT', 0.10765243951662706), (709, 'CGTGT', 0.5944741064679687), (718, 'AGAAT', 0.9415880665221315), (727, 'GGAAG', 1.3615705014053292), (741, 'TCGTT', 0.2872634824665773), (747, 'CCATT', 2.8075900406715366), (758, 'TCTTT', 0.10765243951662706), (765, 'TGAAG', 0.8716260451846268), (773, 'GCAAT', 3.0216468974766957), (783, 'CCAAA', 1.924986664786759), (793, 'TAAAT', 1.0474082445407114), (804, 'GCAAA', 1.4024538023523991), (813, 'GTAAG', 1.015440470643212), (825, 'GGATT', 1.26037299624275), (836, 'GCACT', 1.4926664748783276), (846, 'TCTTT', 0.10765243951662706), (852, 'TCTGT', 0.6066809698073329), (860, 'GTGAT', 0.1429834451702544), (869, 'GCTGG', 0.46123321195109623), (876, 'TCATT', 1.7951127220164742), (886, 'CTACT', 0.6443851245561435), (893, 'TCTTT', 0.10765243951662706), (901, 'GAAAG', 0.9019604866844747), (909, 'TCTTT', 0.10765243951662706), (920, 'ACAGA', 0.10951796444344897), (934, 'GGAAG', 1.3615705014053292), (945, 'TCTGT', 0.6066809698073329)], 'Sequence n° 22': [(4, 'TCATA', 0.17591962689217755), (15, 'ACATT', 1.2296825292770397), (23, 'ACATT', 1.2296825292770397), (32, 'TTATT', 0.42429850925992996), (44, 'TCTGT', 0.6066809698073329), (51, 'CCTTT', 1.1201297581716898), (63, 'TAAAT', 1.0474082445407114), (72, 'TCGTT', 0.2872634824665773), (81, 'TTAGT', 0.9233270395506357), (87, 'GCAAA', 1.4024538023523991), (93, 'TCAGA', 0.6749481571828834), (99, 'TTAAT', 1.1608882284994486), (105, 'CAAAT', 2.059885563195774), (111, 'CTAAA', 0.5541724520302148), (123, 'TGATT', 0.7704285400220472), (129, 'GCATA', 0.6658640831128803), (141, 'GTGAT', 0.1429834451702544), (150, 'TTAGT', 0.9233270395506357), (156, 'TCGGG', 0.15089979868034376), (166, 'TCCAT', 0.38147119393927376), (174, 'CTCAT', 0.02313429983779247), (181, 'ACACT', 0.4372918259181906), (194, 'TCAAG', 1.8963102271790535), (205, 'TCATG', 1.159720507939535), (211, 'CAAGG', 1.1869321601700218), (217, 'GCATT', 2.2850571782371767), (226, 'CCCTG', 0.02196657927787865), (235, 'CCTTT', 1.1201297581716898), (241, 'TCAAT', 2.5317024412559928), (255, 'CCAGC', 1.289299153240995), (261, 'CAATG', 0.687903629879316), (268, 'TCGTT', 0.2872634824665773), (276, 'CTCAT', 0.02313429983779247), (282, 'AGAAG', 0.30619585244519226), (288, 'AAAAT', 0.4819780518012769), (295, 'GCAAA', 1.4024538023523991), (303, 'ATAAT', 0.5954580357600141), (311, 'GCAGT', 2.7840857085278827), (319, 'AGATT', 0.2049983472826128), (325, 'AGAAG', 0.30619585244519226), (334, 'AAAGT', 0.2444168628524639), (340, 'CCGGA', 0.1795762362880492), (350, 'AGAGT', 0.7040268775733185), (356, 'CTTAT', 0.4859052646546644), (365, 'TCACT', 1.0027220186576251), (372, 'GCAGG', 2.1486934944509435), (385, 'ACAGA', 0.10951796444344897), (394, 'ATAAT', 0.5954580357600141), (400, 'GCAAC', 1.004327479755448), (409, 'CCGAG', 1.4009383062842193), (417, 'TTAAG', 0.5254960144225094), (423, 'CGAAA', 0.9003024827923322), (433, 'GAAAT', 1.537352700761414), (456, 'GCAGG', 2.1486934944509435), (463, 'CGAAT', 2.519495577916629), (471, 'GCAGT', 2.7840857085278827), (478, 'TCGTT', 0.2872634824665773), (502, 'TCTAT', 0.8442421587561459), (511, 'TTATT', 0.42429850925992996), (529, 'CCATT', 2.8075900406715366), (537, 'GCATG', 1.6496649641602374), (550, 'CCGAA', 0.41713742523686215), (556, 'TCAAT', 2.5317024412559928), (569, 'CCACT', 2.0151993373126875), (580, 'GCAGT', 2.7840857085278827), (586, 'CATAT', 0.37242528069592706), (592, 'CAAAC', 0.04256614547452653), (600, 'GTAAG', 1.015440470643212), (606, 'ACAAA', 0.34707915339226203), (624, 'ACATT', 1.2296825292770397), (630, 'TTAAT', 1.1608882284994486), (636, 'TTAAT', 1.1608882284994486), (643, 'CTAAG', 1.5379733330775722), (650, 'CTTAT', 0.4859052646546644), (656, 'TTATT', 0.42429850925992996), (666, 'GTATT', 0.9142429654806326), (675, 'TTAAT', 1.1608882284994486), (681, 'TCATA', 0.17591962689217755), (689, 'TCGTT', 0.2872634824665773), (695, 'CTATT', 1.4367758279149927), (701, 'CATAT', 0.37242528069592706), (707, 'CGTAG', 0.19664308133984248), (722, 'CTTGT', 0.24834407570585137), (732, 'TCAAG', 1.8963102271790535), (741, 'TCCAT', 0.38147119393927376), (749, 'CTGGT', 0.4279551186558015), (755, 'TCTGT', 0.6066809698073329), (763, 'GCAGT', 2.7840857085278827), (769, 'CCCAT', 1.3939485125943367), (792, 'CCATC', 0.7902706229502892)], 'Sequence n° 23': [(1, 'CTAAC', 0.1560461294332638), (10, 'TGAGT', 1.269457070312753), (20, 'ACAAT', 1.9662722485165585), (34, 'ACAAT', 1.9662722485165585), (41, 'ACAGA', 0.10951796444344897), (47, 'TTATT', 0.42429850925992996), (58, 'GGAAT', 1.9969627154822684), (68, 'ACGAT', 0.45842300896666155), (74, 'TTAAT', 1.1608882284994486), (81, 'GTAAG', 1.015440470643212), (90, 'ACAAG', 1.3308800344396192), (99, 'CCAAG', 2.9087875458341164), (105, 'TTAAT', 1.1608882284994486), (115, 'GCGAT', 1.5137976579267987), (129, 'TCAGG', 1.6587490382302406), (144, 'TCACT', 1.0027220186576251), (152, 'CCATT', 2.8075900406715366), (160, 'TCGAT', 1.023853201706096), (177, 'GCAAA', 1.4024538023523991), (192, 'CCCTT', 0.657358793354818), (200, 'GCCAG', 0.23602343608303727), (216, 'TCGAG', 0.38846098762915676), (231, 'CATAT', 0.37242528069592706), (239, 'CGAGC', 0.2646149712465682), (249, 'TCTGT', 0.6066809698073329), (255, 'TCAAA', 0.9125093461316963), (262, 'ACAAT', 1.9662722485165585), (269, 'CCCGT', 1.1563873236455238), (293, 'CGCAT', 0.3692643305999096), (305, 'TCACG', 0.36732980458068576), (313, 'TCATA', 0.17591962689217755), (321, 'GCAGA', 1.1648926134035862), (328, 'GCAAG', 2.3862546833997564), (338, 'ACATT', 1.2296825292770397), (344, 'CCCAT', 1.3939485125943367), (350, 'TGAGT', 1.269457070312753), (356, 'TCAAA', 0.9125093461316963), (362, 'CTATG', 0.8013836138380535), (371, 'GGAAT', 1.9969627154822684), (379, 'TTAAT', 1.1608882284994486), (385, 'GTAGT', 1.4132714957713384), (392, 'CCCAG', 0.7585562985173975), (398, 'ACTGT', 0.04125077706789859), (405, 'GGATG', 0.6249807821658107), (414, 'CCAAA', 1.924986664786759), (423, 'GCCAG', 0.23602343608303727), (431, 'TAAAG', 0.41201603046377216), (440, 'GCCAG', 0.23602343608303727)], 'Sequence n° 24': [(2, 'TCACT', 1.0027220186576251), (11, 'CCTCT', 0.3277390548128407), (19, 'TCCGT', 0.1439100049904608), (25, 'ACTAT', 0.27881196601671154), (31, 'TTATT', 0.42429850925992996), (37, 'GCCAG', 0.23602343608303727), (43, 'CCATG', 2.1721978265945974), (61, 'CCAAT', 3.5441797599110556), (77, 'CCTGT', 1.6191582884623956), (93, 'CGCAT', 0.3692643305999096), (100, 'TCACT', 1.0027220186576251), (106, 'TCAGT', 2.29414125230718), (114, 'CTCAT', 0.02313429983779247), (124, 'ACACT', 0.4372918259181906), (131, 'TCAGT', 2.29414125230718), (139, 'CCAAA', 1.924986664786759), (151, 'TCAAC', 0.5143830235347453), (157, 'GCTTT', 0.5975968957373297), (167, 'TTAAT', 1.1608882284994486), (173, 'ATAAT', 0.5954580357600141), (179, 'TTAAT', 1.1608882284994486), (186, 'CTCAT', 0.02313429983779247), (192, 'CGGGT', 0.7740851494179188), (207, 'CGAAT', 2.519495577916629), (215, 'TCAAA', 0.9125093461316963), (224, 'GAACT', 0.008372278163045976), (233, 'GCAGT', 2.7840857085278827), (241, 'GTAGT', 1.4132714957713384), (254, 'CTGAT', 0.6655163076046144), (260, 'CTGGT', 0.4279551186558015), (269, 'CCACT', 2.0151993373126875), (278, 'TCAAA', 0.9125093461316963), (285, 'GGAAT', 1.9969627154822684), (295, 'TCATA', 0.17591962689217755), (308, 'CCAGA', 1.687425475837946), (314, 'CAGAT', 0.5520363236458772), (323, 'GTGAT', 0.1429834451702544), (339, 'CCCTT', 0.657358793354818), (346, 'CTCAT', 0.02313429983779247), (359, 'TCTAT', 0.8442421587561459), (365, 'CTTGT', 0.24834407570585137), (377, 'CTCAT', 0.02313429983779247), (385, 'CTCAT', 0.02313429983779247), (392, 'TCTTT', 0.10765243951662706), (401, 'GCTAT', 1.3341866149768484), (411, 'GCCAT', 0.8714156501599766), (419, 'ATAAT', 0.5954580357600141), (426, 'TCAGG', 1.6587490382302406), (432, 'CAACT', 0.5309051405974061), (438, 'GCAGA', 1.1648926134035862), (450, 'ATAGT', 0.35789684681120115), (460, 'GCAAA', 1.4024538023523991), (474, 'CGAAT', 2.519495577916629), (484, 'AGAGG', 0.06863466349637926), (493, 'TCATT', 1.7951127220164742), (503, 'CTTGT', 0.24834407570585137), (510, 'CTACG', 0.008992910479204252), (522, 'TTAAT', 1.1608882284994486), (529, 'GGATT', 1.26037299624275), (545, 'CTCAT', 0.02313429983779247), (559, 'CTTAT', 0.4859052646546644), (567, 'GTAAA', 0.03163958959585478), (575, 'CGGAT', 1.0116463383667318), (584, 'GCCTT', 0.1348259309204577), (592, 'CTTGT', 0.24834407570585137)], 'Sequence n° 25': [(0, 'CAATG', 0.687903629879316), (12, 'CTAAA', 0.5541724520302148), (18, 'TCAAA', 0.9125093461316963), (29, 'CCACT', 2.0151993373126875), (35, 'CAAAA', 0.44069246807147755), (42, 'TAAAG', 0.41201603046377216), (49, 'CTACT', 0.6443851245561435), (58, 'ATAAT', 0.5954580357600141), (66, 'TAAAT', 1.0474082445407114), (83, 'GAACT', 0.008372278163045976), (93, 'TCAAA', 0.9125093461316963), (99, 'GGACT', 0.4679822928839007), (106, 'CCACT', 2.0151993373126875), (113, 'TCTGT', 0.6066809698073329), (121, 'TCGAG', 0.38846098762915676), (131, 'GGAAG', 1.3615705014053292), (141, 'GTACT', 0.12185226212178335), (152, 'TCAAT', 2.5317024412559928), (160, 'ACGAT', 0.45842300896666155), (167, 'TCAGG', 1.6587490382302406), (175, 'GGGAT', 0.4891134759323717), (181, 'CCAAA', 1.924986664786759), (189, 'ACAGG', 1.0933188454908063), (196, 'CGGAT', 1.0116463383667318), (203, 'TTAAT', 1.1608882284994486), (213, 'TGAGG', 0.6340648562358138), (222, 'TGAGT', 1.269457070312753), (231, 'ACAAG', 1.3308800344396192), (243, 'CGACG', 0.3551229412413216), (249, 'GGATG', 0.6249807821658107), (261, 'ACATG', 0.5942903152001004), (269, 'TCACT', 1.0027220186576251), (279, 'CCCAT', 1.3939485125943367), (287, 'TGATT', 0.7704285400220472), (294, 'ACAGA', 0.10951796444344897), (300, 'CAAAT', 2.059885563195774), (307, 'GCAAT', 3.0216468974766957), (318, 'CCAAT', 3.5441797599110556), (324, 'CTATT', 1.4367758279149927), (333, 'TTAGT', 0.9233270395506357), (344, 'CCATA', 1.18839694554724), (350, 'ATAGT', 0.35789684681120115), (363, 'GGTAT', 0.3095024329824215), (371, 'GTATT', 0.9142429654806326), (382, 'GCATT', 2.2850571782371767), (395, 'CCTTT', 1.1201297581716898), (406, 'TCAAG', 1.8963102271790535), (412, 'TCTTT', 0.10765243951662706), (423, 'GCGAG', 0.8784054438498593), (434, 'GGACT', 0.4679822928839007), (441, 'GCAGT', 2.7840857085278827), (450, 'CCAAT', 3.5441797599110556), (456, 'GCATC', 0.26773776051592924), (469, 'CCACG', 1.3798071232357483), (481, 'CGAAG', 1.8841033638396896), (488, 'GAAAG', 0.9019604866844747)], 'Sequence n° 26': [(3, 'GCTAG', 0.6987944008999092), (11, 'CTTGT', 0.24834407570585137), (20, 'GTAAT', 1.6508326847201513), (26, 'GTAGT', 1.4132714957713384), (32, 'GTAGT', 1.4132714957713384), (38, 'GTAGT', 1.4132714957713384), (44, 'GTAGT', 1.4132714957713384), (50, 'GTAGT', 1.4132714957713384), (56, 'ATAGT', 0.35789684681120115), (66, 'CTTGT', 0.24834407570585137), (76, 'CTTGT', 0.24834407570585137), (84, 'CTAAT', 2.1733655471545115), (90, 'GCTTT', 0.5975968957373297), (96, 'TCAAG', 1.8963102271790535), (102, 'TCTTT', 0.10765243951662706), (109, 'TCAGC', 0.27682183458593235), (120, 'CTTGT', 0.24834407570585137), (126, 'CAATG', 0.687903629879316), (137, 'CCACT', 2.0151993373126875), (145, 'GCAAT', 3.0216468974766957), (151, 'CTTGT', 0.24834407570585137), (157, 'CTAGT', 1.9358043582056985), (169, 'CTGAG', 0.030124093527675255), (175, 'GCATC', 0.26773776051592924), (184, 'GCTGT', 1.0966254260280355), (192, 'CTTGT', 0.24834407570585137)], 'Sequence n° 27': [(0, 'GCAAA', 1.4024538023523991), (11, 'GCTAT', 1.3341866149768484), (18, 'AGAAT', 0.9415880665221315), (33, 'CCCAG', 0.7585562985173975), (41, 'TCAGA', 0.6749481571828834), (47, 'CAAAA', 0.44069246807147755), (55, 'CCAAC', 1.526860342189808), (66, 'GGAAA', 0.377769620357972), (77, 'ACAGT', 1.7287110595677455), (90, 'CCAAA', 1.924986664786759), (98, 'CTGAG', 0.030124093527675255), (106, 'ACAGA', 0.10951796444344897), (112, 'TCATT', 1.7951127220164742), (119, 'TCAAA', 0.9125093461316963), (129, 'TCAAC', 0.5143830235347453), (136, 'TAAAT', 1.0474082445407114), (143, 'ACACT', 0.4372918259181906), (151, 'CCAGA', 1.687425475837946), (157, 'TTATT', 0.42429850925992996), (164, 'TCCAT', 0.38147119393927376), (180, 'GCATA', 0.6658640831128803), (195, 'GCAAA', 1.4024538023523991), (203, 'TCAAA', 0.9125093461316963), (211, 'TTAAT', 1.1608882284994486), (219, 'GTGAT', 0.1429834451702544), (228, 'TCGTT', 0.2872634824665773), (234, 'GTAAA', 0.03163958959585478), (244, 'ACAAG', 1.3308800344396192), (254, 'AAAGT', 0.2444168628524639), (263, 'CGAAA', 0.9003024827923322), (269, 'CGCGT', 0.13170314165109664), (276, 'CGAAA', 0.9003024827923322), (286, 'GAAAT', 1.537352700761414), (293, 'GCAAA', 1.4024538023523991), (300, 'GGAAA', 0.377769620357972), (314, 'GAAAT', 1.537352700761414), (323, 'ACAAT', 1.9662722485165585), (330, 'TTAGG', 0.2879348254736964), (339, 'TCAAC', 0.5143830235347453)], 'Sequence n° 28': [(2, 'TCTTT', 0.10765243951662706), (16, 'CCCTG', 0.02196657927787865), (22, 'CCCGT', 1.1563873236455238), (35, 'GCACG', 0.8572742608013885), (42, 'AGAAT', 0.9415880665221315), (48, 'GCTTT', 0.5975968957373297), (56, 'CCTCT', 0.3277390548128407), (67, 'ACAGG', 1.0933188454908063), (75, 'TCTGT', 0.6066809698073329), (88, 'GCTGT', 1.0966254260280355), (97, 'TCTGT', 0.6066809698073329), (105, 'TCTGT', 0.6066809698073329), (115, 'TCTGT', 0.6066809698073329), (124, 'GCAAT', 3.0216468974766957), (134, 'GCACG', 0.8572742608013885), (140, 'CCACG', 1.3798071232357483), (147, 'CTTGT', 0.24834407570585137), (155, 'GCGAT', 1.5137976579267987), (164, 'GCAGA', 1.1648926134035862), (170, 'CCGTG', 0.6643485870447008), (176, 'GGTGT', 0.07194124403360858), (189, 'GGGAT', 0.4891134759323717), (195, 'GGAGG', 1.1240093124565163), (203, 'ACAGT', 1.7287110595677455), (211, 'CCCGT', 1.1563873236455238), (221, 'CCCTT', 0.657358793354818), (229, 'GGGAT', 0.4891134759323717), (239, 'GGAAT', 1.9969627154822684), (245, 'TCAGA', 0.6749481571828834), (261, 'CCCTT', 0.657358793354818), (267, 'TCTAT', 0.8442421587561459), (273, 'GCATC', 0.26773776051592924), (281, 'ACAGA', 0.10951796444344897), (288, 'GTATT', 0.9142429654806326), (302, 'ATAGT', 0.35789684681120115), (311, 'GGAGT', 1.7594015265334555), (318, 'AGAGT', 0.7040268775733185), (328, 'GTATG', 0.2788507514036933), (337, 'GTATT', 0.9142429654806326), (344, 'ATAGT', 0.35789684681120115), (353, 'GGAGT', 1.7594015265334555), (365, 'ATAGT', 0.35789684681120115), (376, 'ACAGT', 1.7287110595677455), (384, 'GTATG', 0.2788507514036933)], 'Sequence n° 29': [(6, 'GCTTT', 0.5975968957373297), (14, 'CCAGA', 1.687425475837946), (25, 'TGAAT', 1.507018259261566), (34, 'ACAAA', 0.34707915339226203), (42, 'ACAAA', 0.34707915339226203), (48, 'CCATA', 1.18839694554724), (54, 'TGATT', 0.7704285400220472), (61, 'TCTTT', 0.10765243951662706), (69, 'CCTCT', 0.3277390548128407), (75, 'ACATT', 1.2296825292770397), (81, 'TTATT', 0.42429850925992996), (91, 'TTAAG', 0.5254960144225094), (99, 'CCACA', 0.3960062421883911), (109, 'ACAAA', 0.34707915339226203), (118, 'CTAAG', 1.5379733330775722), (124, 'CAAGA', 0.2031312791226645), (133, 'TCAGA', 0.6749481571828834), (142, 'GTAAA', 0.03163958959585478)], 'Sequence n° 30': [(7, 'TCTTT', 0.10765243951662706), (15, 'TGAAT', 1.507018259261566), (23, 'TCCAT', 0.38147119393927376), (38, 'ACAAA', 0.34707915339226203), (46, 'TAAAT', 1.0474082445407114), (54, 'CCACA', 0.3960062421883911), (63, 'CCGGT', 1.7987693314123456), (71, 'TCATT', 1.7951127220164742), (84, 'TCATA', 0.17591962689217755), (90, 'AAAAT', 0.4819780518012769), (104, 'AAAGT', 0.2444168628524639), (114, 'GAAAT', 1.537352700761414), (121, 'GGAAG', 1.3615705014053292), (127, 'GAATT', 0.8007629815218951), (135, 'AAAAT', 0.4819780518012769), (142, 'GCAGC', 0.766766290806635), (148, 'CTGGT', 0.4279551186558015), (155, 'AAAAT', 0.4819780518012769), (163, 'AAAAT', 0.4819780518012769), (174, 'AGAAT', 0.9415880665221315), (182, 'CTCAT', 0.02313429983779247), (189, 'AGAGT', 0.7040268775733185), (197, 'GGAAG', 1.3615705014053292), (203, 'GGAAG', 1.3615705014053292), (210, 'GGAAG', 1.3615705014053292), (217, 'GCTTT', 0.5975968957373297), (225, 'AGATT', 0.2049983472826128), (235, 'AAAAT', 0.4819780518012769)], 'Sequence n° 31': [(1, 'GGAAA', 0.377769620357972), (9, 'CTAAG', 1.5379733330775722), (17, 'ACAAG', 1.3308800344396192), (29, 'GCGAG', 0.8784054438498593), (35, 'ATAAT', 0.5954580357600141), (43, 'GCTAT', 1.3341866149768484), (49, 'CAAAA', 0.44069246807147755), (57, 'GAAAG', 0.9019604866844747), (63, 'GAAGT', 1.2997915118126009), (69, 'GGAAA', 0.377769620357972), (76, 'CCAAT', 3.5441797599110556), (82, 'GGATT', 1.26037299624275), (94, 'GGTGT', 0.07194124403360858), (106, 'AAAGT', 0.2444168628524639), (112, 'GAATG', 0.16537076744495588), (118, 'GAAAG', 0.9019604866844747), (131, 'TCTTT', 0.10765243951662706), (138, 'ACTAT', 0.27881196601671154), (148, 'GGAAT', 1.9969627154822684), (165, 'ACATG', 0.5942903152001004), (171, 'CAGAT', 0.5520363236458772), (180, 'TCAGG', 1.6587490382302406), (191, 'CGGAT', 1.0116463383667318), (200, 'ACGAT', 0.45842300896666155), (209, 'AAAAT', 0.4819780518012769), (226, 'ACAGT', 1.7287110595677455), (235, 'CCCAT', 1.3939485125943367), (242, 'GAAAG', 0.9019604866844747), (252, 'CTTAT', 0.4859052646546644), (262, 'CGAAT', 2.519495577916629), (271, 'GCTGT', 1.0966254260280355), (282, 'GCAAT', 3.0216468974766957), (288, 'CGATT', 1.7829058586771098), (294, 'ACATT', 1.2296825292770397), (300, 'AGAAT', 0.9415880665221315), (313, 'ACAAG', 1.3308800344396192), (321, 'GAAAG', 0.9019604866844747), (348, 'AGAGT', 0.7040268775733185), (355, 'CTTAT', 0.4859052646546644), (375, 'TCTAT', 0.8442421587561459), (384, 'TCTTT', 0.10765243951662706), (394, 'TCAAT', 2.5317024412559928), (402, 'GCAAA', 1.4024538023523991), (409, 'TCTTT', 0.10765243951662706), (416, 'CTTAT', 0.4859052646546644), (425, 'ACAAA', 0.34707915339226203), (432, 'CTGAT', 0.6655163076046144), (439, 'ACAAG', 1.3308800344396192), (447, 'ACACT', 0.4372918259181906), (453, 'TCAAA', 0.9125093461316963), (459, 'GGAAA', 0.377769620357972), (467, 'TCTTT', 0.10765243951662706), (478, 'CCTAA', 0.23752638228691214), (485, 'CCACT', 2.0151993373126875), (491, 'CAACT', 0.5309051405974061), (499, 'CCAAA', 1.924986664786759), (511, 'ACAGA', 0.10951796444344897), (528, 'GCCTT', 0.1348259309204577), (541, 'TGAAG', 0.8716260451846268), (549, 'GAGAT', 0.029503461211516924), (562, 'CGAAG', 1.8841033638396896), (569, 'AAAAT', 0.4819780518012769), (579, 'GAGAT', 0.029503461211516924), (591, 'CCTTT', 1.1201297581716898), (599, 'GCTAT', 1.3341866149768484), (608, 'GTACT', 0.12185226212178335), (616, 'TCACT', 1.0027220186576251), (626, 'GTATG', 0.2788507514036933), (634, 'CTACG', 0.008992910479204252), (640, 'ACACT', 0.4372918259181906), (647, 'CCACT', 2.0151993373126875), (655, 'CTACG', 0.008992910479204252), (667, 'GCAAC', 1.004327479755448), (673, 'GTAAT', 1.6508326847201513), (682, 'ACGGT', 0.2208618200178486), (688, 'TCAAA', 0.9125093461316963), (699, 'CCTGT', 1.6191582884623956), (706, 'TCACG', 0.36732980458068576), (712, 'GTAAT', 1.6508326847201513), (719, 'AGAGT', 0.7040268775733185), (725, 'CCCAT', 1.3939485125943367), (733, 'CTGAT', 0.6655163076046144), (739, 'TCCGT', 0.1439100049904608)], 'Sequence n° 32': [(2, 'AGAGG', 0.06863466349637926), (9, 'TCAGA', 0.6749481571828834), (22, 'CCAAA', 1.924986664786759), (30, 'CTGGT', 0.4279551186558015), (37, 'GGAAA', 0.377769620357972), (43, 'TCCAT', 0.38147119393927376), (55, 'GGAGA', 0.14020843140915906), (62, 'CCAAT', 3.5441797599110556), (74, 'TCTGT', 0.6066809698073329), (82, 'CCCAG', 0.7585562985173975), (91, 'CCAAG', 2.9087875458341164), (101, 'CCACA', 0.3960062421883911), (109, 'CCATA', 1.18839694554724), (122, 'GCTTT', 0.5975968957373297), (134, 'GCACT', 1.4926664748783276), (142, 'ACAAG', 1.3308800344396192), (150, 'CTACT', 0.6443851245561435), (157, 'AGAGT', 0.7040268775733185), (163, 'CAAGG', 1.1869321601700218), (172, 'CCAAA', 1.924986664786759), (178, 'TCAAG', 1.8963102271790535), (185, 'CTAAA', 0.5541724520302148), (195, 'CTAAG', 1.5379733330775722), (202, 'TCTAG', 0.20884994467920664), (211, 'TGAGT', 1.269457070312753), (217, 'CCAAA', 1.924986664786759), (223, 'TCTAG', 0.20884994467920664), (231, 'ACAGA', 0.10951796444344897), (242, 'TCAAA', 0.9125093461316963), (252, 'CCGAC', 0.019011102639911126), (261, 'ACATG', 0.5942903152001004), (276, 'CCTTG', 0.4847375440947506), (290, 'GGTGT', 0.07194124403360858), (305, 'CGTGT', 0.5944741064679687), (318, 'TCTGT', 0.6066809698073329), (327, 'AGATT', 0.2049983472826128), (333, 'ACATT', 1.2296825292770397), (339, 'CCTTG', 0.4847375440947506), (345, 'ACAAG', 1.3308800344396192)], 'Sequence n° 33': [(0, 'GAAGT', 1.2997915118126009), (7, 'CGCAT', 0.3692643305999096), (15, 'CTACT', 0.6443851245561435), (21, 'CTATT', 1.4367758279149927), (27, 'ACAAT', 1.9662722485165585), (36, 'TCATA', 0.17591962689217755), (44, 'TGAAT', 1.507018259261566), (51, 'CTAAA', 0.5541724520302148), (61, 'GCAAA', 1.4024538023523991), (70, 'CGCAT', 0.3692643305999096), (77, 'TTAGT', 0.9233270395506357), (86, 'GCATA', 0.6658640831128803), (93, 'AGAAG', 0.30619585244519226), (103, 'CTAAT', 2.1733655471545115), (112, 'CCAAC', 1.526860342189808), (121, 'CTAAA', 0.5541724520302148), (130, 'ACAGT', 1.7287110595677455), (136, 'CAAGA', 0.2031312791226645), (144, 'TCTAT', 0.8442421587561459), (150, 'CATAT', 0.37242528069592706), (156, 'CGATT', 1.7829058586771098), (164, 'TGAAT', 1.507018259261566), (173, 'TCGTT', 0.2872634824665773), (180, 'AAAAT', 0.4819780518012769), (188, 'GCTTT', 0.5975968957373297), (200, 'TCCAT', 0.38147119393927376), (208, 'TAAAT', 1.0474082445407114), (214, 'GGATT', 1.26037299624275), (220, 'GTAAA', 0.03163958959585478), (230, 'CCGAG', 1.4009383062842193), (236, 'ATAGT', 0.35789684681120115), (244, 'TTATT', 0.42429850925992996)], 'Sequence n° 34': [(0, 'CGAAG', 1.8841033638396896), (12, 'ACAAT', 1.9662722485165585), (18, 'CCATT', 2.8075900406715366), (27, 'GGATT', 1.26037299624275), (33, 'ACAGA', 0.10951796444344897), (40, 'GCAAT', 3.0216468974766957), (47, 'AGAGG', 0.06863466349637926), (53, 'CAACT', 0.5309051405974061), (64, 'CGACG', 0.3551229412413216), (72, 'GGTAT', 0.3095024329824215), (89, 'GCTGT', 1.0966254260280355), (96, 'GAAAG', 0.9019604866844747), (104, 'ACAAA', 0.34707915339226203), (124, 'ACAAG', 1.3308800344396192), (136, 'CCGAG', 1.4009383062842193), (144, 'ACAAG', 1.3308800344396192), (150, 'GCAAA', 1.4024538023523991), (159, 'GGGAT', 0.4891134759323717), (169, 'AAAAT', 0.4819780518012769), (178, 'CTGAT', 0.6655163076046144), (189, 'ACAGG', 1.0933188454908063), (199, 'ACAGT', 1.7287110595677455), (206, 'TCAAA', 0.9125093461316963), (212, 'CAGAT', 0.5520363236458772), (220, 'ACGGT', 0.2208618200178486), (229, 'ACAGA', 0.10951796444344897), (239, 'GGAGG', 1.1240093124565163)], 'Sequence n° 35': [(3, 'TCTTT', 0.10765243951662706), (9, 'CCAAA', 1.924986664786759), (19, 'CCAAC', 1.526860342189808), (28, 'TGAAG', 0.8716260451846268), (37, 'TCAAG', 1.8963102271790535), (43, 'CCAAG', 2.9087875458341164), (50, 'CGACG', 0.3551229412413216), (61, 'CCGAC', 0.019011102639911126), (74, 'TCCAT', 0.38147119393927376), (83, 'GAAAG', 0.9019604866844747), (95, 'CGACT', 0.9905151553182608), (107, 'TGAAT', 1.507018259261566), (114, 'CCTCT', 0.3277390548128407), (120, 'GCTGT', 1.0966254260280355), (130, 'ACAAT', 1.9662722485165585), (141, 'CCTTT', 1.1201297581716898)], 'Sequence n° 36': [(2, 'TCCAT', 0.38147119393927376), (13, 'CCAGA', 1.687425475837946), (23, 'GGGGT', 0.2515522869835587), (29, 'TCAAT', 2.5317024412559928), (36, 'TCAGA', 0.6749481571828834), (47, 'CTGGT', 0.4279551186558015), (55, 'CCAGC', 1.289299153240995), (66, 'GCAGG', 2.1486934944509435), (75, 'TCAAG', 1.8963102271790535), (83, 'TGATG', 0.135036325945108), (93, 'CCACG', 1.3798071232357483), (100, 'AGATT', 0.2049983472826128), (111, 'TCTAT', 0.8442421587561459), (120, 'GCCAG', 0.23602343608303727), (131, 'GCCAT', 0.8714156501599766), (140, 'CCCAT', 1.3939485125943367), (152, 'CTACT', 0.6443851245561435), (161, 'ACAGA', 0.10951796444344897), (170, 'TCAGT', 2.29414125230718), (186, 'CTACT', 0.6443851245561435), (192, 'CGAAT', 2.519495577916629), (201, 'CCCAT', 1.3939485125943367), (208, 'AGAGT', 0.7040268775733185), (216, 'CCCAG', 0.7585562985173975), (224, 'CTGGT', 0.4279551186558015), (234, 'CGACT', 0.9905151553182608), (245, 'CCTTG', 0.4847375440947506), (251, 'AGAAG', 0.30619585244519226), (259, 'GCTAT', 1.3341866149768484), (269, 'ACAGA', 0.10951796444344897), (275, 'CAAAG', 1.4244933491188347), (282, 'TCTAG', 0.20884994467920664), (289, 'GCTGG', 0.46123321195109623), (305, 'ACTGT', 0.04125077706789859), (313, 'CTGAT', 0.6655163076046144), (323, 'ACAAG', 1.3308800344396192), (329, 'GAATG', 0.16537076744495588), (337, 'GAGAT', 0.029503461211516924)], 'Sequence n° 37': [(13, 'GCAAC', 1.004327479755448), (20, 'TCATA', 0.17591962689217755), (28, 'GCGAT', 1.5137976579267987), (37, 'AAAAT', 0.4819780518012769), (46, 'GAGAT', 0.029503461211516924), (52, 'CCAGC', 1.289299153240995), (61, 'ACAAT', 1.9662722485165585), (70, 'GCAAA', 1.4024538023523991), (81, 'CTTAT', 0.4859052646546644), (89, 'TCAAC', 0.5143830235347453), (101, 'CTAAG', 1.5379733330775722), (107, 'CGGTT', 0.275056619127213), (114, 'GGGGT', 0.2515522869835587), (125, 'CCCAT', 1.3939485125943367), (136, 'ACAAA', 0.34707915339226203), (148, 'CCATG', 2.1721978265945974), (155, 'ATAAT', 0.5954580357600141), (161, 'CAAAT', 2.059885563195774), (169, 'ACAAT', 1.9662722485165585), (177, 'CCTAG', 1.2213272633342696), (186, 'CCACT', 2.0151993373126875), (194, 'GAAAT', 1.537352700761414), (204, 'AAAAT', 0.4819780518012769), (218, 'CATAT', 0.37242528069592706), (226, 'TCTGT', 0.6066809698073329), (248, 'TCAAA', 0.9125093461316963), (254, 'TCAAA', 0.9125093461316963), (260, 'ACAGA', 0.10951796444344897), (269, 'ACGAT', 0.45842300896666155), (287, 'TTAGT', 0.9233270395506357), (295, 'CCCAG', 0.7585562985173975), (301, 'CTCAT', 0.02313429983779247), (309, 'GTAAA', 0.03163958959585478), (316, 'GCAGT', 2.7840857085278827), (333, 'GGAAT', 1.9969627154822684), (342, 'GTAAT', 1.6508326847201513), (351, 'CGTAG', 0.19664308133984248), (359, 'TCAAT', 2.5317024412559928), (368, 'TAAAT', 1.0474082445407114), (374, 'GTATT', 0.9142429654806326), (380, 'ACAAG', 1.3308800344396192), (386, 'GTAAT', 1.6508326847201513), (392, 'CCGGG', 1.1633771173354064), (398, 'CAATG', 0.687903629879316), (405, 'GTAAA', 0.03163958959585478), (411, 'CCGTT', 1.29974080112164), (427, 'CCAAA', 1.924986664786759), (438, 'CCTAT', 1.8567194774112088), (444, 'CTTAT', 0.4859052646546644), (450, 'AGAAG', 0.30619585244519226), (459, 'CGACT', 0.9905151553182608), (476, 'GCAGC', 0.766766290806635), (482, 'AGATT', 0.2049983472826128), (488, 'AAAAT', 0.4819780518012769), (494, 'CCACA', 0.3960062421883911), (502, 'GCAAC', 1.004327479755448), (508, 'CTAAC', 0.1560461294332638), (515, 'AAAAT', 0.4819780518012769), (531, 'GTAAT', 1.6508326847201513), (544, 'GCAAA', 1.4024538023523991), (550, 'TGAGT', 1.269457070312753), (558, 'GCCGT', 0.6338544612111635), (564, 'TCTTT', 0.10765243951662706), (572, 'GCAAT', 3.0216468974766957), (582, 'CGACT', 0.9905151553182608), (588, 'CAATG', 0.687903629879316), (595, 'GCTGG', 0.46123321195109623), (604, 'CTTAT', 0.4859052646546644), (613, 'CCCAT', 1.3939485125943367), (622, 'CCATC', 0.7902706229502892), (635, 'CCTAA', 0.23752638228691214), (647, 'GTAAG', 1.015440470643212), (659, 'GCAGT', 2.7840857085278827), (671, 'CCAAA', 1.924986664786759), (682, 'GCTTT', 0.5975968957373297), (694, 'GCCTT', 0.1348259309204577), (706, 'ACAGT', 1.7287110595677455), (712, 'TTATT', 0.42429850925992996), (719, 'TCTTT', 0.10765243951662706), (730, 'TGATG', 0.135036325945108), (736, 'GCAAA', 1.4024538023523991), (742, 'ATAAT', 0.5954580357600141), (749, 'GCTTT', 0.5975968957373297), (761, 'TCAAA', 0.9125093461316963), (773, 'TCAGT', 2.29414125230718), (781, 'TTAAT', 1.1608882284994486), (790, 'TAAAT', 1.0474082445407114), (798, 'CTCAT', 0.02313429983779247), (806, 'TCATT', 1.7951127220164742), (813, 'TTATT', 0.42429850925992996), (819, 'CGAAG', 1.8841033638396896), (826, 'TCAAT', 2.5317024412559928), (834, 'GCCGT', 0.6338544612111635), (845, 'TGAAG', 0.8716260451846268), (854, 'ATAAT', 0.5954580357600141), (862, 'TCAAA', 0.9125093461316963), (870, 'TCAAT', 2.5317024412559928), (882, 'CCAAA', 1.924986664786759), (890, 'TCAAA', 0.9125093461316963), (896, 'TAAAT', 1.0474082445407114), (912, 'AAAAT', 0.4819780518012769), (919, 'GCAAA', 1.4024538023523991), (928, 'ACAAT', 1.9662722485165585), (943, 'AGAAG', 0.30619585244519226), (954, 'ACAGT', 1.7287110595677455), (960, 'CCAAT', 3.5441797599110556), (972, 'CCAGT', 3.3066185709622427), (978, 'CTAAC', 0.1560461294332638), (993, 'CATAT', 0.37242528069592706), (1001, 'GTAAA', 0.03163958959585478), (1010, 'CTACT', 0.6443851245561435), (1020, 'ACATT', 1.2296825292770397), (1026, 'TAATT', 0.3108185253011927), (1033, 'GGAAG', 1.3615705014053292), (1041, 'TCAAT', 2.5317024412559928), (1048, 'TCTTT', 0.10765243951662706), (1060, 'TCTTT', 0.10765243951662706), (1067, 'ATAAT', 0.5954580357600141), (1073, 'CCATC', 0.7902706229502892), (1079, 'TAATT', 0.3108185253011927), (1088, 'GCATT', 2.2850571782371767), (1097, 'TTAAG', 0.5254960144225094), (1104, 'GTGAT', 0.1429834451702544), (1116, 'CTAAC', 0.1560461294332638), (1126, 'AAAAT', 0.4819780518012769), (1141, 'TCCAT', 0.38147119393927376), (1148, 'TCAAA', 0.9125093461316963), (1156, 'TTAAT', 1.1608882284994486), (1167, 'TCAAT', 2.5317024412559928), (1176, 'TCTAG', 0.20884994467920664), (1182, 'CCTAT', 1.8567194774112088), (1188, 'GCATC', 0.26773776051592924), (1197, 'GGATT', 1.26037299624275), (1204, 'GTAAA', 0.03163958959585478), (1215, 'GCAGG', 2.1486934944509435), (1221, 'CTTGT', 0.24834407570585137), (1229, 'ATAAT', 0.5954580357600141), (1244, 'ATAGT', 0.35789684681120115), (1263, 'GTAGT', 1.4132714957713384), (1274, 'ATAAT', 0.5954580357600141), (1281, 'TCAAG', 1.8963102271790535), (1289, 'GCAAC', 1.004327479755448), (1295, 'CCAAT', 3.5441797599110556)], 'Sequence n° 38': [(4, 'TCATT', 1.7951127220164742), (11, 'TCATG', 1.159720507939535), (23, 'CATAT', 0.37242528069592706), (38, 'CCATT', 2.8075900406715366), (53, 'TCATT', 1.7951127220164742), (59, 'TCATA', 0.17591962689217755), (72, 'CTAAA', 0.5541724520302148), (78, 'AGATT', 0.2049983472826128), (87, 'CTAAC', 0.1560461294332638), (96, 'GGGGT', 0.2515522869835587), (104, 'TCTGT', 0.6066809698073329), (114, 'ACATT', 1.2296825292770397), (132, 'CTAAA', 0.5541724520302148), (142, 'CTGAT', 0.6655163076046144), (154, 'TCAAA', 0.9125093461316963), (168, 'GCTAT', 1.3341866149768484), (185, 'CTTGT', 0.24834407570585137)], 'Sequence n° 39': [(5, 'GTACT', 0.12185226212178335), (14, 'TAAAT', 1.0474082445407114), (21, 'TCCGT', 0.1439100049904608), (27, 'GTATT', 0.9142429654806326), (37, 'CGAAA', 0.9003024827923322), (46, 'CCAAT', 3.5441797599110556), (52, 'CTATG', 0.8013836138380535), (63, 'TCAGT', 2.29414125230718), (72, 'TCAGT', 2.29414125230718), (78, 'CCAGA', 1.687425475837946), (84, 'GAAGT', 1.2997915118126009), (93, 'GCAGT', 2.7840857085278827), (102, 'TTATT', 0.42429850925992996), (109, 'TCAAG', 1.8963102271790535), (121, 'CTAAA', 0.5541724520302148), (129, 'TCTAT', 0.8442421587561459), (138, 'CCATC', 0.7902706229502892), (147, 'CTTAT', 0.4859052646546644), (159, 'CGAAA', 0.9003024827923322), (174, 'TTAGT', 0.9233270395506357), (187, 'TCAAC', 0.5143830235347453)], 'Sequence n° 40': [(7, 'ACAGG', 1.0933188454908063), (18, 'TCAAA', 0.9125093461316963), (29, 'AAAAT', 0.4819780518012769), (37, 'TGAGT', 1.269457070312753), (47, 'ACAGA', 0.10951796444344897), (53, 'GAAAG', 0.9019604866844747), (61, 'TGATG', 0.135036325945108), (70, 'TGAAG', 0.8716260451846268), (84, 'AGAGT', 0.7040268775733185), (96, 'CCAAA', 1.924986664786759), (102, 'TTAAG', 0.5254960144225094), (112, 'CCAAG', 2.9087875458341164), (119, 'ACAGT', 1.7287110595677455), (125, 'GCTGT', 1.0966254260280355), (132, 'TCAAT', 2.5317024412559928), (139, 'TCAAA', 0.9125093461316963), (153, 'CTAAT', 2.1733655471545115), (161, 'TCAGC', 0.27682183458593235), (168, 'GCATT', 2.2850571782371767), (178, 'CCTAA', 0.23752638228691214), (192, 'CGGAT', 1.0116463383667318), (198, 'GGAGA', 0.14020843140915906), (208, 'AGAAT', 0.9415880665221315), (216, 'TCATT', 1.7951127220164742), (223, 'TCAAC', 0.5143830235347453), (229, 'TCATA', 0.17591962689217755), (237, 'TCAGT', 2.29414125230718), (243, 'AAAGT', 0.2444168628524639), (252, 'GAAAT', 1.537352700761414), (260, 'TTATT', 0.42429850925992996), (272, 'CCGAA', 0.41713742523686215), (280, 'TCAAA', 0.9125093461316963), (300, 'CCTCT', 0.3277390548128407), (306, 'TGATT', 0.7704285400220472), (315, 'ACAAT', 1.9662722485165585), (321, 'TCATG', 1.159720507939535), (329, 'TTATT', 0.42429850925992996), (335, 'CTAGA', 0.31661126308140186), (342, 'ACAGT', 1.7287110595677455), (348, 'CCGTT', 1.29974080112164), (355, 'CCAAA', 1.924986664786759), (363, 'ATAGT', 0.35789684681120115), (376, 'ACAAA', 0.34707915339226203), (383, 'TCATT', 1.7951127220164742), (390, 'TCGAG', 0.38846098762915676), (398, 'ATAGT', 0.35789684681120115), (406, 'ACATT', 1.2296825292770397), (412, 'TCAGT', 2.29414125230718), (422, 'TCTTT', 0.10765243951662706), (429, 'CTGGT', 0.4279551186558015), (435, 'CGAAA', 0.9003024827923322), (443, 'GAACT', 0.008372278163045976)], 'Sequence n° 41': [(1, 'CCTGT', 1.6191582884623956), (13, 'GCTTT', 0.5975968957373297), (24, 'TTAAT', 1.1608882284994486), (35, 'TCAAA', 0.9125093461316963), (50, 'TGAAT', 1.507018259261566), (57, 'TCTGT', 0.6066809698073329), (64, 'CCCAT', 1.3939485125943367), (75, 'TTAAT', 1.1608882284994486), (82, 'CCTAG', 1.2213272633342696), (88, 'CTCAT', 0.02313429983779247), (100, 'ATAGT', 0.35789684681120115), (110, 'CCAGG', 2.6712263568853034), (126, 'GCAAT', 3.0216468974766957), (138, 'CATAT', 0.37242528069592706), (146, 'CGGAT', 1.0116463383667318), (154, 'TCTAG', 0.20884994467920664), (162, 'TTATT', 0.42429850925992996), (169, 'CTGGT', 0.4279551186558015), (176, 'TCTGT', 0.6066809698073329), (191, 'TTATT', 0.42429850925992996), (198, 'CTTGT', 0.24834407570585137), (213, 'CCACT', 2.0151993373126875), (223, 'CTACT', 0.6443851245561435), (239, 'CCTTT', 1.1201297581716898)], 'Sequence n° 42': [(1, 'GCATT', 2.2850571782371767), (8, 'CTCAT', 0.02313429983779247), (17, 'TCAGC', 0.27682183458593235), (23, 'GCATC', 0.26773776051592924), (32, 'CTTAT', 0.4859052646546644), (42, 'GCTTT', 0.5975968957373297), (50, 'TCTTT', 0.10765243951662706), (63, 'CCCAT', 1.3939485125943367), (75, 'CCAAT', 3.5441797599110556), (81, 'TCGGG', 0.15089979868034376), (87, 'TGATG', 0.135036325945108), (95, 'GGAAA', 0.377769620357972), (102, 'GCAAA', 1.4024538023523991), (110, 'GGAGA', 0.14020843140915906), (119, 'TCTAT', 0.8442421587561459), (127, 'AGAGT', 0.7040268775733185), (138, 'TAAGT', 0.8098470555918984), (149, 'GCATG', 1.6496649641602374), (157, 'CCTAT', 1.8567194774112088), (165, 'CCTGT', 1.6191582884623956), (171, 'TAAAG', 0.41201603046377216), (177, 'TTAAT', 1.1608882284994486), (191, 'TCTGT', 0.6066809698073329)], 'Sequence n° 43': [(8, 'GGAAG', 1.3615705014053292), (15, 'AGAGT', 0.7040268775733185), (22, 'CCAAT', 3.5441797599110556), (33, 'GGATG', 0.6249807821658107), (39, 'CTAGG', 1.3004121441287593), (50, 'CCAAT', 3.5441797599110556), (57, 'AGAGG', 0.06863466349637926), (64, 'TCAGC', 0.27682183458593235), (71, 'TCTGT', 0.6066809698073329), (78, 'GCACT', 1.4926664748783276), (87, 'CTAAT', 2.1733655471545115), (94, 'GGGAT', 0.4891134759323717), (110, 'AAAAT', 0.4819780518012769), (118, 'GTAGT', 1.4132714957713384), (124, 'CCTTT', 1.1201297581716898), (133, 'GGAAT', 1.9969627154822684), (139, 'TAAGT', 0.8098470555918984), (148, 'CCAAA', 1.924986664786759), (164, 'ACGAT', 0.45842300896666155), (171, 'TCAAT', 2.5317024412559928), (180, 'TCTAT', 0.8442421587561459), (194, 'TCGAG', 0.38846098762915676), (201, 'GTAAA', 0.03163958959585478), (207, 'ACAAT', 1.9662722485165585), (220, 'TCACT', 1.0027220186576251), (231, 'GCAAT', 3.0216468974766957), (242, 'GCTAT', 1.3341866149768484)], 'Sequence n° 44': [(4, 'CCTTT', 1.1201297581716898), (10, 'GTAAA', 0.03163958959585478), (17, 'ACATG', 0.5942903152001004), (30, 'TGAAT', 1.507018259261566), (40, 'ACAGA', 0.10951796444344897), (48, 'CCCGT', 1.1563873236455238), (55, 'ACATT', 1.2296825292770397), (64, 'CCTTT', 1.1201297581716898), (74, 'TCAAT', 2.5317024412559928), (81, 'ACAGA', 0.10951796444344897), (96, 'TCAAT', 2.5317024412559928), (103, 'TCAGC', 0.27682183458593235), (109, 'TTATT', 0.42429850925992996), (116, 'CCAAC', 1.526860342189808), (124, 'ACAGG', 1.0933188454908063), (130, 'CGTTT', 0.0954455761772629), (139, 'ACAAG', 1.3308800344396192), (145, 'ATAAT', 0.5954580357600141), (155, 'GGAAG', 1.3615705014053292), (169, 'GGAAA', 0.377769620357972), (175, 'CAAAA', 0.44069246807147755), (183, 'TTATT', 0.42429850925992996), (191, 'TGAAT', 1.507018259261566), (197, 'CAAAC', 0.04256614547452653), (208, 'CCGGA', 0.1795762362880492), (214, 'AGAAG', 0.30619585244519226), (222, 'GTAAA', 0.03163958959585478), (230, 'ATAAT', 0.5954580357600141), (237, 'GCCAG', 0.23602343608303727), (249, 'CATAT', 0.37242528069592706), (263, 'CTTAT', 0.4859052646546644), (274, 'TCCAT', 0.38147119393927376), (287, 'CCGTT', 1.29974080112164)], 'Sequence n° 45': [(0, 'GCAGA', 1.1648926134035862), (6, 'GAATT', 0.8007629815218951), (16, 'CTAAT', 2.1733655471545115), (25, 'GTATT', 0.9142429654806326), (32, 'ACTAT', 0.27881196601671154), (41, 'ACAAT', 1.9662722485165585), (55, 'ACGGT', 0.2208618200178486), (61, 'CTAAA', 0.5541724520302148), (69, 'TCAGG', 1.6587490382302406), (77, 'AGAAT', 0.9415880665221315), (90, 'GCATG', 1.6496649641602374), (97, 'TCAAA', 0.9125093461316963), (106, 'GCATA', 0.6658640831128803), (114, 'TCTTT', 0.10765243951662706), (122, 'TCTAT', 0.8442421587561459), (132, 'GCAGA', 1.1648926134035862), (142, 'TCAAT', 2.5317024412559928), (151, 'TCAAA', 0.9125093461316963), (159, 'CTAAG', 1.5379733330775722), (175, 'GCATT', 2.2850571782371767), (190, 'CATAT', 0.37242528069592706)], 'Sequence n° 46': [(6, 'CTTGT', 0.24834407570585137), (19, 'TCAGA', 0.6749481571828834), (25, 'TCTTT', 0.10765243951662706), (31, 'TCAAG', 1.8963102271790535), (43, 'TTAGT', 0.9233270395506357), (50, 'TCAAA', 0.9125093461316963), (61, 'CCATT', 2.8075900406715366), (68, 'ATAGT', 0.35789684681120115), (80, 'CTAAT', 2.1733655471545115), (88, 'TCATA', 0.17591962689217755), (96, 'AGAGT', 0.7040268775733185), (104, 'GGATT', 1.26037299624275), (116, 'TGATT', 0.7704285400220472), (124, 'ACAGA', 0.10951796444344897), (130, 'TGAAT', 1.507018259261566), (139, 'GGTAT', 0.3095024329824215)], 'Sequence n° 47': [(0, 'ACGGT', 0.2208618200178486), (6, 'CCAAG', 2.9087875458341164), (12, 'TCACT', 1.0027220186576251), (25, 'GGAGG', 1.1240093124565163), (32, 'AGATT', 0.2049983472826128), (38, 'TCTTT', 0.10765243951662706), (45, 'GGAAT', 1.9969627154822684), (52, 'TCCAT', 0.38147119393927376), (63, 'CGAGA', 0.6627412938435192), (73, 'TCGAG', 0.38846098762915676), (79, 'CCAAG', 2.9087875458341164), (85, 'ACTGT', 0.04125077706789859), (95, 'ACAGT', 1.7287110595677455), (101, 'CCTTT', 1.1201297581716898), (111, 'GCCAT', 0.8714156501599766), (122, 'TTAAG', 0.5254960144225094), (131, 'GGTAT', 0.3095024329824215), (140, 'TTATT', 0.42429850925992996)], 'Sequence n° 48': [(3, 'GAGAT', 0.029503461211516924), (13, 'CGACT', 0.9905151553182608), (24, 'TTAGT', 0.9233270395506357), (35, 'GAAAT', 1.537352700761414), (42, 'TCAGC', 0.27682183458593235), (49, 'TGATT', 0.7704285400220472), (55, 'CAAAT', 2.059885563195774), (66, 'TCGGT', 0.786292012757283), (78, 'TCAAT', 2.5317024412559928), (86, 'GTGAT', 0.1429834451702544), (93, 'ACAGT', 1.7287110595677455), (103, 'CTAGA', 0.31661126308140186), (109, 'CTGAT', 0.6655163076046144), (118, 'GCTGG', 0.46123321195109623), (133, 'CCAAA', 1.924986664786759), (139, 'GAGAT', 0.029503461211516924), (149, 'ACATG', 0.5942903152001004), (160, 'CCACT', 2.0151993373126875), (169, 'TTATT', 0.42429850925992996), (181, 'CCAAT', 3.5441797599110556), (190, 'TCAGA', 0.6749481571828834)], 'Sequence n° 49': [(1, 'CCCAG', 0.7585562985173975), (12, 'CCAAC', 1.526860342189808), (25, 'GTATT', 0.9142429654806326), (36, 'TCAAC', 0.5143830235347453), (46, 'GAAAT', 1.537352700761414), (52, 'GTATT', 0.9142429654806326), (58, 'ATAAT', 0.5954580357600141), (75, 'TTATT', 0.42429850925992996), (86, 'ACATG', 0.5942903152001004), (101, 'ACAAT', 1.9662722485165585), (107, 'AGAAT', 0.9415880665221315), (113, 'CCTAG', 1.2213272633342696), (120, 'ACAAT', 1.9662722485165585), (126, 'TCTTT', 0.10765243951662706), (133, 'CCAAC', 1.526860342189808), (140, 'TCAAT', 2.5317024412559928)], 'Sequence n° 50': [(0, 'CTTAT', 0.4859052646546644), (7, 'TCATA', 0.17591962689217755), (18, 'CCCAT', 1.3939485125943367), (24, 'ACAAA', 0.34707915339226203), (32, 'CAACT', 0.5309051405974061), (40, 'GAAAG', 0.9019604866844747), (48, 'CCAGA', 1.687425475837946), (56, 'AAAAT', 0.4819780518012769), (63, 'CATAT', 0.37242528069592706), (70, 'TCAAT', 2.5317024412559928), (77, 'TGAAT', 1.507018259261566), (85, 'GGAAA', 0.377769620357972), (99, 'GGATT', 1.26037299624275), (108, 'TCAGT', 2.29414125230718), (115, 'TCTAT', 0.8442421587561459), (127, 'ACAAT', 1.9662722485165585), (141, 'CCAAT', 3.5441797599110556)], 'Sequence n° 51': [(3, 'CTAAT', 2.1733655471545115), (15, 'AAAAT', 0.4819780518012769), (24, 'CCAGA', 1.687425475837946), (36, 'CATAT', 0.37242528069592706), (48, 'CTAAA', 0.5541724520302148), (62, 'GAACT', 0.008372278163045976), (73, 'CCACA', 0.3960062421883911), (80, 'GCAGT', 2.7840857085278827), (86, 'ACACT', 0.4372918259181906), (96, 'AGAAT', 0.9415880665221315), (103, 'CGAAG', 1.8841033638396896), (118, 'AGATT', 0.2049983472826128), (128, 'CCATT', 2.8075900406715366), (136, 'TGAAG', 0.8716260451846268), (144, 'GTAAG', 1.015440470643212), (153, 'CCAAG', 2.9087875458341164), (164, 'AGAAG', 0.30619585244519226), (173, 'GGTGT', 0.07194124403360858), (189, 'ACTGT', 0.04125077706789859), (195, 'TAATT', 0.3108185253011927)], 'Sequence n° 52': [(2, 'GTACT', 0.12185226212178335), (12, 'CCATC', 0.7902706229502892), (21, 'CCTTT', 1.1201297581716898), (30, 'GCTAT', 1.3341866149768484), (38, 'TCTAG', 0.20884994467920664), (44, 'TCTTT', 0.10765243951662706), (53, 'AGAAG', 0.30619585244519226), (68, 'ACATG', 0.5942903152001004), (75, 'CCATT', 2.8075900406715366), (81, 'ACACT', 0.4372918259181906), (87, 'TCTAT', 0.8442421587561459), (96, 'ACTAT', 0.27881196601671154), (102, 'TCAGT', 2.29414125230718), (108, 'CCAGG', 2.6712263568853034), (117, 'TAAGT', 0.8098470555918984), (123, 'CCAGG', 2.6712263568853034), (133, 'CTAAC', 0.1560461294332638), (139, 'CAAGA', 0.2031312791226645)], 'Sequence n° 53': [(1, 'CCTAA', 0.23752638228691214), (7, 'TCGAG', 0.38846098762915676), (16, 'AGAAT', 0.9415880665221315), (24, 'TAAAG', 0.41201603046377216), (34, 'GTAAT', 1.6508326847201513), (45, 'GCATC', 0.26773776051592924), (57, 'CTAAA', 0.5541724520302148), (73, 'ACAAT', 1.9662722485165585), (81, 'TCAGG', 1.6587490382302406), (101, 'CGTAT', 0.8320352954167818), (112, 'CTGAT', 0.6655163076046144), (118, 'GGTGT', 0.07194124403360858), (126, 'TCCGT', 0.1439100049904608), (136, 'CCTTT', 1.1201297581716898)], 'Sequence n° 54': [(2, 'CCAAC', 1.526860342189808), (11, 'CCAAG', 2.9087875458341164), (21, 'CGAAA', 0.9003024827923322), (32, 'CTAAC', 0.1560461294332638), (39, 'ACAAT', 1.9662722485165585), (51, 'GAAAG', 0.9019604866844747), (59, 'AAAAT', 0.4819780518012769), (77, 'CTTAT', 0.4859052646546644), (89, 'TCAAA', 0.9125093461316963), (95, 'GAAAT', 1.537352700761414), (102, 'TCAAG', 1.8963102271790535), (112, 'TCAAG', 1.8963102271790535), (126, 'TCATT', 1.7951127220164742), (140, 'TGATT', 0.7704285400220472)], 'Sequence n° 55': [(3, 'GGATT', 1.26037299624275), (9, 'CTATG', 0.8013836138380535), (18, 'TGAAT', 1.507018259261566), (26, 'ATAAT', 0.5954580357600141), (40, 'CCAAG', 2.9087875458341164), (51, 'GCGGT', 1.2762364689779857), (61, 'TCTTT', 0.10765243951662706), (68, 'ACAAA', 0.34707915339226203), (74, 'AGAAT', 0.9415880665221315), (88, 'TCAAA', 0.9125093461316963), (97, 'TCAAA', 0.9125093461316963), (109, 'ACAAA', 0.34707915339226203), (117, 'TGAGT', 1.269457070312753), (128, 'GTAAA', 0.03163958959585478), (136, 'CCTTG', 0.4847375440947506), (143, 'TGAAT', 1.507018259261566)], 'Sequence n° 56': [(1, 'TGAAT', 1.507018259261566), (9, 'GCAGA', 1.1648926134035862), (20, 'TCTAG', 0.20884994467920664), (27, 'ACATT', 1.2296825292770397), (33, 'TCATA', 0.17591962689217755), (40, 'TCAGT', 2.29414125230718), (47, 'ACATG', 0.5942903152001004), (54, 'ACAAT', 1.9662722485165585), (61, 'GAGAT', 0.029503461211516924), (70, 'CCAGG', 2.6712263568853034), (79, 'CGTTT', 0.0954455761772629), (90, 'CTAAT', 2.1733655471545115), (96, 'CCAAT', 3.5441797599110556), (102, 'TTAAG', 0.5254960144225094), (114, 'ATAGT', 0.35789684681120115), (120, 'CCATT', 2.8075900406715366), (127, 'CTAAT', 2.1733655471545115), (135, 'CTGAT', 0.6655163076046144), (143, 'TCTTT', 0.10765243951662706), (152, 'GGAAT', 1.9969627154822684), (158, 'TAATT', 0.3108185253011927), (165, 'AAAAT', 0.4819780518012769), (173, 'GGAAA', 0.377769620357972), (181, 'GTGAT', 0.1429834451702544), (189, 'CTAAG', 1.5379733330775722)], 'Sequence n° 57': [(2, 'TGATG', 0.135036325945108), (10, 'AGAAT', 0.9415880665221315), (16, 'GCAAT', 3.0216468974766957), (25, 'TCTGT', 0.6066809698073329), (37, 'TTATT', 0.42429850925992996), (44, 'CCGGA', 0.1795762362880492), (51, 'TCATG', 1.159720507939535), (59, 'CCTTG', 0.4847375440947506), (66, 'ACAAA', 0.34707915339226203), (73, 'GTAGG', 0.7778792816943991), (83, 'CCCTT', 0.657358793354818), (91, 'GCAAT', 3.0216468974766957), (99, 'TCTTT', 0.10765243951662706), (105, 'CTTAT', 0.4859052646546644), (112, 'GAAAG', 0.9019604866844747), (122, 'GCAGC', 0.766766290806635), (129, 'CCAAA', 1.924986664786759), (135, 'ACATG', 0.5942903152001004), (144, 'TAAAT', 1.0474082445407114), (150, 'GGTGT', 0.07194124403360858), (156, 'GCATA', 0.6658640831128803), (165, 'GTGAT', 0.1429834451702544), (177, 'ATAAT', 0.5954580357600141), (193, 'TCAAC', 0.5143830235347453)], 'Sequence n° 58': [(2, 'CGTAG', 0.19664308133984248), (13, 'CTAAT', 2.1733655471545115), (32, 'GTAGT', 1.4132714957713384), (44, 'TCAAA', 0.9125093461316963), (56, 'CCAGT', 3.3066185709622427), (64, 'TGAAT', 1.507018259261566), (72, 'GGAGT', 1.7594015265334555), (91, 'ACATT', 1.2296825292770397), (98, 'CTGAT', 0.6655163076046144), (109, 'CCAAT', 3.5441797599110556), (115, 'GAGAT', 0.029503461211516924), (130, 'TCTTT', 0.10765243951662706), (139, 'GCATT', 2.2850571782371767)], 'Sequence n° 59': [(2, 'GCAGA', 1.1648926134035862), (8, 'GAATT', 0.8007629815218951), (14, 'GGTGT', 0.07194124403360858), (21, 'AGATT', 0.2049983472826128), (30, 'TCCAT', 0.38147119393927376), (36, 'CAAAG', 1.4244933491188347), (45, 'TGAAG', 0.8716260451846268), (57, 'GGAAT', 1.9969627154822684), (65, 'GCTGG', 0.46123321195109623), (72, 'GCCAT', 0.8714156501599766), (78, 'CTAAC', 0.1560461294332638), (89, 'ACAAA', 0.34707915339226203), (96, 'ACATG', 0.5942903152001004), (106, 'GCCAG', 0.23602343608303727), (113, 'GGTAT', 0.3095024329824215), (127, 'CGAAC', 0.5021761601953811), (134, 'GCCAT', 0.8714156501599766)], 'Sequence n° 60': [(5, 'CCTAT', 1.8567194774112088), (18, 'GTATT', 0.9142429654806326), (29, 'CCTAA', 0.23752638228691214), (36, 'TTAAG', 0.5254960144225094), (47, 'ACAAT', 1.9662722485165585), (59, 'TCATA', 0.17591962689217755), (66, 'ACAGT', 1.7287110595677455), (79, 'ACAAA', 0.34707915339226203), (86, 'TCAGG', 1.6587490382302406), (95, 'CCAAA', 1.924986664786759), (103, 'GTAAT', 1.6508326847201513), (116, 'TCCAT', 0.38147119393927376), (126, 'GCTAG', 0.6987944008999092), (138, 'ACATT', 1.2296825292770397), (145, 'ACATT', 1.2296825292770397), (153, 'TAAAT', 1.0474082445407114), (166, 'GTAGT', 1.4132714957713384), (172, 'GTAAA', 0.03163958959585478), (180, 'TCATT', 1.7951127220164742), (187, 'TCATG', 1.159720507939535), (198, 'TCATT', 1.7951127220164742), (207, 'CTTGT', 0.24834407570585137), (215, 'GCATT', 2.2850571782371767), (224, 'TTATT', 0.42429850925992996), (240, 'TGAAT', 1.507018259261566), (254, 'ACAGA', 0.10951796444344897), (268, 'TCATT', 1.7951127220164742), (274, 'GGGGT', 0.2515522869835587), (282, 'TCTGT', 0.6066809698073329), (292, 'ACATT', 1.2296825292770397), (310, 'CTAAA', 0.5541724520302148), (316, 'ACATG', 0.5942903152001004), (324, 'TCATT', 1.7951127220164742), (332, 'TCAAA', 0.9125093461316963), (346, 'GCTAT', 1.3341866149768484), (354, 'ACTAT', 0.27881196601671154), (363, 'CTTGT', 0.24834407570585137), (374, 'TCATT', 1.7951127220164742), (381, 'TCATT', 1.7951127220164742), (387, 'GGATT', 1.26037299624275), (400, 'TCTAG', 0.20884994467920664), (410, 'TGAAT', 1.507018259261566), (416, 'CCATA', 1.18839694554724), (426, 'GCCTT', 0.1348259309204577), (444, 'CATAT', 0.37242528069592706)], 'Sequence n° 61': [(1, 'AAAAT', 0.4819780518012769), (15, 'CCGAG', 1.4009383062842193), (23, 'TTAAT', 1.1608882284994486), (31, 'GTAAA', 0.03163958959585478), (38, 'AAAAT', 0.4819780518012769), (51, 'ACAAT', 1.9662722485165585), (57, 'GCTTT', 0.5975968957373297), (64, 'GTAAA', 0.03163958959585478), (75, 'GTAAT', 1.6508326847201513), (83, 'TCAAT', 2.5317024412559928), (91, 'AGAAT', 0.9415880665221315), (99, 'CCAAG', 2.9087875458341164), (107, 'GAAAT', 1.537352700761414), (116, 'ACAGG', 1.0933188454908063), (124, 'TTAAG', 0.5254960144225094), (131, 'TCTTT', 0.10765243951662706), (141, 'GCAAA', 1.4024538023523991), (149, 'CTACT', 0.6443851245561435), (157, 'GTAAA', 0.03163958959585478), (171, 'CCGAT', 2.0363305203611586), (178, 'CTTGT', 0.24834407570585137), (185, 'GTAGT', 1.4132714957713384), (191, 'GCCAG', 0.23602343608303727), (199, 'GCAAT', 3.0216468974766957), (205, 'CGAAA', 0.9003024827923322), (213, 'CCATC', 0.7902706229502892), (226, 'TGAGG', 0.6340648562358138), (233, 'GCTTT', 0.5975968957373297), (245, 'AAAAT', 0.4819780518012769)], 'Sequence n° 62': [(9, 'CCCTT', 0.657358793354818), (28, 'GCACG', 0.8572742608013885), (34, 'TGATT', 0.7704285400220472), (47, 'CCGGA', 0.1795762362880492), (55, 'CCCAT', 1.3939485125943367), (62, 'CCCAG', 0.7585562985173975), (74, 'ACACT', 0.4372918259181906), (81, 'ACTGT', 0.04125077706789859), (87, 'CGAAC', 0.5021761601953811), (96, 'GGAAG', 1.3615705014053292), (102, 'GCAAA', 1.4024538023523991), (110, 'ATAAT', 0.5954580357600141), (121, 'CCGGG', 1.1633771173354064), (135, 'AAAAT', 0.4819780518012769), (142, 'CGTAT', 0.8320352954167818), (154, 'TCTAT', 0.8442421587561459), (162, 'TCTTT', 0.10765243951662706), (175, 'TCTTT', 0.10765243951662706), (190, 'TCTTT', 0.10765243951662706), (197, 'CTTGT', 0.24834407570585137), (203, 'GTAAT', 1.6508326847201513), (211, 'GTAGT', 1.4132714957713384), (219, 'GCAAA', 1.4024538023523991), (225, 'GCTTT', 0.5975968957373297), (233, 'CGCAT', 0.3692643305999096), (241, 'TCTGT', 0.6066809698073329)], 'Sequence n° 63': [(11, 'GCAAG', 2.3862546833997564), (20, 'GGAAG', 1.3615705014053292), (32, 'CTAGA', 0.31661126308140186), (39, 'GTAAT', 1.6508326847201513), (53, 'CGTAG', 0.19664308133984248), (62, 'GCATG', 1.6496649641602374), (68, 'GCAAT', 3.0216468974766957), (78, 'TCATT', 1.7951127220164742), (91, 'GGTGT', 0.07194124403360858), (99, 'TCTTT', 0.10765243951662706), (108, 'TTAAG', 0.5254960144225094), (114, 'CTAAC', 0.1560461294332638), (135, 'CCAAT', 3.5441797599110556), (141, 'CGTTT', 0.0954455761772629), (147, 'CATGT', 0.1348640917471141), (157, 'GCAAT', 3.0216468974766957), (169, 'GCATA', 0.6658640831128803), (178, 'CCAAT', 3.5441797599110556), (189, 'GCAAA', 1.4024538023523991), (205, 'CGAAA', 0.9003024827923322), (220, 'CCATA', 1.18839694554724), (231, 'GCATC', 0.26773776051592924), (237, 'TCAAG', 1.8963102271790535), (248, 'TTATT', 0.42429850925992996), (255, 'GCAAG', 2.3862546833997564), (265, 'ACAGA', 0.10951796444344897), (280, 'ACTAT', 0.27881196601671154), (290, 'CCGAG', 1.4009383062842193), (297, 'ACGAT', 0.45842300896666155), (309, 'CCAAT', 3.5441797599110556), (317, 'GCAAT', 3.0216468974766957), (328, 'ACAGT', 1.7287110595677455), (340, 'ACTGT', 0.04125077706789859), (346, 'TCACT', 1.0027220186576251), (355, 'TCATT', 1.7951127220164742), (364, 'GCTTT', 0.5975968957373297), (378, 'AAAAT', 0.4819780518012769), (384, 'ATAGT', 0.35789684681120115), (390, 'GTAGT', 1.4132714957713384), (398, 'TCAAC', 0.5143830235347453), (407, 'CTTAT', 0.4859052646546644), (414, 'TTATT', 0.42429850925992996), (421, 'TCGGT', 0.786292012757283), (434, 'ACAAG', 1.3308800344396192), (443, 'ACATG', 0.5942903152001004), (452, 'ACAAA', 0.34707915339226203), (458, 'CCTTT', 1.1201297581716898), (471, 'CCTCT', 0.3277390548128407), (482, 'CCCAG', 0.7585562985173975), (494, 'AAAGT', 0.2444168628524639), (505, 'GCTGT', 1.0966254260280355), (515, 'ACAAT', 1.9662722485165585), (523, 'TCATT', 1.7951127220164742), (533, 'TCATG', 1.159720507939535), (545, 'GCTAT', 1.3341866149768484), (551, 'GCTAT', 1.3341866149768484), (558, 'GCATT', 2.2850571782371767), (566, 'CTTAT', 0.4859052646546644), (575, 'GCAGG', 2.1486934944509435), (583, 'CTACG', 0.008992910479204252)], 'Sequence n° 64': [(20, 'CCAAT', 3.5441797599110556), (26, 'CGATT', 1.7829058586771098), (34, 'TCAAA', 0.9125093461316963), (44, 'CCCGG', 0.5209951095685844), (52, 'ATAAT', 0.5954580357600141), (59, 'GCATT', 2.2850571782371767), (65, 'GCATC', 0.26773776051592924), (79, 'ATAAT', 0.5954580357600141), (86, 'TCTGT', 0.6066809698073329), (94, 'GTGAT', 0.1429834451702544), (102, 'TCTAT', 0.8442421587561459), (115, 'TCTTT', 0.10765243951662706), (121, 'TCACG', 0.36732980458068576), (128, 'GCCGT', 0.6338544612111635), (137, 'CTGAT', 0.6655163076046144), (144, 'ACGGT', 0.2208618200178486), (152, 'TCTTT', 0.10765243951662706), (159, 'GGTGT', 0.07194124403360858), (168, 'CCCGT', 1.1563873236455238), (175, 'CGTGT', 0.5944741064679687), (181, 'GCGTT', 0.7772079386872799)], 'Sequence n° 65': [(4, 'CCGCT', 0.5073500977627908), (11, 'GGGGT', 0.2515522869835587), (17, 'GCTGT', 1.0966254260280355), (32, 'TCGGT', 0.786292012757283), (41, 'CCATC', 0.7902706229502892), (52, 'TCTTT', 0.10765243951662706), (59, 'TCGGT', 0.786292012757283), (65, 'ACAAA', 0.34707915339226203), (75, 'CCACA', 0.3960062421883911), (87, 'AAAGT', 0.2444168628524639), (95, 'CCTGG', 0.9837660743854564), (103, 'CCAAA', 1.924986664786759), (112, 'GCTGT', 1.0966254260280355), (120, 'CCTAG', 1.2213272633342696), (127, 'CTTAT', 0.4859052646546644), (133, 'GCTAG', 0.6987944008999092), (140, 'TAAAG', 0.41201603046377216), (149, 'CTGGT', 0.4279551186558015), (159, 'CCACA', 0.3960062421883911), (174, 'GGGGT', 0.2515522869835587), (194, 'CCGGT', 1.7987693314123456)], 'Sequence n° 66': [(0, 'CCAAC', 1.526860342189808), (6, 'TTAAT', 1.1608882284994486), (12, 'TCAAA', 0.9125093461316963), (18, 'TCTGT', 0.6066809698073329), (27, 'TGATT', 0.7704285400220472), (41, 'CCACA', 0.3960062421883911), (49, 'TGATT', 0.7704285400220472), (56, 'ATAAT', 0.5954580357600141), (62, 'CTATG', 0.8013836138380535), (71, 'ACAGA', 0.10951796444344897), (83, 'ACAAA', 0.34707915339226203), (91, 'GTAAA', 0.03163958959585478), (97, 'AGAAT', 0.9415880665221315), (108, 'TCTTT', 0.10765243951662706), (116, 'ACAGT', 1.7287110595677455), (122, 'CGTTT', 0.0954455761772629), (130, 'TCCAT', 0.38147119393927376), (143, 'TGAAT', 1.507018259261566), (153, 'TTATT', 0.42429850925992996), (163, 'TCACG', 0.36732980458068576), (171, 'TTAAT', 1.1608882284994486), (178, 'CTAAA', 0.5541724520302148), (187, 'TTATT', 0.42429850925992996), (197, 'GCTGT', 1.0966254260280355), (203, 'GCATT', 2.2850571782371767), (219, 'TTATT', 0.42429850925992996), (227, 'CTAAT', 2.1733655471545115), (233, 'TAAAG', 0.41201603046377216), (240, 'AAAAT', 0.4819780518012769), (247, 'TCTGT', 0.6066809698073329), (254, 'TTAAT', 1.1608882284994486), (264, 'ACTGT', 0.04125077706789859), (271, 'TCTTT', 0.10765243951662706), (277, 'TCAAC', 0.5143830235347453), (288, 'GAGAT', 0.029503461211516924), (300, 'TCACG', 0.36732980458068576), (314, 'TGAAT', 1.507018259261566), (320, 'ACAAT', 1.9662722485165585), (327, 'CTAAA', 0.5541724520302148), (333, 'GAAAT', 1.537352700761414), (345, 'AAAGT', 0.2444168628524639)], 'Sequence n° 67': [(0, 'GCAAA', 1.4024538023523991), (6, 'ACAGT', 1.7287110595677455), (12, 'GTACT', 0.12185226212178335), (23, 'TCTTT', 0.10765243951662706), (29, 'TCAAA', 0.9125093461316963), (37, 'CCAAA', 1.924986664786759), (47, 'ACGAT', 0.45842300896666155), (53, 'CCTAA', 0.23752638228691214), (59, 'ACAGT', 1.7287110595677455), (65, 'AGAGG', 0.06863466349637926), (71, 'GTATT', 0.9142429654806326), (78, 'CCACA', 0.3960062421883911), (85, 'GCAGT', 2.7840857085278827), (105, 'ACAGA', 0.10951796444344897), (111, 'CAAAA', 0.44069246807147755), (119, 'TAAAT', 1.0474082445407114), (127, 'TCATA', 0.17591962689217755), (137, 'ACAGA', 0.10951796444344897), (146, 'ACTGT', 0.04125077706789859), (162, 'ACAAA', 0.34707915339226203), (172, 'TCAAT', 2.5317024412559928), (181, 'ACAGT', 1.7287110595677455), (191, 'CCCAT', 1.3939485125943367), (197, 'TCCAT', 0.38147119393927376), (208, 'CCTAA', 0.23752638228691214), (217, 'GCATC', 0.26773776051592924), (224, 'GCAGA', 1.1648926134035862), (233, 'TCAAC', 0.5143830235347453)], 'Sequence n° 68': [(12, 'TTAAT', 1.1608882284994486), (18, 'CCACG', 1.3798071232357483), (30, 'ACACT', 0.4372918259181906), (36, 'GGATG', 0.6249807821658107), (43, 'TCTTT', 0.10765243951662706), (55, 'GCAGC', 0.766766290806635), (62, 'ACTAT', 0.27881196601671154), (69, 'TTATT', 0.42429850925992996), (79, 'ACAAT', 1.9662722485165585), (85, 'TGATT', 0.7704285400220472), (91, 'CCGTT', 1.29974080112164), (100, 'GAACT', 0.008372278163045976), (109, 'CCAAA', 1.924986664786759), (117, 'GAAAG', 0.9019604866844747), (123, 'CTTAT', 0.4859052646546644), (134, 'AGATT', 0.2049983472826128), (144, 'CCTTG', 0.4847375440947506), (152, 'GGATG', 0.6249807821658107), (169, 'GGGAT', 0.4891134759323717), (177, 'TGAAG', 0.8716260451846268), (184, 'GTATT', 0.9142429654806326), (192, 'ACAGT', 1.7287110595677455)], 'Sequence n° 69': [(3, 'GAACT', 0.008372278163045976), (12, 'GCTTT', 0.5975968957373297), (18, 'TTAAT', 1.1608882284994486), (27, 'TAAAG', 0.41201603046377216), (35, 'ACACT', 0.4372918259181906), (45, 'ACACT', 0.4372918259181906), (55, 'CGAAA', 0.9003024827923322), (65, 'TCTAT', 0.8442421587561459), (73, 'CCGGG', 1.1633771173354064), (89, 'TAAAG', 0.41201603046377216), (97, 'AAAGT', 0.2444168628524639), (106, 'ACATT', 1.2296825292770397), (117, 'CTAGG', 1.3004121441287593), (126, 'CTGAT', 0.6655163076046144), (142, 'ACATG', 0.5942903152001004), (164, 'ACATT', 1.2296825292770397), (174, 'AAAAT', 0.4819780518012769), (187, 'GCAAA', 1.4024538023523991)], 'Sequence n° 70': [(5, 'AAAAT', 0.4819780518012769), (11, 'CGAGG', 1.6465421748908766), (20, 'CTGAG', 0.030124093527675255), (26, 'CAAGA', 0.2031312791226645), (35, 'ACAGA', 0.10951796444344897), (44, 'CCCTG', 0.02196657927787865), (52, 'CCGGG', 1.1633771173354064), (60, 'ACAGA', 0.10951796444344897), (67, 'CCAGA', 1.687425475837946), (76, 'GCATT', 2.2850571782371767), (84, 'GAAAT', 1.537352700761414), (91, 'CCCTT', 0.657358793354818), (100, 'GCTGT', 1.0966254260280355), (108, 'CTGAG', 0.030124093527675255), (117, 'ACAAG', 1.3308800344396192), (138, 'CCCTG', 0.02196657927787865), (150, 'CCGAT', 2.0363305203611586), (160, 'CTAGG', 1.3004121441287593), (166, 'AAAAT', 0.4819780518012769), (174, 'TCAAC', 0.5143830235347453), (180, 'ACAAA', 0.34707915339226203), (188, 'CTGGT', 0.4279551186558015), (194, 'CCGTT', 1.29974080112164), (204, 'GAAAG', 0.9019604866844747), (212, 'ACAAG', 1.3308800344396192), (218, 'CCACG', 1.3798071232357483), (227, 'ACATG', 0.5942903152001004), (238, 'CCACA', 0.3960062421883911)], 'Sequence n° 71': [(1, 'ACAAA', 0.34707915339226203), (7, 'TTATT', 0.42429850925992996), (13, 'GGATT', 1.26037299624275), (24, 'CTAAC', 0.1560461294332638), (30, 'GTAAT', 1.6508326847201513), (45, 'TTATT', 0.42429850925992996), (55, 'CCATT', 2.8075900406715366), (63, 'GTACT', 0.12185226212178335), (72, 'ATAAT', 0.5954580357600141), (78, 'TCAAT', 2.5317024412559928), (89, 'CCCAT', 1.3939485125943367), (95, 'TCAAG', 1.8963102271790535), (104, 'TGAAT', 1.507018259261566), (119, 'ACAGT', 1.7287110595677455), (129, 'CCTTT', 1.1201297581716898), (138, 'GGATT', 1.26037299624275)], 'Sequence n° 72': [(1, 'TCAAA', 0.9125093461316963), (10, 'GGAGA', 0.14020843140915906), (17, 'CTAAT', 2.1733655471545115), (25, 'CCTTT', 1.1201297581716898), (35, 'CCAAT', 3.5441797599110556), (49, 'CCATT', 2.8075900406715366), (55, 'TAATT', 0.3108185253011927), (64, 'TCAAA', 0.9125093461316963), (77, 'TTATT', 0.42429850925992996), (84, 'CTAAA', 0.5541724520302148), (91, 'ATAAT', 0.5954580357600141), (97, 'TTAAT', 1.1608882284994486), (107, 'CCTAA', 0.23752638228691214), (114, 'GAAAG', 0.9019604866844747), (128, 'ACGAT', 0.45842300896666155), (134, 'ACTAT', 0.27881196601671154), (140, 'TCATG', 1.159720507939535)], 'Sequence n° 73': [(1, 'GAAAT', 1.537352700761414), (16, 'GGAAG', 1.3615705014053292), (25, 'GTAAG', 1.015440470643212), (36, 'CCAAT', 3.5441797599110556), (54, 'TCATT', 1.7951127220164742), (72, 'TCTTT', 0.10765243951662706), (78, 'TCAAT', 2.5317024412559928), (86, 'GCAGA', 1.1648926134035862), (94, 'CAACT', 0.5309051405974061), (119, 'GCAAT', 3.0216468974766957), (131, 'CCCAT', 1.3939485125943367), (137, 'GCATC', 0.26773776051592924), (145, 'CTTGT', 0.24834407570585137)], 'Sequence n° 74': [(7, 'CCAAC', 1.526860342189808), (16, 'ACATG', 0.5942903152001004), (24, 'TCGAT', 1.023853201706096), (36, 'GCAGC', 0.766766290806635), (53, 'AGAGG', 0.06863466349637926), (62, 'TCTTT', 0.10765243951662706), (69, 'GCTAG', 0.6987944008999092), (75, 'CCTCT', 0.3277390548128407), (85, 'ACAAT', 1.9662722485165585), (94, 'CCATG', 2.1721978265945974), (103, 'ACAAA', 0.34707915339226203), (111, 'GCTGG', 0.46123321195109623), (123, 'TCAGC', 0.27682183458593235), (130, 'CGAAA', 0.9003024827923322), (144, 'CCTAG', 1.2213272633342696), (156, 'ACGGT', 0.2208618200178486), (166, 'GGACT', 0.4679822928839007), (172, 'GCTTT', 0.5975968957373297), (180, 'TCAGC', 0.27682183458593235), (188, 'ACAGG', 1.0933188454908063), (196, 'TCAAT', 2.5317024412559928), (204, 'GGGAT', 0.4891134759323717), (216, 'TCGAT', 1.023853201706096), (223, 'CCTTG', 0.4847375440947506), (232, 'CGACG', 0.3551229412413216), (240, 'TCGGT', 0.786292012757283)], 'Sequence n° 75': [(4, 'TCAGT', 2.29414125230718), (20, 'TGAAT', 1.507018259261566), (28, 'GCAGA', 1.1648926134035862), (34, 'TGAGT', 1.269457070312753), (43, 'ATAAT', 0.5954580357600141), (59, 'CGAAA', 0.9003024827923322), (68, 'TCAAA', 0.9125093461316963), (74, 'CCTTG', 0.4847375440947506), (80, 'ACAAA', 0.34707915339226203), (88, 'CCTAG', 1.2213272633342696), (99, 'TCTGT', 0.6066809698073329), (105, 'CAAAT', 2.059885563195774), (112, 'TTAGT', 0.9233270395506357), (125, 'CCAAG', 2.9087875458341164), (134, 'TCAAG', 1.8963102271790535), (144, 'TCTTT', 0.10765243951662706), (150, 'CCAAG', 2.9087875458341164), (156, 'ACAAG', 1.3308800344396192), (164, 'CCAAG', 2.9087875458341164), (170, 'CCAAC', 1.526860342189808), (179, 'CCTTT', 1.1201297581716898), (190, 'CCAGA', 1.687425475837946)], 'Sequence n° 76': [(0, 'GTATT', 0.9142429654806326), (12, 'CCTAA', 0.23752638228691214), (21, 'TTAGG', 0.2879348254736964), (31, 'CTGAT', 0.6655163076046144), (45, 'CCTGG', 0.9837660743854564), (54, 'CCTTT', 1.1201297581716898), (66, 'CCAGC', 1.289299153240995), (72, 'TCTAT', 0.8442421587561459), (83, 'TGAAT', 1.507018259261566), (93, 'TTATT', 0.42429850925992996), (99, 'CCATT', 2.8075900406715366), (108, 'GCTAT', 1.3341866149768484), (114, 'TTAAG', 0.5254960144225094), (120, 'TCTAT', 0.8442421587561459), (127, 'CTGAT', 0.6655163076046144), (135, 'TTATT', 0.42429850925992996), (141, 'GGTGT', 0.07194124403360858)], 'Sequence n° 77': [(5, 'CTTAT', 0.4859052646546644), (11, 'CCAAT', 3.5441797599110556), (19, 'TGATT', 0.7704285400220472), (26, 'TCTTT', 0.10765243951662706), (32, 'CAAGT', 1.822324374246961), (40, 'TTAAT', 1.1608882284994486), (47, 'ACACT', 0.4372918259181906), (58, 'ACAAA', 0.34707915339226203), (65, 'CTAAC', 0.1560461294332638), (72, 'TCATA', 0.17591962689217755), (79, 'GTGAT', 0.1429834451702544), (88, 'TCATA', 0.17591962689217755), (96, 'TTAAT', 1.1608882284994486), (102, 'CTGAG', 0.030124093527675255), (116, 'TAAAT', 1.0474082445407114), (126, 'ACAAA', 0.34707915339226203), (132, 'CCATT', 2.8075900406715366), (138, 'GAAAG', 0.9019604866844747)], 'Sequence n° 78': [(6, 'GGACT', 0.4679822928839007), (21, 'ACAAG', 1.3308800344396192), (27, 'GCAAA', 1.4024538023523991), (35, 'AAAAT', 0.4819780518012769), (41, 'CTAAC', 0.1560461294332638), (52, 'GGACT', 0.4679822928839007), (59, 'GTAAA', 0.03163958959585478), (70, 'TCAAT', 2.5317024412559928), (76, 'CAAAA', 0.44069246807147755), (82, 'GCAAA', 1.4024538023523991), (89, 'AGAAG', 0.30619585244519226), (97, 'TCAAG', 1.8963102271790535), (104, 'CTCAT', 0.02313429983779247), (113, 'CCCAG', 0.7585562985173975), (119, 'AAAGT', 0.2444168628524639), (131, 'ACAAA', 0.34707915339226203), (139, 'TCATG', 1.159720507939535)]}\n"
     ]
    }
   ],
   "source": [
    "PWM = pwm ( p )\n",
    "f_0 = f0_calcule ( PWM, k )\n",
    "positions_motif = extract_indexes_sequences ( sequences, PWM, f_0, k )\n",
    "print ( positions_motif )\n"
   ]
  },
  {
   "cell_type": "code",
   "execution_count": 123,
   "metadata": {},
   "outputs": [
    {
     "name": "stdout",
     "output_type": "stream",
     "text": [
      "len :  78\n",
      "taille: 78\n",
      "[(0, 3.5441797599110556), (4, 3.5441797599110556), (15, 3.5441797599110556), (23, 3.5441797599110556), (24, 3.5441797599110556), (30, 3.5441797599110556), (31, 3.5441797599110556), (36, 3.5441797599110556), (38, 3.5441797599110556), (41, 3.5441797599110556), (42, 3.5441797599110556), (47, 3.5441797599110556), (49, 3.5441797599110556), (55, 3.5441797599110556), (57, 3.5441797599110556), (62, 3.5441797599110556), (63, 3.5441797599110556), (71, 3.5441797599110556), (72, 3.5441797599110556), (76, 3.5441797599110556), (1, 3.3066185709622427), (5, 3.3066185709622427), (8, 3.3066185709622427), (2, 3.0216468974766957), (6, 3.0216468974766957), (13, 3.0216468974766957), (20, 3.0216468974766957), (25, 3.0216468974766957), (27, 3.0216468974766957), (33, 3.0216468974766957), (40, 3.0216468974766957), (56, 3.0216468974766957), (60, 3.0216468974766957), (3, 2.9087875458341164), (10, 2.9087875458341164), (22, 2.9087875458341164), (34, 2.9087875458341164), (39, 2.9087875458341164), (46, 2.9087875458341164), (50, 2.9087875458341164), (53, 2.9087875458341164), (54, 2.9087875458341164), (74, 2.9087875458341164), (7, 2.8075900406715366), (21, 2.8075900406715366), (37, 2.8075900406715366), (45, 2.8075900406715366), (51, 2.8075900406715366), (70, 2.8075900406715366), (75, 2.8075900406715366), (9, 2.7840857085278827), (12, 2.7840857085278827), (18, 2.7840857085278827), (66, 2.7840857085278827), (14, 2.5317024412559928), (19, 2.5317024412559928), (35, 2.5317024412559928), (43, 2.5317024412559928), (44, 2.5317024412559928), (48, 2.5317024412559928), (73, 2.5317024412559928), (77, 2.5317024412559928), (16, 2.29414125230718), (11, 2.2850571782371767), (59, 2.2850571782371767), (65, 2.2850571782371767), (69, 2.2850571782371767), (32, 2.1733655471545115), (17, 2.1486934944509435), (58, 1.9969627154822684), (26, 1.9662722485165585), (52, 1.9662722485165585), (67, 1.9662722485165585), (64, 1.924986664786759), (29, 1.7987693314123456), (28, 1.687425475837946), (61, 1.6508326847201513), (68, 1.4024538023523991)]\n"
     ]
    }
   ],
   "source": [
    "import operator\n",
    "#Retourne toutes les séquences avec leur log respectif\n",
    "def get_max_log(sequences,PWM,f_0,k):\n",
    "    positions_motifs=extract_indexes_sequences(sequences,PWM,f_0,k)\n",
    "    print(\"len : \",len(positions_motifs))\n",
    "    log_max=dict()\n",
    "    tmp=[]\n",
    "    cpt=0\n",
    "    for sequence,L in positions_motifs.items():\n",
    "        for var in L:\n",
    "            tmp.append(var[2])\n",
    "        log_max[cpt]=max(tmp)\n",
    "        #print(\"Le log max de la sequence {} est {}\".format(cpt,max(tmp)))\n",
    "        cpt+=1\n",
    "        tmp=[]\n",
    "        \n",
    "    sorted_log_max=sorted(log_max.items(),key= lambda x:x[1],reverse=True)\n",
    "    print(\"taille:\",len(sorted_log_max))\n",
    "    #log_max=sorted(log_max,key=None,reverse=True)\n",
    "    return sorted_log_max\n",
    "        \n",
    "res=get_max_log(sequences,PWM,f_0,k)\n",
    "print(res)"
   ]
  },
  {
   "cell_type": "code",
   "execution_count": 60,
   "metadata": {},
   "outputs": [
    {
     "name": "stdout",
     "output_type": "stream",
     "text": [
      "Nombre de motifs trouvés: 2828\n"
     ]
    }
   ],
   "source": [
    "cpt = 0\n",
    "#print(positions_motifs[\"Sequence n° 1\"])\n",
    "for sequence, L in positions_motif.items():\n",
    "    #print ( sequence, \", nombre de motifs trouvés :\", len ( L ) )\n",
    "    cpt += len (  L)\n",
    "print ( \"Nombre de motifs trouvés:\", cpt )\n"
   ]
  },
  {
   "cell_type": "markdown",
   "metadata": {},
   "source": [
    "### D -  Localisation de facteur de transcriptions\n",
    "15\\. Une fois que vous avez localisé le motif dans le donnée de chipSeq, nous allons identifier les fonctions de gènes qui sont associées aux facteurs de transcription. Pour cela, nous allons utiliser le fichier qui contient tout le génome (C_glabrata_1000bp_only.fasta), localiser le motif (vous pouvez utiliser un des algos précédent), et identifier les gènes. Ensuite nous pouvons vérifier leurs fonctions dans le fichier \"C_glabrata_annotations.csv\" à l'aide de ses identifiant."
   ]
  },
  {
   "cell_type": "code",
   "execution_count": 114,
   "metadata": {},
   "outputs": [],
   "source": [
    "sequences_glabrata = readFasta ( \"C_glabrata_1000bp_only.fasta\" )"
   ]
  },
  {
   "cell_type": "code",
   "execution_count": 115,
   "metadata": {},
   "outputs": [
    {
     "name": "stdout",
     "output_type": "stream",
     "text": [
      "Le motif CCAAT a été trouvé dans 3735 séquences différentes.\n"
     ]
    }
   ],
   "source": [
    "afficher_nb_motifs_trouvés ( sequences_glabrata, search )\n"
   ]
  },
  {
   "cell_type": "code",
   "execution_count": 125,
   "metadata": {},
   "outputs": [
    {
     "name": "stdout",
     "output_type": "stream",
     "text": [
      "len :  5299\n",
      "taille: 5299\n",
      "[(0, 3.5441797599110556), (3, 3.5441797599110556), (5, 3.5441797599110556), (6, 3.5441797599110556), (7, 3.5441797599110556), (9, 3.5441797599110556), (10, 3.5441797599110556), (12, 3.5441797599110556), (13, 3.5441797599110556), (14, 3.5441797599110556)]\n"
     ]
    }
   ],
   "source": [
    "k=5\n",
    "#print(p)\n",
    "res=get_max_log(sequences_glabrata,PWM,f_0,k)\n",
    "print(res[0:10])\n",
    "#On récupère les 10 premières séquences avec le plus grand log"
   ]
  },
  {
   "cell_type": "markdown",
   "metadata": {},
   "source": [
    "Les séquences avec le log le plus élevé et leur locus tag:\n",
    "\n",
    "-Séquence 0 : CAGL0I00616g : \tOrtholog(s) have protein transmembrane transporter activity, role in posttranslational protein targeting to membrane, translocation and Sec62/Sec63 complex localization\n",
    "\n",
    "-Séquence 3 : CAGL0L11704g : DNA Binding, DNA secondary structure binding activity\n",
    "\n",
    "-Séquence 5:  CAGL0L07810g : have role in cellular potassium ion homeostasis \n",
    "\n",
    "-Séquence 6:  CAGL0L10230g :  chaperone binding, protein-macromolecule adaptor activity, role in cAMP-mediated signaling, cellular protein-containing complex assembly, kinetochore assembly and cytoplasm, nucleus, ubiquitin ligase complex localization\n",
    "\n",
    "-Séquence 7:  CAGL0K09856g : have S-adenosylmethionine-dependent methyltransferase activity and role in protein methylation\n",
    "\n",
    "-Séquence 9:  CAGL0M01144g : have nuclear export signal receptor activity, role in protein export from nucleus, tRNA re-export from nucleus and cytoplasm, nucleus localization\n",
    "\n",
    "-Séquence 10: CAGL0M09735g : Putative protein involved in DNA damage checkpoint; gene is upregulated in azole-resistant strain\n",
    "\n",
    "-Séquence 12: CAGL0E03894g :  Glycerol transporter; involved in flucytosine resistance; double fps1/fps2 mutant accumulates glycerol, has constitutive cell wall stress, is hypersensitive to caspofungin in vitro and in vivo\n",
    "\n",
    "-Séquence 13: CAGL0I02222g :DNA helicase activity, chromatin binding and nuclease activity\n",
    "\n",
    "-Séquence 14: CAGL0C01441g : role in endocytic recycling, tRNA methylation, wobble position ribose methylation and cytoplasm, endosome localization\n",
    "\n",
    "\n",
    "\n"
   ]
  },
  {
   "cell_type": "code",
   "execution_count": null,
   "metadata": {},
   "outputs": [],
   "source": []
  }
 ],
 "metadata": {
  "celltoolbar": "Raw Cell Format",
  "kernelspec": {
   "display_name": "Python 3",
   "language": "python",
   "name": "python3"
  },
  "language_info": {
   "codemirror_mode": {
    "name": "ipython",
    "version": 3
   },
   "file_extension": ".py",
   "mimetype": "text/x-python",
   "name": "python",
   "nbconvert_exporter": "python",
   "pygments_lexer": "ipython3",
   "version": "3.6.6"
  }
 },
 "nbformat": 4,
 "nbformat_minor": 2
}
