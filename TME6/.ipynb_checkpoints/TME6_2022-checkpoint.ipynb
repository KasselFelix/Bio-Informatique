{
 "cells": [
  {
   "cell_type": "markdown",
   "metadata": {
    "id": "981-NdKA_huf"
   },
   "source": [
    "# TME 6 : Projet Detection de motifs\n",
    "\n",
    "\n",
    "## Recheche de pattern (motifs) en utilisant les algoritmes randomisés\n",
    "\n",
    "Les algorithmes randomisés prendre des décisions aléatoire plutôt que déterministes.\n",
    "l'algorithme s'exécute différemment à chaque fois. Ils sont couramment utilisés dans situations où aucun algorithme exact et rapide est connu. Nous allons implémenter deux algorithmes randomisés pour la recherche de motifs : Greedy Profile Motif Search et random Projections.\n"
   ]
  },
  {
   "cell_type": "markdown",
   "metadata": {
    "id": "5z3a_1W0_huk"
   },
   "source": [
    "1\\. Nous allons réutiliser les fonctions du TME5 pour générer `t` séquences artificielles de taille `n`, et implanter dans chaque séquence un motif de taille `k` à des positions aléatoires avec `v` substitutions choisies aléatoirement."
   ]
  },
  {
   "cell_type": "code",
   "execution_count": 1,
   "metadata": {
    "id": "6UbcF5N2_hul"
   },
   "outputs": [],
   "source": [
    "import random\n",
    "import numpy as np\n",
    "\n",
    "nuc = ('A', 'C', 'G', 'T')\n",
    "\n",
    "k=5 #taille de motif\n",
    "v=1 #nb de positions variable dans le motif\n",
    "t=3 #nb de sequences\n",
    "n=10 #longuer des sequence\n"
   ]
  },
  {
   "cell_type": "code",
   "execution_count": 2,
   "metadata": {
    "id": "IplKLaGL_hun"
   },
   "outputs": [
    {
     "name": "stdout",
     "output_type": "stream",
     "text": [
      "['TACCGTAGGG', 'GTCTAGATCA', 'GGCCTTTGAC']\n",
      "['TACCGTAGGG', 'GTCTAGATCA', 'GGCCTTTGAC']\n"
     ]
    }
   ],
   "source": [
    "def generateRandomSequence(n, upper=True):\n",
    "    \"\"\"\n",
    "    Génère une séquence nucléotidique aléatoire \n",
    "    entrée n : longueur de la sequence\n",
    "    entrée upper : bool, si True les nucléotides seront en majuscule, False minuscule\n",
    "    sortie sequence : une séquence nucléotidique aléatoire \n",
    "    \"\"\"\n",
    "    sequence =\"\".join([nuc[random.randint(0,3)] for i in range(n)])\n",
    "    if upper:\n",
    "        return sequence.upper()\n",
    "    return sequence.lower()\n",
    "\n",
    "\n",
    "def modifierMotif(motif, nbpos,  upper=True):\n",
    "    \"\"\"\n",
    "    Modifie nbpos positions d'un motif aléatoirement \n",
    "    entrée motif: motif à modifier\n",
    "    entrée nbpos: nombre de positions\n",
    "    entrée upper : bool, si True les nucléotides modifiés seront majuscule, False minuscule\n",
    "    sortie motifM: motif modifié\n",
    "    \"\"\"\n",
    "    motifM = ''\n",
    "    while nbpos>0:\n",
    "        rand=random.randint(0,len(motif)-1)\n",
    "        motifM=motif[:rand]+nuc[(nuc.index(motif[rand])+random.randint(1,3))%len(nuc)]+motif[rand+1:]\n",
    "        nbpos-=1\n",
    "    if upper:\n",
    "        return motifM.upper()\n",
    "    return motifM.lower()\n",
    "\n",
    "\n",
    "\n",
    "def implantMotifVar(k, v, t, n):\n",
    "    \"\"\"\n",
    "    Génère des séquences aléatoires et les implante des motifs variables (un motif par séquence)\n",
    "    entrée k: taille du motif\n",
    "    entrée v: nombre de variations\n",
    "    entrée t : nombre de séquences \n",
    "    entrée n : longueur des séquences\n",
    "    sortie DNA : matrice de dimension txn avec les motifs implantés\n",
    "    REMARQUE : La taille totale des séquences plus motif doit être égal à t, pensez à générer de séquence aléatoire de taille t-k pour pouvoir implanter un motif de taille k\n",
    "    \"\"\"\n",
    "\n",
    "    sequences = []\n",
    "    for i in range(t):\n",
    "        s=generateRandomSequence(n-k, True)\n",
    "        motif=modifierMotif(generateRandomSequence(k, True), v,True)\n",
    "        i=random.randint(0,len(s)-1)\n",
    "        s=s[:i]+motif+s[i:]\n",
    "        sequences+=[s]\n",
    "    \n",
    "    return sequences\n",
    "\n",
    "adn = implantMotifVar(k, v, t, n)\n",
    "print (adn)\n",
    "\n",
    "adn  = [s.upper() for s in adn]\n",
    "print (adn)"
   ]
  },
  {
   "cell_type": "markdown",
   "metadata": {
    "id": "NoPjFWpM_huq"
   },
   "source": [
    "2\\. Faire une fonction pour sélectionner des positions de départ aléatoirement `s = (s1, …,st)`.\n"
   ]
  },
  {
   "cell_type": "code",
   "execution_count": 3,
   "metadata": {
    "colab": {
     "base_uri": "https://localhost:8080/"
    },
    "id": "WwUeYNeJ_hur",
    "outputId": "b0d6c2c1-ae10-461e-e9c5-68ba7c6da5be"
   },
   "outputs": [
    {
     "name": "stdout",
     "output_type": "stream",
     "text": [
      "['TACCGTAGGG', 'GTCTAGATCA', 'GGCCTTTGAC']\n",
      "[2, 2, 2]\n"
     ]
    }
   ],
   "source": [
    "#creating vector s\n",
    "#Get t random positions from 0 to n - k\n",
    "def generateRandomS(sequences, k):\n",
    "\t\"\"\"\n",
    "\tGénère un vecteur de position aléatoires\n",
    "\tentrée sequences: matrice de dimension txn contenant les sequences\n",
    "\tentrée k: taille du motif\n",
    "\tsortie s: vecteur de position aléatoires, une position par séquence\n",
    "    REMARQUE les positions doivent être inférieur à n-k\n",
    "\t\"\"\"\n",
    "\treturn [random.randint(0,(len(s)-k-1)) for s in sequences if k < len(s)]\n",
    "\n",
    "s = generateRandomS(adn, k)\n",
    "print (adn)\n",
    "print (s)"
   ]
  },
  {
   "cell_type": "markdown",
   "metadata": {
    "id": "vwTv0oVD_hut"
   },
   "source": [
    "3\\. Extraire les motifs en utilisant le vecteur `s`, et construire un profile (matrice de fréquence). Attention, utiliser les pseudocount 1 pour éviter les plus tard les probabilités à zéro.\n"
   ]
  },
  {
   "cell_type": "code",
   "execution_count": 4,
   "metadata": {
    "id": "GMC6y17y_hut"
   },
   "outputs": [
    {
     "name": "stdout",
     "output_type": "stream",
     "text": [
      "['CCGTA', 'CTAGA', 'CCTTT']\n",
      "[[1. 1. 2. 1. 3.]\n",
      " [4. 3. 1. 1. 1.]\n",
      " [1. 1. 2. 2. 1.]\n",
      " [1. 2. 2. 3. 2.]]\n"
     ]
    }
   ],
   "source": [
    "nuc = ('A', 'C', 'G', 'T')\n",
    "def extractSeqs(s, seqs, k):\n",
    "    \"\"\"\n",
    "    Extraire les motifs des séquences à l'aide de positions s\n",
    "    entrée s: vecteur contenant les positions de départs\n",
    "    entrée seqs: matrice de dimension txn contenant les séquences\n",
    "    entrée k: taille du motif\n",
    "    sortie motifs: liste de motifs de taille k extrait des séquences\n",
    "    \"\"\"\n",
    "    motifs = []\n",
    "    for i in range(len(seqs)):\n",
    "        motifs.append(seqs[i][s[i]:s[i]+k])\n",
    "    return motifs\n",
    "    #return [motifs.append(seqs[i][s[i]:s[i]+k]) i for i in range(len(seqs) ]\n",
    "        \n",
    "\n",
    "#Construire matrice de fréquence\n",
    "def profile(motifs, k, nuc):\n",
    "    \"\"\"\n",
    "    Construire une matrice de fréquence de dimension k x |nuc|\n",
    "    entrée motifs: liste de motifs\n",
    "    entrée k: taille du motif\n",
    "    entrée nuc: alphabet\n",
    "    sortie MF: matrice de fréquence\n",
    "    \"\"\"\n",
    "    nuc = ('A', 'C', 'G', 'T')\n",
    "    MF = np.ones((len(nuc), k))\n",
    "    for m in motifs:\n",
    "        for i in range(k):\n",
    "            MF[nuc.index(m[i])][i]+=1\n",
    "    return MF\n",
    "\n",
    "motifs= extractSeqs(s, adn, k)\n",
    "print(motifs)\n",
    "MF = profile(motifs, k, nuc)\n",
    "print(MF)"
   ]
  },
  {
   "cell_type": "markdown",
   "metadata": {
    "id": "zIw6koU2_huu"
   },
   "source": [
    "4\\. Transformer la matrice de fréquence en PWM. Il faut diviser chaque élément par la somme de ses colonnes. Faire aussi une fonction pour calculer la sequence consensus d'une matrice de frequence."
   ]
  },
  {
   "cell_type": "code",
   "execution_count": 5,
   "metadata": {
    "id": "wOH5mbkA_huv"
   },
   "outputs": [
    {
     "name": "stdout",
     "output_type": "stream",
     "text": [
      "[[0.14285714 0.14285714 0.28571429 0.14285714 0.42857143]\n",
      " [0.57142857 0.42857143 0.14285714 0.14285714 0.14285714]\n",
      " [0.14285714 0.14285714 0.28571429 0.28571429 0.14285714]\n",
      " [0.14285714 0.28571429 0.28571429 0.42857143 0.28571429]]\n"
     ]
    }
   ],
   "source": [
    "motifs = [s.upper() for s in motifs]\n",
    "\n",
    "def generatePWM(MF):\n",
    "    \"\"\"\n",
    "    Transforme la matrice de fréquence en PWM\n",
    "    entrée MF: matrice de fréquence\n",
    "    sortie PWM: matrice de probabilité (poids positions)\n",
    "    \"\"\"\n",
    "    PWM=np.zeros((len(nuc), k))\n",
    "    for i in range(len(MF)):\n",
    "        for j in range(len(MF[i])):\n",
    "            c=MF[0: len(MF),i]\n",
    "            PWM[i][j]=MF[i][j]/c.sum()\n",
    "            \n",
    "    return PWM\n",
    "        \n",
    "PWM = generatePWM(MF)\n",
    "print(PWM)"
   ]
  },
  {
   "cell_type": "code",
   "execution_count": 6,
   "metadata": {
    "id": "lx1tEoWFjOPn"
   },
   "outputs": [
    {
     "name": "stdout",
     "output_type": "stream",
     "text": [
      "[[1. 1. 2. 1. 3.]\n",
      " [4. 3. 1. 1. 1.]\n",
      " [1. 1. 2. 2. 1.]\n",
      " [1. 2. 2. 3. 2.]]\n",
      "CCATA\n"
     ]
    }
   ],
   "source": [
    "def getConsensus(MF, k, nuc):\n",
    "    \"\"\"\n",
    "    Renvoie la sequence consensus d'une matrice de frequence\n",
    "    entrée MF: matrice de fréquence\n",
    "    entrée k: taille du motif\n",
    "    entrée nuc: alphabet\n",
    "    sortie seqCons: sequence consensus\n",
    "    \"\"\"\n",
    "    seqCons = [0 for i in range(k)]\n",
    "    tmp=[0 for i in range(k)]\n",
    "    for i in range (len(nuc)):\n",
    "        for j in range(len(MF[i])) :\n",
    "            if MF[i][j]>tmp[j]:\n",
    "                tmp[j]=MF[i][j]\n",
    "                seqCons[j]=nuc[i]\n",
    "    return ''.join(seqCons)\n",
    "\n",
    "seqCons = getConsensus(MF, k, nuc)\n",
    "print(MF)\n",
    "print(seqCons)\n"
   ]
  },
  {
   "cell_type": "markdown",
   "metadata": {
    "id": "ThOfxUGq_huw"
   },
   "source": [
    "5\\. Faire une fonction pour calculer la probabilité d'un motif de taille `k` selon une PWM.\n"
   ]
  },
  {
   "cell_type": "code",
   "execution_count": 7,
   "metadata": {
    "id": "ZUNbTtum_huw",
    "scrolled": true
   },
   "outputs": [
    {
     "name": "stdout",
     "output_type": "stream",
     "text": [
      "0.012851787945498894\n"
     ]
    }
   ],
   "source": [
    "def probability(PWM, motif):\n",
    "    \"\"\"\n",
    "    Calcul la probalité d'un motif selon PWM\n",
    "    entrée PWM: matrice de probabilité (poids positions)\n",
    "    entrée motif: motif\n",
    "    sortie prob: probalité Prob(motif|PWM)\n",
    "    \"\"\"\n",
    "    pos = 0; prob = 1\n",
    "    #print (PWM)\n",
    "    for n in motif:\n",
    "        i = nuc.index(n)\n",
    "        #print (i, pos)\n",
    "        prob *=PWM[i, pos]\n",
    "        pos +=1\n",
    "    return prob\n",
    "\n",
    "prob = probability(PWM, seqCons)\n",
    "print (prob)"
   ]
  },
  {
   "cell_type": "markdown",
   "metadata": {
    "id": "aqLjmxrx_hux"
   },
   "source": [
    "6\\. Faire une fonction pour calculer le pMostProbkmer d'une séquence, voir un exemple dans les slides de cours."
   ]
  },
  {
   "cell_type": "code",
   "execution_count": 8,
   "metadata": {
    "colab": {
     "base_uri": "https://localhost:8080/"
    },
    "id": "-_GDK4mQ_huy",
    "outputId": "fd27df91-a730-4e20-d1c4-1bfff3505910"
   },
   "outputs": [
    {
     "name": "stdout",
     "output_type": "stream",
     "text": [
      "3\n"
     ]
    }
   ],
   "source": [
    "def pMostProbkmer(P, k, sequence):\n",
    "    \"\"\"\n",
    "    calcul la position du k-mer le plus probable dans la séquence\n",
    "    entrée PWM: matrice de probabilité (poids positions)\n",
    "    entrée k: taille du motif\n",
    "    entrée sequence: séquence nucleotidique\n",
    "    sortie s: la position du k-mer le plus probable dans la sequence\n",
    "    \"\"\"\n",
    "    \n",
    "    s = 0 # position \n",
    "    tmp=0\n",
    "    for i in range(len(sequence)):\n",
    "        if len(sequence[i:i+k])==k:\n",
    "            prob=probability(P,sequence[i:i+k])\n",
    "        if prob>tmp:\n",
    "            tmp=prob\n",
    "            s=i\n",
    "    return s\n",
    "\n",
    "\n",
    "s = pMostProbkmer(PWM, k, \"GCC\" + seqCons+ \"GGATACT\")\n",
    "print (s)"
   ]
  },
  {
   "cell_type": "markdown",
   "metadata": {
    "id": "QwXuMhNn_huy"
   },
   "source": [
    "7\\. Faire une fonction pour obtenir les nouvelles positions de départ `s = (s1, …,st)`, c’était à dire les positions qui contiens les k-mer le plus probables."
   ]
  },
  {
   "cell_type": "code",
   "execution_count": 9,
   "metadata": {
    "id": "G3neuRM9_huz"
   },
   "outputs": [
    {
     "name": "stdout",
     "output_type": "stream",
     "text": [
      "[2, 2, 2]\n"
     ]
    }
   ],
   "source": [
    "def getNewS(PWM, k, sequences):\n",
    "    \"\"\"\n",
    "    Trouve les nouvelles positions des k-mer le plus probables\n",
    "    entrée PWM: matrice de probabilité (poids positions)\n",
    "    entrée k: taille du motif\n",
    "    entrée sequence: séquence nucleotidique\n",
    "    sortie s: vecteur avec les positions les plus problables\n",
    "    \"\"\"\n",
    "    return [pMostProbkmer(PWM, k, s) for s in sequences]\n",
    "\n",
    "ns = getNewS(PWM, k, adn)\n",
    "print (ns)"
   ]
  },
  {
   "cell_type": "markdown",
   "metadata": {
    "id": "WoETBPxq_huz"
   },
   "source": [
    "8\\. La condition d’arrêt de l'algorithme est le non changement de la matrice de fréquence d'une itération à l'autre, \n",
    "faire une fonction pour comparer deux matrices et détecter le changement. \n",
    "Faire aussi une fonction pour obtenir le score d'une matrice de fréquence : la somme de max de chaque colonne"
   ]
  },
  {
   "cell_type": "code",
   "execution_count": 10,
   "metadata": {
    "id": "NUDOYB6A_hu0"
   },
   "outputs": [
    {
     "name": "stdout",
     "output_type": "stream",
     "text": [
      "3 [2, 2, 2]\n",
      "15.0\n"
     ]
    }
   ],
   "source": [
    "def changeProfile(P1, P2):\n",
    "    \"\"\"\n",
    "    Compare deux matrice\n",
    "    entrée P1: matrice de fréquence\n",
    "    entrée P2: matrice de fréquence\n",
    "    sortie: True si les matrices sont différents, False au contraire\n",
    "    \"\"\"\n",
    "    for i in range(len (P1)):\n",
    "        for j in range(len(P1[i])):\n",
    "            if P1[i][j]!=P2[i][j]:\n",
    "                return True\n",
    "    return False\n",
    "\n",
    "def getScore(MF, k):\n",
    "    \"\"\"\n",
    "    Renvoie le score de MF, la somme des max de chaque colonne\n",
    "    entrée P: matrice de fréquence\n",
    "    entrée k: taille du motif\n",
    "    sortie sc: score\n",
    "    \"\"\"\n",
    "    sc = 0\n",
    "    for i in range (k):\n",
    "        sc+=MF[0:len(MF),i].max()\n",
    "    return sc\n",
    "\n",
    "ns = getNewS(PWM, k, adn)\n",
    "print (s, ns)\n",
    "\n",
    "sc = getScore(MF, k)\n",
    "print (sc)\n"
   ]
  },
  {
   "cell_type": "markdown",
   "metadata": {
    "id": "QhO7GPfn_hu0"
   },
   "source": [
    "9\\. Implementer l'algorithme ``GreedyProfileMotifSearch`` en utilisant les fonctions precedentes. \n"
   ]
  },
  {
   "cell_type": "code",
   "execution_count": 11,
   "metadata": {
    "id": "s3wvHQUp_hu0"
   },
   "outputs": [
    {
     "name": "stdout",
     "output_type": "stream",
     "text": [
      "['GTAGG', 'TAGAT', 'CTTTG']\n"
     ]
    }
   ],
   "source": [
    "nuc = ('A', 'C', 'G', 'T')\n",
    "def GreedyProfileMotifSearch(sequences, t, n, k):\n",
    "    \"\"\"\n",
    "    Implémente l'algorithme GreedyProfileMotifSearch \n",
    "\t  entrée sequences: matrice de dimension txn contenant les séquences \n",
    "\t  entrée t : nombre de séquences \n",
    "\t  entrée n : longueur des séquences \n",
    "\t  entrée k : taille du motif \n",
    "    sortie s : vecteur de positions de départ ayant le meilleur motif \n",
    "    sortie bestScore : le score associé à s\n",
    "    \"\"\"\n",
    "    s = generateRandomS(sequences,k)\n",
    "    bestScore = 0\n",
    "    new = profile (extractSeqs(s, sequences ,k), k, t)\n",
    "    while getScore(new, k) > bestScore:\n",
    "        bestScore = getScore(new, k)\n",
    "        profil = new\n",
    "        s = getNewS ( generatePWM(profil) , k, sequences)\n",
    "        new = profile( extractSeqs(s, sequences,k) , k, t)\n",
    "        if changeProfile( profil, new):\n",
    "            break\n",
    "    return s, bestScore\n",
    "\n",
    "\n",
    "s, bestScore = GreedyProfileMotifSearch(adn, t, n, k)   \n",
    "motifs = extractSeqs(s, adn, k)\n",
    "print (motifs)\n",
    "        "
   ]
  },
  {
   "cell_type": "markdown",
   "metadata": {
    "id": "xvo0wA0R_hu1"
   },
   "source": [
    "10\\. Avez vous trouvez le motif implanté? Rexécuter l’algorithme plusieurs fois pour le trouver. "
   ]
  },
  {
   "cell_type": "markdown",
   "metadata": {
    "id": "tQw_6g6I_hu1"
   },
   "source": [
    "Reponse:"
   ]
  },
  {
   "cell_type": "markdown",
   "metadata": {
    "id": "hFC52cFb_hu1"
   },
   "source": [
    "11\\. Vous avez certainement observer que l’algorithme ne produire pas toujours la même sortie et que les résultats dépendent de la sélection aléatoire des positions de départ `s`. Pour augmenter nous chances de retrouvez les bons motifs, nous allons implémenter une version itérative ``GreedyProfileMotifSearchIte`` \n",
    "qui a chaque fois sauvegarde `s` et le score du profile associé à `s`, après `I` itération, l’algorithme renvoie le vecteur `s` ayant le plus grand score."
   ]
  },
  {
   "cell_type": "code",
   "execution_count": 12,
   "metadata": {
    "id": "RN4HsjUX_hu2"
   },
   "outputs": [
    {
     "name": "stdout",
     "output_type": "stream",
     "text": [
      "{14.0: [4, 2, 3], 15.0: [4, 1, 4], 11.0: [0, 0, 1], 12.0: [3, 2, 0], 13.0: [0, 3, 4], 16.0: [2, 0, 1]} {14.0: 'CTAGG', 15.0: 'TTTGG', 11.0: 'GACTA', 12.0: 'CGAAA', 13.0: 'TACAA', 16.0: 'GCCTA'}\n"
     ]
    }
   ],
   "source": [
    "def GreedyProfileMotifSearchIte(sequences, t, n, k, It):\n",
    "    \"\"\"\n",
    "    Implémente l'algorithme GreedyProfileMotifSearch iteratif\n",
    "\t  entrée séquences: matrice de dimension txn contenant les séquences \n",
    "\t  entrée t : nombre de séquences \n",
    "\t  entrée n : longueur des séquences \n",
    "\t  entrée k: taille du motif \n",
    "    entrée It: nombre d'iterations\n",
    "    sortie positions: dictionnaire clé=score, valeur= vecteur s \n",
    "    sortie consensus: dictionnaire clé=score, valeur= consensus sequence du motif\n",
    "    \"\"\"\n",
    "   \n",
    "    pos = {}\n",
    "    consensus = {}\n",
    "    \n",
    "    for i in range ( It ):\n",
    "        s, score = GreedyProfileMotifSearch ( sequences, t, n, k )\n",
    "        pos[score]=s\n",
    "        consensus[score]=getConsensus(profile(extractSeqs(s, sequences, k), k, nuc), k, nuc)\n",
    "    return pos, consensus\n",
    "\n",
    "\n",
    "s, consensus = GreedyProfileMotifSearchIte(adn, t, n, k, 50)\n",
    "print(s, consensus)"
   ]
  },
  {
   "cell_type": "markdown",
   "metadata": {
    "id": "js7TuAsB_hu2"
   },
   "source": [
    "12\\. Tester algorithme  ``GreedyProfileMotifSearchIte`` sur vos données de chipSeq. N'oubliez pas de chercher les motifs dans le brin complémentaire et faire un merge de résultats."
   ]
  },
  {
   "cell_type": "code",
   "execution_count": 13,
   "metadata": {
    "id": "-M8y_sOS_hu3"
   },
   "outputs": [],
   "source": [
    "k=7; v=1; t=20; n=80\n",
    "\n",
    "def readFasta(genome, n):\n",
    "    sequence = []\n",
    "    file = open(genome, \"r\")\n",
    "    sequence = []\n",
    "    for s in file:\n",
    "        if s[0] != \">\":\n",
    "            sequence.append(s.strip().upper())\n",
    "    sequenceStr = \"\".join(sequence)\n",
    "    sequence = [sequenceStr[i:i+n] for i in range(0, len(sequenceStr), n)]\n",
    "    sequenceRet = [x for x in sequence if x]\n",
    "    return sequenceRet\n",
    "\n",
    "genome = \"Sequence_by_Peaks_8.fasta\" #Remplacer par votre fichier\n",
    "\n",
    "\n",
    "sequencesChip   = readFasta(genome, n)\n",
    "t = len(sequencesChip)\n",
    "\n",
    "\n"
   ]
  },
  {
   "cell_type": "markdown",
   "metadata": {
    "id": "WNn2FXzf5UzK"
   },
   "source": [
    "Afficher les top motifs (leurs sequence consensus) de meilleurs scores."
   ]
  },
  {
   "cell_type": "code",
   "execution_count": 14,
   "metadata": {
    "id": "S7DtjmxjCyQ-"
   },
   "outputs": [
    {
     "name": "stdout",
     "output_type": "stream",
     "text": [
      "GCCTA\n",
      "TTTGG\n",
      "CTAGG\n",
      "TACAA\n",
      "CGAAA\n",
      "GACTA\n"
     ]
    }
   ],
   "source": [
    "def printTopMotifsScore(consensus, top):\n",
    "\n",
    "    motifsSort = sorted(consensus.keys())\n",
    "    motifsSort.reverse()\n",
    "    i=0\n",
    "    while i<top and i<len(motifsSort):\n",
    "        print (consensus[motifsSort[i]])\n",
    "        i+=1\n",
    "\n",
    "top = 10\n",
    "printTopMotifsScore(consensus, top)\n",
    "\n",
    "\n"
   ]
  },
  {
   "cell_type": "markdown",
   "metadata": {
    "id": "UO-2rHmt_hu3"
   },
   "source": [
    "13\\. Nous allons implémenter l'algorithme ``randomProjection``. D'abord, faites la fonction `getRandomFixePositions` pour générer une projection de k à n, voir un exemple dans les slides de cours. Faire aussi la fonction `generateKey` qui extrait les caractères du motif puis génère une cle qui représente la projection."
   ]
  },
  {
   "cell_type": "code",
   "execution_count": 15,
   "metadata": {
    "id": "72rT-OkS_hu3"
   },
   "outputs": [
    {
     "name": "stdout",
     "output_type": "stream",
     "text": [
      "[0, 1, 4, 6]\n",
      "0146\n"
     ]
    }
   ],
   "source": [
    "def getRandomFixePositions(k, n):\n",
    "    \"\"\"\n",
    "    Genere une projection de k vers n\n",
    "    entrée k: nombre de positions du motif original\n",
    "    entrée n: nombre de positions choisi pour la projection \n",
    "    sortie projection: liste de positions choisi aléatoirement\n",
    "    \"\"\"\n",
    "    projection = []\n",
    "    while len(projection) != n:\n",
    "        i = random.randint(0, k-1)\n",
    "        if not i in projection:\n",
    "            projection.append (i)\n",
    "    projection.sort()\n",
    "    return projection\n",
    "\n",
    "lR = getRandomFixePositions(7, 4)\n",
    "print (lR)\n",
    "\n",
    "def generateKey(positions, motif):\n",
    "    \"\"\"\n",
    "    extrait les caractères du motif et génère la cle de la projection\n",
    "    entrée positions : liste de positions qui represent la projection\n",
    "    entrée motif : motif de taille k\n",
    "    sortie cle : cle de la projection\n",
    "    \"\"\"\n",
    "    return \"\".join(motif[positions[i]] for i in range(len(positions)))\n",
    "\n",
    "cle=generateKey(lR, \"01234567\")\n",
    "print(cle)"
   ]
  },
  {
   "cell_type": "markdown",
   "metadata": {
    "id": "NK0BhSs1_hu3"
   },
   "source": [
    "14\\. Implémenter l'algorithme ``randomProjection``."
   ]
  },
  {
   "cell_type": "code",
   "execution_count": 19,
   "metadata": {
    "id": "yaDXNosb_hu3"
   },
   "outputs": [
    {
     "name": "stdout",
     "output_type": "stream",
     "text": [
      "[2, 4, 5, 6]\n"
     ]
    },
    {
     "ename": "IndexError",
     "evalue": "list index out of range",
     "output_type": "error",
     "traceback": [
      "\u001b[1;31m---------------------------------------------------------------------------\u001b[0m",
      "\u001b[1;31mIndexError\u001b[0m                                Traceback (most recent call last)",
      "\u001b[1;32m~\\AppData\\Local\\Temp/ipykernel_4548/3667246903.py\u001b[0m in \u001b[0;36m<module>\u001b[1;34m\u001b[0m\n\u001b[0;32m     23\u001b[0m \u001b[1;33m\u001b[0m\u001b[0m\n\u001b[0;32m     24\u001b[0m \u001b[0madnTest\u001b[0m \u001b[1;33m=\u001b[0m \u001b[1;33m[\u001b[0m\u001b[1;34m'TTAACGGCAC'\u001b[0m\u001b[1;33m,\u001b[0m \u001b[1;34m'GCTCACGCCA'\u001b[0m\u001b[1;33m,\u001b[0m \u001b[1;34m'TACCGGCCGT'\u001b[0m\u001b[1;33m]\u001b[0m\u001b[1;33m\u001b[0m\u001b[1;33m\u001b[0m\u001b[0m\n\u001b[1;32m---> 25\u001b[1;33m \u001b[0mmotifsProj\u001b[0m\u001b[1;33m,\u001b[0m \u001b[0mmotifsSeq\u001b[0m \u001b[1;33m=\u001b[0m \u001b[0mrandomProjection\u001b[0m\u001b[1;33m(\u001b[0m\u001b[1;36m7\u001b[0m\u001b[1;33m,\u001b[0m \u001b[1;36m4\u001b[0m\u001b[1;33m,\u001b[0m \u001b[0madnTest\u001b[0m\u001b[1;33m)\u001b[0m\u001b[1;33m\u001b[0m\u001b[1;33m\u001b[0m\u001b[0m\n\u001b[0m\u001b[0;32m     26\u001b[0m \u001b[0mprint\u001b[0m \u001b[1;33m(\u001b[0m\u001b[0mmotifsProj\u001b[0m\u001b[1;33m)\u001b[0m\u001b[1;33m\u001b[0m\u001b[1;33m\u001b[0m\u001b[0m\n\u001b[0;32m     27\u001b[0m \u001b[0mprint\u001b[0m \u001b[1;33m(\u001b[0m\u001b[0mmotifsSeq\u001b[0m\u001b[1;33m)\u001b[0m\u001b[1;33m\u001b[0m\u001b[1;33m\u001b[0m\u001b[0m\n",
      "\u001b[1;32m~\\AppData\\Local\\Temp/ipykernel_4548/3667246903.py\u001b[0m in \u001b[0;36mrandomProjection\u001b[1;34m(k, n, sequences)\u001b[0m\n\u001b[0;32m     16\u001b[0m     \u001b[1;32mfor\u001b[0m \u001b[0mi\u001b[0m \u001b[1;32min\u001b[0m \u001b[0mprojection\u001b[0m\u001b[1;33m:\u001b[0m\u001b[1;33m\u001b[0m\u001b[1;33m\u001b[0m\u001b[0m\n\u001b[0;32m     17\u001b[0m         \u001b[0mmotifs\u001b[0m\u001b[1;33m[\u001b[0m\u001b[0mi\u001b[0m\u001b[1;33m]\u001b[0m\u001b[1;33m=\u001b[0m \u001b[0msequences\u001b[0m\u001b[1;33m[\u001b[0m\u001b[0mi\u001b[0m\u001b[1;33m:\u001b[0m\u001b[0mi\u001b[0m\u001b[1;33m+\u001b[0m\u001b[0mk\u001b[0m\u001b[1;33m]\u001b[0m\u001b[1;33m\u001b[0m\u001b[1;33m\u001b[0m\u001b[0m\n\u001b[1;32m---> 18\u001b[1;33m         \u001b[0mmotifsSeq\u001b[0m\u001b[1;33m[\u001b[0m\u001b[0mi\u001b[0m\u001b[1;33m]\u001b[0m\u001b[1;33m=\u001b[0m\u001b[0mlistMotifs\u001b[0m\u001b[1;33m[\u001b[0m\u001b[0mi\u001b[0m\u001b[1;33m]\u001b[0m\u001b[1;33m\u001b[0m\u001b[1;33m\u001b[0m\u001b[0m\n\u001b[0m\u001b[0;32m     19\u001b[0m \u001b[1;33m\u001b[0m\u001b[0m\n\u001b[0;32m     20\u001b[0m     \u001b[1;32mreturn\u001b[0m \u001b[0mmotifs\u001b[0m\u001b[1;33m,\u001b[0m \u001b[0mmotifsSeq\u001b[0m\u001b[1;33m\u001b[0m\u001b[1;33m\u001b[0m\u001b[0m\n",
      "\u001b[1;31mIndexError\u001b[0m: list index out of range"
     ]
    }
   ],
   "source": [
    "def randomProjection(k, n, sequences):\n",
    "    \"\"\"\n",
    "    Implémente l'algorithme randomProjection\n",
    "    entrée k : nombre de positions du motif\n",
    "    entrée n : nombre de positions de la projection \n",
    "    entrée sequences : matrice de dimension txn contenant les séquences \n",
    "    sortie motifs : dictionaire, cle = projection, valeur= frequence\n",
    "    sortie motifsSeq:  dictionaire, cle = projection, valeur= original motif\n",
    "    \"\"\"\n",
    "    motifs=dict(); motifsSeq  = {}\n",
    "        \n",
    "    s=generateRandomS(sequences,k)\n",
    "    listMotifs=extractSeqs(s,sequences, k)\n",
    "    projection=getRandomFixePositions(k, n)\n",
    "    print(projection)\n",
    "    for i in projection:\n",
    "        print(sequences[i])\n",
    "        motifsSeq[i]= sequences[i:i+k]\n",
    "        motifs[i]=profile(listMotifs, k, nuc)\n",
    "        \n",
    "    return motifs, motifsSeq\n",
    "\n",
    "#motifsSort = sorted(motifs, reverse=True, key=motifs.get)\n",
    "\n",
    "adnTest = ['TTAACGGCAC', 'GCTCACGCCA', 'TACCGGCCGT']\n",
    "motifsProj, motifsSeq = randomProjection(7, 4, adnTest)\n",
    "print (motifsProj)\n",
    "print (motifsSeq)\n"
   ]
  },
  {
   "cell_type": "markdown",
   "metadata": {
    "id": "RWMsME8t_hu3"
   },
   "source": [
    "15\\. Avez vous trouvez le motif implanté? Rexécuter l’algorithme plusieurs fois pour augmenter les chances de le trouver. "
   ]
  },
  {
   "cell_type": "markdown",
   "metadata": {
    "id": "gj5RGPey_hu4"
   },
   "source": [
    "reponse: "
   ]
  },
  {
   "cell_type": "code",
   "execution_count": null,
   "metadata": {
    "id": "Zs7rapz3_hu5"
   },
   "outputs": [],
   "source": []
  },
  {
   "cell_type": "markdown",
   "metadata": {
    "id": "1DHZjpi4_hu6"
   },
   "source": [
    "16\\. Implémenter la version itérative de l’algorithme ``randomProjection``. "
   ]
  },
  {
   "cell_type": "code",
   "execution_count": 17,
   "metadata": {
    "id": "WkfqvtsT_hu6"
   },
   "outputs": [
    {
     "name": "stdout",
     "output_type": "stream",
     "text": [
      "22.0 ['CCGTAGG', 'GTCTAGA', 'GCCTTTG']\n"
     ]
    }
   ],
   "source": [
    "def randomProjIt(sequences, k, v, nuc, It):\n",
    "    \"\"\"\n",
    "    Implémente l'algorithme randomProjection version iteractive\n",
    "    entrée sequences : matrice de dimension txn contenant les séquences \n",
    "    entrée k : nombre de positions du motif\n",
    "    entrée v : nombre de positions de la projection \n",
    "    entrée nuc : alphabet\n",
    "    entrée It: nombre d'iterations\n",
    "    sortie score : meilleur score\n",
    "    sortie motifs :  liste de motifs associés au meilleur score\n",
    "    \"\"\"\n",
    "    \n",
    "    motifs = []; scores = []\n",
    "    for i in range ( It ):\n",
    "        s, score = GreedyProfileMotifSearch (sequences, t, n, k )\n",
    "        scores.append(score)\n",
    "        motifs.append(extractSeqs(s, sequences, k))\n",
    "    return max(scores), motifs[scores.index(max(scores))] \n",
    "\n",
    "score, seqsMotif = randomProjIt(adn, 7, 4, nuc, 100)\n",
    "\n",
    "print (score, seqsMotif)\n"
   ]
  },
  {
   "cell_type": "markdown",
   "metadata": {
    "id": "JeBaa7f1_hu6"
   },
   "source": [
    "17\\. Tester l'algorithme  ``randomProjection`` sur vos données de chipSeq. N'oubliez pas de chercher les motifs dans le brin complémentaire et faire un merge de résultats. Puis générér le LOGO du motif trouvé."
   ]
  },
  {
   "cell_type": "code",
   "execution_count": null,
   "metadata": {
    "id": "_jcWAluO_hu7"
   },
   "outputs": [],
   "source": [
    "score, seqsMotif = randomProjIt(sequencesChip, 7, 4, nuc, 100)"
   ]
  },
  {
   "cell_type": "markdown",
   "metadata": {
    "id": "KTvZuyFe9FoM"
   },
   "source": [
    "18\\. Vous avez sans doute remarqué que les algos implémentés trouvent, suivant des motifs peu complexes, réviser les implémentations pour régler/diminuer ce problème."
   ]
  },
  {
   "cell_type": "code",
   "execution_count": null,
   "metadata": {
    "id": "u__Up1UU-IYZ"
   },
   "outputs": [],
   "source": []
  }
 ],
 "metadata": {
  "celltoolbar": "Raw Cell Format",
  "colab": {
   "collapsed_sections": [],
   "name": "TME6_2022.ipynb",
   "provenance": []
  },
  "kernelspec": {
   "display_name": "Python 3 (ipykernel)",
   "language": "python",
   "name": "python3"
  },
  "language_info": {
   "codemirror_mode": {
    "name": "ipython",
    "version": 3
   },
   "file_extension": ".py",
   "mimetype": "text/x-python",
   "name": "python",
   "nbconvert_exporter": "python",
   "pygments_lexer": "ipython3",
   "version": "3.9.7"
  }
 },
 "nbformat": 4,
 "nbformat_minor": 1
}
