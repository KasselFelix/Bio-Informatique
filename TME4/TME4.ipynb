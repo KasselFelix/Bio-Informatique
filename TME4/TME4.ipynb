{
 "cells": [
  {
   "cell_type": "markdown",
   "metadata": {
    "id": "MoRHY5QImaqy"
   },
   "source": [
    "# TME 4 : Projet Detection de motifs\n",
    "\n",
    "Nous allons développer des algorithmes pour chercher de motifs dans les données de ChipSeq de C. glabrata.\n",
    "Pour commencer nous allons d'abord produire des données artificielles qui nous permettront de tester rapidement nos algorithmes. Ensuite nous allons chercher les motifs dans C. glabrata et analyser les résultats.\n",
    "\n",
    "## Partie A : Recherche de pattern (motifs) identiques\n"
   ]
  },
  {
   "cell_type": "markdown",
   "metadata": {
    "id": "bmMkaXpwmaq9"
   },
   "source": [
    "1\\. Faites une fonction pour générer aléatoirement des séquences artificielles, puis générer t=10 séquences de n=41 nucléotides chacune. Toutes les lettres peuvent être équiprobables pour la génération des séquences."
   ]
  },
  {
   "cell_type": "code",
   "execution_count": 18,
   "metadata": {
    "id": "c8RaBfm0maq-"
   },
   "outputs": [
    {
     "name": "stdout",
     "output_type": "stream",
     "text": [
      "['CCAAGCCT', 'GCTAAGTC', 'AGGTGCCA']\n"
     ]
    }
   ],
   "source": [
    "import random\n",
    "nuc = ('A', 'C', 'G', 'T')\n",
    "\n",
    "t=10 #nombre de sequences\n",
    "n=41 #longueur des sequences\n",
    "\n",
    "#Pour un simple teste\n",
    "t=3 #nombre de sequences\n",
    "n=8 #longueur des sequences\n",
    "\n",
    "def generateRandomSequence(n, upper=False):\n",
    "    \"\"\"\n",
    "    Genere une séquence nucléotidique aléatoire \n",
    "    entrée n : longueur de la sequence\n",
    "    entrée upper : bool, si True les nucléotides seront minuscule, False majuscule\n",
    "    sortie sequence : une séquence nucléotidique aléatoire \n",
    "    \"\"\"\n",
    "    sequence =\"\".join([nuc[random.randint(0,3)] for i in range(n)])\n",
    "    if upper:\n",
    "        return sequence.lower()\n",
    "    return sequence\n",
    "\n",
    "def generateRandomSequences(n, t):\n",
    "    \"\"\"\n",
    "    Genere plusieurs séquences nucléotidiques aléatoires \n",
    "    entrée n : longueur des sequences\n",
    "    entrée t : nombre de sequences\n",
    "    sortie sequences : liste de sequences nucléotidiques aléatoires \n",
    "    \"\"\"\n",
    "    return [generateRandomSequence(n,False) for i in range(t)]\n",
    "\n",
    "seqs = generateRandomSequences(n, t)\n",
    "\n",
    "print (seqs)\n"
   ]
  },
  {
   "cell_type": "markdown",
   "metadata": {
    "id": "PcesMqoNmarD"
   },
   "source": [
    "2\\. Nous allons maintenant implanter dans les séquences artificielles generés avant un motif de taille `k`=9 à des positions aléatoires (choisies uniformément le long de la séquence). On considère une proportion ``f``=0.9 de séquences qui possèdent le motif."
   ]
  },
  {
   "cell_type": "code",
   "execution_count": 19,
   "metadata": {
    "id": "7lVbiVK7marF"
   },
   "outputs": [
    {
     "name": "stdout",
     "output_type": "stream",
     "text": [
      "['CCT', 'CGC', 'TAT']\n",
      "['CCAAGCCT', 'GCTAAGTC', 'AGGTGCCA']\n",
      "['CCCCTCCCGCTACGCAGCGCCCTCCT', 'CGTATCCCTGCTACCCTCTCGCAGCGCTCTATATT', 'CCTCCTAGTATGTGCGTTATATCCCGCCTCGCCCA']\n",
      "['CGTATCCCTGCTACCCTCTCGCAGCGCTCTATATT', 'CCTCCTAGTATGTGCGTTATATCCCGCCTCGCCCA']\n"
     ]
    }
   ],
   "source": [
    "# taille des motifs k = 9\n",
    "k = 3 \n",
    "# frequences d'occurences des motifs f = 0.9 \n",
    "f = 0.9 \n",
    "\n",
    "motif=generateRandomSequence(k, False)\n",
    "#motif='*'*k\n",
    "motifs=generateRandomSequences(k, t)\n",
    "import random\n",
    "\n",
    "def implantMotifs(motifs, f, sequences):\n",
    "    \"\"\"\n",
    "    Insérer un motif dans des positions aléatoires des séquences\n",
    "    entrée motifs : motif qui va être implanté dans les séquences\n",
    "    entrée f : fréquence d'implantation\n",
    "    entrée séquences : liste de sequences\n",
    "    sortie modified_sequences: liste de séquences ayant parfois le motif implanté\n",
    "    \"\"\"\n",
    "    modified_sequences = []\n",
    "    for i in range(len(sequences)) :\n",
    "        if(random.uniform(0,1)<f):\n",
    "            r1=random.randint(0,len(sequences[i]))\n",
    "            sequences[i]=sequences[i][:r1]+motifs+sequences[i][r1:]\n",
    "            r2=random.randint(0,len(sequences[i]))\n",
    "            sequences[i]=sequences[i][:r2]+motifs+sequences[i][r2:]\n",
    "            r3=random.randint(0,len(sequences[i]))\n",
    "            sequences[i]=sequences[i][:r3]+motifs+sequences[i][r3:]\n",
    "            modified_sequences.append(sequences[i])\n",
    "    return modified_sequences\n",
    "\n",
    "\n",
    "print(motifs)\n",
    "print(seqs)\n",
    "for i in motifs:\n",
    "    motif_implanted_seqs =implantMotifs(i, f, seqs)\n",
    "print(seqs)\n",
    "print(motif_implanted_seqs)\n"
   ]
  },
  {
   "cell_type": "markdown",
   "metadata": {
    "id": "xiIkrujLmarJ"
   },
   "source": [
    "3\\. Faites une fonction pour chercher les $m$ motifs de taille $k$ les plus fréquents dans l'ensemble des séquences. Tester cette fonction sur un l'ensemble de séquences avec le motif implanté génère dans les questions précédentes. Faite aussi une fonction qu'affiche les $top$ motifs les plus fréquents. "
   ]
  },
  {
   "cell_type": "code",
   "execution_count": 20,
   "metadata": {
    "id": "LPsYkRG1marK"
   },
   "outputs": [
    {
     "name": "stdout",
     "output_type": "stream",
     "text": [
      "['CCCCTCCCGCTACGCAGCGCCCTCCT', 'CGTATCCCTGCTACCCTCTCGCAGCGCTCTATATT', 'CCTCCTAGTATGTGCGTTATATCCCGCCTCGCCCA']\n",
      "{'CCC': 8, 'CCT': 8, 'CTC': 7, 'TCC': 5, 'CCG': 2, 'CGC': 7, 'GCT': 3, 'CTA': 4, 'TAC': 2, 'ACG': 1, 'GCA': 2, 'CAG': 2, 'AGC': 2, 'GCG': 3, 'GCC': 3, 'CGT': 2, 'GTA': 2, 'TAT': 6, 'ATC': 2, 'CTG': 1, 'TGC': 2, 'ACC': 1, 'TCT': 2, 'TCG': 2, 'ATA': 2, 'ATT': 1, 'TAG': 1, 'AGT': 1, 'ATG': 1, 'TGT': 1, 'GTG': 1, 'GTT': 1, 'TTA': 1, 'CCA': 1}\n",
      "{'CCC': 8, 'CCT': 8, 'CTC': 7, 'CGC': 7}\n"
     ]
    }
   ],
   "source": [
    "def searchMotifs(k, sequences):\n",
    "    \"\"\"\n",
    "    Cherche les motifs de taille k dans un ensemble de séquences\n",
    "    entrée k : taille du motif\n",
    "    entrée séquences : liste de sequences\n",
    "    sortie motifs: dictionnaire de motifs, clé=motif, valeur = fréquence d'observation\n",
    "    >>>searchMotifs(3, ['TAAGTAA', 'TATAA', 'CTATC'])\n",
    "    {'TAA': 3, 'AAG': 1, 'AGT': 1, 'GTA': 1, 'TAT': 2, 'ATA': 1, 'CTA': 1, 'ATC': 1}\n",
    "    \"\"\"\n",
    "    \n",
    "    motifs  = {}\n",
    "    for s in sequences:\n",
    "        for i in range(0,len(s)):\n",
    "            mot=s[i:i+k]\n",
    "            if len(mot)==k:\n",
    "                if mot not in motifs:\n",
    "                    motifs[mot]=1\n",
    "                else:\n",
    "                     motifs[mot]+=1\n",
    "    return motifs\n",
    "\n",
    "def getTopMotifs(motifs, top):\n",
    "    \"\"\"\n",
    "    renvoyer les top motifs le plus frequent\n",
    "    entrée motifs: dictionnaire de motifs, clé=motif, valeur = fréquence d'observation\n",
    "    entrée top : les top plus frequent \n",
    "    sortie motifsfreq: dictionnaire contenant les top motifs les plus fréquents, clé=motif, valeur = fréquence d'observation\n",
    "    >>>getTopMotifs({'TAA': 3, 'AAG': 1, 'AGT': 1, 'GTA': 1, 'TAT': 2, 'ATA': 1, 'CTA': 1, 'ATC': 1}, 2)\n",
    "    {'TAA': 3, 'TAT': 2}\n",
    "    \"\"\"\n",
    "    #return dict([(k,v) for k,v in sorted(motifs.items(),key=lambda x: x[1],reverse=True)][:top])\n",
    "    tmp=[(None,0)]*top #contien le top\n",
    "    for k in motifs : #nombre de rep egale nombre de motifs\n",
    "        i=top-1\n",
    "        while motifs[k] > tmp[i][1] : #nombre de rep boucle while = nombre top recherché\n",
    "            if motifs[k] > tmp[i-1][1] :\n",
    "                i-=1\n",
    "                if i==0:#motif[k] a la plus haute freq parmis tous les motifs\n",
    "                    tmp[1:]=tmp[0:-1]\n",
    "                    tmp[i]=(k,motifs[k])\n",
    "                    break #sortie anticiper : motif k suivant\n",
    "            else:\n",
    "                tmp[i+1:]=tmp[i:-1]\n",
    "                tmp[i]=(k,motifs[k])#motif[k] fait parti du top \n",
    "                break #sortie anticiper : motif k suivant\n",
    "    \n",
    "    return dict(tmp)\n",
    "    \n",
    "    \n",
    "    #un programme tres performant si le nombre top rechercher est petit.\n",
    "    #peu prendre un peu plus de temp si le nombre de top est elever.\n",
    "    #inconvenient implementation dependant du nombre de top, complexiter lineaire.\n",
    "    #           complexité O(n*top-log(top))\n",
    "    \n",
    "    \n",
    "    #Autre implementation possible pour ce programme  sorted(dict) -> head top:\n",
    "    \n",
    "        #def getTopMotifs(motifs, top):\n",
    "            #return dict([(k,v) for k,v in sorted(motifs.items(),key=lambda x: x[1],reverse=True)][:top])\n",
    "    \n",
    "    #avantage et incovenient de cette implementation ça complexité est linéarithmique depend de la methode sort utiliser.\n",
    "    #A preferer si un nombre de top vraiment consequent est rechercher.\n",
    "    #          complexité O(n*log(n)+top) en moyenne , O(n²+top) pire cas\n",
    "                    \n",
    "\n",
    "\n",
    "print(seqs)\n",
    "motifsFound = searchMotifs(k, seqs)\n",
    "print (motifsFound)\n",
    "topMotifs = getTopMotifs(motifsFound, 4)\n",
    "print (topMotifs)"
   ]
  },
  {
   "cell_type": "markdown",
   "metadata": {
    "id": "G8Hw-Zj6marM"
   },
   "source": [
    "4\\. Quell est la complexité de votre algorithme?"
   ]
  },
  {
   "cell_type": "markdown",
   "metadata": {
    "id": "3uvvJvCKmarN"
   },
   "source": [
    "<font color='blue'>\n",
    "reponse : \n",
    "    complexiter lineaire:\n",
    "        O(n*top-log(top))\n",
    "</font>"
   ]
  },
  {
   "cell_type": "markdown",
   "metadata": {
    "id": "H8HebyHumarO"
   },
   "source": [
    "5\\. Certains motifs sont reverse complémentaires. Implanter des motifs reverse complémentaires dans les séquences déjà générés et en suite chercher ces motifs. Attention: vous devez réutiliser les fonctions développés précédemment, pas besoin de définir des nouvelles fonctions. "
   ]
  },
  {
   "cell_type": "code",
   "execution_count": 21,
   "metadata": {
    "id": "O_zGqHAFmarO"
   },
   "outputs": [
    {
     "name": "stdout",
     "output_type": "stream",
     "text": [
      "['CCT', 'CGC', 'TAT']\n",
      "['AGG', 'GCG', 'ATA']\n",
      "['CCCCTCCCGCTACGCAGCGCCCTCCT', 'CGTATCCCTGCTACCCTCTCGCAGCGCTCTATATT', 'CCTCCTAGTATGTGCGTTATATCCCGCCTCGCCCA']\n",
      "['CCCCTCCCGCTACGCAGCGCCCTCCT', 'CGTATCCCTGCTACCCTCTCGCAGCGCTCTATATT', 'CCTCCTAGTATGTGCGTTATATCCCGCCTCGCCCA']\n",
      "{'CGT': 2, 'GTA': 2, 'TAT': 6, 'ATC': 3, 'TCC': 3, 'CCC': 3, 'CCT': 4, 'CTG': 1, 'TGC': 2, 'GCG': 8, 'CGG': 3, 'GGC': 6, 'GCT': 2, 'CTA': 3, 'TAG': 6, 'AGC': 2, 'CGC': 5, 'GCC': 3, 'CTC': 4, 'TCT': 2, 'TCG': 2, 'CGA': 3, 'GAA': 2, 'AAT': 3, 'ATA': 9, 'TAC': 1, 'ACA': 1, 'CAG': 1, 'TAA': 2, 'AGG': 5, 'GGA': 1, 'GAT': 2, 'AGA': 1, 'GAG': 1, 'GGG': 2, 'GGT': 1, 'GCA': 2, 'CAT': 2, 'AGT': 1, 'ATG': 1, 'TGT': 1, 'GTG': 1, 'GTT': 1, 'TTA': 1, 'CCG': 1, 'AAG': 1, 'CCA': 1}\n",
      "{'ATA': 9, 'GCG': 8}\n"
     ]
    }
   ],
   "source": [
    "#tme2\n",
    "def reversecompl(seq):\n",
    "    \"\"\"Renvoie le brin complémentaire d’une séquence.\n",
    "    entrée : sequence de nucléotides (brin sens)\n",
    "    sortie : sequence de nucléotides (brin complementaire)\n",
    "    >>> reversecompl('AACGTGGCA')\n",
    "    'TGCCACGTT'\n",
    "    \"\"\"\n",
    "    compl = {'A': 'T', 'C': 'G', 'G': 'C', 'T':'A'}\n",
    "    return \"\".join( [compl[seq[i]] for i in range(len(seq)-1,-1,-1) ] )\n",
    "\n",
    "print(motifs)\n",
    "reverseMotifs=[reversecompl(i) for i in motifs]\n",
    "print(reverseMotifs)\n",
    "print(seqs)\n",
    "for i in reverseMotifs:\n",
    "    implantMotifs(i, f, motif_implanted_seqs)\n",
    "print(seqs)\n",
    "motifsFound = searchMotifs(k, motif_implanted_seqs)\n",
    "print (motifsFound)\n",
    "topMotifs = getTopMotifs(motifsFound, 2)\n",
    "print (topMotifs)"
   ]
  },
  {
   "cell_type": "markdown",
   "metadata": {
    "id": "RyUhiM2XmarQ"
   },
   "source": [
    "\n",
    "## Partie B : Recherche de motifs identiques sur vos données"
   ]
  },
  {
   "cell_type": "markdown",
   "metadata": {
    "id": "qjjE5tq9marQ"
   },
   "source": [
    "1\\. Le fichier \"C_glabrata_1000bp_only.fasta\" contiens les séquences régulatrices pour tous les gènes de votre organisme. Nous avons pris les 1000bp en amont du codon start. Chercher les 50 motifs de taille 7 les plus fréquents dans les deux brim de votre génome."
   ]
  },
  {
   "cell_type": "code",
   "execution_count": 22,
   "metadata": {
    "id": "-r1ASCFYmarR"
   },
   "outputs": [
    {
     "name": "stdout",
     "output_type": "stream",
     "text": [
      "Searching motifs...\n",
      "\n",
      "[('CAAACTG', 515), ('AAACTGG', 562), ('AACTGGC', 303), ('ACTGGCA', 397), ('CTGGCAC', 234), ('TGGCACA', 350), ('GGCACAG', 265), ('GCACAGA', 531), ('CACAGAG', 545), ('ACAGAGA', 640)] ...\n",
      "The most abundant motifs are \n",
      "\n",
      "{'AAAAAAA': 8385, 'TTTTTTT': 7658, 'ATATATA': 3096, 'ATTTTTT': 2970, 'AAAAAAT': 2960, 'TATATAT': 2796, 'AAAAATT': 2469, 'AATTTTT': 2457, 'GAAAAAA': 2417, 'AAAGAAA': 2417, 'AAAATTT': 2308, 'AAATTTT': 2305, 'TATTTTT': 2292, 'TTTTTTC': 2291, 'AAGAAAA': 2243, 'TATATAA': 2198, 'AAAAATA': 2188, 'TTTATTT': 2164, 'TTTCTTT': 2159, 'TGAAAAA': 2152, 'TTATTTT': 2134, 'TTTTATT': 2110, 'AAAAGAA': 2079, 'TTTTCTT': 2052, 'TTTTTCA': 1977, 'CAAAAAA': 1964, 'ATATAAA': 1946, 'AAAATAA': 1940, 'TTCTTTT': 1912, 'ATATATT': 1904, 'AATATAT': 1898, 'AATAAAA': 1889, 'AAATAAA': 1880, 'AGAAAAA': 1864, 'TTTTTAT': 1862, 'CTTTTTT': 1861, 'AAAAAAG': 1853, 'AATAATA': 1824, 'TTTTTTA': 1813, 'TTTTTTG': 1807, 'TTTTTCT': 1804, 'AAATATA': 1797, 'ATATTTT': 1781, 'ATAAAAA': 1780, 'TATATTT': 1771, 'TTATATA': 1734, 'TATTATT': 1729, 'AAAATAT': 1702, 'AAAAAGA': 1669, 'TAAAAAA': 1652}\n",
      "Searching reverse complementary motifs...\n",
      "\n",
      "[('CTTATGT', 337), ('TTATGTA', 628), ('TATGTAC', 491), ('ATGTACC', 270), ('TGTACCC', 142), ('GTACCCT', 146), ('TACCCTT', 346), ('ACCCTTT', 415), ('CCCTTTG', 343), ('CCTTTGG', 349)] ...\n",
      "The most abundant motifs found in reverse complementary are \n",
      "\n",
      "{'TTTTTTT': 8385, 'AAAAAAA': 7658, 'TATATAT': 3096, 'AAAAAAT': 2970, 'ATTTTTT': 2960, 'ATATATA': 2796, 'AATTTTT': 2469, 'AAAAATT': 2457, 'TTTTTTC': 2417, 'TTTCTTT': 2417, 'AAATTTT': 2308, 'AAAATTT': 2305, 'AAAAATA': 2292, 'GAAAAAA': 2291, 'TTTTCTT': 2243, 'TTATATA': 2198, 'TATTTTT': 2188, 'AAATAAA': 2164, 'AAAGAAA': 2159, 'TTTTTCA': 2152, 'AAAATAA': 2134, 'AATAAAA': 2110, 'TTCTTTT': 2079, 'AAGAAAA': 2052, 'TGAAAAA': 1977, 'TTTTTTG': 1964, 'TTTATAT': 1946, 'TTATTTT': 1940, 'AAAAGAA': 1912, 'AATATAT': 1904, 'ATATATT': 1898, 'TTTTATT': 1889, 'TTTATTT': 1880, 'TTTTTCT': 1864, 'ATAAAAA': 1862, 'AAAAAAG': 1861, 'CTTTTTT': 1853, 'TATTATT': 1824, 'TAAAAAA': 1813, 'CAAAAAA': 1807, 'AGAAAAA': 1804, 'TATATTT': 1797, 'AAAATAT': 1781, 'TTTTTAT': 1780, 'AAATATA': 1771, 'TATATAA': 1734, 'AATAATA': 1729, 'ATATTTT': 1702, 'TCTTTTT': 1669, 'TTTTTTA': 1652}\n"
     ]
    }
   ],
   "source": [
    "k=7\n",
    "feq=10\n",
    "top= 50\n",
    "genome = \"Data/C_glabrata_1000bp_only.fasta\"\n",
    "\n",
    "\n",
    "def readFasta(fastaFileName):\n",
    "    \"\"\"\n",
    "    Read a fasta file\n",
    "    entrée fastaFileName: nom du fichier fasta\n",
    "    sortie sequences: liste contenant toutes les sequences du fichier\n",
    "    \"\"\"\n",
    "    sequence = []\n",
    "    file = open(genome, \"r\")\n",
    "    sequence = []\n",
    "    for s in file:\n",
    "        if s[0] != \">\":\n",
    "            sequence.append(s.strip().upper())\n",
    "    return sequence\n",
    "\n",
    "sequences = readFasta(genome)\n",
    "\n",
    "print(\"Searching motifs...\\n\")\n",
    "motifsRes=searchMotifs(k, sequences)\n",
    "print(list(motifsRes.items())[:10],\"...\")\n",
    "\n",
    "\n",
    "\n",
    "print(\"The most abundant motifs are \\n\")\n",
    "topMotifs=getTopMotifs(motifsRes, top)\n",
    "print(topMotifs)\n",
    "\n",
    "print(\"Searching reverse complementary motifs...\\n\")\n",
    "reverseCompl=[reversecompl(s) for s in sequences]\n",
    "reverseComplMotifs=searchMotifs(k, reverseCompl)\n",
    "print(list(reverseComplMotifs.items())[:10],\"...\")\n",
    "\n",
    "\n",
    "print(\"The most abundant motifs found in reverse complementary are \\n\")\n",
    "topReverseComplMotifs=getTopMotifs(reverseComplMotifs, top)\n",
    "print(topReverseComplMotifs)\n",
    "\n",
    "\n",
    "\n",
    "\n",
    "\n",
    "\n"
   ]
  },
  {
   "cell_type": "markdown",
   "metadata": {
    "id": "0e5fdIztmarS"
   },
   "source": [
    "2\\. Quel sont les trois motifs de taille 7 les plus frequents? Pensez vous que ces motifs correspondent à de facteur de transcription connus? Justifier votre reponse."
   ]
  },
  {
   "cell_type": "markdown",
   "metadata": {
    "id": "8Zyhn6-PmarS"
   },
   "source": [
    "<font color='blue'>\n",
    "reponse:\n",
    "   brun sens = {'AAAAAAA': 8385, 'TTTTTTT': 7658, 'ATATATA': 3096}\n",
    "   brun reverse complementaire = {'TTTTTTT': 8385, 'AAAAAAA': 7658, 'TATATAT'}\n",
    "  \n",
    "Ces motifs ne correspondent pas à des facteur de transcription connus.\n",
    "Les plus connues sont TATAAA, GGGCGG.\n",
    "</font>"
   ]
  },
  {
   "cell_type": "markdown",
   "metadata": {
    "id": "NVUbnuGDmarT"
   },
   "source": [
    "3\\. Le motif TGATTCAT correspond au facteur de transcription Gcn4 qui est trés suivant trouvé dans le genome de levures. Est-ce que vous avez trouvé ce motif? Si oui avec quel frequence?\n",
    "<font color='blue'>\n",
    "    oui, TGATTCAT freq=\n",
    "        sens : 0.036\n",
    "        reverse complementaire : 0.0362\n",
    "</font>"
   ]
  },
  {
   "cell_type": "code",
   "execution_count": 23,
   "metadata": {
    "id": "ZeMVGLjVmarT"
   },
   "outputs": [
    {
     "name": "stdout",
     "output_type": "stream",
     "text": [
      "1819 - TGATTCA - 591\n",
      "reverse\n",
      "1789 - TGATTCA - 594\n"
     ]
    }
   ],
   "source": [
    "#TGATTCAT freq=0.036071777343 : 0.036254882812\n",
    "\n",
    "\n",
    "motifGcn4 = ['TGATTCA']\n",
    "\n",
    "def searchGivenMotif(motifsTrouve, motifSpecifique):\n",
    "    \"\"\"\n",
    "    Cherche une liste de motifs specifiques dans un dictionaire de motifs trouvés\n",
    "    entrée motifsTrouve : dictionnaire de motifs, clé=motif, valeur = fréquence d'observation\n",
    "    entrée motifSpecifique: liste de motifs specifiques à chercher\n",
    "    sortie None : affiche le ranking des motifs especifique et sa frequence d'observation\n",
    "    >>>searchGivenMotif({'TAA': 4, 'AAG': 3, 'AGT': 1}, ['AAG'])\n",
    "    2 - AGG - 3\n",
    "    \"\"\"\n",
    "    l=[]\n",
    "    for k,v in sorted(motifsTrouve.items(),key=lambda x: x[1]):  \n",
    "        l=[(k,v)]+l\n",
    "    for m in motifSpecifique:\n",
    "        if m in motifsTrouve:\n",
    "            print(l.index((m,motifsTrouve[m]))+1,'-',m,'-',motifsTrouve[m])\n",
    "    return None\n",
    "\n",
    "motifsData=motifsRes\n",
    "motifsRevComData=reverseComplMotifs\n",
    "searchGivenMotif(motifsData, motifGcn4)    \n",
    "print (\"reverse\")\n",
    "searchGivenMotif(motifsRevComData, motifGcn4)   \n",
    "\n"
   ]
  },
  {
   "cell_type": "markdown",
   "metadata": {
    "id": "Ibm0Eja2marU"
   },
   "source": [
    "4\\. Les motifs peu complexes (avec par exemple 5, 6 ou 7 fois la même lettre) sont courants dans les génomes, ils n'ont généralement pas de signification biologique. Dans le context de ce projet, vous pouvez eliminer aussi les motifis ayant deux lettre repetés, comme par exemple AGAGAGA. Faites une fonction pour éliminer les motifs peu complexes, _i. e._ qui ont au moins $m$ fois la même lettre ou qui ont deux lettre consecutive répétés. Dans quel position vous trouver Gcn4 apres enlever les motifs peu complexes?</font>. "
   ]
  },
  {
   "cell_type": "code",
   "execution_count": 15,
   "metadata": {
    "id": "cFkaqI39marU",
    "scrolled": false
   },
   "outputs": [
    {
     "name": "stdout",
     "output_type": "stream",
     "text": [
      "1627 - TGATTCA - 591\n",
      "reverse\n",
      "1597 - TGATTCA - 594\n"
     ]
    }
   ],
   "source": [
    "# m fois la mme lettre\n",
    "reLow=5\n",
    "def removeLowComplexe(motifs):\n",
    "    \"\"\"\n",
    "    Eleve les motifs peu complexe \n",
    "    entrée motifs: dictionnaire de motifs, clé=motif, valeur = fréquence d'observation\n",
    "    sortie validMotif: dictionnaire de motifs filtré, clé=motif, valeur = fréquence d'observation\n",
    "    \"\"\"\n",
    "    validMotif = {}\n",
    "    for mo in motifs:\n",
    "        k=0\n",
    "        cpt=0\n",
    "        for i in range(1,len (mo)-reLow+2):\n",
    "            k=1\n",
    "            cpt=1\n",
    "            while( cpt/2<=2 and k<=reLow  ):\n",
    "                if i+k-1<len(mo) and mo[i+k-2]==mo[i+k-1]:\n",
    "                    k+=1\n",
    "                elif i+cpt<len(mo) and mo[i+cpt-2]==mo[i+cpt]:\n",
    "                    cpt+=1\n",
    "                else:\n",
    "                    break  \n",
    "            if k>=reLow or cpt/2>=2:#repetition de lettres superieures a m\n",
    "                break #motif suivant\n",
    "        if k<reLow and cpt/2<2:#si aucune rep\n",
    "            validMotif[mo]=motifs[mo] #add\n",
    "            \n",
    "    return validMotif\n",
    "\n",
    "\n",
    "motifsFiltreData = removeLowComplexe(motifsData)\n",
    "motifsFiltreReverse = removeLowComplexe(motifsRevComData)\n",
    "searchGivenMotif(motifsFiltreData, motifGcn4)    \n",
    "print (\"reverse\")\n",
    "searchGivenMotif(motifsFiltreReverse, motifGcn4)\n"
   ]
  },
  {
   "cell_type": "markdown",
   "metadata": {
    "id": "MrAPyMcPmarV"
   },
   "source": [
    "5\\. Le fichier \"Sequence_by_Peaks_G*.fasta\" contiens les regions de peak trouvé par ChipSeq, qui contient probablement le Facteur de Transcription que nous cherchons. Apliquer les fonctions precedents pour chercher les 3 motifs les plus fréquents dans les deux brim. Il faut bien evidement enlever les motifs peu complexe."
   ]
  },
  {
   "cell_type": "code",
   "execution_count": 16,
   "metadata": {
    "id": "wIHGDtXDmarW"
   },
   "outputs": [
    {
     "name": "stdout",
     "output_type": "stream",
     "text": [
      "Searching fwd motifs...\n",
      "\n",
      "[('AAATTATT', 8), ('AATTATTG', 6), ('ATTATTGG', 7), ('TTATTGGT', 3), ('TATTGGTT', 2), ('ATTGGTTC', 3), ('TTGGTTCA', 1), ('TGGTTCAA', 4), ('GGTTCAAG', 2), ('GTTCAAGA', 2)] ...\n",
      "The most abundant motifs are \n",
      "\n",
      "{'ATATATAT': 46, 'TATATATA': 45, 'AAATATAT': 20, 'TTTTTTTT': 19, 'AAAAAAAA': 18, 'TTATTATT': 17, 'ATATAATA': 17, 'ATTATTAT': 16, 'TTATTTAT': 16, 'TTTATTAT': 16, 'TATTAATT': 15, 'TAATAATA': 15, 'ATTTTTTT': 15, 'TCCACGGA': 15, 'TTTATTTA': 14, 'ATTTATTA': 14, 'TAATTATT': 14, 'TTATTTTT': 14, 'ATAAATAT': 14, 'TAAATATA': 14, 'AATATATT': 14, 'ATATATTA': 14, 'ATTAATTA': 14, 'ATATATAA': 14, 'TATAATAT': 14, 'TATATATT': 14, 'AATAATAA': 14, 'CCACGGAA': 14, 'CACACACA': 14, 'CCAAAACC': 14}\n",
      "The most abundant reverse compl motifs are \n",
      "\n",
      "{'ATATATAT': 46, 'TATATATA': 45, 'ATATATTT': 20, 'AAAAAAAA': 19, 'TTTTTTTT': 18, 'AATAATAA': 17, 'TATTATAT': 17, 'ATAATAAT': 16, 'ATAAATAA': 16, 'ATAATAAA': 16, 'AATTAATA': 15, 'TATTATTA': 15, 'AAAAAAAT': 15, 'TCCGTGGA': 15, 'TAAATAAA': 14, 'TAATAAAT': 14, 'AATAATTA': 14, 'AAAAATAA': 14, 'TAATTAAT': 14, 'TAATATAT': 14, 'AATATATT': 14, 'TATATTTA': 14, 'ATATTTAT': 14, 'ATATTATA': 14, 'TTATATAT': 14, 'AATATATA': 14, 'TTATTATT': 14, 'TTCCGTGG': 14, 'TGTGTGTG': 14, 'CAGGTTTT': 14}\n",
      "The most abundant no low-complexe motifs are \n",
      "\n",
      "[('TTATTATT', 17), ('ATTATTAT', 16), ('TTATTTAT', 16), ('TTTATTAT', 16), ('TATTAATT', 15), ('TAATAATA', 15), ('TCCACGGA', 15), ('TTTATTTA', 14), ('ATTTATTA', 14), ('TAATTATT', 14), ('ATAAATAT', 14), ('ATTAATTA', 14), ('TATAATAT', 14), ('AATAATAA', 14), ('CCACGGAA', 14), ('CCAAAACC', 14)] ...\n",
      "The most abundant no low-complexe motifs in reverse compl are \n",
      "\n",
      "[('AATAATAA', 17), ('ATAATAAT', 16), ('ATAAATAA', 16), ('ATAATAAA', 16), ('AATTAATA', 15), ('TATTATTA', 15), ('TCCGTGGA', 15), ('TAAATAAA', 14), ('TAATAAAT', 14), ('AATAATTA', 14), ('TAATTAAT', 14), ('ATATTTAT', 14), ('ATATTATA', 14), ('TTATTATT', 14), ('TTCCGTGG', 14), ('CAGGTTTT', 14)] ...\n"
     ]
    }
   ],
   "source": [
    "k=8\n",
    "feq=5\n",
    "top= 30\n",
    "reLow = 5\n",
    "\n",
    "genome = \"Data/ChipSeq/Sequence_by_Peaks_8.fasta\"\n",
    "\n",
    "sequence   = readFasta(genome)\n",
    "\n",
    "\n",
    "print(\"Searching fwd motifs...\\n\")\n",
    "motifsRes=searchMotifs(k, sequence)\n",
    "print(list(motifsRes.items())[:10],\"...\")\n",
    "\n",
    "print(\"The most abundant motifs are \\n\")\n",
    "topMotifs=getTopMotifs(motifsRes, top)\n",
    "print(topMotifs)\n",
    "\n",
    "print(\"The most abundant reverse compl motifs are \\n\")\n",
    "reverseCompl=[reversecompl(s) for s in sequence]\n",
    "reverseComplMotifs=searchMotifs(k, reverseCompl)\n",
    "topReverseComplMotifs=getTopMotifs(reverseComplMotifs, top)\n",
    "print(topReverseComplMotifs)\n",
    "\n",
    "print(\"The most abundant no low-complexe motifs are \\n\")\n",
    "motifsFiltreData=removeLowComplexe(topMotifs)\n",
    "print(list(motifsFiltreData.items())[:top],\"...\")\n",
    "\n",
    "print(\"The most abundant no low-complexe motifs in reverse compl are \\n\")\n",
    "motifsFiltreReverse=removeLowComplexe(topReverseComplMotifs)\n",
    "print(list(motifsFiltreReverse.items())[:top],\"...\")\n",
    "\n",
    "\n",
    "#sens ('TTATTATT', 17), ('ATTATTAT', 16), ('TTATTTAT', 16)\n",
    "#compl ('AATAATAA', 17), ('ATAATAAT', 16), ('ATAAATAA', 16)"
   ]
  },
  {
   "cell_type": "markdown",
   "metadata": {
    "id": "MEBziFExmarX"
   },
   "source": [
    "6\\. Ulitser la base YEASTRACT : http://www.yeastract.com/formsearchbydnamotif.php pour chercher les motifs. \n",
    "Avez vous une indication pour le facteur de transcription impliqué ?\n"
   ]
  },
  {
   "cell_type": "code",
   "execution_count": null,
   "metadata": {
    "id": "Wjp5t7eiKj14"
   },
   "outputs": [],
   "source": [
    "Pdr1 : TCCG(C/T)GGA"
   ]
  }
 ],
 "metadata": {
  "colab": {
   "collapsed_sections": [],
   "name": "TME4-project.ipynb",
   "provenance": []
  },
  "kernelspec": {
   "display_name": "Python 3 (ipykernel)",
   "language": "python",
   "name": "python3"
  },
  "language_info": {
   "codemirror_mode": {
    "name": "ipython",
    "version": 3
   },
   "file_extension": ".py",
   "mimetype": "text/x-python",
   "name": "python",
   "nbconvert_exporter": "python",
   "pygments_lexer": "ipython3",
   "version": "3.9.7"
  }
 },
 "nbformat": 4,
 "nbformat_minor": 1
}
