{
 "cells": [
  {
   "cell_type": "markdown",
   "metadata": {
    "id": "H-ZmDjzwYF9d"
   },
   "source": [
    "# TME 3 :  Evaluation des résultats de  méthode de Prédiction de gènes\n",
    "\n"
   ]
  },
  {
   "cell_type": "markdown",
   "metadata": {
    "id": "ROoa6jTYYv0w"
   },
   "source": [
    "**Nom etudiant 1 :**\n",
    "\n",
    "**Nom etudiant 2 :**"
   ]
  },
  {
   "cell_type": "markdown",
   "metadata": {
    "id": "-DRSKEw0YF9r"
   },
   "source": [
    "### A) Matrice de confusion et mesures de performance \n",
    "\n",
    "Il est nécessaire d’avoir une méthode pour évaluer la qualité des prédictions obtenues pour les coordonnées des gènes. Est ce que certains gènes sont ratés par la prédiction, ou est-ce qu’au contraire certains des gènes sont systématiquement surannotés alors qu’il s’agit d’une région intergénique (entre les gènes) ? Toute l’information peut être résumée en construisant le tableau de valeurs suivante, appelée matrice de confusion. Pour cela nous attribuons à chaque nucléotide d’un génome donné la valeur 0 ou 1, 0 si le nucléotide ne fait pas partie d’un gène et 1 si il en fait partie. La matrice de confusion est calculée comme ce tableau. \n",
    "\n",
    "![](matriceconfusion.png \"\")\n",
    "\n",
    "On résume ensuite la qualité de l’annotation avec les métriques suivantes : \n",
    "\n",
    "   + La sensibilité  (= ``11/(11+10)``) <br>\n",
    "Sen = (le taux de vrais positifs) / (le taux de vrais positifs + le taux de faux négatifs)\n",
    "\n",
    "   + La spécificité (= ``00 / (00+01)``) <br>\n",
    "Spe = (le taux de vrais négatifs) / (le taux de vrais négatifs + le taux de faux positifs)\n",
    "\n",
    "   + La valeur prédictive VP (= ``11 / (11+01)``) est le taux de vrais positifs parmi ceux prédits comme positifs <br>\n",
    "VP = (le taux de vrais positifs) / (le taux de vrais positifs + le taux de faux positifs)\n",
    "\n",
    "\n",
    "**Nous allons d'abord coder plusieurs fonctions qui seront utilisés plustard.**\n",
    "\n",
    "\n"
   ]
  },
  {
   "cell_type": "markdown",
   "metadata": {
    "id": "9xpcTpSXYF9t"
   },
   "source": [
    "<b>Question 1)</b> Ecrivez une fonction ``eval_res`` qui calcule la **Sen**, la **Spe** et **VP** (la valeur prédictive) à partir d’une matrice de confusion et renvoie un tuple à trois dimensions. La matrice de confusion sera codée comme un tableau à deux dimension, _e.g._ une liste de listes ou une matrice de numpy.\n"
   ]
  },
  {
   "cell_type": "code",
   "execution_count": 1,
   "metadata": {
    "id": "viL_iYvbYF9o"
   },
   "outputs": [],
   "source": [
    "import doctest # Pour pouvoir utiliser doctest.testmod()\n",
    "import numpy as np"
   ]
  },
  {
   "cell_type": "code",
   "execution_count": 2,
   "metadata": {
    "id": "lU5fe2L8YF9u"
   },
   "outputs": [
    {
     "data": {
      "text/plain": [
       "TestResults(failed=0, attempted=1)"
      ]
     },
     "execution_count": 2,
     "metadata": {},
     "output_type": "execute_result"
    }
   ],
   "source": [
    "# Question 1\n",
    "def eval_res(matconf):\n",
    "    \"\"\"Renvoi un tuple avec la sensibilité, la spécificité et la valeur prédictive.\n",
    "    entrée1 matconf : matrice de confusion (les positions contient VP, FP, FN, VN) \n",
    "    sortie1 sen: sensibilité \n",
    "    sortie2 spe: spécificité \n",
    "    sortie3 vp: sensibi valeur prédictive \n",
    "    >>> eval_res([[4, 1], [1, 3]])\n",
    "    (0.75, 0.8, 0.75)\n",
    "    \"\"\"\n",
    "    sen=matconf[1][1]/(matconf[1][1]+matconf[1][0])\n",
    "    spe=matconf[0][0]/(matconf[0][0]+matconf[0][1])\n",
    "    vp=matconf[1][1]/(matconf[1][1]+matconf[0][1])\n",
    "    return (sen, spe,vp)\n",
    "doctest.testmod()"
   ]
  },
  {
   "cell_type": "code",
   "execution_count": 3,
   "metadata": {
    "id": "koe-K87FYF9w"
   },
   "outputs": [],
   "source": [
    "assert eval_res([[50, 10], [5, 100]]) == (100 / 105, 50 / 60, 100 / 110)\n",
    "\n"
   ]
  },
  {
   "cell_type": "markdown",
   "metadata": {
    "id": "UD2AEgTmYF9x"
   },
   "source": [
    "<b>Question 2)</b> Ecrivez une fonction ``ecrit_intervalle`` qui, à partir des deux listes des positions de début et de fin des gènes sur le brin sens et de la longueur du génome, recode une grande liste avec la valeur 1 pour les positions qui sont des gènes et 0 sinon. Attention, il faut tenir compte des cas possibles où des gènes se chevauchent. Vous pourrez par exemple initialiser une liste avec ``lg`` valeurs à ``0`` et traiter ensuite les intervalles séquentiellement.\n"
   ]
  },
  {
   "cell_type": "code",
   "execution_count": 4,
   "metadata": {
    "id": "FOUZtaJ6YF9y"
   },
   "outputs": [
    {
     "data": {
      "text/plain": [
       "TestResults(failed=0, attempted=2)"
      ]
     },
     "execution_count": 4,
     "metadata": {},
     "output_type": "execute_result"
    }
   ],
   "source": [
    "# Question 2\n",
    "def ecrit_intervalle(positions_debut, positions_fin, len_genome):\n",
    "    \"\"\"\n",
    "    Renvoie une liste binaire avec un élément par base du génome.\n",
    "    1 indique la présence d'un gène.\n",
    "    entrée1 positions_debut : liste contenant les positions de debut des genes\n",
    "    entrée2 positions_fin : liste contenant les positions de fin des genes\n",
    "    entrée3 len_genome : taille du genome\n",
    "    sortie1 genome_list : Liste binaire avec un élément par base du génome\n",
    "    \n",
    "\n",
    "    >>> ecrit_intervalle([2, 10, 15], [7, 12, 20], 22)\n",
    "    [0, 0, 1, 1, 1, 1, 1, 1, 0, 0, 1, 1, 1, 0, 0, 1, 1, 1, 1, 1, 1, 0]\n",
    "    \"\"\"\n",
    "    genome_list = [0 for _ in range(len_genome)] #initialise tous les positions à zero\n",
    "        \n",
    "    for i in range(len(positions_debut)) : \n",
    "        for j in range(positions_debut[i], positions_fin[i]+1) :\n",
    "            genome_list[j] = 1\n",
    "        \n",
    "    return genome_list\n",
    "\n",
    "\n",
    "doctest.testmod()"
   ]
  },
  {
   "cell_type": "markdown",
   "metadata": {
    "id": "vUNDBy_iYF90"
   },
   "source": [
    "**Question 3)** Ecrivez la fonction ``compare_intervalle`` qui compare deux listes produites par la fonction ``ecrit_intervalle``, et renvoie la matrice de confusion.  \n",
    "    Par exemple, si les deux listes données en paramètre sont  \n",
    "    ``génome =[0,0,1,1,1,1,1,1,0,0,1,1,1,0,0,1,1,1,1,1,1,0]`` et  \n",
    "    ``ORFs   =[0,0,0,1,1,1,1,0,0,0,1,1,1,0,0,0,0,1,1,1,1,0]``, on a :  \n",
    "\n",
    "| Genome / ORF | 0 | 1 |\n",
    "|---|---|---| \n",
    "| **0** | 7 | 0  |\n",
    "| **1** | 4 | 11 |\n"
   ]
  },
  {
   "cell_type": "code",
   "execution_count": 5,
   "metadata": {
    "id": "uoHEYNeYYF91"
   },
   "outputs": [],
   "source": [
    "# Question 3\n",
    "def compare_intervalles(intervalle_1, intervalle_2):\n",
    "    \"\"\"Renvoi la matrice de confusion.\n",
    "    entrée1 intervalle_1: Liste binaire representant un genome de reference\n",
    "    entrée2 intervalle_2: Liste binaire representant un les predictions de genes\n",
    "    sortie1 matrix: matrice de confusion\n",
    "    >>> compare_intervalles([0, 0, 1, 1, 1, 1, 1, 1, 0, 0, 1, 1, 1, 0, 0, 1, 1, 1, 1, 1, 1, 0],\n",
    "    [0, 0, 0, 1, 1, 1, 1, 0, 0, 0, 1, 1, 1, 0, 0, 0, 0, 1, 1, 1, 1, 0])\n",
    "    [[7, 0], [4, 11]]\n",
    "    \"\"\"\n",
    "    matrix = [[0, 0], [0, 0]]\n",
    "    for i in range(len(intervalle_1)):\n",
    "        if intervalle_1[i]==0 and intervalle_2[i]==0:\n",
    "            matrix[0][0]+=1\n",
    "        elif intervalle_1[i]==0 and intervalle_2[i]==1:\n",
    "            matrix[0][1]+=1\n",
    "        elif intervalle_1[i]==1 and intervalle_2[i]==0:\n",
    "            matrix[1][0]+=1\n",
    "        else:\n",
    "            matrix[1][1]+=1\n",
    "    return matrix"
   ]
  },
  {
   "cell_type": "code",
   "execution_count": 6,
   "metadata": {
    "colab": {
     "base_uri": "https://localhost:8080/"
    },
    "id": "jLFdSWhVYF93",
    "outputId": "190d9d81-be7d-4dc2-f6cb-b52e943bb7b9"
   },
   "outputs": [
    {
     "data": {
      "text/plain": [
       "[[7, 0], [4, 11]]"
      ]
     },
     "execution_count": 6,
     "metadata": {},
     "output_type": "execute_result"
    }
   ],
   "source": [
    "compare_intervalles(\n",
    "    [0, 0, 1, 1, 1, 1, 1, 1, 0, 0, 1, 1, 1, 0, 0, 1, 1, 1, 1, 1, 1, 0],\n",
    "    [0, 0, 0, 1, 1, 1, 1, 0, 0, 0, 1, 1, 1, 0, 0, 0, 0, 1, 1, 1, 1, 0])"
   ]
  },
  {
   "cell_type": "markdown",
   "metadata": {
    "id": "isfF0PVHYF93"
   },
   "source": [
    "### B) Evaluation sur _E. coli_\n",
    "Nous allons comparer l’annotation des gènes de E. coli disponible au NCBI avec la prédiction par les ORFs realisé au TME precedent.\n",
    "**Attention, certains gènes définit dans les fichiers .tab sont non-codant (rRNA transfer, rRNA ribossomal). Ces gènes ne commencent pas par un codon START et nous allons les ignorer dans notre comparaison**. Nous allons donc travailler seulement avec les lignes \"protein_coding\" et le strand \"+\". \n",
    "\n",
    "\n",
    "\n",
    "\n"
   ]
  },
  {
   "cell_type": "markdown",
   "metadata": {
    "id": "ooXXMrjTsiFv"
   },
   "source": [
    "Nous allons utiliser pandas, une structuré de données puissante qui va simplifier nos analyses.\n",
    "\n",
    "Pour apprendre les bases on vous conseil les tutoriaux et vidéos suivant\n",
    "\n",
    "*   https://eric.univ-lyon2.fr/~ricco/tanagra/fichiers/fr_Tanagra_Data_Manipulation_Pandas.pdf\n",
    "*   https://pandas.pydata.org/pandas-docs/stable/reference/api/pandas.DataFrame.html (doc en anglais)\n",
    "*   https://www.youtube.com/watch?v=zZkNOdBWgFQ&t=187s (video en français)\n",
    "\n"
   ]
  },
  {
   "cell_type": "code",
   "execution_count": 7,
   "metadata": {
    "id": "L96kVi9SYF95"
   },
   "outputs": [],
   "source": [
    "import pandas as pd\n",
    "import gzip\n",
    "import shutil\n",
    "import urllib.request\n"
   ]
  },
  {
   "cell_type": "markdown",
   "metadata": {
    "id": "yYGEHYwpxW9H"
   },
   "source": [
    "<b>Preparation :</b> Telecharger le fichier feature_table de E. coli qui contient l'annotation de son genome"
   ]
  },
  {
   "cell_type": "code",
   "execution_count": 8,
   "metadata": {
    "colab": {
     "base_uri": "https://localhost:8080/"
    },
    "id": "ZLEdjbg2YF95",
    "outputId": "2efd3530-6905-4bda-c3f4-806ca887304c"
   },
   "outputs": [
    {
     "data": {
      "text/plain": [
       "('GCF_000026345.1_ASM2634v1_feature_table.txt.gz',\n",
       " <email.message.Message at 0x21aed3f3a30>)"
      ]
     },
     "execution_count": 8,
     "metadata": {},
     "output_type": "execute_result"
    }
   ],
   "source": [
    "#Telecharger le fichier feature_table de E. coli qui contient l'annotation de son genome\n",
    "urllib.request.urlretrieve(\n",
    "    'ftp://ftp.ncbi.nlm.nih.gov/genomes/all/GCF/000/026/345/GCF_000026345.1_ASM2634v1/GCF_000026345.1_ASM2634v1_feature_table.txt.gz',\n",
    "    'GCF_000026345.1_ASM2634v1_feature_table.txt.gz')"
   ]
  },
  {
   "cell_type": "code",
   "execution_count": 9,
   "metadata": {
    "id": "PnLU7GjHYF96"
   },
   "outputs": [],
   "source": [
    "#Decompresser le fichier\n",
    "with gzip.open('GCF_000026345.1_ASM2634v1_feature_table.txt.gz', 'rb') as f_in:\n",
    "    with open('GCF_000026345.1_ASM2634v1_feature_table.txt', 'wb') as f_out:\n",
    "        shutil.copyfileobj(f_in, f_out)"
   ]
  },
  {
   "cell_type": "markdown",
   "metadata": {
    "id": "_kGwxPGAxuTb"
   },
   "source": [
    "**Question 1)**: Lire le fichier `GCF_000026345.1_ASM2634v1_feature_table.txt` à l'aide de Pandas"
   ]
  },
  {
   "cell_type": "code",
   "execution_count": 10,
   "metadata": {
    "id": "yjhRignyYF97"
   },
   "outputs": [],
   "source": [
    "#Lire le fichier à l'aide de Pandas\n",
    "feature_table = pd.read_csv('GCF_000026345.1_ASM2634v1_feature_table.txt',delimiter='\\t')"
   ]
  },
  {
   "cell_type": "code",
   "execution_count": 11,
   "metadata": {
    "id": "uiGjqqtpYF97",
    "scrolled": true
   },
   "outputs": [
    {
     "data": {
      "text/html": [
       "<div>\n",
       "<style scoped>\n",
       "    .dataframe tbody tr th:only-of-type {\n",
       "        vertical-align: middle;\n",
       "    }\n",
       "\n",
       "    .dataframe tbody tr th {\n",
       "        vertical-align: top;\n",
       "    }\n",
       "\n",
       "    .dataframe thead th {\n",
       "        text-align: right;\n",
       "    }\n",
       "</style>\n",
       "<table border=\"1\" class=\"dataframe\">\n",
       "  <thead>\n",
       "    <tr style=\"text-align: right;\">\n",
       "      <th></th>\n",
       "      <th># feature</th>\n",
       "      <th>class</th>\n",
       "      <th>assembly</th>\n",
       "      <th>assembly_unit</th>\n",
       "      <th>seq_type</th>\n",
       "      <th>chromosome</th>\n",
       "      <th>genomic_accession</th>\n",
       "      <th>start</th>\n",
       "      <th>end</th>\n",
       "      <th>strand</th>\n",
       "      <th>product_accession</th>\n",
       "      <th>non-redundant_refseq</th>\n",
       "      <th>related_accession</th>\n",
       "      <th>name</th>\n",
       "      <th>symbol</th>\n",
       "      <th>GeneID</th>\n",
       "      <th>locus_tag</th>\n",
       "      <th>feature_interval_length</th>\n",
       "      <th>product_length</th>\n",
       "      <th>attributes</th>\n",
       "    </tr>\n",
       "  </thead>\n",
       "  <tbody>\n",
       "    <tr>\n",
       "      <th>0</th>\n",
       "      <td>gene</td>\n",
       "      <td>protein_coding</td>\n",
       "      <td>GCF_000026345.1</td>\n",
       "      <td>Primary Assembly</td>\n",
       "      <td>chromosome</td>\n",
       "      <td>NaN</td>\n",
       "      <td>NC_011750.1</td>\n",
       "      <td>189</td>\n",
       "      <td>254</td>\n",
       "      <td>+</td>\n",
       "      <td>NaN</td>\n",
       "      <td>NaN</td>\n",
       "      <td>NaN</td>\n",
       "      <td>NaN</td>\n",
       "      <td>thrL</td>\n",
       "      <td>NaN</td>\n",
       "      <td>ECIAI39_RS00005</td>\n",
       "      <td>66</td>\n",
       "      <td>NaN</td>\n",
       "      <td>old_locus_tag=ECIAI39_4936</td>\n",
       "    </tr>\n",
       "    <tr>\n",
       "      <th>1</th>\n",
       "      <td>CDS</td>\n",
       "      <td>with_protein</td>\n",
       "      <td>GCF_000026345.1</td>\n",
       "      <td>Primary Assembly</td>\n",
       "      <td>chromosome</td>\n",
       "      <td>NaN</td>\n",
       "      <td>NC_011750.1</td>\n",
       "      <td>189</td>\n",
       "      <td>254</td>\n",
       "      <td>+</td>\n",
       "      <td>WP_001386572.1</td>\n",
       "      <td>WP_001386572.1</td>\n",
       "      <td>NaN</td>\n",
       "      <td>thr operon leader peptide</td>\n",
       "      <td>thrL</td>\n",
       "      <td>NaN</td>\n",
       "      <td>ECIAI39_RS00005</td>\n",
       "      <td>66</td>\n",
       "      <td>21.0</td>\n",
       "      <td>NaN</td>\n",
       "    </tr>\n",
       "    <tr>\n",
       "      <th>2</th>\n",
       "      <td>gene</td>\n",
       "      <td>protein_coding</td>\n",
       "      <td>GCF_000026345.1</td>\n",
       "      <td>Primary Assembly</td>\n",
       "      <td>chromosome</td>\n",
       "      <td>NaN</td>\n",
       "      <td>NC_011750.1</td>\n",
       "      <td>335</td>\n",
       "      <td>2797</td>\n",
       "      <td>+</td>\n",
       "      <td>NaN</td>\n",
       "      <td>NaN</td>\n",
       "      <td>NaN</td>\n",
       "      <td>NaN</td>\n",
       "      <td>thrA</td>\n",
       "      <td>NaN</td>\n",
       "      <td>ECIAI39_RS00010</td>\n",
       "      <td>2463</td>\n",
       "      <td>NaN</td>\n",
       "      <td>old_locus_tag=ECIAI39_0001</td>\n",
       "    </tr>\n",
       "    <tr>\n",
       "      <th>3</th>\n",
       "      <td>CDS</td>\n",
       "      <td>with_protein</td>\n",
       "      <td>GCF_000026345.1</td>\n",
       "      <td>Primary Assembly</td>\n",
       "      <td>chromosome</td>\n",
       "      <td>NaN</td>\n",
       "      <td>NC_011750.1</td>\n",
       "      <td>335</td>\n",
       "      <td>2797</td>\n",
       "      <td>+</td>\n",
       "      <td>WP_001264707.1</td>\n",
       "      <td>WP_001264707.1</td>\n",
       "      <td>NaN</td>\n",
       "      <td>bifunctional aspartate kinase/homoserine dehyd...</td>\n",
       "      <td>thrA</td>\n",
       "      <td>NaN</td>\n",
       "      <td>ECIAI39_RS00010</td>\n",
       "      <td>2463</td>\n",
       "      <td>820.0</td>\n",
       "      <td>NaN</td>\n",
       "    </tr>\n",
       "    <tr>\n",
       "      <th>4</th>\n",
       "      <td>gene</td>\n",
       "      <td>protein_coding</td>\n",
       "      <td>GCF_000026345.1</td>\n",
       "      <td>Primary Assembly</td>\n",
       "      <td>chromosome</td>\n",
       "      <td>NaN</td>\n",
       "      <td>NC_011750.1</td>\n",
       "      <td>2799</td>\n",
       "      <td>3731</td>\n",
       "      <td>+</td>\n",
       "      <td>NaN</td>\n",
       "      <td>NaN</td>\n",
       "      <td>NaN</td>\n",
       "      <td>NaN</td>\n",
       "      <td>thrB</td>\n",
       "      <td>NaN</td>\n",
       "      <td>ECIAI39_RS00015</td>\n",
       "      <td>933</td>\n",
       "      <td>NaN</td>\n",
       "      <td>old_locus_tag=ECIAI39_0002</td>\n",
       "    </tr>\n",
       "  </tbody>\n",
       "</table>\n",
       "</div>"
      ],
      "text/plain": [
       "  # feature           class         assembly     assembly_unit    seq_type  \\\n",
       "0      gene  protein_coding  GCF_000026345.1  Primary Assembly  chromosome   \n",
       "1       CDS    with_protein  GCF_000026345.1  Primary Assembly  chromosome   \n",
       "2      gene  protein_coding  GCF_000026345.1  Primary Assembly  chromosome   \n",
       "3       CDS    with_protein  GCF_000026345.1  Primary Assembly  chromosome   \n",
       "4      gene  protein_coding  GCF_000026345.1  Primary Assembly  chromosome   \n",
       "\n",
       "   chromosome genomic_accession  start   end strand product_accession  \\\n",
       "0         NaN       NC_011750.1    189   254      +               NaN   \n",
       "1         NaN       NC_011750.1    189   254      +    WP_001386572.1   \n",
       "2         NaN       NC_011750.1    335  2797      +               NaN   \n",
       "3         NaN       NC_011750.1    335  2797      +    WP_001264707.1   \n",
       "4         NaN       NC_011750.1   2799  3731      +               NaN   \n",
       "\n",
       "  non-redundant_refseq  related_accession  \\\n",
       "0                  NaN                NaN   \n",
       "1       WP_001386572.1                NaN   \n",
       "2                  NaN                NaN   \n",
       "3       WP_001264707.1                NaN   \n",
       "4                  NaN                NaN   \n",
       "\n",
       "                                                name symbol  GeneID  \\\n",
       "0                                                NaN   thrL     NaN   \n",
       "1                          thr operon leader peptide   thrL     NaN   \n",
       "2                                                NaN   thrA     NaN   \n",
       "3  bifunctional aspartate kinase/homoserine dehyd...   thrA     NaN   \n",
       "4                                                NaN   thrB     NaN   \n",
       "\n",
       "         locus_tag  feature_interval_length  product_length  \\\n",
       "0  ECIAI39_RS00005                       66             NaN   \n",
       "1  ECIAI39_RS00005                       66            21.0   \n",
       "2  ECIAI39_RS00010                     2463             NaN   \n",
       "3  ECIAI39_RS00010                     2463           820.0   \n",
       "4  ECIAI39_RS00015                      933             NaN   \n",
       "\n",
       "                   attributes  \n",
       "0  old_locus_tag=ECIAI39_4936  \n",
       "1                         NaN  \n",
       "2  old_locus_tag=ECIAI39_0001  \n",
       "3                         NaN  \n",
       "4  old_locus_tag=ECIAI39_0002  "
      ]
     },
     "execution_count": 11,
     "metadata": {},
     "output_type": "execute_result"
    }
   ],
   "source": [
    "#afficher les premières 5 lignes\n",
    "feature_table.head()"
   ]
  },
  {
   "cell_type": "markdown",
   "metadata": {
    "id": "OEAvBpCqyI6d"
   },
   "source": [
    "**Question 2)**: Filtrer feature table et laisser seulement les lignes contenant \"protein_coding\" et le strand \"+\"."
   ]
  },
  {
   "cell_type": "code",
   "execution_count": 12,
   "metadata": {
    "id": "7DSlBIZfYF98",
    "scrolled": true
   },
   "outputs": [
    {
     "data": {
      "text/html": [
       "<div>\n",
       "<style scoped>\n",
       "    .dataframe tbody tr th:only-of-type {\n",
       "        vertical-align: middle;\n",
       "    }\n",
       "\n",
       "    .dataframe tbody tr th {\n",
       "        vertical-align: top;\n",
       "    }\n",
       "\n",
       "    .dataframe thead th {\n",
       "        text-align: right;\n",
       "    }\n",
       "</style>\n",
       "<table border=\"1\" class=\"dataframe\">\n",
       "  <thead>\n",
       "    <tr style=\"text-align: right;\">\n",
       "      <th></th>\n",
       "      <th># feature</th>\n",
       "      <th>class</th>\n",
       "      <th>assembly</th>\n",
       "      <th>assembly_unit</th>\n",
       "      <th>seq_type</th>\n",
       "      <th>chromosome</th>\n",
       "      <th>genomic_accession</th>\n",
       "      <th>start</th>\n",
       "      <th>end</th>\n",
       "      <th>strand</th>\n",
       "      <th>product_accession</th>\n",
       "      <th>non-redundant_refseq</th>\n",
       "      <th>related_accession</th>\n",
       "      <th>name</th>\n",
       "      <th>symbol</th>\n",
       "      <th>GeneID</th>\n",
       "      <th>locus_tag</th>\n",
       "      <th>feature_interval_length</th>\n",
       "      <th>product_length</th>\n",
       "      <th>attributes</th>\n",
       "    </tr>\n",
       "  </thead>\n",
       "  <tbody>\n",
       "    <tr>\n",
       "      <th>0</th>\n",
       "      <td>gene</td>\n",
       "      <td>protein_coding</td>\n",
       "      <td>GCF_000026345.1</td>\n",
       "      <td>Primary Assembly</td>\n",
       "      <td>chromosome</td>\n",
       "      <td>NaN</td>\n",
       "      <td>NC_011750.1</td>\n",
       "      <td>189</td>\n",
       "      <td>254</td>\n",
       "      <td>+</td>\n",
       "      <td>NaN</td>\n",
       "      <td>NaN</td>\n",
       "      <td>NaN</td>\n",
       "      <td>NaN</td>\n",
       "      <td>thrL</td>\n",
       "      <td>NaN</td>\n",
       "      <td>ECIAI39_RS00005</td>\n",
       "      <td>66</td>\n",
       "      <td>NaN</td>\n",
       "      <td>old_locus_tag=ECIAI39_4936</td>\n",
       "    </tr>\n",
       "    <tr>\n",
       "      <th>2</th>\n",
       "      <td>gene</td>\n",
       "      <td>protein_coding</td>\n",
       "      <td>GCF_000026345.1</td>\n",
       "      <td>Primary Assembly</td>\n",
       "      <td>chromosome</td>\n",
       "      <td>NaN</td>\n",
       "      <td>NC_011750.1</td>\n",
       "      <td>335</td>\n",
       "      <td>2797</td>\n",
       "      <td>+</td>\n",
       "      <td>NaN</td>\n",
       "      <td>NaN</td>\n",
       "      <td>NaN</td>\n",
       "      <td>NaN</td>\n",
       "      <td>thrA</td>\n",
       "      <td>NaN</td>\n",
       "      <td>ECIAI39_RS00010</td>\n",
       "      <td>2463</td>\n",
       "      <td>NaN</td>\n",
       "      <td>old_locus_tag=ECIAI39_0001</td>\n",
       "    </tr>\n",
       "    <tr>\n",
       "      <th>4</th>\n",
       "      <td>gene</td>\n",
       "      <td>protein_coding</td>\n",
       "      <td>GCF_000026345.1</td>\n",
       "      <td>Primary Assembly</td>\n",
       "      <td>chromosome</td>\n",
       "      <td>NaN</td>\n",
       "      <td>NC_011750.1</td>\n",
       "      <td>2799</td>\n",
       "      <td>3731</td>\n",
       "      <td>+</td>\n",
       "      <td>NaN</td>\n",
       "      <td>NaN</td>\n",
       "      <td>NaN</td>\n",
       "      <td>NaN</td>\n",
       "      <td>thrB</td>\n",
       "      <td>NaN</td>\n",
       "      <td>ECIAI39_RS00015</td>\n",
       "      <td>933</td>\n",
       "      <td>NaN</td>\n",
       "      <td>old_locus_tag=ECIAI39_0002</td>\n",
       "    </tr>\n",
       "    <tr>\n",
       "      <th>6</th>\n",
       "      <td>gene</td>\n",
       "      <td>protein_coding</td>\n",
       "      <td>GCF_000026345.1</td>\n",
       "      <td>Primary Assembly</td>\n",
       "      <td>chromosome</td>\n",
       "      <td>NaN</td>\n",
       "      <td>NC_011750.1</td>\n",
       "      <td>3732</td>\n",
       "      <td>5018</td>\n",
       "      <td>+</td>\n",
       "      <td>NaN</td>\n",
       "      <td>NaN</td>\n",
       "      <td>NaN</td>\n",
       "      <td>NaN</td>\n",
       "      <td>thrC</td>\n",
       "      <td>NaN</td>\n",
       "      <td>ECIAI39_RS00020</td>\n",
       "      <td>1287</td>\n",
       "      <td>NaN</td>\n",
       "      <td>old_locus_tag=ECIAI39_0003</td>\n",
       "    </tr>\n",
       "    <tr>\n",
       "      <th>8</th>\n",
       "      <td>gene</td>\n",
       "      <td>protein_coding</td>\n",
       "      <td>GCF_000026345.1</td>\n",
       "      <td>Primary Assembly</td>\n",
       "      <td>chromosome</td>\n",
       "      <td>NaN</td>\n",
       "      <td>NC_011750.1</td>\n",
       "      <td>5232</td>\n",
       "      <td>5528</td>\n",
       "      <td>+</td>\n",
       "      <td>NaN</td>\n",
       "      <td>NaN</td>\n",
       "      <td>NaN</td>\n",
       "      <td>NaN</td>\n",
       "      <td>NaN</td>\n",
       "      <td>NaN</td>\n",
       "      <td>ECIAI39_RS00025</td>\n",
       "      <td>297</td>\n",
       "      <td>NaN</td>\n",
       "      <td>old_locus_tag=ECIAI39_0004</td>\n",
       "    </tr>\n",
       "  </tbody>\n",
       "</table>\n",
       "</div>"
      ],
      "text/plain": [
       "  # feature           class         assembly     assembly_unit    seq_type  \\\n",
       "0      gene  protein_coding  GCF_000026345.1  Primary Assembly  chromosome   \n",
       "2      gene  protein_coding  GCF_000026345.1  Primary Assembly  chromosome   \n",
       "4      gene  protein_coding  GCF_000026345.1  Primary Assembly  chromosome   \n",
       "6      gene  protein_coding  GCF_000026345.1  Primary Assembly  chromosome   \n",
       "8      gene  protein_coding  GCF_000026345.1  Primary Assembly  chromosome   \n",
       "\n",
       "   chromosome genomic_accession  start   end strand product_accession  \\\n",
       "0         NaN       NC_011750.1    189   254      +               NaN   \n",
       "2         NaN       NC_011750.1    335  2797      +               NaN   \n",
       "4         NaN       NC_011750.1   2799  3731      +               NaN   \n",
       "6         NaN       NC_011750.1   3732  5018      +               NaN   \n",
       "8         NaN       NC_011750.1   5232  5528      +               NaN   \n",
       "\n",
       "  non-redundant_refseq  related_accession name symbol  GeneID  \\\n",
       "0                  NaN                NaN  NaN   thrL     NaN   \n",
       "2                  NaN                NaN  NaN   thrA     NaN   \n",
       "4                  NaN                NaN  NaN   thrB     NaN   \n",
       "6                  NaN                NaN  NaN   thrC     NaN   \n",
       "8                  NaN                NaN  NaN    NaN     NaN   \n",
       "\n",
       "         locus_tag  feature_interval_length  product_length  \\\n",
       "0  ECIAI39_RS00005                       66             NaN   \n",
       "2  ECIAI39_RS00010                     2463             NaN   \n",
       "4  ECIAI39_RS00015                      933             NaN   \n",
       "6  ECIAI39_RS00020                     1287             NaN   \n",
       "8  ECIAI39_RS00025                      297             NaN   \n",
       "\n",
       "                   attributes  \n",
       "0  old_locus_tag=ECIAI39_4936  \n",
       "2  old_locus_tag=ECIAI39_0001  \n",
       "4  old_locus_tag=ECIAI39_0002  \n",
       "6  old_locus_tag=ECIAI39_0003  \n",
       "8  old_locus_tag=ECIAI39_0004  "
      ]
     },
     "execution_count": 12,
     "metadata": {},
     "output_type": "execute_result"
    }
   ],
   "source": [
    "\n",
    "filtered_ft=feature_table[(feature_table['strand'] == '+') & (feature_table['class'] == 'protein_coding') ]\n",
    "filtered_ft.head()"
   ]
  },
  {
   "cell_type": "markdown",
   "metadata": {
    "id": "T36RlIyOyZ47"
   },
   "source": [
    "**Question 3)**: Lire le fichier annotation_des_orfs.csv (produit au TME2) à l'aide de Pandas"
   ]
  },
  {
   "cell_type": "code",
   "execution_count": 13,
   "metadata": {
    "id": "F_JadhPoYF98"
   },
   "outputs": [
    {
     "data": {
      "text/html": [
       "<div>\n",
       "<style scoped>\n",
       "    .dataframe tbody tr th:only-of-type {\n",
       "        vertical-align: middle;\n",
       "    }\n",
       "\n",
       "    .dataframe tbody tr th {\n",
       "        vertical-align: top;\n",
       "    }\n",
       "\n",
       "    .dataframe thead th {\n",
       "        text-align: right;\n",
       "    }\n",
       "</style>\n",
       "<table border=\"1\" class=\"dataframe\">\n",
       "  <thead>\n",
       "    <tr style=\"text-align: right;\">\n",
       "      <th></th>\n",
       "      <th>start</th>\n",
       "      <th>len</th>\n",
       "      <th>seq</th>\n",
       "    </tr>\n",
       "  </thead>\n",
       "  <tbody>\n",
       "    <tr>\n",
       "      <th>0</th>\n",
       "      <td>292</td>\n",
       "      <td>2505</td>\n",
       "      <td>GTGCGGGCTTTTTTTTCGACCAAAGGTAACGAGGTAACAACCATGC...</td>\n",
       "    </tr>\n",
       "    <tr>\n",
       "      <th>1</th>\n",
       "      <td>2798</td>\n",
       "      <td>933</td>\n",
       "      <td>ATGGTTAAAGTTTATGCCCCGGCTTCCAGTGCCAATATGAGCGTCG...</td>\n",
       "    </tr>\n",
       "    <tr>\n",
       "      <th>2</th>\n",
       "      <td>3731</td>\n",
       "      <td>1287</td>\n",
       "      <td>ATGAAACTCTACAATCTGAAAGATCACAATGAGCAGGTCAGCTTTG...</td>\n",
       "    </tr>\n",
       "    <tr>\n",
       "      <th>3</th>\n",
       "      <td>8272</td>\n",
       "      <td>804</td>\n",
       "      <td>TTGATTGATGATGCTGTCGCCTGGGCGAAACAGCAGAGCAACGATC...</td>\n",
       "    </tr>\n",
       "    <tr>\n",
       "      <th>4</th>\n",
       "      <td>12100</td>\n",
       "      <td>1863</td>\n",
       "      <td>ATGGATGGCACCACTCCTCGTGTACTGGAGAACGCCGAAGGCGATC...</td>\n",
       "    </tr>\n",
       "  </tbody>\n",
       "</table>\n",
       "</div>"
      ],
      "text/plain": [
       "   start   len                                                seq\n",
       "0    292  2505  GTGCGGGCTTTTTTTTCGACCAAAGGTAACGAGGTAACAACCATGC...\n",
       "1   2798   933  ATGGTTAAAGTTTATGCCCCGGCTTCCAGTGCCAATATGAGCGTCG...\n",
       "2   3731  1287  ATGAAACTCTACAATCTGAAAGATCACAATGAGCAGGTCAGCTTTG...\n",
       "3   8272   804  TTGATTGATGATGCTGTCGCCTGGGCGAAACAGCAGAGCAACGATC...\n",
       "4  12100  1863  ATGGATGGCACCACTCCTCGTGTACTGGAGAACGCCGAAGGCGATC..."
      ]
     },
     "execution_count": 13,
     "metadata": {},
     "output_type": "execute_result"
    }
   ],
   "source": [
    "\n",
    "feature_orfs = pd.read_csv('annotation_des_orfs.csv',delimiter='\\t')\n",
    "feature_orfs.head()"
   ]
  },
  {
   "cell_type": "markdown",
   "metadata": {
    "id": "jezFebivwqSX"
   },
   "source": [
    "**Question 4)**: Appliquez la fonction ``compare_intervalle`` à l’annotation des gènes sur le brin sens et à la prédiction par les ORFs sur le brin sens,  puis générer la matrice de confusion."
   ]
  },
  {
   "cell_type": "code",
   "execution_count": 14,
   "metadata": {
    "id": "oQlkjpxnYF99"
   },
   "outputs": [],
   "source": [
    "len_genome = 5132068\n",
    "\n",
    "pd1=[i-1 for i in filtered_ft['start'].tolist()]\n",
    "pf1=[i-1 for i in filtered_ft['end'].tolist()]\n",
    "positions_debut=feature_orfs['start'].tolist()\n",
    "positions_fin=[positions_debut[i]+feature_orfs['len'].tolist()[i]-1 for i in range(len(positions_debut))]\n",
    "matrix=compare_intervalles(ecrit_intervalle(pd1,pf1,len_genome),ecrit_intervalle(positions_debut,positions_fin,len_genome))\n",
    "\n"
   ]
  },
  {
   "cell_type": "code",
   "execution_count": 15,
   "metadata": {
    "colab": {
     "base_uri": "https://localhost:8080/"
    },
    "id": "QfsveV32YF99",
    "outputId": "a35413a0-6818-4499-8868-7a6f2369b4f1"
   },
   "outputs": [
    {
     "data": {
      "text/plain": [
       "[[2832055, 289585], [438732, 1571696]]"
      ]
     },
     "execution_count": 15,
     "metadata": {},
     "output_type": "execute_result"
    }
   ],
   "source": [
    "matrix"
   ]
  },
  {
   "cell_type": "markdown",
   "metadata": {
    "id": "34wx1lsizNPc"
   },
   "source": [
    "matrix = [[2832055, 289585], [438732, 1571696]]"
   ]
  },
  {
   "cell_type": "markdown",
   "metadata": {
    "id": "TL8pldTlzU3S"
   },
   "source": [
    "**Question 5)**: Appliquez la fonction ``eval_res`` à la matrice de confusion et affichez Sen, Spe et VP."
   ]
  },
  {
   "cell_type": "code",
   "execution_count": 16,
   "metadata": {
    "id": "goWShEC9YF9_"
   },
   "outputs": [
    {
     "name": "stdout",
     "output_type": "stream",
     "text": [
      "Sen :  0.7817718416178048\n",
      "Spe :  0.9072330569828679\n",
      "VP :  0.844416291790439\n"
     ]
    }
   ],
   "source": [
    "res=eval_res(matrix)\n",
    "print(\"Sen : \", res[0])\n",
    "print(\"Spe : \", res[1])\n",
    "print(\"VP : \", res[2])"
   ]
  },
  {
   "cell_type": "markdown",
   "metadata": {
    "id": "6ZjQieavYF-A"
   },
   "source": [
    "<b>Question 6)</b>: Analyse des résultats. Pour comprendre les limitations d'une méthode de prédiction on doit toujours analyser dans un second temps les erreurs faites par le programme. En détectant des erreurs récurrente, il est plus facile de proposer ensuite des améliorations. Donnez deux exemples de régions d'au moins 50 nucléotides consécutifs qui sont :\n",
    "\n",
    "*   un faux négatif (gène raté)\n",
    "*   un faux positif (gène inexistant)\n",
    "\n",
    "A votre avis à quoi ces deux types d'erreurs sont-elles dues ? "
   ]
  },
  {
   "cell_type": "code",
   "execution_count": null,
   "metadata": {
    "id": "BG0FPHbcYF-N"
   },
   "outputs": [],
   "source": []
  },
  {
   "cell_type": "code",
   "execution_count": null,
   "metadata": {},
   "outputs": [],
   "source": []
  }
 ],
 "metadata": {
  "colab": {
   "collapsed_sections": [],
   "name": "TME3_LU3IN013.ipynb",
   "provenance": []
  },
  "kernelspec": {
   "display_name": "Python 3 (ipykernel)",
   "language": "python",
   "name": "python3"
  },
  "language_info": {
   "codemirror_mode": {
    "name": "ipython",
    "version": 3
   },
   "file_extension": ".py",
   "mimetype": "text/x-python",
   "name": "python",
   "nbconvert_exporter": "python",
   "pygments_lexer": "ipython3",
   "version": "3.9.7"
  }
 },
 "nbformat": 4,
 "nbformat_minor": 1
}
