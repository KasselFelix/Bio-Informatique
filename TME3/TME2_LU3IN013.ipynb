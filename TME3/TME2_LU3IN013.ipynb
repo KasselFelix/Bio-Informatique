{
 "cells": [
  {
   "cell_type": "markdown",
   "metadata": {
    "id": "7OM9MVTO0jzX"
   },
   "source": [
    "# TME 2 : Prédiction de gènes - Détection de gènes candidats\n",
    "\n",
    "Le but de ce TME est d’annoter les régions dans le génome qui correspondent à des gènes. Nous allons prendre en compte les différents éléments qui définissent un gène pour pouvoir déterminer les candidats à des régions codantes : phases ouvertes de lecture, propriétés statistiques du code génétique, et comparer les résultats avec l’annotation qui est disponible. \n",
    "Nous nous baserons sur le génome de _Bifidobacterium actinocoloniiforme_ que nous avons commencé à analyser au TME précédent, avec ses annotations et au génome de _Escherichia coli_\n"
   ]
  },
  {
   "cell_type": "markdown",
   "metadata": {
    "id": "cQeEBXxUF9A5"
   },
   "source": [
    "**Nom etudiant 1 :**\n",
    "\n",
    "**Nom etudiant 2 :**"
   ]
  },
  {
   "cell_type": "markdown",
   "metadata": {
    "id": "QTgZfPwE0jzc"
   },
   "source": [
    "### A) Mise en route,  télécharger et preparer les données"
   ]
  },
  {
   "cell_type": "markdown",
   "metadata": {
    "id": "db238O2w0jzd"
   },
   "source": [
    "<b>Question 1)</b> Adapter les commandes du TME précédent pour télécharger le génome de _E. coli_ ainsi que ses annotations"
   ]
  },
  {
   "cell_type": "markdown",
   "metadata": {
    "id": "4TRTpTg90jze"
   },
   "source": [
    "\n",
    "ftp://ftp.ncbi.nlm.nih.gov/genomes/all/GCF/000/026/345/GCF_000026345.1_ASM2634v1/GCF_000026345.1_ASM2634v1_genomic.fna.gz\n",
    "\n",
    "ftp://ftp.ncbi.nlm.nih.gov/genomes/all/GCF/000/026/345/GCF_000026345.1_ASM2634v1/GCF_000026345.1_ASM2634v1_feature_table.txt.gz\n"
   ]
  },
  {
   "cell_type": "code",
   "execution_count": 1,
   "metadata": {
    "id": "6zJGsrRa0jze"
   },
   "outputs": [],
   "source": [
    "import urllib.request\n",
    "#Utliser la fonction urllib.request.urlretrieve(path)"
   ]
  },
  {
   "cell_type": "code",
   "execution_count": 2,
   "metadata": {
    "id": "_BxtDpKN46Ku"
   },
   "outputs": [],
   "source": [
    "#download _genomic.fna.gz\n"
   ]
  },
  {
   "cell_type": "code",
   "execution_count": 3,
   "metadata": {
    "id": "1yCPBPfX0jzg"
   },
   "outputs": [],
   "source": [
    "#download _feature_table.txt.gz\n",
    "\n"
   ]
  },
  {
   "cell_type": "markdown",
   "metadata": {
    "id": "PFCOUdML0jzh"
   },
   "source": [
    "<b>Question 2)</b> Decompresser les fichiers"
   ]
  },
  {
   "cell_type": "code",
   "execution_count": 4,
   "metadata": {
    "id": "P1QGNVKK0jzh"
   },
   "outputs": [],
   "source": [
    "import gzip\n",
    "import shutil"
   ]
  },
  {
   "cell_type": "code",
   "execution_count": 5,
   "metadata": {
    "id": "9iaqnOLF0jzi"
   },
   "outputs": [],
   "source": [
    "#Decompresser _genomic.fna.gz\n"
   ]
  },
  {
   "cell_type": "code",
   "execution_count": 6,
   "metadata": {
    "id": "I6pdCTwB0jzj"
   },
   "outputs": [],
   "source": [
    "#Decompresser _feature_table.txt.gz\n"
   ]
  },
  {
   "cell_type": "markdown",
   "metadata": {
    "id": "ErLw46WB0jzk"
   },
   "source": [
    "<b>Question 3)</b> Exécuter le code ci-dessous qui va créer un dictionnaire pour représenter le code genetique. Vous avez également deux jeu de séquences pour tester les prochaines fonctions."
   ]
  },
  {
   "cell_type": "code",
   "execution_count": 7,
   "metadata": {
    "id": "3_O42GrW0jzk"
   },
   "outputs": [],
   "source": [
    "# Dictionnaire codons -> acides aminés. Les codons stops sont représentés\n",
    "# avec le caractère \"*\"\n",
    "CODEGENETIQUE = {\n",
    "    \"TTT\": \"F\", \"TTC\": \"F\",\"TTA\": \"L\",\"TTG\": \"L\",\"TCT\": \"S\",\"TCC\": \"S\",\"TCA\": \"S\",\"TCG\": \"S\",\"TAT\": \"Y\",\"TAC\": \"Y\",\n",
    "    \"TAA\": \"*\",\"TAG\": \"*\",\"TGT\": \"C\",\"TGC\": \"C\",\"TGA\": \"*\",\"TGG\": \"W\",\"CTT\": \"L\",\"CTC\": \"L\",\"CTA\": \"L\",\"CTG\": \"L\",\n",
    "    \"CCT\": \"P\",\"CCC\": \"P\",\"CCA\": \"P\",\"CCG\": \"P\",\"CAT\": \"H\",\"CAC\": \"H\",\"CAA\": \"Q\",\"CAG\": \"Q\",\"CGT\": \"R\",\"CGC\": \"R\",\n",
    "    \"CGA\": \"R\",\"CGG\": \"R\",\"ATT\": \"I\",\"ATC\": \"I\",\"ATA\": \"I\",\"ATG\": \"M\",\"ACT\": \"T\",\"ACC\": \"T\",\"ACA\": \"T\",\"ACG\": \"T\",\n",
    "    \"AAT\": \"N\",\"AAC\": \"N\",\"AAA\": \"K\",\"AAG\": \"K\",\"AGT\": \"S\",\"AGC\": \"S\",\"AGA\": \"R\",\"AGG\": \"R\",\"GTT\": \"V\",\"GTC\": \"V\",\n",
    "    \"GTA\": \"V\",\"GTG\": \"V\",\"GCT\": \"A\",\"GCC\": \"A\",\"GCA\": \"A\",\"GCG\": \"A\",\"GAT\": \"D\",\"GAC\": \"D\",\"GAA\": \"E\",\"GAG\": \"E\",\n",
    "    \"GGT\": \"G\",\"GGC\": \"G\",\"GGA\": \"G\",\"GGG\": \"G\"\n",
    "}\n",
    "\n",
    "# Utiliser les sequences TESTSEQ et TESTSEQCLEAN pour tester vos fonctions\n",
    "TESTSEQ = \"ATGAAACGCATTAGCMMCACCATTACCACCACCATCACCATTACCACAGKTAACGGTGCGGGCTGA\"\n",
    "TESTSEQCLEAN = \"ATGAAACGCATTAGCACCACCATTACCACCACCATCACCATTACCACAGGTAACGGTGCGGGCTGA\""
   ]
  },
  {
   "cell_type": "markdown",
   "metadata": {
    "id": "_-vDgNrv0jzm"
   },
   "source": [
    "### B) Annotation des phases ouvertes de lecture et traduction en séquence protéique\n",
    "\n",
    "<b>Question 1)</b> Parfois dans les génomes (représentés par des fichiers numériques), nous trouvons des nucléotides qui n'ont pas été correctement identifiés par la machine de séquençage. Certains instruments nous restreignent les possibilités à un sous-ensemble de nucléotides. Ecrire une fonction `remplace_non_identifies` qui remplace les nucléotides non identifiés par une des possibilités listées ci-dessous de façon aléatoire.<br>\n",
    "\n",
    "R = G,A (purine)<br>\n",
    "Y = T,C (pyrimidine)<br>\n",
    "K = G,T (céto)<br>\n",
    "M = A,C (amino)<br>\n",
    "S = G,C (obligations solides)<br>\n",
    "W = A,T (Les liaisons faibles)<br>\n",
    "B = G,T,C (tous sauf A)<br>\n",
    "D = G,A,T (tous sauf C)<br>\n",
    "H = A,C,T (tous sauf G)<br>\n",
    "V = G,C,A (tous sauf T)<br>\n",
    "N = A,G,C,T (any)<br>\n",
    "X = A,G,C,T (any)<br>\n",
    "\n"
   ]
  },
  {
   "cell_type": "code",
   "execution_count": 8,
   "metadata": {
    "id": "4S-H90IV0jzn"
   },
   "outputs": [],
   "source": [
    "import doctest # C’est pour pouvoir utiliser doctest.testmod() et tester les fonctions\n",
    "import random"
   ]
  },
  {
   "cell_type": "code",
   "execution_count": 9,
   "metadata": {
    "id": "iGxQjxVA0jzn"
   },
   "outputs": [
    {
     "data": {
      "text/plain": [
       "'T'"
      ]
     },
     "execution_count": 9,
     "metadata": {},
     "output_type": "execute_result"
    }
   ],
   "source": [
    "random.choice(['A', 'C', 'T', 'G'])"
   ]
  },
  {
   "cell_type": "code",
   "execution_count": 10,
   "metadata": {
    "id": "ACYGljKf0jzo"
   },
   "outputs": [],
   "source": [
    "##### Question 1\n",
    "def remplace_non_identifies(seq):\n",
    "    \"\"\"\n",
    "    Remplace les nucléotides non identifiés par une des possibilités de façon aléatoire.\n",
    "    entrée : sequence ayant peut-etre des nucleotides non identifiés\n",
    "    sortie : sequence (nettoyé) sans nucléotides non identifiés \n",
    "    \n",
    "    \"\"\"\n",
    "    options = {\n",
    "        \"R\": [\"G\", \"A\"],\n",
    "        \"Y\": [\"T\", \"C\"],\n",
    "        \"K\": [\"G\", \"T\"],\n",
    "        \"M\": [\"A\", \"C\"],\n",
    "        \"S\": [\"G\", \"C\"],\n",
    "        \"W\": [\"A\", \"T\"],\n",
    "        \"B\": [\"G\", \"T\", \"C\"],\n",
    "        \"D\": [\"G\", \"A\", \"T\"],\n",
    "        \"H\": [\"A\", \"C\", \"T\"],\n",
    "        \"V\": [\"G\", \"C\", \"A\"],\n",
    "        \"N\": [\"A\", \"G\", \"C\", \"T\"],\n",
    "        \"X\": [\"A\", \"G\", \"C\", \"T\"]\n",
    "    }\n",
    "    return None\n",
    "\n",
    "\n",
    "doctest.testmod()\n",
    "\n",
    "remplace_non_identifies(TESTSEQ)"
   ]
  },
  {
   "cell_type": "markdown",
   "metadata": {
    "id": "QSEvMd6o0jzo"
   },
   "source": [
    "<b>Question 2)</b> Ecrire une fonction `listecodon` qui renvoie une liste de codons pour une séquence passée en paramètre. Par exemple, si on passe la séquence ``AACGTGGCA`` comme paramètre votre fonction doit renvoyer ``[‘AAC’, ‘GTG’, ‘GCA’]``. Si la longueur de la séquence n'est pas un multiple de 3 on ne tiendra pas compte des 1 ou 2 nucléotides restant à la fin.\n"
   ]
  },
  {
   "cell_type": "code",
   "execution_count": 11,
   "metadata": {
    "id": "WU87_kH40jzo"
   },
   "outputs": [],
   "source": [
    "#Pour avoir une aide sur la documentation de python\n",
    "?range"
   ]
  },
  {
   "cell_type": "code",
   "execution_count": 12,
   "metadata": {
    "id": "CzvgrhiY0jzp"
   },
   "outputs": [],
   "source": [
    "# Question 2\n",
    "def listecodon(seq):\n",
    "    \"\"\"\n",
    "    Renvoie une liste de codons pour une séquence passée en paramètre.\n",
    "    entrée : sequence de nucléotides\n",
    "    sortie : list de codons de la sequence d'entrée\n",
    "\n",
    "    Si la longueur de la séquence n'est pas un multiple de 3 elle ne tiendra pas \n",
    "    compte des 1 ou 2 nucléotides restant à la fin.\n",
    "    \n",
    "    >>> listecodon('AAACCC')\n",
    "    ['AAA', 'CCC']\n",
    "    >>> listecodon('AAACC')\n",
    "    ['AAA']\n",
    "    >>> listecodon('AAAC')\n",
    "    ['AAA']\n",
    "    \"\"\"\n",
    "    return [seq[i:i+3] for i in range(0,len(seq),3) if len(seq[i:i+3])==3]\n",
    "\n",
    "doctest.testmod()\n",
    "\n",
    "assert listecodon(TESTSEQCLEAN) == [\n",
    "    'ATG', 'AAA', 'CGC', 'ATT', 'AGC', 'ACC', 'ACC', 'ATT', 'ACC', 'ACC',\n",
    "    'ACC', 'ATC', 'ACC', 'ATT', 'ACC', 'ACA', 'GGT', 'AAC', 'GGT', 'GCG',\n",
    "    'GGC', 'TGA']"
   ]
  },
  {
   "cell_type": "markdown",
   "metadata": {
    "id": "KPjayFLC0jzp"
   },
   "source": [
    "<b>Question 3)</b> Ecrire une fonction `reversecompl` qui renvoie le brin complémentaire d’une séquence passée en paramètre. Par exemple, si on passe la séquence ``AACGTGGCA`` comme paramètre votre fonction doit renvoyer ``TGCCACGTT``.\n"
   ]
  },
  {
   "cell_type": "code",
   "execution_count": 13,
   "metadata": {
    "id": "4vAcdo0b0jzq"
   },
   "outputs": [
    {
     "name": "stdout",
     "output_type": "stream",
     "text": [
      "TGCCACGTT\n"
     ]
    }
   ],
   "source": [
    "# Question 3\n",
    "def reversecompl(seq):\n",
    "    \"\"\"Renvoie le brin complémentaire d’une séquence.\n",
    "    entrée : sequence de nucléotides (brin sens)\n",
    "    sortie : sequence de nucléotides (brin complementaire)\n",
    "    >>> reversecompl('AACGTGGCA')\n",
    "    'TGCCACGTT'\n",
    "    \"\"\"\n",
    "    compl = {'A': 'T', 'C': 'G', 'G': 'C', 'T':'A'}\n",
    "    \n",
    "    return \"\".join( [compl[seq[i]] for i in range(len(seq)-1,-1,-1) ] )\n",
    "\n",
    "print (reversecompl('AACGTGGCA'))\n",
    "assert reversecompl(TESTSEQCLEAN) == \"TCAGCCCGCACCGTTACCTGTGGTAATGGTGATGGTGGTGGTAATGGTGGTGCTAATGCGTTTCAT\""
   ]
  },
  {
   "cell_type": "markdown",
   "metadata": {
    "id": "VxmjK5xnBCiY"
   },
   "source": [
    "<b>Question 4-a)</b> Ecrire une fonction `trouve_positions_orfs` qui etant donnée une liste de codon retourne les positions (start, stop) de cadre ouverts de la liste des codons, c'est à dire la séquence commençant par un des codons start: ``ATG``, ``GTG``, ``TTG`` (``ATG`` est le plus fréquent) et finissant par un des codons stop : ``TAA``, ``TAG``, ``TGA``.\n",
    "\n",
    "Note : si plusieurs start sont trouvés dans la liste de codons, l'orf débute par conventions au start le plus en amont. <br>\n"
   ]
  },
  {
   "cell_type": "code",
   "execution_count": 14,
   "metadata": {
    "id": "5QpFNQtFB_iY"
   },
   "outputs": [
    {
     "data": {
      "text/plain": [
       "TestResults(failed=0, attempted=5)"
      ]
     },
     "execution_count": 14,
     "metadata": {},
     "output_type": "execute_result"
    }
   ],
   "source": [
    "def trouver_positions_orfs(codons):\n",
    "    \"\"\"Retourne les positions de cadre ouverts de la liste des codons.\n",
    "    entrée : liste de codons\n",
    "    sortie : les positions [start] et [stop] de cadre ouverts de la liste des codons\n",
    "    \n",
    "    >>> trouver_positions_orfs(['ATG', 'AAA', 'CGC', 'ATT', 'TAG', 'ATG', 'ACC', 'ATT', 'ACC', 'ACC', 'ACC', 'ATC', 'ACC', 'ATT', 'ACC', 'ACA', 'GGT', 'AAC', 'TGA', 'GGT', 'GCG', 'GGC'])\n",
    "    ([0, 5], [4, 18])\n",
    "    \"\"\"\n",
    "    starts = [i for i, codon in enumerate(codons) if codon in {'ATG', 'GTG', 'TTG'}] #positions de tous les starts dans codons\n",
    "    stops =  [i for i, codon in enumerate(codons) if codon in {'TAA', 'TAG', 'TGA'}] #positions de tous les stops  dans codons\n",
    "    \n",
    "   \n",
    "    orf_starts = [] #renvoie la liste de positions de codons start\n",
    "    orf_stops = []  #renvoie la liste de positions de codons stop, les deux liste ont la meme taille et sont de pair start/stop \n",
    "    \n",
    "    orf_starts=starts\n",
    "    orf_stops=stops\n",
    "\n",
    "    return (orf_starts, orf_stops)\n",
    "\n",
    "doctest.testmod()"
   ]
  },
  {
   "cell_type": "markdown",
   "metadata": {
    "id": "LOnkgyEC0jzq"
   },
   "source": [
    "<b>Question 4-b)</b> Ecrire une fonction `liste_orfs` qui retourne la liste de tous les cadres ouverts de lectures, c'est à dire les séquence commençant par un des codons start: ``ATG``, ``GTG``, ``TTG`` (``ATG`` est le plus fréquent) et finissant par un des codons stop : ``TAA``, ``TAG``, ``TGA``. Vous renverrez les séquences pour les 6 phases de lecture (3 pour le brin sens et 3 pour le brin complémentaire). Ces séquences sont nommées séquences CDS (pour _CoDing Sequences_ en anglais) et les phases ouvertes de lecture ORFS (pour _Open Reading Frame_). <br>\n",
    "\n",
    "**Note 1**: Coder d'abord la fonction `liste_orfs_sens` qui retourne la liste de trois cadres ouverts de lectures du brin sens. Pour retourver la liste de trois cadres ouverts de lectures du brin complementaire, vous pouvez combiner les deux fonctions `reversecompl` et `liste_orfs_sens`\n",
    "\n",
    "**Note 2**: Vous pouvez utiliser les fonctions precedents tels que `listecodon` et `trouver_position_orfs`\n",
    "\n",
    "\n"
   ]
  },
  {
   "cell_type": "code",
   "execution_count": 15,
   "metadata": {
    "id": "2xB-LoI_0jzq"
   },
   "outputs": [
    {
     "data": {
      "text/plain": [
       "TestResults(failed=0, attempted=7)"
      ]
     },
     "execution_count": 15,
     "metadata": {},
     "output_type": "execute_result"
    }
   ],
   "source": [
    "# Question 4\n",
    "pos=[]\n",
    "\n",
    "def liste_orfs(seq):\n",
    "    \"\"\"\n",
    "    Liste de tous les cadres ouverts de lectures du brin sens et complementaire.\n",
    "    entrée : sequence de nucléotides \n",
    "    sortie : liste contenant tous les cadres ouverts de lectures\n",
    "    >>> sorted(liste_orfs('AAATGATGTAATAAGTTTTGATTAGGGTA'))\n",
    "    ['ATGATGTAA']\n",
    "    \"\"\"\n",
    "    global pos\n",
    "    pos=[]\n",
    "    orfs = []\n",
    "    start={'ATG', 'GTG', 'TTG'}\n",
    "    stop={'TAA', 'TAG', 'TGA'}\n",
    "    frame=['','','']\n",
    "    for i in range(len(seq)):\n",
    "        cod=seq[i:i+3]\n",
    "        if cod in start :\n",
    "                frame[i%3]+=cod\n",
    "        elif cod in stop :\n",
    "            if frame[i%3] != '':\n",
    "                frame[i%3]+=cod\n",
    "                orfs.append(frame[i%3])\n",
    "                pos.append(i+3)\n",
    "            frame[i%3]=''     \n",
    "        else:\n",
    "            if frame[i%3] != '':\n",
    "                frame[i%3]+=cod\n",
    "    return orfs\n",
    "\n",
    "def liste_orfs_sens(seq):\n",
    "    \"\"\"\n",
    "    Liste de tous les cadres ouverts de lectures du brin sens.\n",
    "    entrée : sequence de nucléotides \n",
    "    sortie : liste contenant tous les cadres ouverts de lectures\n",
    "    >>> sorted(liste_orfs_sens('AAATGATGTAATAGTGTTTTGATTAGGGCAT'))\n",
    "    ['ATGATGTAA', 'ATGCCCTAA', 'GTGTTTTGA']\n",
    "    \"\"\"\n",
    "    orfs = []\n",
    "    start={'ATG', 'GTG', 'TTG'}\n",
    "    stop={'TAA', 'TAG', 'TGA'}\n",
    "    comp=reversecompl(seq)\n",
    "    frame=[['','',''],['','','']]\n",
    "    for i in range(len(seq)):\n",
    "        cod=[seq[i:i+3],comp[i:i+3]]\n",
    "        for b in range(2):\n",
    "            if cod[b] in start :\n",
    "                    frame[b][i%3]+=cod[b]\n",
    "            elif cod[b] in stop :\n",
    "                if frame[b][i%3] != '':\n",
    "                    frame[b][i%3]+=cod[b]\n",
    "                    orfs.append(frame[b][i%3])\n",
    "                    pos.append(i)\n",
    "                frame[b][i%3]=''     \n",
    "            else:\n",
    "                if frame[b][i%3] != '':\n",
    "                    frame[b][i%3]+=cod[b]\n",
    "    #return liste_orfs(seq)+liste_orfs(reversecompl(seq))\n",
    "    return orfs\n",
    "\n",
    "sorted(liste_orfs_sens('AAATGATGTAATAGTGTTTTGATTAGGGCAT'))\n",
    "\n",
    "\n",
    "\n",
    "\n",
    "doctest.testmod()"
   ]
  },
  {
   "cell_type": "code",
   "execution_count": 16,
   "metadata": {
    "id": "LOpsWzuI0jzs"
   },
   "outputs": [
    {
     "data": {
      "text/plain": [
       "['ATGAAACGCATTAGCACCACCATTACCACCACCATCACCATTACCACAGGTAACGGTGCGGGCTGA']"
      ]
     },
     "execution_count": 16,
     "metadata": {},
     "output_type": "execute_result"
    }
   ],
   "source": [
    " liste_orfs(TESTSEQCLEAN)"
   ]
  },
  {
   "cell_type": "markdown",
   "metadata": {
    "id": "64cnu90R0jzs"
   },
   "source": [
    "Voici un code efficaz qui utilise Regular Expression"
   ]
  },
  {
   "cell_type": "code",
   "execution_count": 17,
   "metadata": {
    "id": "CI5yrmsR0jzs"
   },
   "outputs": [],
   "source": [
    "import re"
   ]
  },
  {
   "cell_type": "code",
   "execution_count": 18,
   "metadata": {
    "id": "mmtiYC9c0jzs"
   },
   "outputs": [
    {
     "data": {
      "text/plain": [
       "['ATGATGTAA', 'GTGTTTTGA']"
      ]
     },
     "execution_count": 18,
     "metadata": {},
     "output_type": "execute_result"
    }
   ],
   "source": [
    "[\n",
    "    match.group()\n",
    "    for match in re.finditer('((ATG|GTG|TTG)((?!TAA|TAG|TGA)([ACTG][ACTG][ACTG]))*(TAA|TAG|TGA))',\n",
    "                             'AAATGATGTAATAGTGTTTTGATTAGGGCAT')\n",
    "]"
   ]
  },
  {
   "cell_type": "code",
   "execution_count": 19,
   "metadata": {
    "id": "lZlihwkq0jzt"
   },
   "outputs": [
    {
     "name": "stdout",
     "output_type": "stream",
     "text": [
      "**********************************************************************\n",
      "File \"__main__\", line 19, in __main__.__liste_orfs\n",
      "Failed example:\n",
      "    sorted(liste_orfs('AAATGATGTAATAGTGTTTTGATTAGGGCAT'))\n",
      "Expected:\n",
      "    ['ATGATGTAA', 'ATGCCCTAA', 'GTGTTTTGA']\n",
      "Got:\n",
      "    ['ATGATGTAA', 'GTGTTTTGA']\n",
      "**********************************************************************\n",
      "1 items had failures:\n",
      "   1 of   1 in __main__.__liste_orfs\n",
      "***Test Failed*** 1 failures.\n"
     ]
    },
    {
     "data": {
      "text/plain": [
       "TestResults(failed=1, attempted=8)"
      ]
     },
     "execution_count": 19,
     "metadata": {},
     "output_type": "execute_result"
    }
   ],
   "source": [
    "def __liste_orfs_sens(seq):\n",
    "    \"\"\"Retourne la liste des cadres ouverts de lecture, sens 5' vers 3'.\n",
    "    entrée : sequence de nucléotides \n",
    "    sortie : liste contenant tous les cadres ouverts de lectures\n",
    "    \"\"\"\n",
    "    return [\n",
    "        match.group() for match in re.finditer(\n",
    "            '((ATG|GTG|TTG)((?!TAA|TAG|TGA)([ACTG][ACTG][ACTG]))*(TAA|TAG|TGA))',\n",
    "            seq)\n",
    "    ]\n",
    "\n",
    "\n",
    "def __liste_orfs(seq):\n",
    "    \"\"\"\n",
    "    Retourne la liste de tous les cadres ouverts de lectures.\n",
    "    entrée : sequence de nucléotides\n",
    "    sortie : liste des cadres ouverts de lecture\n",
    "        \n",
    "    >>> sorted(liste_orfs('AAATGATGTAATAGTGTTTTGATTAGGGCAT'))\n",
    "    ['ATGATGTAA', 'ATGCCCTAA', 'GTGTTTTGA']\n",
    "    \"\"\"\n",
    "    liste = __liste_orfs_sens(seq)\n",
    "    liste.extend(__liste_orfs_sens(reversecompl(seq)))\n",
    "    return liste\n",
    "\n",
    "sorted(__liste_orfs('AAATGATGTAATAGTGTTTTGATTAGGGCAT'))\n",
    "doctest.testmod()"
   ]
  },
  {
   "cell_type": "code",
   "execution_count": 20,
   "metadata": {
    "colab": {
     "base_uri": "https://localhost:8080/"
    },
    "id": "Ejn8vywF0jzt",
    "outputId": "3adb9505-86ab-4045-b0c3-435c2b1a8531"
   },
   "outputs": [
    {
     "data": {
      "text/plain": [
       "['ATGAAACGCATTAGCACCACCATTACCACCACCATCACCATTACCACAGGTAACGGTGCGGGCTGA']"
      ]
     },
     "execution_count": 20,
     "metadata": {},
     "output_type": "execute_result"
    }
   ],
   "source": [
    "__liste_orfs(TESTSEQCLEAN)"
   ]
  },
  {
   "cell_type": "markdown",
   "metadata": {
    "id": "VdHtT71c0jzt"
   },
   "source": [
    "<b>Question 5)</b> Développez une fonction `traduit_prot` qui étant donné un gène renvoie la protéine traduite. Utilisez le dictionnaire définit ci dessous."
   ]
  },
  {
   "cell_type": "code",
   "execution_count": 21,
   "metadata": {
    "id": "KBbAJAzg0jzt"
   },
   "outputs": [],
   "source": [
    "# Question 5\n",
    "def traduit_prot(seq, codegenetique=CODEGENETIQUE):\n",
    "    \"\"\"Renvoie la protéine traduite, par défaut il utilise CODEGENETIQUE.\n",
    "    entrée : sequence de nucléotides representant une ORF\n",
    "    sortie : sequence de acid aminé\n",
    "    \"\"\"\n",
    "    return \"\".join([codegenetique[cod] for cod in listecodon(seq) ])\n",
    "\n",
    "\n",
    "assert traduit_prot(TESTSEQCLEAN) == \"MKRISTTITTTITITTGNGAG*\""
   ]
  },
  {
   "cell_type": "markdown",
   "metadata": {
    "id": "IFPXgB_V0jzu"
   },
   "source": [
    "### C) Analyse des phases ouvertes de lecture\n",
    "\n",
    "<b>Question 1)</b> Utilisez votre fonction `liste_orfs` qui trouve toutes les ORFs pour ne trouver que les ORFs d’un génome sur le brin sens, c'est à dire pour trois premières phases. Sauvegarder l'ensemble des ORFs trouvé dans un fichier de type fasta. Ci-dessous de bout de code pour vous aider.\n"
   ]
  },
  {
   "cell_type": "code",
   "execution_count": 33,
   "metadata": {
    "id": "LYb5FU6r0jzu"
   },
   "outputs": [],
   "source": [
    "# charger un fichier fasta \n",
    "def read_fasta(filename):\n",
    "    \"\"\"Lire un fichier fasta dans un dict à partir des identifiants des séquences.\n",
    "    entrée : nom du fichier fasta qui contient le genome\n",
    "    sortie : dictionaire cle=identifiant valeur=sequence\n",
    "    \"\"\"\n",
    "    seqs = {}\n",
    "    with open(filename, 'r') as file:\n",
    "        seqid = ''\n",
    "        seq = ''\n",
    "        for line in file:\n",
    "            if line.startswith('>'):\n",
    "                if seqid != '':\n",
    "                    seqs[seqid] = seq\n",
    "                else:\n",
    "                    seq = ''\n",
    "                seqid = line.replace('>', '').strip()\n",
    "            else:\n",
    "                seq = seq + line.strip()\n",
    "        seqs[seqid] = seq\n",
    "\n",
    "    return seqs"
   ]
  },
  {
   "cell_type": "code",
   "execution_count": 34,
   "metadata": {
    "id": "jD4wA2g00jzv"
   },
   "outputs": [],
   "source": [
    "# sauvegarder un fichier fasta avec les ORFs\n",
    "def write_fasta(filename, sequences):\n",
    "    \"\"\"Ecriver un fichier fasta à partir d'une liste de séquences.\n",
    "    entrée : nom du fichier fasta et ensemble de sequences\n",
    "    sortie : None\n",
    "    \"\"\"\n",
    "    with open(filename, 'w') as file:\n",
    "        counter = 0\n",
    "        for seq in sequences:\n",
    "            file.write('>seq_{}\\n{}\\n'.format(counter, seq))\n",
    "            counter += 1"
   ]
  },
  {
   "cell_type": "code",
   "execution_count": 35,
   "metadata": {
    "id": "1VHyHrYN0jzv"
   },
   "outputs": [],
   "source": [
    "# Montrer les 10 premières lignes d'un fichier\n",
    "def head(filename):\n",
    "    \"\"\"Montrer les 10 premières lignes d'un fichier.\n",
    "    entrée : nom du fichier\n",
    "    sortie : None\n",
    "    \"\"\"\n",
    "    with open(filename) as file:\n",
    "        counter = 0\n",
    "        for line in file:\n",
    "            print(line.strip())\n",
    "            counter += 1\n",
    "            if counter == 10:\n",
    "                break"
   ]
  },
  {
   "cell_type": "code",
   "execution_count": 36,
   "metadata": {
    "id": "Awyxq8bE0jzv"
   },
   "outputs": [],
   "source": [
    "# charger le fichier fasta du génome E. coli\n",
    "\n",
    "genome = read_fasta('GCF_000026345.1_ASM2634v1_genomic.fna')['NC_011750.1 Escherichia coli IAI39, complete sequence']"
   ]
  },
  {
   "cell_type": "code",
   "execution_count": 37,
   "metadata": {
    "id": "3d1dTsN60jzv"
   },
   "outputs": [],
   "source": [
    "# extraire les ORFs et les sauvegarder dans fichier fasta\n",
    "\n",
    "seq=\"\".join([e for e in genome])\n",
    "orfs=liste_orfs(seq)\n",
    "tabPos=pos\n",
    "write_fasta('fichier-fasta.fna',orfs)"
   ]
  },
  {
   "cell_type": "markdown",
   "metadata": {
    "id": "4RxJQ7lI0jzw"
   },
   "source": [
    "\n",
    "<b>Question 2)</b> Dessinez un histogramme (avec matplotlib) de la distribution de longueur des ORFs détectés précédemment, que remarquez vous ? \n"
   ]
  },
  {
   "cell_type": "code",
   "execution_count": 38,
   "metadata": {
    "id": "TmwbxETQ0jzw"
   },
   "outputs": [
    {
     "data": {
      "image/png": "[encoded data removed]",
      "text/plain": [
       "<Figure size 432x288 with 1 Axes>"
      ]
     },
     "metadata": {
      "needs_background": "light"
     },
     "output_type": "display_data"
    }
   ],
   "source": [
    "# Question 2\n",
    "\n",
    "# Plot avec matplotlib\n",
    "import matplotlib.pyplot as plt\n",
    "\n",
    "plt.hist([len(e) for e in orfs], bins = [i for i in range(0,2000,20)])\n",
    "plt.title('Histogramme : longueur des ORFs ', fontsize=10)\n",
    "plt.savefig(\"histogramme_matplotlib_01.png\")\n",
    "plt.show()"
   ]
  },
  {
   "cell_type": "markdown",
   "metadata": {
    "id": "8wzBExkP0jzw"
   },
   "source": [
    "\n",
    "<b>Question 3)</b> Utilisez la question précédente pour fixer un seuil pour dire qu’un ORF est un gène. (par exemple plus que 500 nucléotides). En déduire une première annotation des gènes dans le génome de _Escherichia coli_. Vous produirez un fichier tab avec les positions de tous les ORFs annotés. "
   ]
  },
  {
   "cell_type": "code",
   "execution_count": 41,
   "metadata": {
    "id": "HV-kgiSA0jzw"
   },
   "outputs": [
    {
     "name": "stdout",
     "output_type": "stream",
     "text": [
      "2226\n"
     ]
    }
   ],
   "source": [
    "# Question 3\n",
    "# Fichier d'annotation des ORFs\n",
    "\n",
    "def annotationOrfs(genome, outputFile, seuilOrf, orfs):\n",
    "    \"\"\"\n",
    "      Produire une annotation des gènes d'un génome à partir de l'ensemble des orfs\n",
    "      entrée : genome sequences\n",
    "      entrée : seuilOrf - seuil pour dire qu’un ORF est un gène\n",
    "      entrée : orfs - ensemble des orfs detecté par la fonction liste_orfs\n",
    "      entrée : outputFile - nom du fichier pour sauvegarder l'annotation\n",
    "      sortie : None\n",
    "    \"\"\"\n",
    "    with open(outputFile, 'w') as file:\n",
    "        file.write('start\\tlen\\tseq\\n')\n",
    "        cpt=0\n",
    "        for i in range(len(orfs)):\n",
    "            if len(orfs[i])>seuilOrf:\n",
    "                cpt+=1\n",
    "                file.write('{}\\t{}\\t{}\\n'.format(tabPos[i]-len(orfs[i]),len(orfs[i]), orfs[i]))\n",
    "    print(cpt)\n",
    "    return None\n",
    "\n",
    "annotationOrfs(genome, 'annotation_des_orfs.csv', 500, orfs)\n"
   ]
  },
  {
   "cell_type": "code",
   "execution_count": 42,
   "metadata": {
    "id": "4vJCSyxE0jzx"
   },
   "outputs": [
    {
     "name": "stdout",
     "output_type": "stream",
     "text": [
      "start\tlen\tseq\n",
      "292\t2505\tGTGCGGGCTTTTTTTTCGACCAAAGGTAACGAGGTAACAACCATGCGAGTGTTGAAGTTCGGCGGTACATCAGTGGCAAATGCAGAACGTTTTCTGCGTGTTGCCGATATTCTGGAAAGCAATGCCAGGCAGGGGCAGGTGGCCACCGTCCTCTCTGCCCCCGCCAAAATCACCAACCACCTGGTGGCGATGATTGAAAAAACCATTAGCGGCCAGGATGCTTTACCCAATATCAGCGATGCCGAACGTATTTTTGCCGAACTTCTGACGGGACTCGCCGCTGCCCAACCGGGATTCCCGCTGGCGCAACTGAAAACTTTCGTCGATCAGGAATTTGCCCAAATAAAACATGTCCTGCATGGCATTAGTTTGTTGGGGCAGTGCCCGGATAGCATCAACGCTGCGCTGATTTGCCGTGGCGAGAAAATGTCGATCGCCATTATGGCCGGCGTATTAGAAGCGCGCGGTCACAACGTTACCGTTATCGATCCGGTCGAAAAACTGCTGGCAGTGGGGCATTACCTCGAATCTACCGTCGATATTGCTGAGTCCACCCGCCGTATTGCGGCAAGTCGTATTCCGGCTGATCACATGGTGCTGATGGCAGGTTTCACCGCCGGTAATGAAAAAGGCGAACTGGTGGTGCTTGGACGCAACGGTTCCGACTACTCTGCTGCGGTGCTGGCTGCCTGTTTACGCGCCGATTGTTGCGAGATTTGGACGGACGTTGACGGGGTCTATACCTGCGACCCGCGTCAGGTGCCCGATGCGAGGTTGTTGAAGTCGATGTCCTACCAGGAAGCGATGGAGCTTTCCTACTTCGGCGCTAAAGTTCTTCACCCCCGCACCATTACCCCCATCGCCCAGTTCCAGATCCCTTGCCTGATTAAAAATACCGGAAATCCTCAAGCACCAGGTACGCTCATTGGTGCCAGCCGTGATGAAGACGAATTACCGGTCAAGGGCATTTCCAATCTGAATAACATGGCAATGTTCAGCGTTTCTGGTCCAGGGATGAAAGGAATGGTCGGCATGGCGGCGCGCGTCTTTGCAGCGATGTCACGCGCCCGTATTTCCGTGGTGCTGATTACGCAATCATCTTCCGAATACAGTATCAGTTTCTGCGTTCCGCAAAGCGACTGTGTGCGAGCTGAACGGGCAATGCAGGAAGAGTTCTACCTAGAACTGAAAGAAGGCTTACTGGAGCCGCTGGCGGTGACGGAACGGCTGGCCATTATCTCGGTGGTAGGTGATGGTATGCGCACCTTGCGTGGGATCTCGGCGAAATTCTTTGCCGCGCTGGCCCGCGCCAATATCAACATTGTCGCCATTGCTCAGGGATCTTCTGAACGCTCAATCTCCGTCGTGGTCAATAACGATGATGCGACCACTGGCGTGCGCGTTACTCATCAGATGCTGTTCAATACCGATCAGGTTATCGAAGTGTTTGTGATTGGCGTCGGTGGCGTTGGCGGTGCGCTGCTGGAGCAACTGAAGCGTCAGCAAAGCTGGTTGAAGAATAAACATATCGACTTACGTGTCTGCGGTGTTGCTAACTCGAAGGCACTGCTCACCAATGTACATGGCCTTAATCTGGAAAACTGGCAGGAAGAACTGGCGCAAGCCAAAGAGCCGTTTAATCTCGGGCGCTTAATTCGCCTCGTGAAAGAATATCATCTGCTGAACCCGGTCATTGTTGACTGTACTTCCAGCCAGGCAGTGGCGGATCAATATGCCGACTTCCTGCGCGAAGGTTTCCACGTTGTTACGCCGAACAAAAAGGCCAACACCTCGTCGATGGATTACTACCATCAGTTGCGTTATGCGGCGGAAAAATCGCGGCGTAAATTCCTCTATGACACCAACGTTGGGGCTGGATTACCGGTTATTGAGAACCTGCAAAATCTGCTCAATGCTGGTGATGAATTGATGAAGTTCTCCGGCATTCTTTCAGGTTCGCTTTCTTATATCTTCGGCAAGTTAGACGAAGGCATGAGTTTCTCCGAGGCGACCACACTGGCGCGGGAAATGGGTTATACCGAACCGGATCCGCGAGATGATCTTTCTGGTATGGATGTGGCGCGTAAACTATTGATTCTCGCTCGTGAAACGGGACGTGAACTGGAGCTGGCGGATATTGAAATTGAACCTGTGCTGCCCGCAGAGTTTAACGCCGAGGGTGATGTTGCCGCTTTTATGGCGAATCTGTCACAGCTCGACGATCTCTTTGCCGCGCGCGTGGCGAAGGCCCGTGATGAAGGAAAAGTTTTGCGCTATGTTGGCAATATTGATGAAGATGGCGTCTGCCGCGTGAAGATTGCCGAAGTGGATGGTAATGATCCGCTGTTCAAAGTGAAAAATGGCGAAAACGCCCTGGCCTTCTATAGCCACTATTATCAGCCGCTGCCGTTGGTACTGCGCGGATATGGTGCGGGCAATGACGTTACAGCTGCCGGTGTCTTTGCCGATCTGCTACGTACCCTCTCATGGAAGTTAGGAGTCTGA\n",
      "2798\t933\tATGGTTAAAGTTTATGCCCCGGCTTCCAGTGCCAATATGAGCGTCGGGTTTGATGTGCTCGGGGCGGCGGTGACACCTGTTGATGGTGCATTGCTCGGAGATGTAGTCACGGTTGAGGCGGCAGAGACATTCAGTCTCAACAACCTCGGACGCTTTGCCGATAAGCTGCCGTCAGAACCACGGGAAAATATCGTTTATCAGTGCTGGGAGCGTTTTTGCCAGGAACTGGGTAAGCAAATTCCAGTGGCGATGACCCTGGAAAAGAATATGCCGATCGGTTCGGGCTTAGGCTCCAGTGCCTGTTCGGTGGTCGCGGCGCTGATGGCGATGAATGAACACTGCGGCAAGCCGCTTAATGACACTCGTTTGCTGGCTTTGATGGGCGAGCTGGAAGGCCGTATCTCCGGCAGCATTCATTACGACAACGTGGCACCGTGTTTTCTCGGTGGTATGCAGTTGATGATCGAAGAAAACGACATCATCAGCCAGCAAGTGCCAGGGTTTGATGAGTGGCTGTGGGTGCTGGCGTATCCGGGGATTAAAGTCTCGACGGCAGAAGCCAGGGCTATTTTACCGGCGCAGTATCGCCGCCAGGATTGCATTGCGCACGGGCGACATCTGGCAGGCTTTATTCACGCCTGCTATTCCCGTCAGCCTGAGCTTGCCGCGAAGCTGATGAAAGATGTTATCGCTGAACCCTACCGTGAACGGTTACTGCCAGGCTTCCGGCAGGCGCGGCAGGCGGTCGCGGAAATCGGCGCGGTAGCGAGCGGTATCTCCGGCTCCGGCCCGACTTTGTTCGCTCTGTGTGACAAGCCGGATACCGCCCAGCGCGTTGCCGACTGGTTGGGTAAGAACTACCTGCAAAATCAGGAAGGTTTTGTTCATATTTGCCGGCTGGATACGGCGGGCGCACGAGTACTGGAAAACTAA\n",
      "3731\t1287\tATGAAACTCTACAATCTGAAAGATCACAATGAGCAGGTCAGCTTTGCGCAAGCCGTAACCCAGGGGTTGGGCAAAAATCAGGGGCTGTTTTTCCCGCACGACCTGCCGGAATTCAGCCTGACTGAAATTGATGAGATGCTGAAGCTGGATTTTGTCACCCGCAGTGCGAAGATCCTCTCGGCGTTTATTGGTGATGAAATCCCGCAGGAAATCCTGGAAGAGCGCGTACGCGCGGCGTTTGCCTTCCCGGCTCCGGTCGCCAATGTTGAAAGCGATGTCGGTTGTCTGGAATTGTTCCACGGGCCAACGCTGGCATTTAAAGATTTCGGCGGTCGCTTTATGGCACAAATGCTGACCCATATTGCGGGCGATAAGCCAGTGACCATTCTGACCGCGACATCCGGTGATACTGGAGCGGCAGTAGCTCATGCTTTCTACGGTTTACCGAATGTGAAAGTGGTTATCCTCTATCCACGAGGCAAAATCAGTCCACTGCAAGAAAAACTGTTCTGTACATTGGGCGGCAATATCGAAACTGTTGCCATCGACGGCGATTTCGATGCCTGTCAGGCGCTGGTGAAGCAGGCGTTTGATGATGAAGAACTGAAAGTGGCGCTGGGGCTAAACTCTGCTAACTCCATTAACATCAGCCGTTTGCTGGCGCAGATTTGCTACTACTTTGAAGCTGTTGCGCAGCTGCCGCAGGAAGCGCGCAACCAGCTGGTTGTCTCGGTGCCAAGCGGAAACTTCGGCGATTTGACGGCGGGTCTGCTGGCGAAGTCACTCGGTCTGCCGGTGAAGCGTTTTATCGCTGCCACTAACGTGAACGATACCGTGCCGCGTTTCCTGCACGACGGGCAGTGGTCACCCAAAGCGACTCAGGCGACGTTATCCAACGCGATGGACGTGAGTCAACCGAACAACTGGCCGCGTGTGGAAGAGTTGTTCCGCCGCAAAATCTGGCAACTGAAAGAGCTGGGTTATGCAGCCGTAGATGATGAAACCACGCAACAGACAATGCGTGAGTTAAAAGAACTGGGCTATACCTCGGAGCCGCACGCTGCCGTAGCTTATCGTGCGCTGCGTGACCAGTTGCATCCAGGCGAATATGGCTTGTTCCTCGGCACCGCGCATCCGGCGAAATTTAAAGAGAGCGTGGAAGCGATTCTCGGTGAAACGTTGGATCTGCCAAAAGAGCTGGCAGAACGTGCTGATTTACCCTTGCTTTCGCATAACCTGCCCGCCGATTTTGCTGCGTTGCGTAAATTGATGATGAATCATCAGTAA\n",
      "7148\t510\tGTGGGGAAGTTGCCCGATATTCATTACGCAAATTACCAGGCTGGTCAGTACCCAGATTATCGCCATCAACGGGACAAACCCCTGCATGAGCCGGGCGACGCCATGAAGACCGCGAGTGATTGCCAGCAGAGCAAAGACAGCGAGAATAATGCCTGTCACCAGCGGAGGAAAATCAAAAGAAAAACTCAGGGCGCGGGCAACGGCGTTCGCCTGAACTCCGCTGAAAATTATGCCGTAAGCGATGAGCAAAAAGAGGGCGAACAGAACGCCCATCCAGCGCATCCCCAGCCCGCGCGCCATATACCATGCCGGTCCGCCACGAAACTGCCCATTAACGTCACGTTCTTTATAAAGTTGTGCAAGGGAACATTCGGCAAACGAGGTCGCCATGCCGATAAACGCGGCAACCCACATCCAGAAGACGGCACCTGGTCCACCGGCGGTAATAGCCAGCGCAACGCCAGCCAGGTTGCCGCTACCCACGCGCGCCGCAAGACTGGTACACAATGA\n",
      "8059\t1017\tGTGATATCATCAGGGCAGACCGGTTACATCCCCCTAACAAGCTGTTTAAAGAGAAATACTATCATGACGGACAAATTGACCTCCCTTCGTCAGTACACCACCGTAGTGGCCGACACTGGGGACATCGCGGCAATGAAGCTGTATCAACCGCAGGATGCCACAACCAACCCTTCTCTCATTCTTAACGCAGCGCAGATTCCGGAATATCGTAAGTTGATTGATGATGCTGTCGCCTGGGCGAAACAGCAGAGCAACGATCGCGCGCAGCAGATCGTGGACGCGACCGACAAACTGGCAGTAAATATTGGTCTGGAAATCCTGAAACTGGTTCCGGGCCGTATCTCAACTGAAGTTGATGCGCGTCTTTCCTATGACACCGAAGCGTCAATTGCGAAAGCAAAACGCCTGATCAAACTCTACAACGATGCAGGGATTAGCAACGATCGTATTCTGATCAAACTGGCTTCTACCTGGCAGGGTATCCGTGCTGCAGAACAGCTGGAAAAAGAAGGTATCAACTGTAACCTGACCCTGCTGTTCTCCTTCGCTCAGGCTCGTGCTTGTGCGGAAGCAGGCGTGTTCCTGATCTCGCCGTTTGTTGGCCGTATTCTTGACTGGTACAAAGCGAATACCGATAAGAAAGAGTACGCTCCGGCAGAAGATCCAGGCGTGGTTTCTGTATCTGAAATCTACCAGTACTACAAAGAGCACGGTTATGAAACCGTGGTTATGGGCGCAAGCTTCCGTAACATCGGCGAAATTCTGGAACTGGCAGGCTGCGACCGTCTGACCATCGCACCGGCGCTGCTGAAAGAGCTGGCTGAGAGCGAAGGGGCTATCGAACGTAAACTGTCTTACACCGGCGAAGTGAAAGCGCGTCCGGCGCGTATCACTGAGTCCGAGTTCCTGTGGCAGCATAACCAGGATCCAATGGCAGTAGATAAACTGGCGGAAGGTATCCGTAAGTTTGCTGTTGACCAGGAAAAACTGGAAAAAATGATCGGCGATCTGCTGTAA\n",
      "9187\t591\tTTGATGAATACTTTACGTATTGGCTTAGTTTCCATCTCTGATCGCGCATCCAGCGGCGTTTATCAGGATAAAGGCATCCCTGCGCTGGAAGAATGGCTGACATCGGCGCTAACCACGCCGTTTGAACTGGAAACCCGCTTAATCCCCGATGAGCAGGCGATCATCGAGCAAACGTTGTGTGAGCTGGTGGATGAAATGAGTTGCCATCTGGTGCTCACCACGGGCGGAACTGGCCCGGCGCGTCGTGACGTAACGCCCGATGCGACGCTGGCAGTAGCGGACCGCGAGATGCCTGGCTTTGGTGAACAGATGCGCCAGATCAGCCTGCATTTTGTACCAACTGCGATCCTTTCGCGTCAGGTGGGTGTGATTCGCAAACAGGCGCTGATCCTTAACTTACCCGGTCAGCCGAAGTCTATTAAAGAGACGCTGGAAGGTGTAAAGGACGCTGAGGGTAACGTTGTGGTGCACGGTATTTTTGCCAGCGTACCGTACTGCATTCAGTTGCTGGAAGGGCCATACGTTGAAACGGCACCGGAAGTGGTTGCTGCATTCAGACCGAAGAATGCAAGACGCGAAGTTAGCGAATAA\n",
      "9647\t537\tTTGTGGTGCACGGTATTTTTGCCAGCGTACCGTACTGCATTCAGTTGCTGGAAGGGCCATACGTTGAAACGGCACCGGAAGTGGTTGCTGCATTCAGACCGAAGAATGCAAGACGCGAAGTTAGCGAATAAAAAAATCCCCCCGAGCGGGGGGATCTCAAAACAATTAGTGCGATTCACCAATCGGCAGAACGGTGCGACCAAACTGCTCGTTCAGCACTTCACCCATCGCCAGATAGATTGCACTGGCACCGCAGATAAGACCAATCCAGCCGGCAAAGTGGATGATCGCGGCGTTACCGGCAATGTTACCGATCGCCAGCAGGGCAAACAGCACGGTCAGGCTAAAGAAAACGAATTGCAGAACGCGTGCGCCTTTCAGCGTGCCGAAGAACATAAACAGCGTAAATACGCCCCACAGACCCAGGTAGACACCAAGGAACTGTGCATTTGGCGCATCGGTCAGACCCAGTTTCGGCATCAGCAGAATCGCAACCAGCGTCAGCCAGAAAGAACCGTAAGAGGTGAATGCGGTTAA\n",
      "12046\t1917\tATGGGTAAAATAATTGGTATCGACCTGGGTACTACCAACTCTTGTGTAGCGATTATGGATGGCACCACTCCTCGTGTACTGGAGAACGCCGAAGGCGATCGCACCACGCCTTCTATCATTGCCTATACCCAGGATGGTGAAACTCTGGTTGGTCAGCCGGCTAAACGTCAGGCAGTGACGAACCCGCAAAACACCCTGTTTGCGATTAAACGCCTGATTGGCCGCCGCTTCCAGGACGAAGAAGTACAGCGTGATGTTTCCATCATGCCGTTCAAAATTATTGCTGCTGATAACGGCGACGCATGGGTCGAAGTTAAAGGCCAGAAAATGGCACCGCCGCAGATCTCTGCTGAAGTGCTGAAAAAAATGAAGAAAACCGCTGAAGATTACCTGGGTGAACCGGTAACTGAAGCTGTTATCACCGTACCGGCATACTTTAACGATGCTCAGCGTCAGGCAACCAAAGACGCAGGCCGTATCGCTGGTCTGGAAGTAAAACGTATCATCAACGAACCGACCGCAGCTGCGCTGGCTTACGGTCTGGACAAAGGTACTGGCAACCGTACTATCGCGGTTTATGACCTGGGTGGTGGTACTTTCGATATTTCTATTATCGAAATCGACGAAGTTGACGGCGAAAAAACCTTCGAAGTTCTGGCAACCAACGGTGATACCCACCTGGGGGGTGAAGACTTCGACAGCCGTCTGATCAACTACCTGGTTGAAGAATTCAAGAAAGATCAGGGCATTGACCTGCGCAACGATCCGCTGGCAATGCAGCGCCTGAAAGAAGCGGCAGAAAAAGCGAAAATCGAACTGTCTTCCGCTCAGCAGACCGACGTTAACCTGCCGTACATCACTGCAGACGCGACCGGTCCGAAACACATGAACATCAAAGTGACTCGTGCGAAACTGGAAAGCCTGGTTGAAGATCTGGTAAACCGTTCCATTGAGCCGCTGAAAGTTGCACTGCAGGACGCTGGCCTGTCCGTATCTGATATCGACGACGTTATCCTCGTTGGTGGTCAGACTCGTATGCCAATGGTTCAGAAGAAAGTTGCTGAATTCTTTGGTAAAGAGCCGCGTAAAGACGTTAACCCGGACGAAGCTGTAGCAATCGGTGCTGCTGTTCAGGGTGGTGTTCTGACTGGTGACGTGAAAGACGTACTGCTGCTGGACGTTACCCCGCTGTCTCTGGGTATCGAAACCATGGGCGGTGTGATGACGACGCTGATCGCGAAAAACACCACTATCCCGACCAAGCACAGCCAGGTGTTCTCTACCGCTGAAGACAACCAGTCTGCGGTAACCATCCACGTGCTGCAGGGTGAACGTAAACGTGCGGCTGATAACAAATCTCTGGGTCAGTTCAACCTGGATGGTATCAACCCGGCACCGCGCGGCATGCCGCAGATCGAAGTTACCTTCGATATCGATGCTGACGGTATCCTGCACGTTTCCGCGAAAGATAAAAACAGCGGTAAAGAGCAGAAGATCACCATCAAGGCTTCTTCTGGTCTGAACGAAGATGAAATCCAGAAAATGGTACGCGACGCAGAAGCTAACGCCGAAGCTGACCGTAAGTTTGAAGAGCTGGTACAGACTCGCAACCAGGGCGACCATCTGCTGCACAGCACCCGTAAGCAGGTTGAAGAAGCGGGCGACAAACTGCCGGCTGACGACAAAACTGCTATCGAGTCTGCACTGACTGCACTGGAAACTGCTCTGAAAGGTGAAGACAAAGCCGCTATCGAAGCGAAAATGCAGGAACTGGCACAGGTTTCCCAGAAACTGATGGAAATCGCCCAGCAGCAACATGCCCAGCAGCAGACTGCCGGTGCTGATGCTTCTGCAAACAACGCGAAAGATGACGATGTTGTCGACGCTGAATTTGAAGAAGTCAAAGACAAAAAATAA\n",
      "14021\t1161\tGTGCATTCATCTAGGGGCAATTTAAAAAAGATGGCTAAGCAAGATTATTACGAGATTTTAGGCGTTTCCAAAACAGCGGAAGAGCGTGAAATCAAAAAGGCCTACAAACGCCTGGCCATGAAATACCACCCGGACCGTAACCAGGGTGACAAAGAGGCCGAGGCGAAATTTAAAGAGATCAAGGAAGCTTATGAAGTTCTGACCGACTCGCAAAAACGTGCGGCATACGATCAGTATGGTCATGCTGCGTTTGAGCAAGGCGGCATGGGCGGCGGCGGTTTTGGCGGCGGCGCAGACTTCAGCGATATTTTTGGTGACGTTTTCGGCGATATTTTTGGCGGCGGACGTGGTCGTCAACGTGCGGCGCGCGGTGCTGATTTACGCTATAACATGGAGCTCACCCTCGAAGAAGCTGTACGTGGCGTGACCAAAGAGATCCGCATTCCGACTCTGGAAGAGTGTGACGTTTGCCACGGTAGCGGTGCAAAACCAGGTACACAGCCGCAGACCTGTCCGACCTGTCATGGTTCTGGTCAGGTGCAGATGCGCCAGGGCTTCTTCGCTGTACAGCAGACCTGTCCACACTGTCAGGGCCGCGGTACGCTGATCAAAGATCCGTGCAACAAATGTCATGGTCATGGTCGTGTTGAGCGCAGCAAAACGCTGTCCGTTAAAATCCCGGCAGGGGTGGACACTGGAGACCGCATCCGTCTTGCGGGCGAAGGTGAAGCGGGCGAGCATGGCGCACCGGCAGGCGATCTGTACGTTCAGGTTCAGGTTAAACAGCACCCGATTTTCGAGCGTGAAGGTAACAACCTGTATTGCGAAGTCCCGATCAACTTCGCGATGGCAGCGCTGGGTGGCGAAATCGAAGTACCGACCCTTGATGGTCGCGTCAAACTGAAAGTGCCTGGCGAAACCCAGACCGGTAAGCTGTTCCGTATGCGTGGTAAAGGCGTCAAGTCTGTTCGCGGCGGTGCGCAAGGGGACTTGCTGTGCCGCGTTGTCGTCGAAACACCGGTAGGTCTGAACGAGAAGCAGAAACAGCTGCTGCAAGAGCTGCAGGAAAGCTTCGGTGGCCCAACCGGCGAGCACAACAGCCCGCGTTCAAAGAGCTTCTTTGATGGTGTGAAGAAGTTTTTTGACGACCTGACTCGCTAA\n"
     ]
    }
   ],
   "source": [
    "head('annotation_des_orfs.csv')"
   ]
  },
  {
   "cell_type": "code",
   "execution_count": null,
   "metadata": {
    "id": "5t94RPCDP_Ph"
   },
   "outputs": [],
   "source": []
  },
  {
   "cell_type": "code",
   "execution_count": null,
   "metadata": {},
   "outputs": [],
   "source": []
  }
 ],
 "metadata": {
  "colab": {
   "collapsed_sections": [],
   "name": "TME2_LU3IN013.ipynb",
   "provenance": []
  },
  "kernelspec": {
   "display_name": "Python 3 (ipykernel)",
   "language": "python",
   "name": "python3"
  },
  "language_info": {
   "codemirror_mode": {
    "name": "ipython",
    "version": 3
   },
   "file_extension": ".py",
   "mimetype": "text/x-python",
   "name": "python",
   "nbconvert_exporter": "python",
   "pygments_lexer": "ipython3",
   "version": "3.9.7"
  }
 },
 "nbformat": 4,
 "nbformat_minor": 1
}
